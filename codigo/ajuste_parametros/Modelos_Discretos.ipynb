{
 "cells": [
  {
   "cell_type": "markdown",
   "id": "000e0837",
   "metadata": {},
   "source": [
    "# Implementación de ajuste de parametros\n",
    "> Por Ana Buendía Ruiz-Azuaga"
   ]
  },
  {
   "cell_type": "code",
   "execution_count": 22,
   "id": "0477f7ea",
   "metadata": {},
   "outputs": [],
   "source": [
    "import numpy as np\n",
    "import matplotlib.pyplot as plt\n",
    "import pandas as pd\n",
    "%matplotlib inline"
   ]
  },
  {
   "cell_type": "markdown",
   "id": "221956c6",
   "metadata": {},
   "source": [
    "## Modelo SI"
   ]
  },
  {
   "cell_type": "code",
   "execution_count": 42,
   "id": "ae285957",
   "metadata": {},
   "outputs": [
    {
     "data": {
      "image/png": "[encoded data removed]",
      "text/plain": [
       "<Figure size 432x288 with 1 Axes>"
      ]
     },
     "metadata": {
      "needs_background": "light"
     },
     "output_type": "display_data"
    }
   ],
   "source": [
    "N = 100\n",
    "\n",
    "S0 = 99\n",
    "I0 = 1\n",
    "\n",
    "alfa = 0.1\n",
    "\n",
    "T0 = 0\n",
    "T = 100\n",
    "\n",
    "secciones = 100 #deltaT en realidad es (T-T0)/secciones\n",
    "\n",
    "deltaT = (T-T0)/secciones\n",
    "\n",
    "tiempo = np.linspace(T0, T, secciones)\n",
    "\n",
    "S = np.empty(secciones)\n",
    "I = np.empty(secciones)\n",
    "\n",
    "S[0] = S0\n",
    "I[0] = I0\n",
    "\n",
    "for j in range (secciones-1):\n",
    "    S[j+1] = S[j]*(1-(alfa*deltaT/N)*I[j])\n",
    "    I[j+1] = I[j]*(1+(alfa*deltaT/N)*S[j])\n",
    "\n",
    "#print(S)\n",
    "#print(I)\n",
    "\n",
    "plt.figure()\n",
    "#  markersize=10.0,\n",
    "plt.plot(tiempo, S, color=\"red\", marker='', markersize=4.0, linestyle='-', label=\"Susceptibles\")\n",
    "plt.plot(tiempo, I, color=\"blue\", marker=\"\", markersize=4.0, linestyle=\"-\", label=\"Infectados\")\n",
    "#plt.plot(tiempo,S)\n",
    "plt.legend(loc=\"best\")\n",
    "plt.xlabel(\"tiempo\")\n",
    "plt.ylabel(\"Datos\")\n",
    "#plt.savefig(\"graficaSI.eps\", format=\"eps\")\n",
    "#plt.savefig(\"graficaSI.jpeg\", format=\"jpeg\")\n",
    "plt.show()\n"
   ]
  },
  {
   "cell_type": "code",
   "execution_count": 50,
   "id": "0924970f",
   "metadata": {},
   "outputs": [
    {
     "name": "stdout",
     "output_type": "stream",
     "text": [
      "            S          I\n",
      "0   99.000000   1.000000\n",
      "1   98.901000   1.099000\n",
      "2   98.792308   1.207692\n",
      "3   98.672997   1.327003\n",
      "4   98.542058   1.457942\n",
      "..        ...        ...\n",
      "95   0.721691  99.278309\n",
      "96   0.650043  99.349957\n",
      "97   0.585461  99.414539\n",
      "98   0.527258  99.472742\n",
      "99   0.474810  99.525190\n",
      "\n",
      "[100 rows x 2 columns]\n",
      "[ 1.          1.099       1.2076922   1.3270029   1.45794225  1.60161088\n",
      "  1.75920681  1.93203268  2.1215032   2.32915275  2.55664307  2.80577095\n",
      "  3.0784757   3.37684625  3.70312779  4.05972741  4.44921877  4.8743451\n",
      "  5.33802037  5.84332794  6.39351625  6.99199083  7.64230198  8.34812739\n",
      "  9.1132489   9.94152249 10.83684087 11.80308783 12.84408373 13.96352162\n",
      " 15.16489385 16.45140922 17.82590128 19.29072865 20.84766931 22.49781092\n",
      " 24.24144052 26.07793713 28.00567204 30.02192158 32.12279796 34.30320361\n",
      " 36.55681419 38.87609494 41.25235368 43.67583236 46.13583727 48.62090552\n",
      " 51.11900361 53.61775144 56.10466332 58.5673964  60.99399612 63.37312817\n",
      " 65.69428762 67.94797695 70.12584708 72.22079735 74.22703352 76.14008437\n",
      " 77.95678036 79.67519879 81.29458136 82.81523054 84.23839119 85.56612376\n",
      " 86.8011746  87.94684814 89.00688486 89.98534779 90.88651976 91.71481226\n",
      " 92.4746867  93.17058769 93.80688805 94.38784461 94.91756386 95.39997631\n",
      " 95.83881846 96.23762119 96.59970357 96.9281712  97.22591795 97.49563062\n",
      " 97.73979569 97.9607076  98.16047813 98.34104647 98.5041897  98.65153328\n",
      " 98.78456159 98.90462814 99.01296549 99.1106947  99.19883437 99.27830906\n",
      " 99.34995732 99.41453903 99.47274236 99.52519013]\n"
     ]
    }
   ],
   "source": [
    "# escribo csv\n",
    "\n",
    "f = open(\"datos_SI.csv\", \"w\")\n",
    "\n",
    "formato = \"S,I\\n\"\n",
    "f.write(formato)\n",
    "\n",
    "\n",
    "for i in range (0, len(S)):\n",
    "    aux = str(S[i]) + \",\" + str(I[i]) + \"\\n\"\n",
    "    f.write(aux)\n",
    "\n",
    "f.close()\n",
    "\n",
    "# leo csv con pandas\n",
    "df = pd.read_csv ('datos_SI.csv')\n",
    "print(df)\n",
    "print(df['I'].values)"
   ]
  },
  {
   "cell_type": "code",
   "execution_count": 44,
   "id": "0791b990",
   "metadata": {},
   "outputs": [],
   "source": [
    "from scipy.optimize import least_squares, curve_fit"
   ]
  },
  {
   "cell_type": "code",
   "execution_count": 49,
   "id": "173252c8",
   "metadata": {},
   "outputs": [
    {
     "name": "stdout",
     "output_type": "stream",
     "text": [
      "[0.10016433 1.14820637]\n",
      "\n",
      "\n",
      "[[ 2.31456478e-06 -1.12174744e-04]\n",
      " [-1.12174744e-04  5.78289086e-03]]\n"
     ]
    }
   ],
   "source": [
    "def solucion_SI(t, alfa, I0):\n",
    "    N = 100\n",
    "\n",
    "    T0 = 0\n",
    "    T = 100\n",
    "\n",
    "    secciones = 100 #deltaT en realidad es (T-T0)/secciones\n",
    "\n",
    "    deltaT = (T-T0)/secciones\n",
    "\n",
    "    tiempo = np.linspace(T0, T, secciones)\n",
    "\n",
    "    I = np.empty(secciones)\n",
    "    \n",
    "    I[0] = I0\n",
    "\n",
    "    for j in range (secciones-1):\n",
    "        I[j+1] = I[j]*(1+(alfa*deltaT/N)*(N-I[j]))\n",
    "        \n",
    "    return I\n",
    "\n",
    "T0 = 0\n",
    "T = 100\n",
    "\n",
    "secciones = 100 #deltaT en realidad es (T-T0)/secciones\n",
    "\n",
    "deltaT = (T-T0)/secciones\n",
    "\n",
    "tiempo = np.linspace(T0, T, secciones)\n",
    "\n",
    "popt, pcov = curve_fit(solucion_SI, tiempo, df['I'].values+np.random.rand(100)*5)\n",
    "\n",
    "print(popt)\n",
    "print(\"\\n\")\n",
    "print(pcov)"
   ]
  },
  {
   "cell_type": "code",
   "execution_count": null,
   "id": "f8a7f14b",
   "metadata": {},
   "outputs": [],
   "source": []
  },
  {
   "cell_type": "code",
   "execution_count": null,
   "id": "80693e77",
   "metadata": {},
   "outputs": [],
   "source": []
  },
  {
   "cell_type": "code",
   "execution_count": null,
   "id": "5828aac4",
   "metadata": {},
   "outputs": [],
   "source": []
  },
  {
   "cell_type": "code",
   "execution_count": null,
   "id": "391afc59",
   "metadata": {},
   "outputs": [],
   "source": []
  },
  {
   "cell_type": "markdown",
   "id": "fed96485",
   "metadata": {},
   "source": [
    "## Modelo SIR"
   ]
  },
  {
   "cell_type": "code",
   "execution_count": 6,
   "id": "810ef206",
   "metadata": {},
   "outputs": [
    {
     "data": {
      "image/png": "[encoded data removed]",
      "text/plain": [
       "<Figure size 432x288 with 1 Axes>"
      ]
     },
     "metadata": {
      "needs_background": "light"
     },
     "output_type": "display_data"
    }
   ],
   "source": [
    "N = 100\n",
    "\n",
    "S0 = 99\n",
    "I0 = 1\n",
    "R0 = 0\n",
    "\n",
    "alfa = 0.1\n",
    "gamma = 0.01\n",
    "\n",
    "T0 = 0\n",
    "T = 300\n",
    "\n",
    "secciones = 100 #deltaT en realidad es (T-T0)/secciones\n",
    "\n",
    "deltaT = (T-T0)/secciones\n",
    "\n",
    "tiempo = np.linspace(T0, T, secciones)\n",
    "\n",
    "S = np.linspace(T0, T, secciones)\n",
    "I = np.linspace(T0, T, secciones)\n",
    "R = np.linspace(T0, T, secciones)\n",
    "\n",
    "S[0] = S0\n",
    "I[0] = I0\n",
    "R[0] = R0\n",
    "\n",
    "for j in range (secciones-1):\n",
    "    S[j+1] = S[j]*(1-(alfa*deltaT/N)*I[j])\n",
    "    I[j+1] = I[j]*(1-gamma*deltaT+(alfa*deltaT/N)*S[j])\n",
    "    R[j+1] = R[j]+gamma*deltaT*I[j]\n",
    "\n",
    "#print(S)\n",
    "#print(I)\n",
    "\n",
    "plt.figure()\n",
    "#  markersize=10.0,\n",
    "plt.plot(tiempo, S, color=\"red\", marker='', markersize=4.0, linestyle='-', label=\"Susceptibles\")\n",
    "plt.plot(tiempo, I, color=\"blue\", marker=\"\", markersize=4.0, ls=\"-\", label=\"Infectados\")\n",
    "plt.plot(tiempo, R, color=\"green\", marker=\"\", markersize=4.0, ls=\"-\", label=\"Recuperados\")\n",
    "#plt.plot(tiempo,S)\n",
    "plt.legend(loc=\"best\")\n",
    "plt.xlabel(\"tiempo\")\n",
    "plt.ylabel(\"Datos\")\n",
    "#plt.savefig(\"graficaSIR.eps\", format=\"eps\")\n",
    "#plt.savefig(\"graficaSIR.jpeg\", format=\"jpeg\")\n",
    "plt.show()"
   ]
  },
  {
   "cell_type": "code",
   "execution_count": null,
   "id": "6f7168bc",
   "metadata": {},
   "outputs": [],
   "source": []
  }
 ],
 "metadata": {
  "kernelspec": {
   "display_name": "Python 3 (ipykernel)",
   "language": "python",
   "name": "python3"
  },
  "language_info": {
   "codemirror_mode": {
    "name": "ipython",
    "version": 3
   },
   "file_extension": ".py",
   "mimetype": "text/x-python",
   "name": "python",
   "nbconvert_exporter": "python",
   "pygments_lexer": "ipython3",
   "version": "3.8.8"
  }
 },
 "nbformat": 4,
 "nbformat_minor": 5
}
