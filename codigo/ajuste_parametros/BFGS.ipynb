{
 "cells": [
  {
   "cell_type": "code",
   "execution_count": 1,
   "id": "2ed4ff70",
   "metadata": {},
   "outputs": [],
   "source": [
    "from scipy.optimize import minimize\n",
    "import numpy as np\n",
    "from matplotlib import pyplot as plt"
   ]
  },
  {
   "cell_type": "markdown",
   "id": "890595b1",
   "metadata": {},
   "source": [
    "### Definición de función objetivo a optimizar\n",
    "\n",
    "Supongamos que tenemos un conjunto de $N$ datos $(x, y)$. Tenemos un modelo que aproxima $y$ a partir de $x$, que notamos como $\\hat{y}= f(x,w)+\\epsilon$, donde $\\hat{y}$ es una aproximación de $y$, $\\epsilon$ es un error del modelo de hipótesis $f$, y este modelo está parametrizado por unos parámetros w (a priori desconocidos). El objetivo consiste en encontrar el valor de los parámetros $w$ que hacen que $\\hat{y}$ sea lo más próximo a $y$ posible. Para ello, necesitamos una medida de error que nos indique \"cómo de buena\" es la aproximación de $\\hat{y}$. \n",
    "\n",
    "Podemos coger, por ejemplo, como medida de error el Error Cuadrático Medio (MSE= Mean Seuqred Error):\n",
    "\n",
    "$MSE(\\hat{y}, y)= {1\\over N}\\sum_{i=1}^N (\\hat{y}-y)^2$\n",
    "\n",
    "Queremos encontrar los parámetros $w$ que hagan mínima esta medida. A esto se le suele denominar **función objetivo** o función a optimizar:\n",
    "\n"
   ]
  },
  {
   "cell_type": "code",
   "execution_count": 3,
   "id": "5de20742",
   "metadata": {},
   "outputs": [],
   "source": [
    "\n",
    "# En este caso tenemos 3 parámetros w=[w0, w1, w2]\n",
    "# Esta función es el modelo que tenemos sobre los datos, para el que queremos calcular sus w\n",
    "def function(x, w):\n",
    "    return w[0] * x ** 2 - w[1] * x + w[2]\n",
    "\n",
    "\n",
    "# Esta es la función objetivo: Mide la bondad del ajuste entre las salidas del modelo y las salidas reales esperadas\n",
    "def objective_function(w):\n",
    "    y_hat= function(x, w)\n",
    "    return np.mean( (y-y_hat)**2 )"
   ]
  },
  {
   "cell_type": "markdown",
   "id": "e4c10274",
   "metadata": {},
   "source": [
    "### Definición de dataset\n",
    "\n",
    "Creamos dataset sintético (pares (x=input, y=output) a optimizar. Noscreamos 1000 valores"
   ]
  },
  {
   "cell_type": "code",
   "execution_count": 4,
   "id": "03e1aca3",
   "metadata": {
    "scrolled": true
   },
   "outputs": [],
   "source": [
    "NData= 1000\n",
    "\n",
    "wReales= np.array([2, 3, 4]) # Esto es un ejemplo. Los w reales que queremos obtimizar\n",
    "x= np.random.randn(NData)*100 # Ejemplo: Datos reales x (en este caso generados sintéticamente)\n",
    "y= function(x, wReales) # Ejemplo: Datos reales y (en este caso generados sintéticamente conforme a los w Reales que queremos)\n",
    "\n"
   ]
  },
  {
   "cell_type": "markdown",
   "id": "3083a17f",
   "metadata": {},
   "source": [
    "### Optimización\n",
    "\n",
    "Damos valores iniciales a los parámetros a optimizar, y optimizamos"
   ]
  },
  {
   "cell_type": "code",
   "execution_count": 5,
   "id": "7193e93a",
   "metadata": {},
   "outputs": [
    {
     "name": "stdout",
     "output_type": "stream",
     "text": [
      "Valor de parámetros w optimizado: [1.99999999 2.99999993 4.00010317]\n",
      "El error MSE: cometido por el modelo optimizado es 2.4043310511098938e-08\n"
     ]
    }
   ],
   "source": [
    "\n",
    "w_InitialValue= np.random.rand(3) # tenemos 3 parámetros, les damos 3 valores iniciales (en este caso aleatorios)\n",
    "\n",
    "# Minimizamos la función objetivo con el método BFGS\n",
    "# Por poner, ponemos 100 iteraciones (podemos no ponerlas también, mira las opciones)\n",
    "output= minimize(method='BFGS', fun= objective_function, x0= [w_InitialValue], \n",
    "                 options= {'maxiter':100})\n",
    "\n",
    "w_optimized= output.x\n",
    "print('Valor de parámetros w optimizado: {}'.format(w_optimized))\n",
    "print('El error MSE: cometido por el modelo optimizado es {}'.format(objective_function(w_optimized)))"
   ]
  },
  {
   "cell_type": "code",
   "execution_count": 5,
   "id": "af486723",
   "metadata": {},
   "outputs": [
    {
     "data": {
      "text/plain": [
       "[<matplotlib.lines.Line2D at 0x7faa59d32a00>]"
      ]
     },
     "execution_count": 5,
     "metadata": {},
     "output_type": "execute_result"
    },
    {
     "data": {
      "image/png": "[encoded data removed]",
      "text/plain": [
       "<Figure size 432x288 with 1 Axes>"
      ]
     },
     "metadata": {
      "needs_background": "light"
     },
     "output_type": "display_data"
    }
   ],
   "source": [
    "plt.plot(x, y, 'o') # Datos reales\n",
    "plt.plot(x, function(x, w_optimized), 'x', color='red')  # Función aproximada con nuestros parámetros"
   ]
  },
  {
   "cell_type": "code",
   "execution_count": null,
   "id": "6b6ee7f9",
   "metadata": {},
   "outputs": [],
   "source": []
  }
 ],
 "metadata": {
  "kernelspec": {
   "display_name": "Python 3 (ipykernel)",
   "language": "python",
   "name": "python3"
  },
  "language_info": {
   "codemirror_mode": {
    "name": "ipython",
    "version": 3
   },
   "file_extension": ".py",
   "mimetype": "text/x-python",
   "name": "python",
   "nbconvert_exporter": "python",
   "pygments_lexer": "ipython3",
   "version": "3.8.8"
  }
 },
 "nbformat": 4,
 "nbformat_minor": 5
}
