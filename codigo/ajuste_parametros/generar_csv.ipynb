{
 "cells": [
  {
   "cell_type": "markdown",
   "id": "000e0837",
   "metadata": {},
   "source": [
    "# Implementación de ajuste de parametros\n",
    "> Por Ana Buendía Ruiz-Azuaga"
   ]
  },
  {
   "cell_type": "code",
   "execution_count": 1,
   "id": "0477f7ea",
   "metadata": {},
   "outputs": [],
   "source": [
    "import numpy as np\n",
    "import matplotlib.pyplot as plt\n",
    "import pandas as pd\n",
    "%matplotlib inline\n",
    "from scipy.optimize import curve_fit"
   ]
  },
  {
   "cell_type": "markdown",
   "id": "221956c6",
   "metadata": {},
   "source": [
    "## Modelo SI"
   ]
  },
  {
   "cell_type": "code",
   "execution_count": 58,
   "id": "ead9b3d7",
   "metadata": {},
   "outputs": [],
   "source": [
    "N = 100\n",
    "\n",
    "S0 = 99\n",
    "I0 = 1\n",
    "\n",
    "alfa = 0.1\n",
    "\n",
    "T0 = 0\n",
    "T = 100\n",
    "\n",
    "#deltaT en realidad es (T-T0)/secciones\n",
    "deltaT = 1\n",
    "\n",
    "tiempo = np.arange(T0, T, deltaT)\n",
    "\n",
    "secciones = tiempo.size"
   ]
  },
  {
   "cell_type": "code",
   "execution_count": 59,
   "id": "ae285957",
   "metadata": {},
   "outputs": [],
   "source": [
    "S = np.empty(secciones)\n",
    "I = np.empty(secciones)\n",
    "\n",
    "S[0] = S0\n",
    "I[0] = I0\n",
    "\n",
    "for j in range (secciones-1):\n",
    "    S[j+1] = S[j]*(1-(alfa*deltaT/N)*I[j])\n",
    "    I[j+1] = I[j]*(1+(alfa*deltaT/N)*S[j])"
   ]
  },
  {
   "cell_type": "code",
   "execution_count": 60,
   "id": "d7a7e27c",
   "metadata": {},
   "outputs": [],
   "source": [
    "mod = 5\n",
    "S_ruido = S+np.random.randn(secciones)*mod\n",
    "I_ruido = I+np.random.randn(secciones)*mod"
   ]
  },
  {
   "cell_type": "code",
   "execution_count": 61,
   "id": "0924970f",
   "metadata": {},
   "outputs": [],
   "source": [
    "# escribo csv\n",
    "\n",
    "f = open(\"datos_SI_ruido.csv\", \"w\")\n",
    "\n",
    "formato = \"t,S,I\\n\"\n",
    "f.write(formato)\n",
    "\n",
    "\n",
    "for i in range (0, len(S)):\n",
    "    aux = str(tiempo[i]) + \",\" + str(S_ruido[i]) + \",\" + str(I_ruido[i]) + \"\\n\"\n",
    "    f.write(aux)\n",
    "\n",
    "f.close()\n",
    "\n",
    "# leo csv con pandas\n",
    "df = pd.read_csv ('datos_SI_ruido.csv')\n"
   ]
  },
  {
   "cell_type": "markdown",
   "id": "fed96485",
   "metadata": {},
   "source": [
    "## Modelo SIR"
   ]
  },
  {
   "cell_type": "code",
   "execution_count": 2,
   "id": "7d8b789d",
   "metadata": {},
   "outputs": [],
   "source": [
    "N = 1000000\n",
    "\n",
    "S0 = N-50\n",
    "I0 = 50\n",
    "R0 = 0\n",
    "\n",
    "alfa = 0.3\n",
    "gamma = 0.1\n",
    "\n",
    "T0 = 0\n",
    "T = 300\n",
    "\n",
    "#deltaT en realidad es (T-T0)/secciones\n",
    "deltaT = 1\n",
    "\n",
    "tiempo = np.arange(T0, T, deltaT)\n",
    "\n",
    "secciones = tiempo.size"
   ]
  },
  {
   "cell_type": "code",
   "execution_count": 3,
   "id": "810ef206",
   "metadata": {},
   "outputs": [],
   "source": [
    "S = np.empty(secciones)\n",
    "I = np.empty(secciones)\n",
    "R = np.empty(secciones)\n",
    "\n",
    "S[0] = S0\n",
    "I[0] = I0\n",
    "R[0] = R0\n",
    "\n",
    "for j in range (secciones-1):\n",
    "    S[j+1] = S[j]*(1-(alfa*deltaT/N)*I[j])\n",
    "    I[j+1] = I[j]*(1-gamma*deltaT+(alfa*deltaT/N)*S[j])\n",
    "    R[j+1] = R[j]+gamma*deltaT*I[j]"
   ]
  },
  {
   "cell_type": "code",
   "execution_count": 4,
   "id": "ae6871a5",
   "metadata": {},
   "outputs": [],
   "source": [
    "mod = 5\n",
    "S_ruido = S+np.random.randn(secciones)*mod\n",
    "I_ruido = I+np.random.randn(secciones)*mod\n",
    "R_ruido = R+np.random.randn(secciones)*mod"
   ]
  },
  {
   "cell_type": "code",
   "execution_count": 5,
   "id": "bbee51db",
   "metadata": {},
   "outputs": [],
   "source": [
    "# escribo csv\n",
    "\n",
    "f = open(\"datos_SIR_ruido2.csv\", \"w\")\n",
    "\n",
    "formato = \"t,S,I,R\\n\"\n",
    "f.write(formato)\n",
    "\n",
    "for i in range (0, len(S)):\n",
    "    aux = str(tiempo[i]) + \",\" + str(S_ruido[i]) + \",\" + str(I_ruido[i]) + \",\" + str(R_ruido[i]) + \"\\n\"\n",
    "    f.write(aux)\n",
    "\n",
    "f.close()\n",
    "\n",
    "# leo csv con pandas\n",
    "df = pd.read_csv ('datos_SIR_ruido.csv')"
   ]
  },
  {
   "cell_type": "markdown",
   "id": "2b7fdb82",
   "metadata": {},
   "source": [
    "## Modelo SIS"
   ]
  },
  {
   "cell_type": "code",
   "execution_count": 66,
   "id": "2cb12c4c",
   "metadata": {},
   "outputs": [],
   "source": [
    "N = 100\n",
    "\n",
    "S0 = 99\n",
    "I0 = 1\n",
    "\n",
    "alfa = 0.1\n",
    "gamma = 0.04\n",
    "\n",
    "T0 = 0\n",
    "T = 300\n",
    "\n",
    "#deltaT en realidad es (T-T0)/secciones\n",
    "deltaT = 1\n",
    "\n",
    "tiempo = np.arange(T0, T, deltaT)\n",
    "\n",
    "secciones = tiempo.size"
   ]
  },
  {
   "cell_type": "code",
   "execution_count": 67,
   "id": "7c8870a3",
   "metadata": {},
   "outputs": [],
   "source": [
    "S = np.empty(secciones)\n",
    "I = np.empty(secciones)\n",
    "\n",
    "S[0] = S0\n",
    "I[0] = I0\n",
    "\n",
    "for j in range (secciones-1):\n",
    "    S[j+1] = S[j]*(1-(alfa*deltaT/N)*I[j])+gamma*deltaT*I[j]\n",
    "    I[j+1] = I[j]*(1-gamma*deltaT+(alfa*deltaT/N)*S[j])"
   ]
  },
  {
   "cell_type": "code",
   "execution_count": 68,
   "id": "5ceb0968",
   "metadata": {},
   "outputs": [],
   "source": [
    "mod = 5\n",
    "S_ruido = S+np.random.randn(secciones)*mod\n",
    "I_ruido = I+np.random.randn(secciones)*mod"
   ]
  },
  {
   "cell_type": "code",
   "execution_count": 69,
   "id": "d3061508",
   "metadata": {},
   "outputs": [],
   "source": [
    "# escribo csv\n",
    "\n",
    "f = open(\"datos_SIS_ruido.csv\", \"w\")\n",
    "\n",
    "formato = \"t,S,I\\n\"\n",
    "f.write(formato)\n",
    "\n",
    "\n",
    "for i in range (0, len(S)):\n",
    "    aux = str(tiempo[i]) + \",\" + str(S_ruido[i]) + \",\" + str(I_ruido[i]) + \"\\n\"\n",
    "    f.write(aux)\n",
    "\n",
    "f.close()\n",
    "\n",
    "# leo csv con pandas\n",
    "df = pd.read_csv ('datos_SIS_ruido.csv')"
   ]
  },
  {
   "cell_type": "code",
   "execution_count": null,
   "id": "5e5f7d93",
   "metadata": {},
   "outputs": [],
   "source": []
  },
  {
   "cell_type": "code",
   "execution_count": null,
   "id": "8013e829",
   "metadata": {},
   "outputs": [],
   "source": []
  },
  {
   "cell_type": "code",
   "execution_count": null,
   "id": "50d032d5",
   "metadata": {},
   "outputs": [],
   "source": []
  }
 ],
 "metadata": {
  "interpreter": {
   "hash": "916dbcbb3f70747c44a77c7bcd40155683ae19c65e1c03b4aa3499c5328201f1"
  },
  "kernelspec": {
   "display_name": "Python 3 (ipykernel)",
   "language": "python",
   "name": "python3"
  },
  "language_info": {
   "codemirror_mode": {
    "name": "ipython",
    "version": 3
   },
   "file_extension": ".py",
   "mimetype": "text/x-python",
   "name": "python",
   "nbconvert_exporter": "python",
   "pygments_lexer": "ipython3",
   "version": "3.8.8"
  }
 },
 "nbformat": 4,
 "nbformat_minor": 5
}
