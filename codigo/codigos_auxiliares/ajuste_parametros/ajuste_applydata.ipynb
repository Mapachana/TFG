{
 "cells": [
  {
   "cell_type": "code",
   "execution_count": 2,
   "id": "0776caf0",
   "metadata": {},
   "outputs": [],
   "source": [
    "import numpy as np\n",
    "from scipy.optimize import curve_fit\n",
    "import matplotlib.pyplot as plt\n",
    "import pandas as pd\n",
    "%matplotlib inline"
   ]
  },
  {
   "cell_type": "markdown",
   "id": "bb717910",
   "metadata": {},
   "source": [
    "# Ajuste tabla 5"
   ]
  },
  {
   "cell_type": "code",
   "execution_count": 4,
   "id": "a89a91c4",
   "metadata": {},
   "outputs": [
    {
     "name": "stdout",
     "output_type": "stream",
     "text": [
      "8\n",
      "8\n",
      "8\n",
      "8\n"
     ]
    }
   ],
   "source": [
    "t = [0,1,2,3,4,5,6,7]\n",
    "S = [235, 201, 153.5, 121, 108, 97, -1, 83]\n",
    "I = [14.5, 22, 29, 20, 8, 8, -1, 0]\n",
    "R = [0, -1, -1, -1, -1, -1, -1, -1]\n",
    "\n"
   ]
  },
  {
   "cell_type": "code",
   "execution_count": null,
   "id": "11fbce52",
   "metadata": {},
   "outputs": [],
   "source": []
  }
 ],
 "metadata": {
  "kernelspec": {
   "display_name": "Python 3 (ipykernel)",
   "language": "python",
   "name": "python3"
  },
  "language_info": {
   "codemirror_mode": {
    "name": "ipython",
    "version": 3
   },
   "file_extension": ".py",
   "mimetype": "text/x-python",
   "name": "python",
   "nbconvert_exporter": "python",
   "pygments_lexer": "ipython3",
   "version": "3.8.8"
  }
 },
 "nbformat": 4,
 "nbformat_minor": 5
}
