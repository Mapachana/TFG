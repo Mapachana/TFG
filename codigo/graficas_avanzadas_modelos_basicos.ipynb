{
 "cells": [
  {
   "cell_type": "markdown",
   "id": "c1a57ae9",
   "metadata": {},
   "source": [
    "# Implementación de modelos discretos\n",
    "\n",
    "> Por Ana Buendía Ruiz-Azuaga"
   ]
  },
  {
   "cell_type": "code",
   "execution_count": 7,
   "id": "d6e6ea44",
   "metadata": {},
   "outputs": [],
   "source": [
    "import plotly.express as px\n",
    "import plotly.graph_objects as go\n",
    "import numpy as np\n",
    "import pandas as pd"
   ]
  },
  {
   "cell_type": "markdown",
   "id": "c4357920",
   "metadata": {},
   "source": [
    "## Modelo SI"
   ]
  },
  {
   "cell_type": "code",
   "execution_count": 26,
   "id": "0666aa94",
   "metadata": {},
   "outputs": [
    {
     "data": {
      "application/vnd.plotly.v1+json": {
       "config": {
        "plotlyServerURL": "https://plot.ly"
       },
       "data": [
        {
         "hovertemplate": "Susceptibles=%{x}<br>Infectados=%{y}<extra></extra>",
         "legendgroup": "",
         "line": {
          "color": "#636efa",
          "dash": "solid"
         },
         "marker": {
          "symbol": "circle"
         },
         "mode": "markers+lines",
         "name": "",
         "orientation": "v",
         "showlegend": false,
         "type": "scatter",
         "x": [
          99,
          98.901,
          98.792307801,
          98.67299710154754,
          98.5420577483948,
          98.39838911884328,
          98.24079318814225,
          98.06796731556337,
          97.87849679741343,
          97.67084725299337,
          97.44335693081159,
          97.19422904767598,
          96.92152430308047,
          96.62315374600504,
          96.29687221122867,
          95.9402725877715,
          95.55078123321026,
          95.12565490416604,
          94.66197963469592,
          94.15667205958592,
          93.60648374696373,
          93.00800917173794,
          92.35769802465423,
          91.65187260660203,
          90.88675109823862,
          90.05847751360793,
          89.16315913431615,
          88.19691216769591,
          87.15591626684258,
          86.0364783804712,
          84.83510615453736,
          83.54859077533524,
          82.17409871834614,
          80.70927134668403,
          79.15233069332831,
          77.50218907818149,
          75.75855948227353,
          73.92206286887534,
          71.99432796077777,
          69.97807842322402,
          67.87720204070851,
          65.69679639351283,
          63.44318581053222,
          61.12390505526871,
          58.74764631894734,
          56.324167635068726,
          53.864162731345175,
          51.37909448495949,
          48.880996386557925,
          46.38224855564482,
          43.89533668115796,
          41.43260359539437,
          39.006003876548014,
          36.62687182731049,
          34.30571238443367,
          32.05202304819379,
          29.874152924856354,
          27.77920264534842,
          25.77296648042491,
          23.859915633583523,
          22.043219644266895,
          20.324801212125596,
          18.70541863522546,
          17.18476945802195,
          15.76160881354512,
          14.43387624458183,
          13.19882540356755,
          12.053151855244653,
          10.993115139365775,
          10.014652205896551,
          9.113480244111964,
          8.285187741860586,
          7.525313303592403,
          6.829412313550387,
          6.193111954743821,
          5.612155394953429,
          5.08243614363519,
          4.600023686425801,
          4.1611815356988995,
          3.7623788139020506,
          3.400296426851144,
          3.071828799956486,
          2.774082052137079,
          2.50436937815536,
          2.260204306322066,
          2.0392923991961758,
          1.8395218727659775,
          1.658953526209764,
          1.4958103003909113,
          1.3484667188065755,
          1.215438409417647,
          1.0953718590029697,
          0.9870345126121683,
          0.8893052984800389,
          0.8011656325459396,
          0.7216909356621184,
          0.6500426799025234,
          0.5854609673979658,
          0.5272576352025158,
          0.4748098722961435
         ],
         "xaxis": "x",
         "y": [
          1,
          1.099,
          1.2076921989999998,
          1.3270028984524744,
          1.4579422516052207,
          1.6016108811567271,
          1.7592068118577604,
          1.9320326844366496,
          2.121503202586583,
          2.329152747006656,
          2.5566430691884334,
          2.8057709523240475,
          3.078475696919547,
          3.3768462539949775,
          3.703127788771355,
          4.05972741222852,
          4.449218766789773,
          4.874345095833997,
          5.338020365304116,
          5.8433279404141265,
          6.3935162530363145,
          6.991990828262106,
          7.642301975345816,
          8.348127393398025,
          9.113248901761425,
          9.941522486392111,
          10.836840865683884,
          11.803087832304115,
          12.844083733157442,
          13.963521619528825,
          15.16489384546266,
          16.451409224664776,
          17.82590128165387,
          19.290728653315988,
          20.84766930667172,
          22.49781092181855,
          24.24144051772651,
          26.077937131124692,
          28.00567203922227,
          30.02192157677602,
          32.12279795929153,
          34.30320360648722,
          36.55681418946783,
          38.876094944731335,
          41.25235368105271,
          43.675832364931324,
          46.135837268654875,
          48.62090551504056,
          51.11900361344212,
          53.61775144435523,
          56.1046633188421,
          58.56739640460568,
          60.99399612345204,
          63.37312817268957,
          65.69428761556638,
          67.94797695180627,
          70.1258470751437,
          72.22079735465162,
          74.22703351957514,
          76.14008436641653,
          77.95678035573316,
          79.67519878787445,
          81.29458136477459,
          82.8152305419781,
          84.23839118645493,
          85.56612375541822,
          86.8011745964325,
          87.94684814475539,
          89.00688486063427,
          89.9853477941035,
          90.88651975588809,
          91.71481225813946,
          92.47468669640764,
          93.17058768644966,
          93.80688804525623,
          94.38784460504662,
          94.91756385636486,
          95.39997631357426,
          95.83881846430117,
          96.23762118609802,
          96.59970357314893,
          96.9281712000436,
          97.225917947863,
          97.49563062184473,
          97.73979569367803,
          97.96070760080391,
          98.1604781272341,
          98.34104647379031,
          98.50418969960916,
          98.65153328119348,
          98.78456159058241,
          98.90462814099709,
          99.01296548738789,
          99.11069470152002,
          99.19883436745411,
          99.27830906433793,
          99.34995732009753,
          99.4145390326021,
          99.47274236479754,
          99.52519012770391
         ],
         "yaxis": "y"
        }
       ],
       "layout": {
        "legend": {
         "tracegroupgap": 0
        },
        "template": {
         "data": {
          "bar": [
           {
            "error_x": {
             "color": "#2a3f5f"
            },
            "error_y": {
             "color": "#2a3f5f"
            },
            "marker": {
             "line": {
              "color": "#E5ECF6",
              "width": 0.5
             },
             "pattern": {
              "fillmode": "overlay",
              "size": 10,
              "solidity": 0.2
             }
            },
            "type": "bar"
           }
          ],
          "barpolar": [
           {
            "marker": {
             "line": {
              "color": "#E5ECF6",
              "width": 0.5
             },
             "pattern": {
              "fillmode": "overlay",
              "size": 10,
              "solidity": 0.2
             }
            },
            "type": "barpolar"
           }
          ],
          "carpet": [
           {
            "aaxis": {
             "endlinecolor": "#2a3f5f",
             "gridcolor": "white",
             "linecolor": "white",
             "minorgridcolor": "white",
             "startlinecolor": "#2a3f5f"
            },
            "baxis": {
             "endlinecolor": "#2a3f5f",
             "gridcolor": "white",
             "linecolor": "white",
             "minorgridcolor": "white",
             "startlinecolor": "#2a3f5f"
            },
            "type": "carpet"
           }
          ],
          "choropleth": [
           {
            "colorbar": {
             "outlinewidth": 0,
             "ticks": ""
            },
            "type": "choropleth"
           }
          ],
          "contour": [
           {
            "colorbar": {
             "outlinewidth": 0,
             "ticks": ""
            },
            "colorscale": [
             [
              0,
              "#0d0887"
             ],
             [
              0.1111111111111111,
              "#46039f"
             ],
             [
              0.2222222222222222,
              "#7201a8"
             ],
             [
              0.3333333333333333,
              "#9c179e"
             ],
             [
              0.4444444444444444,
              "#bd3786"
             ],
             [
              0.5555555555555556,
              "#d8576b"
             ],
             [
              0.6666666666666666,
              "#ed7953"
             ],
             [
              0.7777777777777778,
              "#fb9f3a"
             ],
             [
              0.8888888888888888,
              "#fdca26"
             ],
             [
              1,
              "#f0f921"
             ]
            ],
            "type": "contour"
           }
          ],
          "contourcarpet": [
           {
            "colorbar": {
             "outlinewidth": 0,
             "ticks": ""
            },
            "type": "contourcarpet"
           }
          ],
          "heatmap": [
           {
            "colorbar": {
             "outlinewidth": 0,
             "ticks": ""
            },
            "colorscale": [
             [
              0,
              "#0d0887"
             ],
             [
              0.1111111111111111,
              "#46039f"
             ],
             [
              0.2222222222222222,
              "#7201a8"
             ],
             [
              0.3333333333333333,
              "#9c179e"
             ],
             [
              0.4444444444444444,
              "#bd3786"
             ],
             [
              0.5555555555555556,
              "#d8576b"
             ],
             [
              0.6666666666666666,
              "#ed7953"
             ],
             [
              0.7777777777777778,
              "#fb9f3a"
             ],
             [
              0.8888888888888888,
              "#fdca26"
             ],
             [
              1,
              "#f0f921"
             ]
            ],
            "type": "heatmap"
           }
          ],
          "heatmapgl": [
           {
            "colorbar": {
             "outlinewidth": 0,
             "ticks": ""
            },
            "colorscale": [
             [
              0,
              "#0d0887"
             ],
             [
              0.1111111111111111,
              "#46039f"
             ],
             [
              0.2222222222222222,
              "#7201a8"
             ],
             [
              0.3333333333333333,
              "#9c179e"
             ],
             [
              0.4444444444444444,
              "#bd3786"
             ],
             [
              0.5555555555555556,
              "#d8576b"
             ],
             [
              0.6666666666666666,
              "#ed7953"
             ],
             [
              0.7777777777777778,
              "#fb9f3a"
             ],
             [
              0.8888888888888888,
              "#fdca26"
             ],
             [
              1,
              "#f0f921"
             ]
            ],
            "type": "heatmapgl"
           }
          ],
          "histogram": [
           {
            "marker": {
             "pattern": {
              "fillmode": "overlay",
              "size": 10,
              "solidity": 0.2
             }
            },
            "type": "histogram"
           }
          ],
          "histogram2d": [
           {
            "colorbar": {
             "outlinewidth": 0,
             "ticks": ""
            },
            "colorscale": [
             [
              0,
              "#0d0887"
             ],
             [
              0.1111111111111111,
              "#46039f"
             ],
             [
              0.2222222222222222,
              "#7201a8"
             ],
             [
              0.3333333333333333,
              "#9c179e"
             ],
             [
              0.4444444444444444,
              "#bd3786"
             ],
             [
              0.5555555555555556,
              "#d8576b"
             ],
             [
              0.6666666666666666,
              "#ed7953"
             ],
             [
              0.7777777777777778,
              "#fb9f3a"
             ],
             [
              0.8888888888888888,
              "#fdca26"
             ],
             [
              1,
              "#f0f921"
             ]
            ],
            "type": "histogram2d"
           }
          ],
          "histogram2dcontour": [
           {
            "colorbar": {
             "outlinewidth": 0,
             "ticks": ""
            },
            "colorscale": [
             [
              0,
              "#0d0887"
             ],
             [
              0.1111111111111111,
              "#46039f"
             ],
             [
              0.2222222222222222,
              "#7201a8"
             ],
             [
              0.3333333333333333,
              "#9c179e"
             ],
             [
              0.4444444444444444,
              "#bd3786"
             ],
             [
              0.5555555555555556,
              "#d8576b"
             ],
             [
              0.6666666666666666,
              "#ed7953"
             ],
             [
              0.7777777777777778,
              "#fb9f3a"
             ],
             [
              0.8888888888888888,
              "#fdca26"
             ],
             [
              1,
              "#f0f921"
             ]
            ],
            "type": "histogram2dcontour"
           }
          ],
          "mesh3d": [
           {
            "colorbar": {
             "outlinewidth": 0,
             "ticks": ""
            },
            "type": "mesh3d"
           }
          ],
          "parcoords": [
           {
            "line": {
             "colorbar": {
              "outlinewidth": 0,
              "ticks": ""
             }
            },
            "type": "parcoords"
           }
          ],
          "pie": [
           {
            "automargin": true,
            "type": "pie"
           }
          ],
          "scatter": [
           {
            "marker": {
             "colorbar": {
              "outlinewidth": 0,
              "ticks": ""
             }
            },
            "type": "scatter"
           }
          ],
          "scatter3d": [
           {
            "line": {
             "colorbar": {
              "outlinewidth": 0,
              "ticks": ""
             }
            },
            "marker": {
             "colorbar": {
              "outlinewidth": 0,
              "ticks": ""
             }
            },
            "type": "scatter3d"
           }
          ],
          "scattercarpet": [
           {
            "marker": {
             "colorbar": {
              "outlinewidth": 0,
              "ticks": ""
             }
            },
            "type": "scattercarpet"
           }
          ],
          "scattergeo": [
           {
            "marker": {
             "colorbar": {
              "outlinewidth": 0,
              "ticks": ""
             }
            },
            "type": "scattergeo"
           }
          ],
          "scattergl": [
           {
            "marker": {
             "colorbar": {
              "outlinewidth": 0,
              "ticks": ""
             }
            },
            "type": "scattergl"
           }
          ],
          "scattermapbox": [
           {
            "marker": {
             "colorbar": {
              "outlinewidth": 0,
              "ticks": ""
             }
            },
            "type": "scattermapbox"
           }
          ],
          "scatterpolar": [
           {
            "marker": {
             "colorbar": {
              "outlinewidth": 0,
              "ticks": ""
             }
            },
            "type": "scatterpolar"
           }
          ],
          "scatterpolargl": [
           {
            "marker": {
             "colorbar": {
              "outlinewidth": 0,
              "ticks": ""
             }
            },
            "type": "scatterpolargl"
           }
          ],
          "scatterternary": [
           {
            "marker": {
             "colorbar": {
              "outlinewidth": 0,
              "ticks": ""
             }
            },
            "type": "scatterternary"
           }
          ],
          "surface": [
           {
            "colorbar": {
             "outlinewidth": 0,
             "ticks": ""
            },
            "colorscale": [
             [
              0,
              "#0d0887"
             ],
             [
              0.1111111111111111,
              "#46039f"
             ],
             [
              0.2222222222222222,
              "#7201a8"
             ],
             [
              0.3333333333333333,
              "#9c179e"
             ],
             [
              0.4444444444444444,
              "#bd3786"
             ],
             [
              0.5555555555555556,
              "#d8576b"
             ],
             [
              0.6666666666666666,
              "#ed7953"
             ],
             [
              0.7777777777777778,
              "#fb9f3a"
             ],
             [
              0.8888888888888888,
              "#fdca26"
             ],
             [
              1,
              "#f0f921"
             ]
            ],
            "type": "surface"
           }
          ],
          "table": [
           {
            "cells": {
             "fill": {
              "color": "#EBF0F8"
             },
             "line": {
              "color": "white"
             }
            },
            "header": {
             "fill": {
              "color": "#C8D4E3"
             },
             "line": {
              "color": "white"
             }
            },
            "type": "table"
           }
          ]
         },
         "layout": {
          "annotationdefaults": {
           "arrowcolor": "#2a3f5f",
           "arrowhead": 0,
           "arrowwidth": 1
          },
          "autotypenumbers": "strict",
          "coloraxis": {
           "colorbar": {
            "outlinewidth": 0,
            "ticks": ""
           }
          },
          "colorscale": {
           "diverging": [
            [
             0,
             "#8e0152"
            ],
            [
             0.1,
             "#c51b7d"
            ],
            [
             0.2,
             "#de77ae"
            ],
            [
             0.3,
             "#f1b6da"
            ],
            [
             0.4,
             "#fde0ef"
            ],
            [
             0.5,
             "#f7f7f7"
            ],
            [
             0.6,
             "#e6f5d0"
            ],
            [
             0.7,
             "#b8e186"
            ],
            [
             0.8,
             "#7fbc41"
            ],
            [
             0.9,
             "#4d9221"
            ],
            [
             1,
             "#276419"
            ]
           ],
           "sequential": [
            [
             0,
             "#0d0887"
            ],
            [
             0.1111111111111111,
             "#46039f"
            ],
            [
             0.2222222222222222,
             "#7201a8"
            ],
            [
             0.3333333333333333,
             "#9c179e"
            ],
            [
             0.4444444444444444,
             "#bd3786"
            ],
            [
             0.5555555555555556,
             "#d8576b"
            ],
            [
             0.6666666666666666,
             "#ed7953"
            ],
            [
             0.7777777777777778,
             "#fb9f3a"
            ],
            [
             0.8888888888888888,
             "#fdca26"
            ],
            [
             1,
             "#f0f921"
            ]
           ],
           "sequentialminus": [
            [
             0,
             "#0d0887"
            ],
            [
             0.1111111111111111,
             "#46039f"
            ],
            [
             0.2222222222222222,
             "#7201a8"
            ],
            [
             0.3333333333333333,
             "#9c179e"
            ],
            [
             0.4444444444444444,
             "#bd3786"
            ],
            [
             0.5555555555555556,
             "#d8576b"
            ],
            [
             0.6666666666666666,
             "#ed7953"
            ],
            [
             0.7777777777777778,
             "#fb9f3a"
            ],
            [
             0.8888888888888888,
             "#fdca26"
            ],
            [
             1,
             "#f0f921"
            ]
           ]
          },
          "colorway": [
           "#636efa",
           "#EF553B",
           "#00cc96",
           "#ab63fa",
           "#FFA15A",
           "#19d3f3",
           "#FF6692",
           "#B6E880",
           "#FF97FF",
           "#FECB52"
          ],
          "font": {
           "color": "#2a3f5f"
          },
          "geo": {
           "bgcolor": "white",
           "lakecolor": "white",
           "landcolor": "#E5ECF6",
           "showlakes": true,
           "showland": true,
           "subunitcolor": "white"
          },
          "hoverlabel": {
           "align": "left"
          },
          "hovermode": "closest",
          "mapbox": {
           "style": "light"
          },
          "paper_bgcolor": "white",
          "plot_bgcolor": "#E5ECF6",
          "polar": {
           "angularaxis": {
            "gridcolor": "white",
            "linecolor": "white",
            "ticks": ""
           },
           "bgcolor": "#E5ECF6",
           "radialaxis": {
            "gridcolor": "white",
            "linecolor": "white",
            "ticks": ""
           }
          },
          "scene": {
           "xaxis": {
            "backgroundcolor": "#E5ECF6",
            "gridcolor": "white",
            "gridwidth": 2,
            "linecolor": "white",
            "showbackground": true,
            "ticks": "",
            "zerolinecolor": "white"
           },
           "yaxis": {
            "backgroundcolor": "#E5ECF6",
            "gridcolor": "white",
            "gridwidth": 2,
            "linecolor": "white",
            "showbackground": true,
            "ticks": "",
            "zerolinecolor": "white"
           },
           "zaxis": {
            "backgroundcolor": "#E5ECF6",
            "gridcolor": "white",
            "gridwidth": 2,
            "linecolor": "white",
            "showbackground": true,
            "ticks": "",
            "zerolinecolor": "white"
           }
          },
          "shapedefaults": {
           "line": {
            "color": "#2a3f5f"
           }
          },
          "ternary": {
           "aaxis": {
            "gridcolor": "white",
            "linecolor": "white",
            "ticks": ""
           },
           "baxis": {
            "gridcolor": "white",
            "linecolor": "white",
            "ticks": ""
           },
           "bgcolor": "#E5ECF6",
           "caxis": {
            "gridcolor": "white",
            "linecolor": "white",
            "ticks": ""
           }
          },
          "title": {
           "x": 0.05
          },
          "xaxis": {
           "automargin": true,
           "gridcolor": "white",
           "linecolor": "white",
           "ticks": "",
           "title": {
            "standoff": 15
           },
           "zerolinecolor": "white",
           "zerolinewidth": 2
          },
          "yaxis": {
           "automargin": true,
           "gridcolor": "white",
           "linecolor": "white",
           "ticks": "",
           "title": {
            "standoff": 15
           },
           "zerolinecolor": "white",
           "zerolinewidth": 2
          }
         }
        },
        "title": {
         "text": "Modelo SI"
        },
        "xaxis": {
         "anchor": "y",
         "domain": [
          0,
          1
         ],
         "title": {
          "text": "Susceptibles"
         }
        },
        "yaxis": {
         "anchor": "x",
         "domain": [
          0,
          1
         ],
         "title": {
          "text": "Infectados"
         }
        }
       }
      },
      "text/html": [
       "<div>                            <div id=\"c3ad2ce9-9677-4f46-a83a-6201c84779cd\" class=\"plotly-graph-div\" style=\"height:525px; width:100%;\"></div>            <script type=\"text/javascript\">                require([\"plotly\"], function(Plotly) {                    window.PLOTLYENV=window.PLOTLYENV || {};                                    if (document.getElementById(\"c3ad2ce9-9677-4f46-a83a-6201c84779cd\")) {                    Plotly.newPlot(                        \"c3ad2ce9-9677-4f46-a83a-6201c84779cd\",                        [{\"hovertemplate\":\"Susceptibles=%{x}<br>Infectados=%{y}<extra></extra>\",\"legendgroup\":\"\",\"line\":{\"color\":\"#636efa\",\"dash\":\"solid\"},\"marker\":{\"symbol\":\"circle\"},\"mode\":\"markers+lines\",\"name\":\"\",\"orientation\":\"v\",\"showlegend\":false,\"type\":\"scatter\",\"x\":[99.0,98.901,98.792307801,98.67299710154754,98.5420577483948,98.39838911884328,98.24079318814225,98.06796731556337,97.87849679741343,97.67084725299337,97.44335693081159,97.19422904767598,96.92152430308047,96.62315374600504,96.29687221122867,95.9402725877715,95.55078123321026,95.12565490416604,94.66197963469592,94.15667205958592,93.60648374696373,93.00800917173794,92.35769802465423,91.65187260660203,90.88675109823862,90.05847751360793,89.16315913431615,88.19691216769591,87.15591626684258,86.0364783804712,84.83510615453736,83.54859077533524,82.17409871834614,80.70927134668403,79.15233069332831,77.50218907818149,75.75855948227353,73.92206286887534,71.99432796077777,69.97807842322402,67.87720204070851,65.69679639351283,63.44318581053222,61.12390505526871,58.74764631894734,56.324167635068726,53.864162731345175,51.37909448495949,48.880996386557925,46.38224855564482,43.89533668115796,41.43260359539437,39.006003876548014,36.62687182731049,34.30571238443367,32.05202304819379,29.874152924856354,27.77920264534842,25.77296648042491,23.859915633583523,22.043219644266895,20.324801212125596,18.70541863522546,17.18476945802195,15.76160881354512,14.43387624458183,13.19882540356755,12.053151855244653,10.993115139365775,10.014652205896551,9.113480244111964,8.285187741860586,7.525313303592403,6.829412313550387,6.193111954743821,5.612155394953429,5.08243614363519,4.600023686425801,4.1611815356988995,3.7623788139020506,3.400296426851144,3.071828799956486,2.774082052137079,2.50436937815536,2.260204306322066,2.0392923991961758,1.8395218727659775,1.658953526209764,1.4958103003909113,1.3484667188065755,1.215438409417647,1.0953718590029697,0.9870345126121683,0.8893052984800389,0.8011656325459396,0.7216909356621184,0.6500426799025234,0.5854609673979658,0.5272576352025158,0.4748098722961435],\"xaxis\":\"x\",\"y\":[1.0,1.099,1.2076921989999998,1.3270028984524744,1.4579422516052207,1.6016108811567271,1.7592068118577604,1.9320326844366496,2.121503202586583,2.329152747006656,2.5566430691884334,2.8057709523240475,3.078475696919547,3.3768462539949775,3.703127788771355,4.05972741222852,4.449218766789773,4.874345095833997,5.338020365304116,5.8433279404141265,6.3935162530363145,6.991990828262106,7.642301975345816,8.348127393398025,9.113248901761425,9.941522486392111,10.836840865683884,11.803087832304115,12.844083733157442,13.963521619528825,15.16489384546266,16.451409224664776,17.82590128165387,19.290728653315988,20.84766930667172,22.49781092181855,24.24144051772651,26.077937131124692,28.00567203922227,30.02192157677602,32.12279795929153,34.30320360648722,36.55681418946783,38.876094944731335,41.25235368105271,43.675832364931324,46.135837268654875,48.62090551504056,51.11900361344212,53.61775144435523,56.1046633188421,58.56739640460568,60.99399612345204,63.37312817268957,65.69428761556638,67.94797695180627,70.1258470751437,72.22079735465162,74.22703351957514,76.14008436641653,77.95678035573316,79.67519878787445,81.29458136477459,82.8152305419781,84.23839118645493,85.56612375541822,86.8011745964325,87.94684814475539,89.00688486063427,89.9853477941035,90.88651975588809,91.71481225813946,92.47468669640764,93.17058768644966,93.80688804525623,94.38784460504662,94.91756385636486,95.39997631357426,95.83881846430117,96.23762118609802,96.59970357314893,96.9281712000436,97.225917947863,97.49563062184473,97.73979569367803,97.96070760080391,98.1604781272341,98.34104647379031,98.50418969960916,98.65153328119348,98.78456159058241,98.90462814099709,99.01296548738789,99.11069470152002,99.19883436745411,99.27830906433793,99.34995732009753,99.4145390326021,99.47274236479754,99.52519012770391],\"yaxis\":\"y\"}],                        {\"legend\":{\"tracegroupgap\":0},\"template\":{\"data\":{\"bar\":[{\"error_x\":{\"color\":\"#2a3f5f\"},\"error_y\":{\"color\":\"#2a3f5f\"},\"marker\":{\"line\":{\"color\":\"#E5ECF6\",\"width\":0.5},\"pattern\":{\"fillmode\":\"overlay\",\"size\":10,\"solidity\":0.2}},\"type\":\"bar\"}],\"barpolar\":[{\"marker\":{\"line\":{\"color\":\"#E5ECF6\",\"width\":0.5},\"pattern\":{\"fillmode\":\"overlay\",\"size\":10,\"solidity\":0.2}},\"type\":\"barpolar\"}],\"carpet\":[{\"aaxis\":{\"endlinecolor\":\"#2a3f5f\",\"gridcolor\":\"white\",\"linecolor\":\"white\",\"minorgridcolor\":\"white\",\"startlinecolor\":\"#2a3f5f\"},\"baxis\":{\"endlinecolor\":\"#2a3f5f\",\"gridcolor\":\"white\",\"linecolor\":\"white\",\"minorgridcolor\":\"white\",\"startlinecolor\":\"#2a3f5f\"},\"type\":\"carpet\"}],\"choropleth\":[{\"colorbar\":{\"outlinewidth\":0,\"ticks\":\"\"},\"type\":\"choropleth\"}],\"contour\":[{\"colorbar\":{\"outlinewidth\":0,\"ticks\":\"\"},\"colorscale\":[[0.0,\"#0d0887\"],[0.1111111111111111,\"#46039f\"],[0.2222222222222222,\"#7201a8\"],[0.3333333333333333,\"#9c179e\"],[0.4444444444444444,\"#bd3786\"],[0.5555555555555556,\"#d8576b\"],[0.6666666666666666,\"#ed7953\"],[0.7777777777777778,\"#fb9f3a\"],[0.8888888888888888,\"#fdca26\"],[1.0,\"#f0f921\"]],\"type\":\"contour\"}],\"contourcarpet\":[{\"colorbar\":{\"outlinewidth\":0,\"ticks\":\"\"},\"type\":\"contourcarpet\"}],\"heatmap\":[{\"colorbar\":{\"outlinewidth\":0,\"ticks\":\"\"},\"colorscale\":[[0.0,\"#0d0887\"],[0.1111111111111111,\"#46039f\"],[0.2222222222222222,\"#7201a8\"],[0.3333333333333333,\"#9c179e\"],[0.4444444444444444,\"#bd3786\"],[0.5555555555555556,\"#d8576b\"],[0.6666666666666666,\"#ed7953\"],[0.7777777777777778,\"#fb9f3a\"],[0.8888888888888888,\"#fdca26\"],[1.0,\"#f0f921\"]],\"type\":\"heatmap\"}],\"heatmapgl\":[{\"colorbar\":{\"outlinewidth\":0,\"ticks\":\"\"},\"colorscale\":[[0.0,\"#0d0887\"],[0.1111111111111111,\"#46039f\"],[0.2222222222222222,\"#7201a8\"],[0.3333333333333333,\"#9c179e\"],[0.4444444444444444,\"#bd3786\"],[0.5555555555555556,\"#d8576b\"],[0.6666666666666666,\"#ed7953\"],[0.7777777777777778,\"#fb9f3a\"],[0.8888888888888888,\"#fdca26\"],[1.0,\"#f0f921\"]],\"type\":\"heatmapgl\"}],\"histogram\":[{\"marker\":{\"pattern\":{\"fillmode\":\"overlay\",\"size\":10,\"solidity\":0.2}},\"type\":\"histogram\"}],\"histogram2d\":[{\"colorbar\":{\"outlinewidth\":0,\"ticks\":\"\"},\"colorscale\":[[0.0,\"#0d0887\"],[0.1111111111111111,\"#46039f\"],[0.2222222222222222,\"#7201a8\"],[0.3333333333333333,\"#9c179e\"],[0.4444444444444444,\"#bd3786\"],[0.5555555555555556,\"#d8576b\"],[0.6666666666666666,\"#ed7953\"],[0.7777777777777778,\"#fb9f3a\"],[0.8888888888888888,\"#fdca26\"],[1.0,\"#f0f921\"]],\"type\":\"histogram2d\"}],\"histogram2dcontour\":[{\"colorbar\":{\"outlinewidth\":0,\"ticks\":\"\"},\"colorscale\":[[0.0,\"#0d0887\"],[0.1111111111111111,\"#46039f\"],[0.2222222222222222,\"#7201a8\"],[0.3333333333333333,\"#9c179e\"],[0.4444444444444444,\"#bd3786\"],[0.5555555555555556,\"#d8576b\"],[0.6666666666666666,\"#ed7953\"],[0.7777777777777778,\"#fb9f3a\"],[0.8888888888888888,\"#fdca26\"],[1.0,\"#f0f921\"]],\"type\":\"histogram2dcontour\"}],\"mesh3d\":[{\"colorbar\":{\"outlinewidth\":0,\"ticks\":\"\"},\"type\":\"mesh3d\"}],\"parcoords\":[{\"line\":{\"colorbar\":{\"outlinewidth\":0,\"ticks\":\"\"}},\"type\":\"parcoords\"}],\"pie\":[{\"automargin\":true,\"type\":\"pie\"}],\"scatter\":[{\"marker\":{\"colorbar\":{\"outlinewidth\":0,\"ticks\":\"\"}},\"type\":\"scatter\"}],\"scatter3d\":[{\"line\":{\"colorbar\":{\"outlinewidth\":0,\"ticks\":\"\"}},\"marker\":{\"colorbar\":{\"outlinewidth\":0,\"ticks\":\"\"}},\"type\":\"scatter3d\"}],\"scattercarpet\":[{\"marker\":{\"colorbar\":{\"outlinewidth\":0,\"ticks\":\"\"}},\"type\":\"scattercarpet\"}],\"scattergeo\":[{\"marker\":{\"colorbar\":{\"outlinewidth\":0,\"ticks\":\"\"}},\"type\":\"scattergeo\"}],\"scattergl\":[{\"marker\":{\"colorbar\":{\"outlinewidth\":0,\"ticks\":\"\"}},\"type\":\"scattergl\"}],\"scattermapbox\":[{\"marker\":{\"colorbar\":{\"outlinewidth\":0,\"ticks\":\"\"}},\"type\":\"scattermapbox\"}],\"scatterpolar\":[{\"marker\":{\"colorbar\":{\"outlinewidth\":0,\"ticks\":\"\"}},\"type\":\"scatterpolar\"}],\"scatterpolargl\":[{\"marker\":{\"colorbar\":{\"outlinewidth\":0,\"ticks\":\"\"}},\"type\":\"scatterpolargl\"}],\"scatterternary\":[{\"marker\":{\"colorbar\":{\"outlinewidth\":0,\"ticks\":\"\"}},\"type\":\"scatterternary\"}],\"surface\":[{\"colorbar\":{\"outlinewidth\":0,\"ticks\":\"\"},\"colorscale\":[[0.0,\"#0d0887\"],[0.1111111111111111,\"#46039f\"],[0.2222222222222222,\"#7201a8\"],[0.3333333333333333,\"#9c179e\"],[0.4444444444444444,\"#bd3786\"],[0.5555555555555556,\"#d8576b\"],[0.6666666666666666,\"#ed7953\"],[0.7777777777777778,\"#fb9f3a\"],[0.8888888888888888,\"#fdca26\"],[1.0,\"#f0f921\"]],\"type\":\"surface\"}],\"table\":[{\"cells\":{\"fill\":{\"color\":\"#EBF0F8\"},\"line\":{\"color\":\"white\"}},\"header\":{\"fill\":{\"color\":\"#C8D4E3\"},\"line\":{\"color\":\"white\"}},\"type\":\"table\"}]},\"layout\":{\"annotationdefaults\":{\"arrowcolor\":\"#2a3f5f\",\"arrowhead\":0,\"arrowwidth\":1},\"autotypenumbers\":\"strict\",\"coloraxis\":{\"colorbar\":{\"outlinewidth\":0,\"ticks\":\"\"}},\"colorscale\":{\"diverging\":[[0,\"#8e0152\"],[0.1,\"#c51b7d\"],[0.2,\"#de77ae\"],[0.3,\"#f1b6da\"],[0.4,\"#fde0ef\"],[0.5,\"#f7f7f7\"],[0.6,\"#e6f5d0\"],[0.7,\"#b8e186\"],[0.8,\"#7fbc41\"],[0.9,\"#4d9221\"],[1,\"#276419\"]],\"sequential\":[[0.0,\"#0d0887\"],[0.1111111111111111,\"#46039f\"],[0.2222222222222222,\"#7201a8\"],[0.3333333333333333,\"#9c179e\"],[0.4444444444444444,\"#bd3786\"],[0.5555555555555556,\"#d8576b\"],[0.6666666666666666,\"#ed7953\"],[0.7777777777777778,\"#fb9f3a\"],[0.8888888888888888,\"#fdca26\"],[1.0,\"#f0f921\"]],\"sequentialminus\":[[0.0,\"#0d0887\"],[0.1111111111111111,\"#46039f\"],[0.2222222222222222,\"#7201a8\"],[0.3333333333333333,\"#9c179e\"],[0.4444444444444444,\"#bd3786\"],[0.5555555555555556,\"#d8576b\"],[0.6666666666666666,\"#ed7953\"],[0.7777777777777778,\"#fb9f3a\"],[0.8888888888888888,\"#fdca26\"],[1.0,\"#f0f921\"]]},\"colorway\":[\"#636efa\",\"#EF553B\",\"#00cc96\",\"#ab63fa\",\"#FFA15A\",\"#19d3f3\",\"#FF6692\",\"#B6E880\",\"#FF97FF\",\"#FECB52\"],\"font\":{\"color\":\"#2a3f5f\"},\"geo\":{\"bgcolor\":\"white\",\"lakecolor\":\"white\",\"landcolor\":\"#E5ECF6\",\"showlakes\":true,\"showland\":true,\"subunitcolor\":\"white\"},\"hoverlabel\":{\"align\":\"left\"},\"hovermode\":\"closest\",\"mapbox\":{\"style\":\"light\"},\"paper_bgcolor\":\"white\",\"plot_bgcolor\":\"#E5ECF6\",\"polar\":{\"angularaxis\":{\"gridcolor\":\"white\",\"linecolor\":\"white\",\"ticks\":\"\"},\"bgcolor\":\"#E5ECF6\",\"radialaxis\":{\"gridcolor\":\"white\",\"linecolor\":\"white\",\"ticks\":\"\"}},\"scene\":{\"xaxis\":{\"backgroundcolor\":\"#E5ECF6\",\"gridcolor\":\"white\",\"gridwidth\":2,\"linecolor\":\"white\",\"showbackground\":true,\"ticks\":\"\",\"zerolinecolor\":\"white\"},\"yaxis\":{\"backgroundcolor\":\"#E5ECF6\",\"gridcolor\":\"white\",\"gridwidth\":2,\"linecolor\":\"white\",\"showbackground\":true,\"ticks\":\"\",\"zerolinecolor\":\"white\"},\"zaxis\":{\"backgroundcolor\":\"#E5ECF6\",\"gridcolor\":\"white\",\"gridwidth\":2,\"linecolor\":\"white\",\"showbackground\":true,\"ticks\":\"\",\"zerolinecolor\":\"white\"}},\"shapedefaults\":{\"line\":{\"color\":\"#2a3f5f\"}},\"ternary\":{\"aaxis\":{\"gridcolor\":\"white\",\"linecolor\":\"white\",\"ticks\":\"\"},\"baxis\":{\"gridcolor\":\"white\",\"linecolor\":\"white\",\"ticks\":\"\"},\"bgcolor\":\"#E5ECF6\",\"caxis\":{\"gridcolor\":\"white\",\"linecolor\":\"white\",\"ticks\":\"\"}},\"title\":{\"x\":0.05},\"xaxis\":{\"automargin\":true,\"gridcolor\":\"white\",\"linecolor\":\"white\",\"ticks\":\"\",\"title\":{\"standoff\":15},\"zerolinecolor\":\"white\",\"zerolinewidth\":2},\"yaxis\":{\"automargin\":true,\"gridcolor\":\"white\",\"linecolor\":\"white\",\"ticks\":\"\",\"title\":{\"standoff\":15},\"zerolinecolor\":\"white\",\"zerolinewidth\":2}}},\"title\":{\"text\":\"Modelo SI\"},\"xaxis\":{\"anchor\":\"y\",\"domain\":[0.0,1.0],\"title\":{\"text\":\"Susceptibles\"}},\"yaxis\":{\"anchor\":\"x\",\"domain\":[0.0,1.0],\"title\":{\"text\":\"Infectados\"}}},                        {\"responsive\": true}                    ).then(function(){\n",
       "                            \n",
       "var gd = document.getElementById('c3ad2ce9-9677-4f46-a83a-6201c84779cd');\n",
       "var x = new MutationObserver(function (mutations, observer) {{\n",
       "        var display = window.getComputedStyle(gd).display;\n",
       "        if (!display || display === 'none') {{\n",
       "            console.log([gd, 'removed!']);\n",
       "            Plotly.purge(gd);\n",
       "            observer.disconnect();\n",
       "        }}\n",
       "}});\n",
       "\n",
       "// Listen for the removal of the full notebook cells\n",
       "var notebookContainer = gd.closest('#notebook-container');\n",
       "if (notebookContainer) {{\n",
       "    x.observe(notebookContainer, {childList: true});\n",
       "}}\n",
       "\n",
       "// Listen for the clearing of the current output cell\n",
       "var outputEl = gd.closest('.output');\n",
       "if (outputEl) {{\n",
       "    x.observe(outputEl, {childList: true});\n",
       "}}\n",
       "\n",
       "                        })                };                });            </script>        </div>"
      ]
     },
     "metadata": {},
     "output_type": "display_data"
    }
   ],
   "source": [
    "N = 100\n",
    "\n",
    "S0 = 99\n",
    "I0 = 1\n",
    "\n",
    "alfa = 0.1\n",
    "\n",
    "T0 = 0\n",
    "T = 100\n",
    "\n",
    "secciones = 100 #deltaT en realidad es (T-T0)/secciones\n",
    "\n",
    "deltaT = (T-T0)/secciones\n",
    "\n",
    "tiempo = np.linspace(T0, T, secciones)\n",
    "\n",
    "S = np.linspace(T0, T, secciones)\n",
    "I = np.linspace(T0, T, secciones)\n",
    "\n",
    "S[0] = S0\n",
    "I[0] = I0\n",
    "\n",
    "for j in range (secciones-1):\n",
    "    S[j+1] = S[j]*(1-(alfa*deltaT/N)*I[j])\n",
    "    I[j+1] = I[j]*(1+(alfa*deltaT/N)*S[j])\n",
    "\n",
    "# Figura\n",
    "df = pd.DataFrame({'Susceptibles':S, 'Infectados':I})\n",
    "fig = px.line(df, x=\"Susceptibles\", y=\"Infectados\", title=\"Modelo SI\", markers=True) \n",
    "fig.show()\n",
    "\n",
    "# Guardar svg\n",
    "fig.write_image(\"./graficas_avanzadas_modelos_basicos/SI_IsobreS.eps\")"
   ]
  },
  {
   "cell_type": "markdown",
   "id": "734af85c",
   "metadata": {},
   "source": [
    "## Modelo SIR"
   ]
  },
  {
   "cell_type": "code",
   "execution_count": 27,
   "id": "8bcd2b74",
   "metadata": {},
   "outputs": [
    {
     "data": {
      "application/vnd.plotly.v1+json": {
       "config": {
        "plotlyServerURL": "https://plot.ly"
       },
       "data": [
        {
         "hovertemplate": "Susceptibles=%{x}<br>Infectados=%{y}<extra></extra>",
         "legendgroup": "",
         "line": {
          "color": "#636efa",
          "dash": "solid"
         },
         "marker": {
          "symbol": "circle"
         },
         "mode": "markers+lines",
         "name": "",
         "orientation": "v",
         "showlegend": false,
         "type": "scatter",
         "x": [
          99,
          98.703,
          98.327829897,
          97.85462915179399,
          97.25891872982514,
          96.51078288181169,
          95.57406375223007,
          94.40568694031931,
          92.95531189937276,
          91.16560187023678,
          88.97352750796247,
          86.31323272692383,
          83.12104699408572,
          79.3431305552105,
          74.94585443006555,
          69.92821416267213,
          64.33433331356859,
          58.26268906097336,
          51.86777263657323,
          45.35048272851443,
          38.936368049547816,
          32.84541048995752,
          27.261247361653435,
          22.308816983407322,
          18.046206492089116,
          14.470737760818459,
          11.534464443728993,
          9.162602680889549,
          7.269799598208088,
          5.77178303508807,
          4.592189474693462,
          3.665577126793983,
          2.937936196239438,
          2.3658194250624507,
          1.9148739847761376,
          1.558241836996626,
          1.2750691792976245,
          1.0492244762836094,
          0.8682465589227598,
          0.7225064826814851,
          0.6045521083265617,
          0.5086016286232746,
          0.43015502336519407,
          0.3656971834755351,
          0.31247147030302586,
          0.2683070130040446,
          0.23148684309723633,
          0.20064700813954908,
          0.17469918240758264,
          0.15277111729284024,
          0.13416066115733677,
          0.11830012598402528,
          0.10472856653826737,
          0.0930701301121021,
          0.08301707990891238,
          0.0743164296907861,
          0.06675937926300263,
          0.06017293052490701,
          0.05441320770668775,
          0.049360114612203465,
          0.04491304482361261,
          0.040987424325572674,
          0.03751191467830072,
          0.03442614230407415,
          0.0316788483468816,
          0.02922637594769614,
          0.02703142917780651,
          0.02506205144710092,
          0.0232907818315491,
          0.021693956113253775,
          0.020251125908359077,
          0.01894457446452015,
          0.017758911841813604,
          0.016680735481366896,
          0.015698344794581993,
          0.014801500512421137,
          0.0139812212277522,
          0.013229610929388411,
          0.01253971243100062,
          0.01190538249408368,
          0.011321185173096649,
          0.010782300505600584,
          0.010284446156754331,
          0.00982381002665512,
          0.009396992157303552,
          0.009000954546707953,
          0.008632977701483345,
          0.008290622944832007,
          0.007971699650949585,
          0.007674236705296514,
          0.007396457597366138,
          0.007136758642276531,
          0.006893689902738253,
          0.006665938446179136,
          0.006452313625068378,
          0.006251734113442291,
          0.006063216470666117,
          0.005885865035703499,
          0.005718862982545336,
          0.005561464390750116
         ],
         "xaxis": "x",
         "y": [
          1,
          1.267,
          1.6041601030000001,
          2.0292360451160145,
          2.5640693857313765,
          3.2352831521728773,
          4.07494378718931,
          5.121072285484387,
          6.417815157866409,
          8.0149907322664,
          9.966615372572715,
          12.327911692434173,
          15.150260074499254,
          18.473668711139496,
          22.316734774950255,
          26.66487299909516,
          31.45880765822584,
          36.5866876810743,
          41.8840034750422,
          47.14477327884973,
          52.14454475945085,
          56.67116597625762,
          60.55519412527398,
          63.690968679761866,
          66.04285011068721,
          67.63703333863725,
          68.5441956555676,
          68.85973154874002,
          68.68674268495927,
          68.12415696753051,
          67.26002581889921,
          66.16883739223171,
          64.9114132010193,
          63.5361875761657,
          62.08104738916705,
          60.57524811527155,
          59.04116332951241,
          57.49577313264105,
          55.95187785602266,
          54.419061596583255,
          52.90444412304068,
          51.41326127905275,
          49.94931004593924,
          48.51528858445072,
          47.113055640089705,
          45.74382842818599,
          44.40833374524722,
          43.10692356784749,
          41.83966368654403,
          40.60640184106245,
          39.40682024196608,
          38.24047616988041,
          37.10683344422975,
          36.00528687732902,
          34.93518132121234,
          33.89582653179409,
          32.88650878626805,
          31.906499971418107,
          30.955064695093785,
          30.031465847335454,
          29.13496894170398,
          28.2648454939509,
          27.420375638779646,
          26.60085014199048,
          25.80557193168796,
          25.033857246136506,
          24.2850364755223,
          23.558454758987338,
          22.85347238583327,
          22.16946503997657,
          21.505823918982166,
          20.861955752856538,
          20.237282742893548,
          19.631242436967188,
          19.043287554544957,
          18.472885772190768,
          17.919519478309713,
          17.382685504258784,
          16.861894837629407,
          16.356672322437444,
          15.866556350085306,
          15.391098544250243,
          14.92986344227158,
          14.482428175133533,
          14.048382147748878,
          13.627326720927007,
          13.21887489614442,
          12.82265100401674,
          12.43829039719012,
          12.065439148220069,
          11.703753752881397,
          11.352900839250044,
          11.012556882812081,
          10.682407927784277,
          10.36214931477186,
          10.05148541484033,
          9.750129370037897,
          9.457802840371722,
          9.174235757213728,
          8.89916608308911
         ],
         "yaxis": "y"
        }
       ],
       "layout": {
        "legend": {
         "tracegroupgap": 0
        },
        "template": {
         "data": {
          "bar": [
           {
            "error_x": {
             "color": "#2a3f5f"
            },
            "error_y": {
             "color": "#2a3f5f"
            },
            "marker": {
             "line": {
              "color": "#E5ECF6",
              "width": 0.5
             },
             "pattern": {
              "fillmode": "overlay",
              "size": 10,
              "solidity": 0.2
             }
            },
            "type": "bar"
           }
          ],
          "barpolar": [
           {
            "marker": {
             "line": {
              "color": "#E5ECF6",
              "width": 0.5
             },
             "pattern": {
              "fillmode": "overlay",
              "size": 10,
              "solidity": 0.2
             }
            },
            "type": "barpolar"
           }
          ],
          "carpet": [
           {
            "aaxis": {
             "endlinecolor": "#2a3f5f",
             "gridcolor": "white",
             "linecolor": "white",
             "minorgridcolor": "white",
             "startlinecolor": "#2a3f5f"
            },
            "baxis": {
             "endlinecolor": "#2a3f5f",
             "gridcolor": "white",
             "linecolor": "white",
             "minorgridcolor": "white",
             "startlinecolor": "#2a3f5f"
            },
            "type": "carpet"
           }
          ],
          "choropleth": [
           {
            "colorbar": {
             "outlinewidth": 0,
             "ticks": ""
            },
            "type": "choropleth"
           }
          ],
          "contour": [
           {
            "colorbar": {
             "outlinewidth": 0,
             "ticks": ""
            },
            "colorscale": [
             [
              0,
              "#0d0887"
             ],
             [
              0.1111111111111111,
              "#46039f"
             ],
             [
              0.2222222222222222,
              "#7201a8"
             ],
             [
              0.3333333333333333,
              "#9c179e"
             ],
             [
              0.4444444444444444,
              "#bd3786"
             ],
             [
              0.5555555555555556,
              "#d8576b"
             ],
             [
              0.6666666666666666,
              "#ed7953"
             ],
             [
              0.7777777777777778,
              "#fb9f3a"
             ],
             [
              0.8888888888888888,
              "#fdca26"
             ],
             [
              1,
              "#f0f921"
             ]
            ],
            "type": "contour"
           }
          ],
          "contourcarpet": [
           {
            "colorbar": {
             "outlinewidth": 0,
             "ticks": ""
            },
            "type": "contourcarpet"
           }
          ],
          "heatmap": [
           {
            "colorbar": {
             "outlinewidth": 0,
             "ticks": ""
            },
            "colorscale": [
             [
              0,
              "#0d0887"
             ],
             [
              0.1111111111111111,
              "#46039f"
             ],
             [
              0.2222222222222222,
              "#7201a8"
             ],
             [
              0.3333333333333333,
              "#9c179e"
             ],
             [
              0.4444444444444444,
              "#bd3786"
             ],
             [
              0.5555555555555556,
              "#d8576b"
             ],
             [
              0.6666666666666666,
              "#ed7953"
             ],
             [
              0.7777777777777778,
              "#fb9f3a"
             ],
             [
              0.8888888888888888,
              "#fdca26"
             ],
             [
              1,
              "#f0f921"
             ]
            ],
            "type": "heatmap"
           }
          ],
          "heatmapgl": [
           {
            "colorbar": {
             "outlinewidth": 0,
             "ticks": ""
            },
            "colorscale": [
             [
              0,
              "#0d0887"
             ],
             [
              0.1111111111111111,
              "#46039f"
             ],
             [
              0.2222222222222222,
              "#7201a8"
             ],
             [
              0.3333333333333333,
              "#9c179e"
             ],
             [
              0.4444444444444444,
              "#bd3786"
             ],
             [
              0.5555555555555556,
              "#d8576b"
             ],
             [
              0.6666666666666666,
              "#ed7953"
             ],
             [
              0.7777777777777778,
              "#fb9f3a"
             ],
             [
              0.8888888888888888,
              "#fdca26"
             ],
             [
              1,
              "#f0f921"
             ]
            ],
            "type": "heatmapgl"
           }
          ],
          "histogram": [
           {
            "marker": {
             "pattern": {
              "fillmode": "overlay",
              "size": 10,
              "solidity": 0.2
             }
            },
            "type": "histogram"
           }
          ],
          "histogram2d": [
           {
            "colorbar": {
             "outlinewidth": 0,
             "ticks": ""
            },
            "colorscale": [
             [
              0,
              "#0d0887"
             ],
             [
              0.1111111111111111,
              "#46039f"
             ],
             [
              0.2222222222222222,
              "#7201a8"
             ],
             [
              0.3333333333333333,
              "#9c179e"
             ],
             [
              0.4444444444444444,
              "#bd3786"
             ],
             [
              0.5555555555555556,
              "#d8576b"
             ],
             [
              0.6666666666666666,
              "#ed7953"
             ],
             [
              0.7777777777777778,
              "#fb9f3a"
             ],
             [
              0.8888888888888888,
              "#fdca26"
             ],
             [
              1,
              "#f0f921"
             ]
            ],
            "type": "histogram2d"
           }
          ],
          "histogram2dcontour": [
           {
            "colorbar": {
             "outlinewidth": 0,
             "ticks": ""
            },
            "colorscale": [
             [
              0,
              "#0d0887"
             ],
             [
              0.1111111111111111,
              "#46039f"
             ],
             [
              0.2222222222222222,
              "#7201a8"
             ],
             [
              0.3333333333333333,
              "#9c179e"
             ],
             [
              0.4444444444444444,
              "#bd3786"
             ],
             [
              0.5555555555555556,
              "#d8576b"
             ],
             [
              0.6666666666666666,
              "#ed7953"
             ],
             [
              0.7777777777777778,
              "#fb9f3a"
             ],
             [
              0.8888888888888888,
              "#fdca26"
             ],
             [
              1,
              "#f0f921"
             ]
            ],
            "type": "histogram2dcontour"
           }
          ],
          "mesh3d": [
           {
            "colorbar": {
             "outlinewidth": 0,
             "ticks": ""
            },
            "type": "mesh3d"
           }
          ],
          "parcoords": [
           {
            "line": {
             "colorbar": {
              "outlinewidth": 0,
              "ticks": ""
             }
            },
            "type": "parcoords"
           }
          ],
          "pie": [
           {
            "automargin": true,
            "type": "pie"
           }
          ],
          "scatter": [
           {
            "marker": {
             "colorbar": {
              "outlinewidth": 0,
              "ticks": ""
             }
            },
            "type": "scatter"
           }
          ],
          "scatter3d": [
           {
            "line": {
             "colorbar": {
              "outlinewidth": 0,
              "ticks": ""
             }
            },
            "marker": {
             "colorbar": {
              "outlinewidth": 0,
              "ticks": ""
             }
            },
            "type": "scatter3d"
           }
          ],
          "scattercarpet": [
           {
            "marker": {
             "colorbar": {
              "outlinewidth": 0,
              "ticks": ""
             }
            },
            "type": "scattercarpet"
           }
          ],
          "scattergeo": [
           {
            "marker": {
             "colorbar": {
              "outlinewidth": 0,
              "ticks": ""
             }
            },
            "type": "scattergeo"
           }
          ],
          "scattergl": [
           {
            "marker": {
             "colorbar": {
              "outlinewidth": 0,
              "ticks": ""
             }
            },
            "type": "scattergl"
           }
          ],
          "scattermapbox": [
           {
            "marker": {
             "colorbar": {
              "outlinewidth": 0,
              "ticks": ""
             }
            },
            "type": "scattermapbox"
           }
          ],
          "scatterpolar": [
           {
            "marker": {
             "colorbar": {
              "outlinewidth": 0,
              "ticks": ""
             }
            },
            "type": "scatterpolar"
           }
          ],
          "scatterpolargl": [
           {
            "marker": {
             "colorbar": {
              "outlinewidth": 0,
              "ticks": ""
             }
            },
            "type": "scatterpolargl"
           }
          ],
          "scatterternary": [
           {
            "marker": {
             "colorbar": {
              "outlinewidth": 0,
              "ticks": ""
             }
            },
            "type": "scatterternary"
           }
          ],
          "surface": [
           {
            "colorbar": {
             "outlinewidth": 0,
             "ticks": ""
            },
            "colorscale": [
             [
              0,
              "#0d0887"
             ],
             [
              0.1111111111111111,
              "#46039f"
             ],
             [
              0.2222222222222222,
              "#7201a8"
             ],
             [
              0.3333333333333333,
              "#9c179e"
             ],
             [
              0.4444444444444444,
              "#bd3786"
             ],
             [
              0.5555555555555556,
              "#d8576b"
             ],
             [
              0.6666666666666666,
              "#ed7953"
             ],
             [
              0.7777777777777778,
              "#fb9f3a"
             ],
             [
              0.8888888888888888,
              "#fdca26"
             ],
             [
              1,
              "#f0f921"
             ]
            ],
            "type": "surface"
           }
          ],
          "table": [
           {
            "cells": {
             "fill": {
              "color": "#EBF0F8"
             },
             "line": {
              "color": "white"
             }
            },
            "header": {
             "fill": {
              "color": "#C8D4E3"
             },
             "line": {
              "color": "white"
             }
            },
            "type": "table"
           }
          ]
         },
         "layout": {
          "annotationdefaults": {
           "arrowcolor": "#2a3f5f",
           "arrowhead": 0,
           "arrowwidth": 1
          },
          "autotypenumbers": "strict",
          "coloraxis": {
           "colorbar": {
            "outlinewidth": 0,
            "ticks": ""
           }
          },
          "colorscale": {
           "diverging": [
            [
             0,
             "#8e0152"
            ],
            [
             0.1,
             "#c51b7d"
            ],
            [
             0.2,
             "#de77ae"
            ],
            [
             0.3,
             "#f1b6da"
            ],
            [
             0.4,
             "#fde0ef"
            ],
            [
             0.5,
             "#f7f7f7"
            ],
            [
             0.6,
             "#e6f5d0"
            ],
            [
             0.7,
             "#b8e186"
            ],
            [
             0.8,
             "#7fbc41"
            ],
            [
             0.9,
             "#4d9221"
            ],
            [
             1,
             "#276419"
            ]
           ],
           "sequential": [
            [
             0,
             "#0d0887"
            ],
            [
             0.1111111111111111,
             "#46039f"
            ],
            [
             0.2222222222222222,
             "#7201a8"
            ],
            [
             0.3333333333333333,
             "#9c179e"
            ],
            [
             0.4444444444444444,
             "#bd3786"
            ],
            [
             0.5555555555555556,
             "#d8576b"
            ],
            [
             0.6666666666666666,
             "#ed7953"
            ],
            [
             0.7777777777777778,
             "#fb9f3a"
            ],
            [
             0.8888888888888888,
             "#fdca26"
            ],
            [
             1,
             "#f0f921"
            ]
           ],
           "sequentialminus": [
            [
             0,
             "#0d0887"
            ],
            [
             0.1111111111111111,
             "#46039f"
            ],
            [
             0.2222222222222222,
             "#7201a8"
            ],
            [
             0.3333333333333333,
             "#9c179e"
            ],
            [
             0.4444444444444444,
             "#bd3786"
            ],
            [
             0.5555555555555556,
             "#d8576b"
            ],
            [
             0.6666666666666666,
             "#ed7953"
            ],
            [
             0.7777777777777778,
             "#fb9f3a"
            ],
            [
             0.8888888888888888,
             "#fdca26"
            ],
            [
             1,
             "#f0f921"
            ]
           ]
          },
          "colorway": [
           "#636efa",
           "#EF553B",
           "#00cc96",
           "#ab63fa",
           "#FFA15A",
           "#19d3f3",
           "#FF6692",
           "#B6E880",
           "#FF97FF",
           "#FECB52"
          ],
          "font": {
           "color": "#2a3f5f"
          },
          "geo": {
           "bgcolor": "white",
           "lakecolor": "white",
           "landcolor": "#E5ECF6",
           "showlakes": true,
           "showland": true,
           "subunitcolor": "white"
          },
          "hoverlabel": {
           "align": "left"
          },
          "hovermode": "closest",
          "mapbox": {
           "style": "light"
          },
          "paper_bgcolor": "white",
          "plot_bgcolor": "#E5ECF6",
          "polar": {
           "angularaxis": {
            "gridcolor": "white",
            "linecolor": "white",
            "ticks": ""
           },
           "bgcolor": "#E5ECF6",
           "radialaxis": {
            "gridcolor": "white",
            "linecolor": "white",
            "ticks": ""
           }
          },
          "scene": {
           "xaxis": {
            "backgroundcolor": "#E5ECF6",
            "gridcolor": "white",
            "gridwidth": 2,
            "linecolor": "white",
            "showbackground": true,
            "ticks": "",
            "zerolinecolor": "white"
           },
           "yaxis": {
            "backgroundcolor": "#E5ECF6",
            "gridcolor": "white",
            "gridwidth": 2,
            "linecolor": "white",
            "showbackground": true,
            "ticks": "",
            "zerolinecolor": "white"
           },
           "zaxis": {
            "backgroundcolor": "#E5ECF6",
            "gridcolor": "white",
            "gridwidth": 2,
            "linecolor": "white",
            "showbackground": true,
            "ticks": "",
            "zerolinecolor": "white"
           }
          },
          "shapedefaults": {
           "line": {
            "color": "#2a3f5f"
           }
          },
          "ternary": {
           "aaxis": {
            "gridcolor": "white",
            "linecolor": "white",
            "ticks": ""
           },
           "baxis": {
            "gridcolor": "white",
            "linecolor": "white",
            "ticks": ""
           },
           "bgcolor": "#E5ECF6",
           "caxis": {
            "gridcolor": "white",
            "linecolor": "white",
            "ticks": ""
           }
          },
          "title": {
           "x": 0.05
          },
          "xaxis": {
           "automargin": true,
           "gridcolor": "white",
           "linecolor": "white",
           "ticks": "",
           "title": {
            "standoff": 15
           },
           "zerolinecolor": "white",
           "zerolinewidth": 2
          },
          "yaxis": {
           "automargin": true,
           "gridcolor": "white",
           "linecolor": "white",
           "ticks": "",
           "title": {
            "standoff": 15
           },
           "zerolinecolor": "white",
           "zerolinewidth": 2
          }
         }
        },
        "title": {
         "text": "Modelo SIR I/S"
        },
        "xaxis": {
         "anchor": "y",
         "domain": [
          0,
          1
         ],
         "title": {
          "text": "Susceptibles"
         }
        },
        "yaxis": {
         "anchor": "x",
         "domain": [
          0,
          1
         ],
         "title": {
          "text": "Infectados"
         }
        }
       }
      },
      "text/html": [
       "<div>                            <div id=\"628f65af-232b-4650-abe7-1703fd023936\" class=\"plotly-graph-div\" style=\"height:525px; width:100%;\"></div>            <script type=\"text/javascript\">                require([\"plotly\"], function(Plotly) {                    window.PLOTLYENV=window.PLOTLYENV || {};                                    if (document.getElementById(\"628f65af-232b-4650-abe7-1703fd023936\")) {                    Plotly.newPlot(                        \"628f65af-232b-4650-abe7-1703fd023936\",                        [{\"hovertemplate\":\"Susceptibles=%{x}<br>Infectados=%{y}<extra></extra>\",\"legendgroup\":\"\",\"line\":{\"color\":\"#636efa\",\"dash\":\"solid\"},\"marker\":{\"symbol\":\"circle\"},\"mode\":\"markers+lines\",\"name\":\"\",\"orientation\":\"v\",\"showlegend\":false,\"type\":\"scatter\",\"x\":[99.0,98.703,98.327829897,97.85462915179399,97.25891872982514,96.51078288181169,95.57406375223007,94.40568694031931,92.95531189937276,91.16560187023678,88.97352750796247,86.31323272692383,83.12104699408572,79.3431305552105,74.94585443006555,69.92821416267213,64.33433331356859,58.26268906097336,51.86777263657323,45.35048272851443,38.936368049547816,32.84541048995752,27.261247361653435,22.308816983407322,18.046206492089116,14.470737760818459,11.534464443728993,9.162602680889549,7.269799598208088,5.77178303508807,4.592189474693462,3.665577126793983,2.937936196239438,2.3658194250624507,1.9148739847761376,1.558241836996626,1.2750691792976245,1.0492244762836094,0.8682465589227598,0.7225064826814851,0.6045521083265617,0.5086016286232746,0.43015502336519407,0.3656971834755351,0.31247147030302586,0.2683070130040446,0.23148684309723633,0.20064700813954908,0.17469918240758264,0.15277111729284024,0.13416066115733677,0.11830012598402528,0.10472856653826737,0.0930701301121021,0.08301707990891238,0.0743164296907861,0.06675937926300263,0.06017293052490701,0.05441320770668775,0.049360114612203465,0.04491304482361261,0.040987424325572674,0.03751191467830072,0.03442614230407415,0.0316788483468816,0.02922637594769614,0.02703142917780651,0.02506205144710092,0.0232907818315491,0.021693956113253775,0.020251125908359077,0.01894457446452015,0.017758911841813604,0.016680735481366896,0.015698344794581993,0.014801500512421137,0.0139812212277522,0.013229610929388411,0.01253971243100062,0.01190538249408368,0.011321185173096649,0.010782300505600584,0.010284446156754331,0.00982381002665512,0.009396992157303552,0.009000954546707953,0.008632977701483345,0.008290622944832007,0.007971699650949585,0.007674236705296514,0.007396457597366138,0.007136758642276531,0.006893689902738253,0.006665938446179136,0.006452313625068378,0.006251734113442291,0.006063216470666117,0.005885865035703499,0.005718862982545336,0.005561464390750116],\"xaxis\":\"x\",\"y\":[1.0,1.267,1.6041601030000001,2.0292360451160145,2.5640693857313765,3.2352831521728773,4.07494378718931,5.121072285484387,6.417815157866409,8.0149907322664,9.966615372572715,12.327911692434173,15.150260074499254,18.473668711139496,22.316734774950255,26.66487299909516,31.45880765822584,36.5866876810743,41.8840034750422,47.14477327884973,52.14454475945085,56.67116597625762,60.55519412527398,63.690968679761866,66.04285011068721,67.63703333863725,68.5441956555676,68.85973154874002,68.68674268495927,68.12415696753051,67.26002581889921,66.16883739223171,64.9114132010193,63.5361875761657,62.08104738916705,60.57524811527155,59.04116332951241,57.49577313264105,55.95187785602266,54.419061596583255,52.90444412304068,51.41326127905275,49.94931004593924,48.51528858445072,47.113055640089705,45.74382842818599,44.40833374524722,43.10692356784749,41.83966368654403,40.60640184106245,39.40682024196608,38.24047616988041,37.10683344422975,36.00528687732902,34.93518132121234,33.89582653179409,32.88650878626805,31.906499971418107,30.955064695093785,30.031465847335454,29.13496894170398,28.2648454939509,27.420375638779646,26.60085014199048,25.80557193168796,25.033857246136506,24.2850364755223,23.558454758987338,22.85347238583327,22.16946503997657,21.505823918982166,20.861955752856538,20.237282742893548,19.631242436967188,19.043287554544957,18.472885772190768,17.919519478309713,17.382685504258784,16.861894837629407,16.356672322437444,15.866556350085306,15.391098544250243,14.92986344227158,14.482428175133533,14.048382147748878,13.627326720927007,13.21887489614442,12.82265100401674,12.43829039719012,12.065439148220069,11.703753752881397,11.352900839250044,11.012556882812081,10.682407927784277,10.36214931477186,10.05148541484033,9.750129370037897,9.457802840371722,9.174235757213728,8.89916608308911],\"yaxis\":\"y\"}],                        {\"legend\":{\"tracegroupgap\":0},\"template\":{\"data\":{\"bar\":[{\"error_x\":{\"color\":\"#2a3f5f\"},\"error_y\":{\"color\":\"#2a3f5f\"},\"marker\":{\"line\":{\"color\":\"#E5ECF6\",\"width\":0.5},\"pattern\":{\"fillmode\":\"overlay\",\"size\":10,\"solidity\":0.2}},\"type\":\"bar\"}],\"barpolar\":[{\"marker\":{\"line\":{\"color\":\"#E5ECF6\",\"width\":0.5},\"pattern\":{\"fillmode\":\"overlay\",\"size\":10,\"solidity\":0.2}},\"type\":\"barpolar\"}],\"carpet\":[{\"aaxis\":{\"endlinecolor\":\"#2a3f5f\",\"gridcolor\":\"white\",\"linecolor\":\"white\",\"minorgridcolor\":\"white\",\"startlinecolor\":\"#2a3f5f\"},\"baxis\":{\"endlinecolor\":\"#2a3f5f\",\"gridcolor\":\"white\",\"linecolor\":\"white\",\"minorgridcolor\":\"white\",\"startlinecolor\":\"#2a3f5f\"},\"type\":\"carpet\"}],\"choropleth\":[{\"colorbar\":{\"outlinewidth\":0,\"ticks\":\"\"},\"type\":\"choropleth\"}],\"contour\":[{\"colorbar\":{\"outlinewidth\":0,\"ticks\":\"\"},\"colorscale\":[[0.0,\"#0d0887\"],[0.1111111111111111,\"#46039f\"],[0.2222222222222222,\"#7201a8\"],[0.3333333333333333,\"#9c179e\"],[0.4444444444444444,\"#bd3786\"],[0.5555555555555556,\"#d8576b\"],[0.6666666666666666,\"#ed7953\"],[0.7777777777777778,\"#fb9f3a\"],[0.8888888888888888,\"#fdca26\"],[1.0,\"#f0f921\"]],\"type\":\"contour\"}],\"contourcarpet\":[{\"colorbar\":{\"outlinewidth\":0,\"ticks\":\"\"},\"type\":\"contourcarpet\"}],\"heatmap\":[{\"colorbar\":{\"outlinewidth\":0,\"ticks\":\"\"},\"colorscale\":[[0.0,\"#0d0887\"],[0.1111111111111111,\"#46039f\"],[0.2222222222222222,\"#7201a8\"],[0.3333333333333333,\"#9c179e\"],[0.4444444444444444,\"#bd3786\"],[0.5555555555555556,\"#d8576b\"],[0.6666666666666666,\"#ed7953\"],[0.7777777777777778,\"#fb9f3a\"],[0.8888888888888888,\"#fdca26\"],[1.0,\"#f0f921\"]],\"type\":\"heatmap\"}],\"heatmapgl\":[{\"colorbar\":{\"outlinewidth\":0,\"ticks\":\"\"},\"colorscale\":[[0.0,\"#0d0887\"],[0.1111111111111111,\"#46039f\"],[0.2222222222222222,\"#7201a8\"],[0.3333333333333333,\"#9c179e\"],[0.4444444444444444,\"#bd3786\"],[0.5555555555555556,\"#d8576b\"],[0.6666666666666666,\"#ed7953\"],[0.7777777777777778,\"#fb9f3a\"],[0.8888888888888888,\"#fdca26\"],[1.0,\"#f0f921\"]],\"type\":\"heatmapgl\"}],\"histogram\":[{\"marker\":{\"pattern\":{\"fillmode\":\"overlay\",\"size\":10,\"solidity\":0.2}},\"type\":\"histogram\"}],\"histogram2d\":[{\"colorbar\":{\"outlinewidth\":0,\"ticks\":\"\"},\"colorscale\":[[0.0,\"#0d0887\"],[0.1111111111111111,\"#46039f\"],[0.2222222222222222,\"#7201a8\"],[0.3333333333333333,\"#9c179e\"],[0.4444444444444444,\"#bd3786\"],[0.5555555555555556,\"#d8576b\"],[0.6666666666666666,\"#ed7953\"],[0.7777777777777778,\"#fb9f3a\"],[0.8888888888888888,\"#fdca26\"],[1.0,\"#f0f921\"]],\"type\":\"histogram2d\"}],\"histogram2dcontour\":[{\"colorbar\":{\"outlinewidth\":0,\"ticks\":\"\"},\"colorscale\":[[0.0,\"#0d0887\"],[0.1111111111111111,\"#46039f\"],[0.2222222222222222,\"#7201a8\"],[0.3333333333333333,\"#9c179e\"],[0.4444444444444444,\"#bd3786\"],[0.5555555555555556,\"#d8576b\"],[0.6666666666666666,\"#ed7953\"],[0.7777777777777778,\"#fb9f3a\"],[0.8888888888888888,\"#fdca26\"],[1.0,\"#f0f921\"]],\"type\":\"histogram2dcontour\"}],\"mesh3d\":[{\"colorbar\":{\"outlinewidth\":0,\"ticks\":\"\"},\"type\":\"mesh3d\"}],\"parcoords\":[{\"line\":{\"colorbar\":{\"outlinewidth\":0,\"ticks\":\"\"}},\"type\":\"parcoords\"}],\"pie\":[{\"automargin\":true,\"type\":\"pie\"}],\"scatter\":[{\"marker\":{\"colorbar\":{\"outlinewidth\":0,\"ticks\":\"\"}},\"type\":\"scatter\"}],\"scatter3d\":[{\"line\":{\"colorbar\":{\"outlinewidth\":0,\"ticks\":\"\"}},\"marker\":{\"colorbar\":{\"outlinewidth\":0,\"ticks\":\"\"}},\"type\":\"scatter3d\"}],\"scattercarpet\":[{\"marker\":{\"colorbar\":{\"outlinewidth\":0,\"ticks\":\"\"}},\"type\":\"scattercarpet\"}],\"scattergeo\":[{\"marker\":{\"colorbar\":{\"outlinewidth\":0,\"ticks\":\"\"}},\"type\":\"scattergeo\"}],\"scattergl\":[{\"marker\":{\"colorbar\":{\"outlinewidth\":0,\"ticks\":\"\"}},\"type\":\"scattergl\"}],\"scattermapbox\":[{\"marker\":{\"colorbar\":{\"outlinewidth\":0,\"ticks\":\"\"}},\"type\":\"scattermapbox\"}],\"scatterpolar\":[{\"marker\":{\"colorbar\":{\"outlinewidth\":0,\"ticks\":\"\"}},\"type\":\"scatterpolar\"}],\"scatterpolargl\":[{\"marker\":{\"colorbar\":{\"outlinewidth\":0,\"ticks\":\"\"}},\"type\":\"scatterpolargl\"}],\"scatterternary\":[{\"marker\":{\"colorbar\":{\"outlinewidth\":0,\"ticks\":\"\"}},\"type\":\"scatterternary\"}],\"surface\":[{\"colorbar\":{\"outlinewidth\":0,\"ticks\":\"\"},\"colorscale\":[[0.0,\"#0d0887\"],[0.1111111111111111,\"#46039f\"],[0.2222222222222222,\"#7201a8\"],[0.3333333333333333,\"#9c179e\"],[0.4444444444444444,\"#bd3786\"],[0.5555555555555556,\"#d8576b\"],[0.6666666666666666,\"#ed7953\"],[0.7777777777777778,\"#fb9f3a\"],[0.8888888888888888,\"#fdca26\"],[1.0,\"#f0f921\"]],\"type\":\"surface\"}],\"table\":[{\"cells\":{\"fill\":{\"color\":\"#EBF0F8\"},\"line\":{\"color\":\"white\"}},\"header\":{\"fill\":{\"color\":\"#C8D4E3\"},\"line\":{\"color\":\"white\"}},\"type\":\"table\"}]},\"layout\":{\"annotationdefaults\":{\"arrowcolor\":\"#2a3f5f\",\"arrowhead\":0,\"arrowwidth\":1},\"autotypenumbers\":\"strict\",\"coloraxis\":{\"colorbar\":{\"outlinewidth\":0,\"ticks\":\"\"}},\"colorscale\":{\"diverging\":[[0,\"#8e0152\"],[0.1,\"#c51b7d\"],[0.2,\"#de77ae\"],[0.3,\"#f1b6da\"],[0.4,\"#fde0ef\"],[0.5,\"#f7f7f7\"],[0.6,\"#e6f5d0\"],[0.7,\"#b8e186\"],[0.8,\"#7fbc41\"],[0.9,\"#4d9221\"],[1,\"#276419\"]],\"sequential\":[[0.0,\"#0d0887\"],[0.1111111111111111,\"#46039f\"],[0.2222222222222222,\"#7201a8\"],[0.3333333333333333,\"#9c179e\"],[0.4444444444444444,\"#bd3786\"],[0.5555555555555556,\"#d8576b\"],[0.6666666666666666,\"#ed7953\"],[0.7777777777777778,\"#fb9f3a\"],[0.8888888888888888,\"#fdca26\"],[1.0,\"#f0f921\"]],\"sequentialminus\":[[0.0,\"#0d0887\"],[0.1111111111111111,\"#46039f\"],[0.2222222222222222,\"#7201a8\"],[0.3333333333333333,\"#9c179e\"],[0.4444444444444444,\"#bd3786\"],[0.5555555555555556,\"#d8576b\"],[0.6666666666666666,\"#ed7953\"],[0.7777777777777778,\"#fb9f3a\"],[0.8888888888888888,\"#fdca26\"],[1.0,\"#f0f921\"]]},\"colorway\":[\"#636efa\",\"#EF553B\",\"#00cc96\",\"#ab63fa\",\"#FFA15A\",\"#19d3f3\",\"#FF6692\",\"#B6E880\",\"#FF97FF\",\"#FECB52\"],\"font\":{\"color\":\"#2a3f5f\"},\"geo\":{\"bgcolor\":\"white\",\"lakecolor\":\"white\",\"landcolor\":\"#E5ECF6\",\"showlakes\":true,\"showland\":true,\"subunitcolor\":\"white\"},\"hoverlabel\":{\"align\":\"left\"},\"hovermode\":\"closest\",\"mapbox\":{\"style\":\"light\"},\"paper_bgcolor\":\"white\",\"plot_bgcolor\":\"#E5ECF6\",\"polar\":{\"angularaxis\":{\"gridcolor\":\"white\",\"linecolor\":\"white\",\"ticks\":\"\"},\"bgcolor\":\"#E5ECF6\",\"radialaxis\":{\"gridcolor\":\"white\",\"linecolor\":\"white\",\"ticks\":\"\"}},\"scene\":{\"xaxis\":{\"backgroundcolor\":\"#E5ECF6\",\"gridcolor\":\"white\",\"gridwidth\":2,\"linecolor\":\"white\",\"showbackground\":true,\"ticks\":\"\",\"zerolinecolor\":\"white\"},\"yaxis\":{\"backgroundcolor\":\"#E5ECF6\",\"gridcolor\":\"white\",\"gridwidth\":2,\"linecolor\":\"white\",\"showbackground\":true,\"ticks\":\"\",\"zerolinecolor\":\"white\"},\"zaxis\":{\"backgroundcolor\":\"#E5ECF6\",\"gridcolor\":\"white\",\"gridwidth\":2,\"linecolor\":\"white\",\"showbackground\":true,\"ticks\":\"\",\"zerolinecolor\":\"white\"}},\"shapedefaults\":{\"line\":{\"color\":\"#2a3f5f\"}},\"ternary\":{\"aaxis\":{\"gridcolor\":\"white\",\"linecolor\":\"white\",\"ticks\":\"\"},\"baxis\":{\"gridcolor\":\"white\",\"linecolor\":\"white\",\"ticks\":\"\"},\"bgcolor\":\"#E5ECF6\",\"caxis\":{\"gridcolor\":\"white\",\"linecolor\":\"white\",\"ticks\":\"\"}},\"title\":{\"x\":0.05},\"xaxis\":{\"automargin\":true,\"gridcolor\":\"white\",\"linecolor\":\"white\",\"ticks\":\"\",\"title\":{\"standoff\":15},\"zerolinecolor\":\"white\",\"zerolinewidth\":2},\"yaxis\":{\"automargin\":true,\"gridcolor\":\"white\",\"linecolor\":\"white\",\"ticks\":\"\",\"title\":{\"standoff\":15},\"zerolinecolor\":\"white\",\"zerolinewidth\":2}}},\"title\":{\"text\":\"Modelo SIR I/S\"},\"xaxis\":{\"anchor\":\"y\",\"domain\":[0.0,1.0],\"title\":{\"text\":\"Susceptibles\"}},\"yaxis\":{\"anchor\":\"x\",\"domain\":[0.0,1.0],\"title\":{\"text\":\"Infectados\"}}},                        {\"responsive\": true}                    ).then(function(){\n",
       "                            \n",
       "var gd = document.getElementById('628f65af-232b-4650-abe7-1703fd023936');\n",
       "var x = new MutationObserver(function (mutations, observer) {{\n",
       "        var display = window.getComputedStyle(gd).display;\n",
       "        if (!display || display === 'none') {{\n",
       "            console.log([gd, 'removed!']);\n",
       "            Plotly.purge(gd);\n",
       "            observer.disconnect();\n",
       "        }}\n",
       "}});\n",
       "\n",
       "// Listen for the removal of the full notebook cells\n",
       "var notebookContainer = gd.closest('#notebook-container');\n",
       "if (notebookContainer) {{\n",
       "    x.observe(notebookContainer, {childList: true});\n",
       "}}\n",
       "\n",
       "// Listen for the clearing of the current output cell\n",
       "var outputEl = gd.closest('.output');\n",
       "if (outputEl) {{\n",
       "    x.observe(outputEl, {childList: true});\n",
       "}}\n",
       "\n",
       "                        })                };                });            </script>        </div>"
      ]
     },
     "metadata": {},
     "output_type": "display_data"
    },
    {
     "data": {
      "application/vnd.plotly.v1+json": {
       "config": {
        "plotlyServerURL": "https://plot.ly"
       },
       "data": [
        {
         "hovertemplate": "Susceptibles=%{x}<br>Recuperados=%{y}<extra></extra>",
         "legendgroup": "",
         "line": {
          "color": "#636efa",
          "dash": "solid"
         },
         "marker": {
          "symbol": "circle"
         },
         "mode": "markers+lines",
         "name": "",
         "orientation": "v",
         "showlegend": false,
         "type": "scatter",
         "x": [
          99,
          98.703,
          98.327829897,
          97.85462915179399,
          97.25891872982514,
          96.51078288181169,
          95.57406375223007,
          94.40568694031931,
          92.95531189937276,
          91.16560187023678,
          88.97352750796247,
          86.31323272692383,
          83.12104699408572,
          79.3431305552105,
          74.94585443006555,
          69.92821416267213,
          64.33433331356859,
          58.26268906097336,
          51.86777263657323,
          45.35048272851443,
          38.936368049547816,
          32.84541048995752,
          27.261247361653435,
          22.308816983407322,
          18.046206492089116,
          14.470737760818459,
          11.534464443728993,
          9.162602680889549,
          7.269799598208088,
          5.77178303508807,
          4.592189474693462,
          3.665577126793983,
          2.937936196239438,
          2.3658194250624507,
          1.9148739847761376,
          1.558241836996626,
          1.2750691792976245,
          1.0492244762836094,
          0.8682465589227598,
          0.7225064826814851,
          0.6045521083265617,
          0.5086016286232746,
          0.43015502336519407,
          0.3656971834755351,
          0.31247147030302586,
          0.2683070130040446,
          0.23148684309723633,
          0.20064700813954908,
          0.17469918240758264,
          0.15277111729284024,
          0.13416066115733677,
          0.11830012598402528,
          0.10472856653826737,
          0.0930701301121021,
          0.08301707990891238,
          0.0743164296907861,
          0.06675937926300263,
          0.06017293052490701,
          0.05441320770668775,
          0.049360114612203465,
          0.04491304482361261,
          0.040987424325572674,
          0.03751191467830072,
          0.03442614230407415,
          0.0316788483468816,
          0.02922637594769614,
          0.02703142917780651,
          0.02506205144710092,
          0.0232907818315491,
          0.021693956113253775,
          0.020251125908359077,
          0.01894457446452015,
          0.017758911841813604,
          0.016680735481366896,
          0.015698344794581993,
          0.014801500512421137,
          0.0139812212277522,
          0.013229610929388411,
          0.01253971243100062,
          0.01190538249408368,
          0.011321185173096649,
          0.010782300505600584,
          0.010284446156754331,
          0.00982381002665512,
          0.009396992157303552,
          0.009000954546707953,
          0.008632977701483345,
          0.008290622944832007,
          0.007971699650949585,
          0.007674236705296514,
          0.007396457597366138,
          0.007136758642276531,
          0.006893689902738253,
          0.006665938446179136,
          0.006452313625068378,
          0.006251734113442291,
          0.006063216470666117,
          0.005885865035703499,
          0.005718862982545336,
          0.005561464390750116
         ],
         "xaxis": "x",
         "y": [
          0,
          0.03,
          0.06800999999999999,
          0.11613480308999999,
          0.17701188444348043,
          0.25393396601542173,
          0.35099246058060807,
          0.4732407741962874,
          0.6268729427608191,
          0.8194073974968114,
          1.0598571194648034,
          1.3588555806419849,
          1.7286929314150101,
          2.1832007336499877,
          2.7374107949841724,
          3.40691283823268,
          4.2068590282055345,
          5.15062325795231,
          6.248223888384539,
          7.504743992635804,
          8.919087191001296,
          10.483423533784821,
          12.18355851307255,
          14.00021433683077,
          15.910943397223626,
          17.892228900544243,
          19.92133990070336,
          21.977665770370386,
          24.043457716832588,
          26.104059997381366,
          28.147784706407283,
          30.165585480974258,
          32.15065060274121,
          34.09799299877179,
          36.00407862605676,
          37.86651004773177,
          39.68376749118992,
          41.45500239107529,
          43.17987558505452,
          44.8584319207352,
          46.491003768632694,
          48.078137092323914,
          49.6205349306955,
          51.119014232073674,
          52.57447288960719,
          53.98786455880988,
          55.36017941165546,
          56.69242942401287,
          57.98563713104829,
          59.240827041644614,
          60.45901909687649,
          61.64122370413547,
          62.78843798923188,
          63.90164299255877,
          64.98180159887865,
          66.02985703851502,
          67.04673183446884,
          68.03332709805689,
          68.99052209719943,
          69.91917403805225,
          70.82011801347231,
          71.69416708172344,
          72.54211244654196,
          73.36472371570535,
          74.16274921996506,
          74.93691637791571,
          75.6879320952998,
          76.41648318956547,
          77.1232368323351,
          77.80884100391009,
          78.47392495510938,
          79.11909967267884,
          79.74495834526454,
          80.35207682755134,
          80.94101410066035,
          81.5123127272967,
          82.06649930046243,
          82.60408488481171,
          83.12556544993947,
          83.63142229506836,
          84.12212246474148,
          84.59811915524404,
          85.05985211157154,
          85.50774801483969,
          85.9422208600937,
          86.36367232452616,
          86.77249212615398,
          87.16905837303831,
          87.55373790315882,
          87.92688661507452,
          88.28884978952112,
          88.63996240210757,
          88.98054942728507,
          89.31092613376943,
          89.63139837160296,
          89.94226285104611,
          90.24380741349133,
          90.53631129459247,
          90.82004537980362,
          91.09527245252004
         ],
         "yaxis": "y"
        }
       ],
       "layout": {
        "legend": {
         "tracegroupgap": 0
        },
        "template": {
         "data": {
          "bar": [
           {
            "error_x": {
             "color": "#2a3f5f"
            },
            "error_y": {
             "color": "#2a3f5f"
            },
            "marker": {
             "line": {
              "color": "#E5ECF6",
              "width": 0.5
             },
             "pattern": {
              "fillmode": "overlay",
              "size": 10,
              "solidity": 0.2
             }
            },
            "type": "bar"
           }
          ],
          "barpolar": [
           {
            "marker": {
             "line": {
              "color": "#E5ECF6",
              "width": 0.5
             },
             "pattern": {
              "fillmode": "overlay",
              "size": 10,
              "solidity": 0.2
             }
            },
            "type": "barpolar"
           }
          ],
          "carpet": [
           {
            "aaxis": {
             "endlinecolor": "#2a3f5f",
             "gridcolor": "white",
             "linecolor": "white",
             "minorgridcolor": "white",
             "startlinecolor": "#2a3f5f"
            },
            "baxis": {
             "endlinecolor": "#2a3f5f",
             "gridcolor": "white",
             "linecolor": "white",
             "minorgridcolor": "white",
             "startlinecolor": "#2a3f5f"
            },
            "type": "carpet"
           }
          ],
          "choropleth": [
           {
            "colorbar": {
             "outlinewidth": 0,
             "ticks": ""
            },
            "type": "choropleth"
           }
          ],
          "contour": [
           {
            "colorbar": {
             "outlinewidth": 0,
             "ticks": ""
            },
            "colorscale": [
             [
              0,
              "#0d0887"
             ],
             [
              0.1111111111111111,
              "#46039f"
             ],
             [
              0.2222222222222222,
              "#7201a8"
             ],
             [
              0.3333333333333333,
              "#9c179e"
             ],
             [
              0.4444444444444444,
              "#bd3786"
             ],
             [
              0.5555555555555556,
              "#d8576b"
             ],
             [
              0.6666666666666666,
              "#ed7953"
             ],
             [
              0.7777777777777778,
              "#fb9f3a"
             ],
             [
              0.8888888888888888,
              "#fdca26"
             ],
             [
              1,
              "#f0f921"
             ]
            ],
            "type": "contour"
           }
          ],
          "contourcarpet": [
           {
            "colorbar": {
             "outlinewidth": 0,
             "ticks": ""
            },
            "type": "contourcarpet"
           }
          ],
          "heatmap": [
           {
            "colorbar": {
             "outlinewidth": 0,
             "ticks": ""
            },
            "colorscale": [
             [
              0,
              "#0d0887"
             ],
             [
              0.1111111111111111,
              "#46039f"
             ],
             [
              0.2222222222222222,
              "#7201a8"
             ],
             [
              0.3333333333333333,
              "#9c179e"
             ],
             [
              0.4444444444444444,
              "#bd3786"
             ],
             [
              0.5555555555555556,
              "#d8576b"
             ],
             [
              0.6666666666666666,
              "#ed7953"
             ],
             [
              0.7777777777777778,
              "#fb9f3a"
             ],
             [
              0.8888888888888888,
              "#fdca26"
             ],
             [
              1,
              "#f0f921"
             ]
            ],
            "type": "heatmap"
           }
          ],
          "heatmapgl": [
           {
            "colorbar": {
             "outlinewidth": 0,
             "ticks": ""
            },
            "colorscale": [
             [
              0,
              "#0d0887"
             ],
             [
              0.1111111111111111,
              "#46039f"
             ],
             [
              0.2222222222222222,
              "#7201a8"
             ],
             [
              0.3333333333333333,
              "#9c179e"
             ],
             [
              0.4444444444444444,
              "#bd3786"
             ],
             [
              0.5555555555555556,
              "#d8576b"
             ],
             [
              0.6666666666666666,
              "#ed7953"
             ],
             [
              0.7777777777777778,
              "#fb9f3a"
             ],
             [
              0.8888888888888888,
              "#fdca26"
             ],
             [
              1,
              "#f0f921"
             ]
            ],
            "type": "heatmapgl"
           }
          ],
          "histogram": [
           {
            "marker": {
             "pattern": {
              "fillmode": "overlay",
              "size": 10,
              "solidity": 0.2
             }
            },
            "type": "histogram"
           }
          ],
          "histogram2d": [
           {
            "colorbar": {
             "outlinewidth": 0,
             "ticks": ""
            },
            "colorscale": [
             [
              0,
              "#0d0887"
             ],
             [
              0.1111111111111111,
              "#46039f"
             ],
             [
              0.2222222222222222,
              "#7201a8"
             ],
             [
              0.3333333333333333,
              "#9c179e"
             ],
             [
              0.4444444444444444,
              "#bd3786"
             ],
             [
              0.5555555555555556,
              "#d8576b"
             ],
             [
              0.6666666666666666,
              "#ed7953"
             ],
             [
              0.7777777777777778,
              "#fb9f3a"
             ],
             [
              0.8888888888888888,
              "#fdca26"
             ],
             [
              1,
              "#f0f921"
             ]
            ],
            "type": "histogram2d"
           }
          ],
          "histogram2dcontour": [
           {
            "colorbar": {
             "outlinewidth": 0,
             "ticks": ""
            },
            "colorscale": [
             [
              0,
              "#0d0887"
             ],
             [
              0.1111111111111111,
              "#46039f"
             ],
             [
              0.2222222222222222,
              "#7201a8"
             ],
             [
              0.3333333333333333,
              "#9c179e"
             ],
             [
              0.4444444444444444,
              "#bd3786"
             ],
             [
              0.5555555555555556,
              "#d8576b"
             ],
             [
              0.6666666666666666,
              "#ed7953"
             ],
             [
              0.7777777777777778,
              "#fb9f3a"
             ],
             [
              0.8888888888888888,
              "#fdca26"
             ],
             [
              1,
              "#f0f921"
             ]
            ],
            "type": "histogram2dcontour"
           }
          ],
          "mesh3d": [
           {
            "colorbar": {
             "outlinewidth": 0,
             "ticks": ""
            },
            "type": "mesh3d"
           }
          ],
          "parcoords": [
           {
            "line": {
             "colorbar": {
              "outlinewidth": 0,
              "ticks": ""
             }
            },
            "type": "parcoords"
           }
          ],
          "pie": [
           {
            "automargin": true,
            "type": "pie"
           }
          ],
          "scatter": [
           {
            "marker": {
             "colorbar": {
              "outlinewidth": 0,
              "ticks": ""
             }
            },
            "type": "scatter"
           }
          ],
          "scatter3d": [
           {
            "line": {
             "colorbar": {
              "outlinewidth": 0,
              "ticks": ""
             }
            },
            "marker": {
             "colorbar": {
              "outlinewidth": 0,
              "ticks": ""
             }
            },
            "type": "scatter3d"
           }
          ],
          "scattercarpet": [
           {
            "marker": {
             "colorbar": {
              "outlinewidth": 0,
              "ticks": ""
             }
            },
            "type": "scattercarpet"
           }
          ],
          "scattergeo": [
           {
            "marker": {
             "colorbar": {
              "outlinewidth": 0,
              "ticks": ""
             }
            },
            "type": "scattergeo"
           }
          ],
          "scattergl": [
           {
            "marker": {
             "colorbar": {
              "outlinewidth": 0,
              "ticks": ""
             }
            },
            "type": "scattergl"
           }
          ],
          "scattermapbox": [
           {
            "marker": {
             "colorbar": {
              "outlinewidth": 0,
              "ticks": ""
             }
            },
            "type": "scattermapbox"
           }
          ],
          "scatterpolar": [
           {
            "marker": {
             "colorbar": {
              "outlinewidth": 0,
              "ticks": ""
             }
            },
            "type": "scatterpolar"
           }
          ],
          "scatterpolargl": [
           {
            "marker": {
             "colorbar": {
              "outlinewidth": 0,
              "ticks": ""
             }
            },
            "type": "scatterpolargl"
           }
          ],
          "scatterternary": [
           {
            "marker": {
             "colorbar": {
              "outlinewidth": 0,
              "ticks": ""
             }
            },
            "type": "scatterternary"
           }
          ],
          "surface": [
           {
            "colorbar": {
             "outlinewidth": 0,
             "ticks": ""
            },
            "colorscale": [
             [
              0,
              "#0d0887"
             ],
             [
              0.1111111111111111,
              "#46039f"
             ],
             [
              0.2222222222222222,
              "#7201a8"
             ],
             [
              0.3333333333333333,
              "#9c179e"
             ],
             [
              0.4444444444444444,
              "#bd3786"
             ],
             [
              0.5555555555555556,
              "#d8576b"
             ],
             [
              0.6666666666666666,
              "#ed7953"
             ],
             [
              0.7777777777777778,
              "#fb9f3a"
             ],
             [
              0.8888888888888888,
              "#fdca26"
             ],
             [
              1,
              "#f0f921"
             ]
            ],
            "type": "surface"
           }
          ],
          "table": [
           {
            "cells": {
             "fill": {
              "color": "#EBF0F8"
             },
             "line": {
              "color": "white"
             }
            },
            "header": {
             "fill": {
              "color": "#C8D4E3"
             },
             "line": {
              "color": "white"
             }
            },
            "type": "table"
           }
          ]
         },
         "layout": {
          "annotationdefaults": {
           "arrowcolor": "#2a3f5f",
           "arrowhead": 0,
           "arrowwidth": 1
          },
          "autotypenumbers": "strict",
          "coloraxis": {
           "colorbar": {
            "outlinewidth": 0,
            "ticks": ""
           }
          },
          "colorscale": {
           "diverging": [
            [
             0,
             "#8e0152"
            ],
            [
             0.1,
             "#c51b7d"
            ],
            [
             0.2,
             "#de77ae"
            ],
            [
             0.3,
             "#f1b6da"
            ],
            [
             0.4,
             "#fde0ef"
            ],
            [
             0.5,
             "#f7f7f7"
            ],
            [
             0.6,
             "#e6f5d0"
            ],
            [
             0.7,
             "#b8e186"
            ],
            [
             0.8,
             "#7fbc41"
            ],
            [
             0.9,
             "#4d9221"
            ],
            [
             1,
             "#276419"
            ]
           ],
           "sequential": [
            [
             0,
             "#0d0887"
            ],
            [
             0.1111111111111111,
             "#46039f"
            ],
            [
             0.2222222222222222,
             "#7201a8"
            ],
            [
             0.3333333333333333,
             "#9c179e"
            ],
            [
             0.4444444444444444,
             "#bd3786"
            ],
            [
             0.5555555555555556,
             "#d8576b"
            ],
            [
             0.6666666666666666,
             "#ed7953"
            ],
            [
             0.7777777777777778,
             "#fb9f3a"
            ],
            [
             0.8888888888888888,
             "#fdca26"
            ],
            [
             1,
             "#f0f921"
            ]
           ],
           "sequentialminus": [
            [
             0,
             "#0d0887"
            ],
            [
             0.1111111111111111,
             "#46039f"
            ],
            [
             0.2222222222222222,
             "#7201a8"
            ],
            [
             0.3333333333333333,
             "#9c179e"
            ],
            [
             0.4444444444444444,
             "#bd3786"
            ],
            [
             0.5555555555555556,
             "#d8576b"
            ],
            [
             0.6666666666666666,
             "#ed7953"
            ],
            [
             0.7777777777777778,
             "#fb9f3a"
            ],
            [
             0.8888888888888888,
             "#fdca26"
            ],
            [
             1,
             "#f0f921"
            ]
           ]
          },
          "colorway": [
           "#636efa",
           "#EF553B",
           "#00cc96",
           "#ab63fa",
           "#FFA15A",
           "#19d3f3",
           "#FF6692",
           "#B6E880",
           "#FF97FF",
           "#FECB52"
          ],
          "font": {
           "color": "#2a3f5f"
          },
          "geo": {
           "bgcolor": "white",
           "lakecolor": "white",
           "landcolor": "#E5ECF6",
           "showlakes": true,
           "showland": true,
           "subunitcolor": "white"
          },
          "hoverlabel": {
           "align": "left"
          },
          "hovermode": "closest",
          "mapbox": {
           "style": "light"
          },
          "paper_bgcolor": "white",
          "plot_bgcolor": "#E5ECF6",
          "polar": {
           "angularaxis": {
            "gridcolor": "white",
            "linecolor": "white",
            "ticks": ""
           },
           "bgcolor": "#E5ECF6",
           "radialaxis": {
            "gridcolor": "white",
            "linecolor": "white",
            "ticks": ""
           }
          },
          "scene": {
           "xaxis": {
            "backgroundcolor": "#E5ECF6",
            "gridcolor": "white",
            "gridwidth": 2,
            "linecolor": "white",
            "showbackground": true,
            "ticks": "",
            "zerolinecolor": "white"
           },
           "yaxis": {
            "backgroundcolor": "#E5ECF6",
            "gridcolor": "white",
            "gridwidth": 2,
            "linecolor": "white",
            "showbackground": true,
            "ticks": "",
            "zerolinecolor": "white"
           },
           "zaxis": {
            "backgroundcolor": "#E5ECF6",
            "gridcolor": "white",
            "gridwidth": 2,
            "linecolor": "white",
            "showbackground": true,
            "ticks": "",
            "zerolinecolor": "white"
           }
          },
          "shapedefaults": {
           "line": {
            "color": "#2a3f5f"
           }
          },
          "ternary": {
           "aaxis": {
            "gridcolor": "white",
            "linecolor": "white",
            "ticks": ""
           },
           "baxis": {
            "gridcolor": "white",
            "linecolor": "white",
            "ticks": ""
           },
           "bgcolor": "#E5ECF6",
           "caxis": {
            "gridcolor": "white",
            "linecolor": "white",
            "ticks": ""
           }
          },
          "title": {
           "x": 0.05
          },
          "xaxis": {
           "automargin": true,
           "gridcolor": "white",
           "linecolor": "white",
           "ticks": "",
           "title": {
            "standoff": 15
           },
           "zerolinecolor": "white",
           "zerolinewidth": 2
          },
          "yaxis": {
           "automargin": true,
           "gridcolor": "white",
           "linecolor": "white",
           "ticks": "",
           "title": {
            "standoff": 15
           },
           "zerolinecolor": "white",
           "zerolinewidth": 2
          }
         }
        },
        "title": {
         "text": "Modelo SIR R/S"
        },
        "xaxis": {
         "anchor": "y",
         "domain": [
          0,
          1
         ],
         "title": {
          "text": "Susceptibles"
         }
        },
        "yaxis": {
         "anchor": "x",
         "domain": [
          0,
          1
         ],
         "title": {
          "text": "Recuperados"
         }
        }
       }
      },
      "text/html": [
       "<div>                            <div id=\"ecba0573-522d-49a9-a40f-f184b5d4e39f\" class=\"plotly-graph-div\" style=\"height:525px; width:100%;\"></div>            <script type=\"text/javascript\">                require([\"plotly\"], function(Plotly) {                    window.PLOTLYENV=window.PLOTLYENV || {};                                    if (document.getElementById(\"ecba0573-522d-49a9-a40f-f184b5d4e39f\")) {                    Plotly.newPlot(                        \"ecba0573-522d-49a9-a40f-f184b5d4e39f\",                        [{\"hovertemplate\":\"Susceptibles=%{x}<br>Recuperados=%{y}<extra></extra>\",\"legendgroup\":\"\",\"line\":{\"color\":\"#636efa\",\"dash\":\"solid\"},\"marker\":{\"symbol\":\"circle\"},\"mode\":\"markers+lines\",\"name\":\"\",\"orientation\":\"v\",\"showlegend\":false,\"type\":\"scatter\",\"x\":[99.0,98.703,98.327829897,97.85462915179399,97.25891872982514,96.51078288181169,95.57406375223007,94.40568694031931,92.95531189937276,91.16560187023678,88.97352750796247,86.31323272692383,83.12104699408572,79.3431305552105,74.94585443006555,69.92821416267213,64.33433331356859,58.26268906097336,51.86777263657323,45.35048272851443,38.936368049547816,32.84541048995752,27.261247361653435,22.308816983407322,18.046206492089116,14.470737760818459,11.534464443728993,9.162602680889549,7.269799598208088,5.77178303508807,4.592189474693462,3.665577126793983,2.937936196239438,2.3658194250624507,1.9148739847761376,1.558241836996626,1.2750691792976245,1.0492244762836094,0.8682465589227598,0.7225064826814851,0.6045521083265617,0.5086016286232746,0.43015502336519407,0.3656971834755351,0.31247147030302586,0.2683070130040446,0.23148684309723633,0.20064700813954908,0.17469918240758264,0.15277111729284024,0.13416066115733677,0.11830012598402528,0.10472856653826737,0.0930701301121021,0.08301707990891238,0.0743164296907861,0.06675937926300263,0.06017293052490701,0.05441320770668775,0.049360114612203465,0.04491304482361261,0.040987424325572674,0.03751191467830072,0.03442614230407415,0.0316788483468816,0.02922637594769614,0.02703142917780651,0.02506205144710092,0.0232907818315491,0.021693956113253775,0.020251125908359077,0.01894457446452015,0.017758911841813604,0.016680735481366896,0.015698344794581993,0.014801500512421137,0.0139812212277522,0.013229610929388411,0.01253971243100062,0.01190538249408368,0.011321185173096649,0.010782300505600584,0.010284446156754331,0.00982381002665512,0.009396992157303552,0.009000954546707953,0.008632977701483345,0.008290622944832007,0.007971699650949585,0.007674236705296514,0.007396457597366138,0.007136758642276531,0.006893689902738253,0.006665938446179136,0.006452313625068378,0.006251734113442291,0.006063216470666117,0.005885865035703499,0.005718862982545336,0.005561464390750116],\"xaxis\":\"x\",\"y\":[0.0,0.03,0.06800999999999999,0.11613480308999999,0.17701188444348043,0.25393396601542173,0.35099246058060807,0.4732407741962874,0.6268729427608191,0.8194073974968114,1.0598571194648034,1.3588555806419849,1.7286929314150101,2.1832007336499877,2.7374107949841724,3.40691283823268,4.2068590282055345,5.15062325795231,6.248223888384539,7.504743992635804,8.919087191001296,10.483423533784821,12.18355851307255,14.00021433683077,15.910943397223626,17.892228900544243,19.92133990070336,21.977665770370386,24.043457716832588,26.104059997381366,28.147784706407283,30.165585480974258,32.15065060274121,34.09799299877179,36.00407862605676,37.86651004773177,39.68376749118992,41.45500239107529,43.17987558505452,44.8584319207352,46.491003768632694,48.078137092323914,49.6205349306955,51.119014232073674,52.57447288960719,53.98786455880988,55.36017941165546,56.69242942401287,57.98563713104829,59.240827041644614,60.45901909687649,61.64122370413547,62.78843798923188,63.90164299255877,64.98180159887865,66.02985703851502,67.04673183446884,68.03332709805689,68.99052209719943,69.91917403805225,70.82011801347231,71.69416708172344,72.54211244654196,73.36472371570535,74.16274921996506,74.93691637791571,75.6879320952998,76.41648318956547,77.1232368323351,77.80884100391009,78.47392495510938,79.11909967267884,79.74495834526454,80.35207682755134,80.94101410066035,81.5123127272967,82.06649930046243,82.60408488481171,83.12556544993947,83.63142229506836,84.12212246474148,84.59811915524404,85.05985211157154,85.50774801483969,85.9422208600937,86.36367232452616,86.77249212615398,87.16905837303831,87.55373790315882,87.92688661507452,88.28884978952112,88.63996240210757,88.98054942728507,89.31092613376943,89.63139837160296,89.94226285104611,90.24380741349133,90.53631129459247,90.82004537980362,91.09527245252004],\"yaxis\":\"y\"}],                        {\"legend\":{\"tracegroupgap\":0},\"template\":{\"data\":{\"bar\":[{\"error_x\":{\"color\":\"#2a3f5f\"},\"error_y\":{\"color\":\"#2a3f5f\"},\"marker\":{\"line\":{\"color\":\"#E5ECF6\",\"width\":0.5},\"pattern\":{\"fillmode\":\"overlay\",\"size\":10,\"solidity\":0.2}},\"type\":\"bar\"}],\"barpolar\":[{\"marker\":{\"line\":{\"color\":\"#E5ECF6\",\"width\":0.5},\"pattern\":{\"fillmode\":\"overlay\",\"size\":10,\"solidity\":0.2}},\"type\":\"barpolar\"}],\"carpet\":[{\"aaxis\":{\"endlinecolor\":\"#2a3f5f\",\"gridcolor\":\"white\",\"linecolor\":\"white\",\"minorgridcolor\":\"white\",\"startlinecolor\":\"#2a3f5f\"},\"baxis\":{\"endlinecolor\":\"#2a3f5f\",\"gridcolor\":\"white\",\"linecolor\":\"white\",\"minorgridcolor\":\"white\",\"startlinecolor\":\"#2a3f5f\"},\"type\":\"carpet\"}],\"choropleth\":[{\"colorbar\":{\"outlinewidth\":0,\"ticks\":\"\"},\"type\":\"choropleth\"}],\"contour\":[{\"colorbar\":{\"outlinewidth\":0,\"ticks\":\"\"},\"colorscale\":[[0.0,\"#0d0887\"],[0.1111111111111111,\"#46039f\"],[0.2222222222222222,\"#7201a8\"],[0.3333333333333333,\"#9c179e\"],[0.4444444444444444,\"#bd3786\"],[0.5555555555555556,\"#d8576b\"],[0.6666666666666666,\"#ed7953\"],[0.7777777777777778,\"#fb9f3a\"],[0.8888888888888888,\"#fdca26\"],[1.0,\"#f0f921\"]],\"type\":\"contour\"}],\"contourcarpet\":[{\"colorbar\":{\"outlinewidth\":0,\"ticks\":\"\"},\"type\":\"contourcarpet\"}],\"heatmap\":[{\"colorbar\":{\"outlinewidth\":0,\"ticks\":\"\"},\"colorscale\":[[0.0,\"#0d0887\"],[0.1111111111111111,\"#46039f\"],[0.2222222222222222,\"#7201a8\"],[0.3333333333333333,\"#9c179e\"],[0.4444444444444444,\"#bd3786\"],[0.5555555555555556,\"#d8576b\"],[0.6666666666666666,\"#ed7953\"],[0.7777777777777778,\"#fb9f3a\"],[0.8888888888888888,\"#fdca26\"],[1.0,\"#f0f921\"]],\"type\":\"heatmap\"}],\"heatmapgl\":[{\"colorbar\":{\"outlinewidth\":0,\"ticks\":\"\"},\"colorscale\":[[0.0,\"#0d0887\"],[0.1111111111111111,\"#46039f\"],[0.2222222222222222,\"#7201a8\"],[0.3333333333333333,\"#9c179e\"],[0.4444444444444444,\"#bd3786\"],[0.5555555555555556,\"#d8576b\"],[0.6666666666666666,\"#ed7953\"],[0.7777777777777778,\"#fb9f3a\"],[0.8888888888888888,\"#fdca26\"],[1.0,\"#f0f921\"]],\"type\":\"heatmapgl\"}],\"histogram\":[{\"marker\":{\"pattern\":{\"fillmode\":\"overlay\",\"size\":10,\"solidity\":0.2}},\"type\":\"histogram\"}],\"histogram2d\":[{\"colorbar\":{\"outlinewidth\":0,\"ticks\":\"\"},\"colorscale\":[[0.0,\"#0d0887\"],[0.1111111111111111,\"#46039f\"],[0.2222222222222222,\"#7201a8\"],[0.3333333333333333,\"#9c179e\"],[0.4444444444444444,\"#bd3786\"],[0.5555555555555556,\"#d8576b\"],[0.6666666666666666,\"#ed7953\"],[0.7777777777777778,\"#fb9f3a\"],[0.8888888888888888,\"#fdca26\"],[1.0,\"#f0f921\"]],\"type\":\"histogram2d\"}],\"histogram2dcontour\":[{\"colorbar\":{\"outlinewidth\":0,\"ticks\":\"\"},\"colorscale\":[[0.0,\"#0d0887\"],[0.1111111111111111,\"#46039f\"],[0.2222222222222222,\"#7201a8\"],[0.3333333333333333,\"#9c179e\"],[0.4444444444444444,\"#bd3786\"],[0.5555555555555556,\"#d8576b\"],[0.6666666666666666,\"#ed7953\"],[0.7777777777777778,\"#fb9f3a\"],[0.8888888888888888,\"#fdca26\"],[1.0,\"#f0f921\"]],\"type\":\"histogram2dcontour\"}],\"mesh3d\":[{\"colorbar\":{\"outlinewidth\":0,\"ticks\":\"\"},\"type\":\"mesh3d\"}],\"parcoords\":[{\"line\":{\"colorbar\":{\"outlinewidth\":0,\"ticks\":\"\"}},\"type\":\"parcoords\"}],\"pie\":[{\"automargin\":true,\"type\":\"pie\"}],\"scatter\":[{\"marker\":{\"colorbar\":{\"outlinewidth\":0,\"ticks\":\"\"}},\"type\":\"scatter\"}],\"scatter3d\":[{\"line\":{\"colorbar\":{\"outlinewidth\":0,\"ticks\":\"\"}},\"marker\":{\"colorbar\":{\"outlinewidth\":0,\"ticks\":\"\"}},\"type\":\"scatter3d\"}],\"scattercarpet\":[{\"marker\":{\"colorbar\":{\"outlinewidth\":0,\"ticks\":\"\"}},\"type\":\"scattercarpet\"}],\"scattergeo\":[{\"marker\":{\"colorbar\":{\"outlinewidth\":0,\"ticks\":\"\"}},\"type\":\"scattergeo\"}],\"scattergl\":[{\"marker\":{\"colorbar\":{\"outlinewidth\":0,\"ticks\":\"\"}},\"type\":\"scattergl\"}],\"scattermapbox\":[{\"marker\":{\"colorbar\":{\"outlinewidth\":0,\"ticks\":\"\"}},\"type\":\"scattermapbox\"}],\"scatterpolar\":[{\"marker\":{\"colorbar\":{\"outlinewidth\":0,\"ticks\":\"\"}},\"type\":\"scatterpolar\"}],\"scatterpolargl\":[{\"marker\":{\"colorbar\":{\"outlinewidth\":0,\"ticks\":\"\"}},\"type\":\"scatterpolargl\"}],\"scatterternary\":[{\"marker\":{\"colorbar\":{\"outlinewidth\":0,\"ticks\":\"\"}},\"type\":\"scatterternary\"}],\"surface\":[{\"colorbar\":{\"outlinewidth\":0,\"ticks\":\"\"},\"colorscale\":[[0.0,\"#0d0887\"],[0.1111111111111111,\"#46039f\"],[0.2222222222222222,\"#7201a8\"],[0.3333333333333333,\"#9c179e\"],[0.4444444444444444,\"#bd3786\"],[0.5555555555555556,\"#d8576b\"],[0.6666666666666666,\"#ed7953\"],[0.7777777777777778,\"#fb9f3a\"],[0.8888888888888888,\"#fdca26\"],[1.0,\"#f0f921\"]],\"type\":\"surface\"}],\"table\":[{\"cells\":{\"fill\":{\"color\":\"#EBF0F8\"},\"line\":{\"color\":\"white\"}},\"header\":{\"fill\":{\"color\":\"#C8D4E3\"},\"line\":{\"color\":\"white\"}},\"type\":\"table\"}]},\"layout\":{\"annotationdefaults\":{\"arrowcolor\":\"#2a3f5f\",\"arrowhead\":0,\"arrowwidth\":1},\"autotypenumbers\":\"strict\",\"coloraxis\":{\"colorbar\":{\"outlinewidth\":0,\"ticks\":\"\"}},\"colorscale\":{\"diverging\":[[0,\"#8e0152\"],[0.1,\"#c51b7d\"],[0.2,\"#de77ae\"],[0.3,\"#f1b6da\"],[0.4,\"#fde0ef\"],[0.5,\"#f7f7f7\"],[0.6,\"#e6f5d0\"],[0.7,\"#b8e186\"],[0.8,\"#7fbc41\"],[0.9,\"#4d9221\"],[1,\"#276419\"]],\"sequential\":[[0.0,\"#0d0887\"],[0.1111111111111111,\"#46039f\"],[0.2222222222222222,\"#7201a8\"],[0.3333333333333333,\"#9c179e\"],[0.4444444444444444,\"#bd3786\"],[0.5555555555555556,\"#d8576b\"],[0.6666666666666666,\"#ed7953\"],[0.7777777777777778,\"#fb9f3a\"],[0.8888888888888888,\"#fdca26\"],[1.0,\"#f0f921\"]],\"sequentialminus\":[[0.0,\"#0d0887\"],[0.1111111111111111,\"#46039f\"],[0.2222222222222222,\"#7201a8\"],[0.3333333333333333,\"#9c179e\"],[0.4444444444444444,\"#bd3786\"],[0.5555555555555556,\"#d8576b\"],[0.6666666666666666,\"#ed7953\"],[0.7777777777777778,\"#fb9f3a\"],[0.8888888888888888,\"#fdca26\"],[1.0,\"#f0f921\"]]},\"colorway\":[\"#636efa\",\"#EF553B\",\"#00cc96\",\"#ab63fa\",\"#FFA15A\",\"#19d3f3\",\"#FF6692\",\"#B6E880\",\"#FF97FF\",\"#FECB52\"],\"font\":{\"color\":\"#2a3f5f\"},\"geo\":{\"bgcolor\":\"white\",\"lakecolor\":\"white\",\"landcolor\":\"#E5ECF6\",\"showlakes\":true,\"showland\":true,\"subunitcolor\":\"white\"},\"hoverlabel\":{\"align\":\"left\"},\"hovermode\":\"closest\",\"mapbox\":{\"style\":\"light\"},\"paper_bgcolor\":\"white\",\"plot_bgcolor\":\"#E5ECF6\",\"polar\":{\"angularaxis\":{\"gridcolor\":\"white\",\"linecolor\":\"white\",\"ticks\":\"\"},\"bgcolor\":\"#E5ECF6\",\"radialaxis\":{\"gridcolor\":\"white\",\"linecolor\":\"white\",\"ticks\":\"\"}},\"scene\":{\"xaxis\":{\"backgroundcolor\":\"#E5ECF6\",\"gridcolor\":\"white\",\"gridwidth\":2,\"linecolor\":\"white\",\"showbackground\":true,\"ticks\":\"\",\"zerolinecolor\":\"white\"},\"yaxis\":{\"backgroundcolor\":\"#E5ECF6\",\"gridcolor\":\"white\",\"gridwidth\":2,\"linecolor\":\"white\",\"showbackground\":true,\"ticks\":\"\",\"zerolinecolor\":\"white\"},\"zaxis\":{\"backgroundcolor\":\"#E5ECF6\",\"gridcolor\":\"white\",\"gridwidth\":2,\"linecolor\":\"white\",\"showbackground\":true,\"ticks\":\"\",\"zerolinecolor\":\"white\"}},\"shapedefaults\":{\"line\":{\"color\":\"#2a3f5f\"}},\"ternary\":{\"aaxis\":{\"gridcolor\":\"white\",\"linecolor\":\"white\",\"ticks\":\"\"},\"baxis\":{\"gridcolor\":\"white\",\"linecolor\":\"white\",\"ticks\":\"\"},\"bgcolor\":\"#E5ECF6\",\"caxis\":{\"gridcolor\":\"white\",\"linecolor\":\"white\",\"ticks\":\"\"}},\"title\":{\"x\":0.05},\"xaxis\":{\"automargin\":true,\"gridcolor\":\"white\",\"linecolor\":\"white\",\"ticks\":\"\",\"title\":{\"standoff\":15},\"zerolinecolor\":\"white\",\"zerolinewidth\":2},\"yaxis\":{\"automargin\":true,\"gridcolor\":\"white\",\"linecolor\":\"white\",\"ticks\":\"\",\"title\":{\"standoff\":15},\"zerolinecolor\":\"white\",\"zerolinewidth\":2}}},\"title\":{\"text\":\"Modelo SIR R/S\"},\"xaxis\":{\"anchor\":\"y\",\"domain\":[0.0,1.0],\"title\":{\"text\":\"Susceptibles\"}},\"yaxis\":{\"anchor\":\"x\",\"domain\":[0.0,1.0],\"title\":{\"text\":\"Recuperados\"}}},                        {\"responsive\": true}                    ).then(function(){\n",
       "                            \n",
       "var gd = document.getElementById('ecba0573-522d-49a9-a40f-f184b5d4e39f');\n",
       "var x = new MutationObserver(function (mutations, observer) {{\n",
       "        var display = window.getComputedStyle(gd).display;\n",
       "        if (!display || display === 'none') {{\n",
       "            console.log([gd, 'removed!']);\n",
       "            Plotly.purge(gd);\n",
       "            observer.disconnect();\n",
       "        }}\n",
       "}});\n",
       "\n",
       "// Listen for the removal of the full notebook cells\n",
       "var notebookContainer = gd.closest('#notebook-container');\n",
       "if (notebookContainer) {{\n",
       "    x.observe(notebookContainer, {childList: true});\n",
       "}}\n",
       "\n",
       "// Listen for the clearing of the current output cell\n",
       "var outputEl = gd.closest('.output');\n",
       "if (outputEl) {{\n",
       "    x.observe(outputEl, {childList: true});\n",
       "}}\n",
       "\n",
       "                        })                };                });            </script>        </div>"
      ]
     },
     "metadata": {},
     "output_type": "display_data"
    },
    {
     "data": {
      "application/vnd.plotly.v1+json": {
       "config": {
        "plotlyServerURL": "https://plot.ly"
       },
       "data": [
        {
         "hovertemplate": "Infectados=%{x}<br>Recuperados=%{y}<extra></extra>",
         "legendgroup": "",
         "line": {
          "color": "#636efa",
          "dash": "solid"
         },
         "marker": {
          "symbol": "circle"
         },
         "mode": "markers+lines",
         "name": "",
         "orientation": "v",
         "showlegend": false,
         "type": "scatter",
         "x": [
          1,
          1.267,
          1.6041601030000001,
          2.0292360451160145,
          2.5640693857313765,
          3.2352831521728773,
          4.07494378718931,
          5.121072285484387,
          6.417815157866409,
          8.0149907322664,
          9.966615372572715,
          12.327911692434173,
          15.150260074499254,
          18.473668711139496,
          22.316734774950255,
          26.66487299909516,
          31.45880765822584,
          36.5866876810743,
          41.8840034750422,
          47.14477327884973,
          52.14454475945085,
          56.67116597625762,
          60.55519412527398,
          63.690968679761866,
          66.04285011068721,
          67.63703333863725,
          68.5441956555676,
          68.85973154874002,
          68.68674268495927,
          68.12415696753051,
          67.26002581889921,
          66.16883739223171,
          64.9114132010193,
          63.5361875761657,
          62.08104738916705,
          60.57524811527155,
          59.04116332951241,
          57.49577313264105,
          55.95187785602266,
          54.419061596583255,
          52.90444412304068,
          51.41326127905275,
          49.94931004593924,
          48.51528858445072,
          47.113055640089705,
          45.74382842818599,
          44.40833374524722,
          43.10692356784749,
          41.83966368654403,
          40.60640184106245,
          39.40682024196608,
          38.24047616988041,
          37.10683344422975,
          36.00528687732902,
          34.93518132121234,
          33.89582653179409,
          32.88650878626805,
          31.906499971418107,
          30.955064695093785,
          30.031465847335454,
          29.13496894170398,
          28.2648454939509,
          27.420375638779646,
          26.60085014199048,
          25.80557193168796,
          25.033857246136506,
          24.2850364755223,
          23.558454758987338,
          22.85347238583327,
          22.16946503997657,
          21.505823918982166,
          20.861955752856538,
          20.237282742893548,
          19.631242436967188,
          19.043287554544957,
          18.472885772190768,
          17.919519478309713,
          17.382685504258784,
          16.861894837629407,
          16.356672322437444,
          15.866556350085306,
          15.391098544250243,
          14.92986344227158,
          14.482428175133533,
          14.048382147748878,
          13.627326720927007,
          13.21887489614442,
          12.82265100401674,
          12.43829039719012,
          12.065439148220069,
          11.703753752881397,
          11.352900839250044,
          11.012556882812081,
          10.682407927784277,
          10.36214931477186,
          10.05148541484033,
          9.750129370037897,
          9.457802840371722,
          9.174235757213728,
          8.89916608308911
         ],
         "xaxis": "x",
         "y": [
          0,
          0.03,
          0.06800999999999999,
          0.11613480308999999,
          0.17701188444348043,
          0.25393396601542173,
          0.35099246058060807,
          0.4732407741962874,
          0.6268729427608191,
          0.8194073974968114,
          1.0598571194648034,
          1.3588555806419849,
          1.7286929314150101,
          2.1832007336499877,
          2.7374107949841724,
          3.40691283823268,
          4.2068590282055345,
          5.15062325795231,
          6.248223888384539,
          7.504743992635804,
          8.919087191001296,
          10.483423533784821,
          12.18355851307255,
          14.00021433683077,
          15.910943397223626,
          17.892228900544243,
          19.92133990070336,
          21.977665770370386,
          24.043457716832588,
          26.104059997381366,
          28.147784706407283,
          30.165585480974258,
          32.15065060274121,
          34.09799299877179,
          36.00407862605676,
          37.86651004773177,
          39.68376749118992,
          41.45500239107529,
          43.17987558505452,
          44.8584319207352,
          46.491003768632694,
          48.078137092323914,
          49.6205349306955,
          51.119014232073674,
          52.57447288960719,
          53.98786455880988,
          55.36017941165546,
          56.69242942401287,
          57.98563713104829,
          59.240827041644614,
          60.45901909687649,
          61.64122370413547,
          62.78843798923188,
          63.90164299255877,
          64.98180159887865,
          66.02985703851502,
          67.04673183446884,
          68.03332709805689,
          68.99052209719943,
          69.91917403805225,
          70.82011801347231,
          71.69416708172344,
          72.54211244654196,
          73.36472371570535,
          74.16274921996506,
          74.93691637791571,
          75.6879320952998,
          76.41648318956547,
          77.1232368323351,
          77.80884100391009,
          78.47392495510938,
          79.11909967267884,
          79.74495834526454,
          80.35207682755134,
          80.94101410066035,
          81.5123127272967,
          82.06649930046243,
          82.60408488481171,
          83.12556544993947,
          83.63142229506836,
          84.12212246474148,
          84.59811915524404,
          85.05985211157154,
          85.50774801483969,
          85.9422208600937,
          86.36367232452616,
          86.77249212615398,
          87.16905837303831,
          87.55373790315882,
          87.92688661507452,
          88.28884978952112,
          88.63996240210757,
          88.98054942728507,
          89.31092613376943,
          89.63139837160296,
          89.94226285104611,
          90.24380741349133,
          90.53631129459247,
          90.82004537980362,
          91.09527245252004
         ],
         "yaxis": "y"
        }
       ],
       "layout": {
        "legend": {
         "tracegroupgap": 0
        },
        "template": {
         "data": {
          "bar": [
           {
            "error_x": {
             "color": "#2a3f5f"
            },
            "error_y": {
             "color": "#2a3f5f"
            },
            "marker": {
             "line": {
              "color": "#E5ECF6",
              "width": 0.5
             },
             "pattern": {
              "fillmode": "overlay",
              "size": 10,
              "solidity": 0.2
             }
            },
            "type": "bar"
           }
          ],
          "barpolar": [
           {
            "marker": {
             "line": {
              "color": "#E5ECF6",
              "width": 0.5
             },
             "pattern": {
              "fillmode": "overlay",
              "size": 10,
              "solidity": 0.2
             }
            },
            "type": "barpolar"
           }
          ],
          "carpet": [
           {
            "aaxis": {
             "endlinecolor": "#2a3f5f",
             "gridcolor": "white",
             "linecolor": "white",
             "minorgridcolor": "white",
             "startlinecolor": "#2a3f5f"
            },
            "baxis": {
             "endlinecolor": "#2a3f5f",
             "gridcolor": "white",
             "linecolor": "white",
             "minorgridcolor": "white",
             "startlinecolor": "#2a3f5f"
            },
            "type": "carpet"
           }
          ],
          "choropleth": [
           {
            "colorbar": {
             "outlinewidth": 0,
             "ticks": ""
            },
            "type": "choropleth"
           }
          ],
          "contour": [
           {
            "colorbar": {
             "outlinewidth": 0,
             "ticks": ""
            },
            "colorscale": [
             [
              0,
              "#0d0887"
             ],
             [
              0.1111111111111111,
              "#46039f"
             ],
             [
              0.2222222222222222,
              "#7201a8"
             ],
             [
              0.3333333333333333,
              "#9c179e"
             ],
             [
              0.4444444444444444,
              "#bd3786"
             ],
             [
              0.5555555555555556,
              "#d8576b"
             ],
             [
              0.6666666666666666,
              "#ed7953"
             ],
             [
              0.7777777777777778,
              "#fb9f3a"
             ],
             [
              0.8888888888888888,
              "#fdca26"
             ],
             [
              1,
              "#f0f921"
             ]
            ],
            "type": "contour"
           }
          ],
          "contourcarpet": [
           {
            "colorbar": {
             "outlinewidth": 0,
             "ticks": ""
            },
            "type": "contourcarpet"
           }
          ],
          "heatmap": [
           {
            "colorbar": {
             "outlinewidth": 0,
             "ticks": ""
            },
            "colorscale": [
             [
              0,
              "#0d0887"
             ],
             [
              0.1111111111111111,
              "#46039f"
             ],
             [
              0.2222222222222222,
              "#7201a8"
             ],
             [
              0.3333333333333333,
              "#9c179e"
             ],
             [
              0.4444444444444444,
              "#bd3786"
             ],
             [
              0.5555555555555556,
              "#d8576b"
             ],
             [
              0.6666666666666666,
              "#ed7953"
             ],
             [
              0.7777777777777778,
              "#fb9f3a"
             ],
             [
              0.8888888888888888,
              "#fdca26"
             ],
             [
              1,
              "#f0f921"
             ]
            ],
            "type": "heatmap"
           }
          ],
          "heatmapgl": [
           {
            "colorbar": {
             "outlinewidth": 0,
             "ticks": ""
            },
            "colorscale": [
             [
              0,
              "#0d0887"
             ],
             [
              0.1111111111111111,
              "#46039f"
             ],
             [
              0.2222222222222222,
              "#7201a8"
             ],
             [
              0.3333333333333333,
              "#9c179e"
             ],
             [
              0.4444444444444444,
              "#bd3786"
             ],
             [
              0.5555555555555556,
              "#d8576b"
             ],
             [
              0.6666666666666666,
              "#ed7953"
             ],
             [
              0.7777777777777778,
              "#fb9f3a"
             ],
             [
              0.8888888888888888,
              "#fdca26"
             ],
             [
              1,
              "#f0f921"
             ]
            ],
            "type": "heatmapgl"
           }
          ],
          "histogram": [
           {
            "marker": {
             "pattern": {
              "fillmode": "overlay",
              "size": 10,
              "solidity": 0.2
             }
            },
            "type": "histogram"
           }
          ],
          "histogram2d": [
           {
            "colorbar": {
             "outlinewidth": 0,
             "ticks": ""
            },
            "colorscale": [
             [
              0,
              "#0d0887"
             ],
             [
              0.1111111111111111,
              "#46039f"
             ],
             [
              0.2222222222222222,
              "#7201a8"
             ],
             [
              0.3333333333333333,
              "#9c179e"
             ],
             [
              0.4444444444444444,
              "#bd3786"
             ],
             [
              0.5555555555555556,
              "#d8576b"
             ],
             [
              0.6666666666666666,
              "#ed7953"
             ],
             [
              0.7777777777777778,
              "#fb9f3a"
             ],
             [
              0.8888888888888888,
              "#fdca26"
             ],
             [
              1,
              "#f0f921"
             ]
            ],
            "type": "histogram2d"
           }
          ],
          "histogram2dcontour": [
           {
            "colorbar": {
             "outlinewidth": 0,
             "ticks": ""
            },
            "colorscale": [
             [
              0,
              "#0d0887"
             ],
             [
              0.1111111111111111,
              "#46039f"
             ],
             [
              0.2222222222222222,
              "#7201a8"
             ],
             [
              0.3333333333333333,
              "#9c179e"
             ],
             [
              0.4444444444444444,
              "#bd3786"
             ],
             [
              0.5555555555555556,
              "#d8576b"
             ],
             [
              0.6666666666666666,
              "#ed7953"
             ],
             [
              0.7777777777777778,
              "#fb9f3a"
             ],
             [
              0.8888888888888888,
              "#fdca26"
             ],
             [
              1,
              "#f0f921"
             ]
            ],
            "type": "histogram2dcontour"
           }
          ],
          "mesh3d": [
           {
            "colorbar": {
             "outlinewidth": 0,
             "ticks": ""
            },
            "type": "mesh3d"
           }
          ],
          "parcoords": [
           {
            "line": {
             "colorbar": {
              "outlinewidth": 0,
              "ticks": ""
             }
            },
            "type": "parcoords"
           }
          ],
          "pie": [
           {
            "automargin": true,
            "type": "pie"
           }
          ],
          "scatter": [
           {
            "marker": {
             "colorbar": {
              "outlinewidth": 0,
              "ticks": ""
             }
            },
            "type": "scatter"
           }
          ],
          "scatter3d": [
           {
            "line": {
             "colorbar": {
              "outlinewidth": 0,
              "ticks": ""
             }
            },
            "marker": {
             "colorbar": {
              "outlinewidth": 0,
              "ticks": ""
             }
            },
            "type": "scatter3d"
           }
          ],
          "scattercarpet": [
           {
            "marker": {
             "colorbar": {
              "outlinewidth": 0,
              "ticks": ""
             }
            },
            "type": "scattercarpet"
           }
          ],
          "scattergeo": [
           {
            "marker": {
             "colorbar": {
              "outlinewidth": 0,
              "ticks": ""
             }
            },
            "type": "scattergeo"
           }
          ],
          "scattergl": [
           {
            "marker": {
             "colorbar": {
              "outlinewidth": 0,
              "ticks": ""
             }
            },
            "type": "scattergl"
           }
          ],
          "scattermapbox": [
           {
            "marker": {
             "colorbar": {
              "outlinewidth": 0,
              "ticks": ""
             }
            },
            "type": "scattermapbox"
           }
          ],
          "scatterpolar": [
           {
            "marker": {
             "colorbar": {
              "outlinewidth": 0,
              "ticks": ""
             }
            },
            "type": "scatterpolar"
           }
          ],
          "scatterpolargl": [
           {
            "marker": {
             "colorbar": {
              "outlinewidth": 0,
              "ticks": ""
             }
            },
            "type": "scatterpolargl"
           }
          ],
          "scatterternary": [
           {
            "marker": {
             "colorbar": {
              "outlinewidth": 0,
              "ticks": ""
             }
            },
            "type": "scatterternary"
           }
          ],
          "surface": [
           {
            "colorbar": {
             "outlinewidth": 0,
             "ticks": ""
            },
            "colorscale": [
             [
              0,
              "#0d0887"
             ],
             [
              0.1111111111111111,
              "#46039f"
             ],
             [
              0.2222222222222222,
              "#7201a8"
             ],
             [
              0.3333333333333333,
              "#9c179e"
             ],
             [
              0.4444444444444444,
              "#bd3786"
             ],
             [
              0.5555555555555556,
              "#d8576b"
             ],
             [
              0.6666666666666666,
              "#ed7953"
             ],
             [
              0.7777777777777778,
              "#fb9f3a"
             ],
             [
              0.8888888888888888,
              "#fdca26"
             ],
             [
              1,
              "#f0f921"
             ]
            ],
            "type": "surface"
           }
          ],
          "table": [
           {
            "cells": {
             "fill": {
              "color": "#EBF0F8"
             },
             "line": {
              "color": "white"
             }
            },
            "header": {
             "fill": {
              "color": "#C8D4E3"
             },
             "line": {
              "color": "white"
             }
            },
            "type": "table"
           }
          ]
         },
         "layout": {
          "annotationdefaults": {
           "arrowcolor": "#2a3f5f",
           "arrowhead": 0,
           "arrowwidth": 1
          },
          "autotypenumbers": "strict",
          "coloraxis": {
           "colorbar": {
            "outlinewidth": 0,
            "ticks": ""
           }
          },
          "colorscale": {
           "diverging": [
            [
             0,
             "#8e0152"
            ],
            [
             0.1,
             "#c51b7d"
            ],
            [
             0.2,
             "#de77ae"
            ],
            [
             0.3,
             "#f1b6da"
            ],
            [
             0.4,
             "#fde0ef"
            ],
            [
             0.5,
             "#f7f7f7"
            ],
            [
             0.6,
             "#e6f5d0"
            ],
            [
             0.7,
             "#b8e186"
            ],
            [
             0.8,
             "#7fbc41"
            ],
            [
             0.9,
             "#4d9221"
            ],
            [
             1,
             "#276419"
            ]
           ],
           "sequential": [
            [
             0,
             "#0d0887"
            ],
            [
             0.1111111111111111,
             "#46039f"
            ],
            [
             0.2222222222222222,
             "#7201a8"
            ],
            [
             0.3333333333333333,
             "#9c179e"
            ],
            [
             0.4444444444444444,
             "#bd3786"
            ],
            [
             0.5555555555555556,
             "#d8576b"
            ],
            [
             0.6666666666666666,
             "#ed7953"
            ],
            [
             0.7777777777777778,
             "#fb9f3a"
            ],
            [
             0.8888888888888888,
             "#fdca26"
            ],
            [
             1,
             "#f0f921"
            ]
           ],
           "sequentialminus": [
            [
             0,
             "#0d0887"
            ],
            [
             0.1111111111111111,
             "#46039f"
            ],
            [
             0.2222222222222222,
             "#7201a8"
            ],
            [
             0.3333333333333333,
             "#9c179e"
            ],
            [
             0.4444444444444444,
             "#bd3786"
            ],
            [
             0.5555555555555556,
             "#d8576b"
            ],
            [
             0.6666666666666666,
             "#ed7953"
            ],
            [
             0.7777777777777778,
             "#fb9f3a"
            ],
            [
             0.8888888888888888,
             "#fdca26"
            ],
            [
             1,
             "#f0f921"
            ]
           ]
          },
          "colorway": [
           "#636efa",
           "#EF553B",
           "#00cc96",
           "#ab63fa",
           "#FFA15A",
           "#19d3f3",
           "#FF6692",
           "#B6E880",
           "#FF97FF",
           "#FECB52"
          ],
          "font": {
           "color": "#2a3f5f"
          },
          "geo": {
           "bgcolor": "white",
           "lakecolor": "white",
           "landcolor": "#E5ECF6",
           "showlakes": true,
           "showland": true,
           "subunitcolor": "white"
          },
          "hoverlabel": {
           "align": "left"
          },
          "hovermode": "closest",
          "mapbox": {
           "style": "light"
          },
          "paper_bgcolor": "white",
          "plot_bgcolor": "#E5ECF6",
          "polar": {
           "angularaxis": {
            "gridcolor": "white",
            "linecolor": "white",
            "ticks": ""
           },
           "bgcolor": "#E5ECF6",
           "radialaxis": {
            "gridcolor": "white",
            "linecolor": "white",
            "ticks": ""
           }
          },
          "scene": {
           "xaxis": {
            "backgroundcolor": "#E5ECF6",
            "gridcolor": "white",
            "gridwidth": 2,
            "linecolor": "white",
            "showbackground": true,
            "ticks": "",
            "zerolinecolor": "white"
           },
           "yaxis": {
            "backgroundcolor": "#E5ECF6",
            "gridcolor": "white",
            "gridwidth": 2,
            "linecolor": "white",
            "showbackground": true,
            "ticks": "",
            "zerolinecolor": "white"
           },
           "zaxis": {
            "backgroundcolor": "#E5ECF6",
            "gridcolor": "white",
            "gridwidth": 2,
            "linecolor": "white",
            "showbackground": true,
            "ticks": "",
            "zerolinecolor": "white"
           }
          },
          "shapedefaults": {
           "line": {
            "color": "#2a3f5f"
           }
          },
          "ternary": {
           "aaxis": {
            "gridcolor": "white",
            "linecolor": "white",
            "ticks": ""
           },
           "baxis": {
            "gridcolor": "white",
            "linecolor": "white",
            "ticks": ""
           },
           "bgcolor": "#E5ECF6",
           "caxis": {
            "gridcolor": "white",
            "linecolor": "white",
            "ticks": ""
           }
          },
          "title": {
           "x": 0.05
          },
          "xaxis": {
           "automargin": true,
           "gridcolor": "white",
           "linecolor": "white",
           "ticks": "",
           "title": {
            "standoff": 15
           },
           "zerolinecolor": "white",
           "zerolinewidth": 2
          },
          "yaxis": {
           "automargin": true,
           "gridcolor": "white",
           "linecolor": "white",
           "ticks": "",
           "title": {
            "standoff": 15
           },
           "zerolinecolor": "white",
           "zerolinewidth": 2
          }
         }
        },
        "title": {
         "text": "Modelo SIR R/I"
        },
        "xaxis": {
         "anchor": "y",
         "domain": [
          0,
          1
         ],
         "title": {
          "text": "Infectados"
         }
        },
        "yaxis": {
         "anchor": "x",
         "domain": [
          0,
          1
         ],
         "title": {
          "text": "Recuperados"
         }
        }
       }
      },
      "text/html": [
       "<div>                            <div id=\"e618c437-f884-45ca-87ad-1b201f39693d\" class=\"plotly-graph-div\" style=\"height:525px; width:100%;\"></div>            <script type=\"text/javascript\">                require([\"plotly\"], function(Plotly) {                    window.PLOTLYENV=window.PLOTLYENV || {};                                    if (document.getElementById(\"e618c437-f884-45ca-87ad-1b201f39693d\")) {                    Plotly.newPlot(                        \"e618c437-f884-45ca-87ad-1b201f39693d\",                        [{\"hovertemplate\":\"Infectados=%{x}<br>Recuperados=%{y}<extra></extra>\",\"legendgroup\":\"\",\"line\":{\"color\":\"#636efa\",\"dash\":\"solid\"},\"marker\":{\"symbol\":\"circle\"},\"mode\":\"markers+lines\",\"name\":\"\",\"orientation\":\"v\",\"showlegend\":false,\"type\":\"scatter\",\"x\":[1.0,1.267,1.6041601030000001,2.0292360451160145,2.5640693857313765,3.2352831521728773,4.07494378718931,5.121072285484387,6.417815157866409,8.0149907322664,9.966615372572715,12.327911692434173,15.150260074499254,18.473668711139496,22.316734774950255,26.66487299909516,31.45880765822584,36.5866876810743,41.8840034750422,47.14477327884973,52.14454475945085,56.67116597625762,60.55519412527398,63.690968679761866,66.04285011068721,67.63703333863725,68.5441956555676,68.85973154874002,68.68674268495927,68.12415696753051,67.26002581889921,66.16883739223171,64.9114132010193,63.5361875761657,62.08104738916705,60.57524811527155,59.04116332951241,57.49577313264105,55.95187785602266,54.419061596583255,52.90444412304068,51.41326127905275,49.94931004593924,48.51528858445072,47.113055640089705,45.74382842818599,44.40833374524722,43.10692356784749,41.83966368654403,40.60640184106245,39.40682024196608,38.24047616988041,37.10683344422975,36.00528687732902,34.93518132121234,33.89582653179409,32.88650878626805,31.906499971418107,30.955064695093785,30.031465847335454,29.13496894170398,28.2648454939509,27.420375638779646,26.60085014199048,25.80557193168796,25.033857246136506,24.2850364755223,23.558454758987338,22.85347238583327,22.16946503997657,21.505823918982166,20.861955752856538,20.237282742893548,19.631242436967188,19.043287554544957,18.472885772190768,17.919519478309713,17.382685504258784,16.861894837629407,16.356672322437444,15.866556350085306,15.391098544250243,14.92986344227158,14.482428175133533,14.048382147748878,13.627326720927007,13.21887489614442,12.82265100401674,12.43829039719012,12.065439148220069,11.703753752881397,11.352900839250044,11.012556882812081,10.682407927784277,10.36214931477186,10.05148541484033,9.750129370037897,9.457802840371722,9.174235757213728,8.89916608308911],\"xaxis\":\"x\",\"y\":[0.0,0.03,0.06800999999999999,0.11613480308999999,0.17701188444348043,0.25393396601542173,0.35099246058060807,0.4732407741962874,0.6268729427608191,0.8194073974968114,1.0598571194648034,1.3588555806419849,1.7286929314150101,2.1832007336499877,2.7374107949841724,3.40691283823268,4.2068590282055345,5.15062325795231,6.248223888384539,7.504743992635804,8.919087191001296,10.483423533784821,12.18355851307255,14.00021433683077,15.910943397223626,17.892228900544243,19.92133990070336,21.977665770370386,24.043457716832588,26.104059997381366,28.147784706407283,30.165585480974258,32.15065060274121,34.09799299877179,36.00407862605676,37.86651004773177,39.68376749118992,41.45500239107529,43.17987558505452,44.8584319207352,46.491003768632694,48.078137092323914,49.6205349306955,51.119014232073674,52.57447288960719,53.98786455880988,55.36017941165546,56.69242942401287,57.98563713104829,59.240827041644614,60.45901909687649,61.64122370413547,62.78843798923188,63.90164299255877,64.98180159887865,66.02985703851502,67.04673183446884,68.03332709805689,68.99052209719943,69.91917403805225,70.82011801347231,71.69416708172344,72.54211244654196,73.36472371570535,74.16274921996506,74.93691637791571,75.6879320952998,76.41648318956547,77.1232368323351,77.80884100391009,78.47392495510938,79.11909967267884,79.74495834526454,80.35207682755134,80.94101410066035,81.5123127272967,82.06649930046243,82.60408488481171,83.12556544993947,83.63142229506836,84.12212246474148,84.59811915524404,85.05985211157154,85.50774801483969,85.9422208600937,86.36367232452616,86.77249212615398,87.16905837303831,87.55373790315882,87.92688661507452,88.28884978952112,88.63996240210757,88.98054942728507,89.31092613376943,89.63139837160296,89.94226285104611,90.24380741349133,90.53631129459247,90.82004537980362,91.09527245252004],\"yaxis\":\"y\"}],                        {\"legend\":{\"tracegroupgap\":0},\"template\":{\"data\":{\"bar\":[{\"error_x\":{\"color\":\"#2a3f5f\"},\"error_y\":{\"color\":\"#2a3f5f\"},\"marker\":{\"line\":{\"color\":\"#E5ECF6\",\"width\":0.5},\"pattern\":{\"fillmode\":\"overlay\",\"size\":10,\"solidity\":0.2}},\"type\":\"bar\"}],\"barpolar\":[{\"marker\":{\"line\":{\"color\":\"#E5ECF6\",\"width\":0.5},\"pattern\":{\"fillmode\":\"overlay\",\"size\":10,\"solidity\":0.2}},\"type\":\"barpolar\"}],\"carpet\":[{\"aaxis\":{\"endlinecolor\":\"#2a3f5f\",\"gridcolor\":\"white\",\"linecolor\":\"white\",\"minorgridcolor\":\"white\",\"startlinecolor\":\"#2a3f5f\"},\"baxis\":{\"endlinecolor\":\"#2a3f5f\",\"gridcolor\":\"white\",\"linecolor\":\"white\",\"minorgridcolor\":\"white\",\"startlinecolor\":\"#2a3f5f\"},\"type\":\"carpet\"}],\"choropleth\":[{\"colorbar\":{\"outlinewidth\":0,\"ticks\":\"\"},\"type\":\"choropleth\"}],\"contour\":[{\"colorbar\":{\"outlinewidth\":0,\"ticks\":\"\"},\"colorscale\":[[0.0,\"#0d0887\"],[0.1111111111111111,\"#46039f\"],[0.2222222222222222,\"#7201a8\"],[0.3333333333333333,\"#9c179e\"],[0.4444444444444444,\"#bd3786\"],[0.5555555555555556,\"#d8576b\"],[0.6666666666666666,\"#ed7953\"],[0.7777777777777778,\"#fb9f3a\"],[0.8888888888888888,\"#fdca26\"],[1.0,\"#f0f921\"]],\"type\":\"contour\"}],\"contourcarpet\":[{\"colorbar\":{\"outlinewidth\":0,\"ticks\":\"\"},\"type\":\"contourcarpet\"}],\"heatmap\":[{\"colorbar\":{\"outlinewidth\":0,\"ticks\":\"\"},\"colorscale\":[[0.0,\"#0d0887\"],[0.1111111111111111,\"#46039f\"],[0.2222222222222222,\"#7201a8\"],[0.3333333333333333,\"#9c179e\"],[0.4444444444444444,\"#bd3786\"],[0.5555555555555556,\"#d8576b\"],[0.6666666666666666,\"#ed7953\"],[0.7777777777777778,\"#fb9f3a\"],[0.8888888888888888,\"#fdca26\"],[1.0,\"#f0f921\"]],\"type\":\"heatmap\"}],\"heatmapgl\":[{\"colorbar\":{\"outlinewidth\":0,\"ticks\":\"\"},\"colorscale\":[[0.0,\"#0d0887\"],[0.1111111111111111,\"#46039f\"],[0.2222222222222222,\"#7201a8\"],[0.3333333333333333,\"#9c179e\"],[0.4444444444444444,\"#bd3786\"],[0.5555555555555556,\"#d8576b\"],[0.6666666666666666,\"#ed7953\"],[0.7777777777777778,\"#fb9f3a\"],[0.8888888888888888,\"#fdca26\"],[1.0,\"#f0f921\"]],\"type\":\"heatmapgl\"}],\"histogram\":[{\"marker\":{\"pattern\":{\"fillmode\":\"overlay\",\"size\":10,\"solidity\":0.2}},\"type\":\"histogram\"}],\"histogram2d\":[{\"colorbar\":{\"outlinewidth\":0,\"ticks\":\"\"},\"colorscale\":[[0.0,\"#0d0887\"],[0.1111111111111111,\"#46039f\"],[0.2222222222222222,\"#7201a8\"],[0.3333333333333333,\"#9c179e\"],[0.4444444444444444,\"#bd3786\"],[0.5555555555555556,\"#d8576b\"],[0.6666666666666666,\"#ed7953\"],[0.7777777777777778,\"#fb9f3a\"],[0.8888888888888888,\"#fdca26\"],[1.0,\"#f0f921\"]],\"type\":\"histogram2d\"}],\"histogram2dcontour\":[{\"colorbar\":{\"outlinewidth\":0,\"ticks\":\"\"},\"colorscale\":[[0.0,\"#0d0887\"],[0.1111111111111111,\"#46039f\"],[0.2222222222222222,\"#7201a8\"],[0.3333333333333333,\"#9c179e\"],[0.4444444444444444,\"#bd3786\"],[0.5555555555555556,\"#d8576b\"],[0.6666666666666666,\"#ed7953\"],[0.7777777777777778,\"#fb9f3a\"],[0.8888888888888888,\"#fdca26\"],[1.0,\"#f0f921\"]],\"type\":\"histogram2dcontour\"}],\"mesh3d\":[{\"colorbar\":{\"outlinewidth\":0,\"ticks\":\"\"},\"type\":\"mesh3d\"}],\"parcoords\":[{\"line\":{\"colorbar\":{\"outlinewidth\":0,\"ticks\":\"\"}},\"type\":\"parcoords\"}],\"pie\":[{\"automargin\":true,\"type\":\"pie\"}],\"scatter\":[{\"marker\":{\"colorbar\":{\"outlinewidth\":0,\"ticks\":\"\"}},\"type\":\"scatter\"}],\"scatter3d\":[{\"line\":{\"colorbar\":{\"outlinewidth\":0,\"ticks\":\"\"}},\"marker\":{\"colorbar\":{\"outlinewidth\":0,\"ticks\":\"\"}},\"type\":\"scatter3d\"}],\"scattercarpet\":[{\"marker\":{\"colorbar\":{\"outlinewidth\":0,\"ticks\":\"\"}},\"type\":\"scattercarpet\"}],\"scattergeo\":[{\"marker\":{\"colorbar\":{\"outlinewidth\":0,\"ticks\":\"\"}},\"type\":\"scattergeo\"}],\"scattergl\":[{\"marker\":{\"colorbar\":{\"outlinewidth\":0,\"ticks\":\"\"}},\"type\":\"scattergl\"}],\"scattermapbox\":[{\"marker\":{\"colorbar\":{\"outlinewidth\":0,\"ticks\":\"\"}},\"type\":\"scattermapbox\"}],\"scatterpolar\":[{\"marker\":{\"colorbar\":{\"outlinewidth\":0,\"ticks\":\"\"}},\"type\":\"scatterpolar\"}],\"scatterpolargl\":[{\"marker\":{\"colorbar\":{\"outlinewidth\":0,\"ticks\":\"\"}},\"type\":\"scatterpolargl\"}],\"scatterternary\":[{\"marker\":{\"colorbar\":{\"outlinewidth\":0,\"ticks\":\"\"}},\"type\":\"scatterternary\"}],\"surface\":[{\"colorbar\":{\"outlinewidth\":0,\"ticks\":\"\"},\"colorscale\":[[0.0,\"#0d0887\"],[0.1111111111111111,\"#46039f\"],[0.2222222222222222,\"#7201a8\"],[0.3333333333333333,\"#9c179e\"],[0.4444444444444444,\"#bd3786\"],[0.5555555555555556,\"#d8576b\"],[0.6666666666666666,\"#ed7953\"],[0.7777777777777778,\"#fb9f3a\"],[0.8888888888888888,\"#fdca26\"],[1.0,\"#f0f921\"]],\"type\":\"surface\"}],\"table\":[{\"cells\":{\"fill\":{\"color\":\"#EBF0F8\"},\"line\":{\"color\":\"white\"}},\"header\":{\"fill\":{\"color\":\"#C8D4E3\"},\"line\":{\"color\":\"white\"}},\"type\":\"table\"}]},\"layout\":{\"annotationdefaults\":{\"arrowcolor\":\"#2a3f5f\",\"arrowhead\":0,\"arrowwidth\":1},\"autotypenumbers\":\"strict\",\"coloraxis\":{\"colorbar\":{\"outlinewidth\":0,\"ticks\":\"\"}},\"colorscale\":{\"diverging\":[[0,\"#8e0152\"],[0.1,\"#c51b7d\"],[0.2,\"#de77ae\"],[0.3,\"#f1b6da\"],[0.4,\"#fde0ef\"],[0.5,\"#f7f7f7\"],[0.6,\"#e6f5d0\"],[0.7,\"#b8e186\"],[0.8,\"#7fbc41\"],[0.9,\"#4d9221\"],[1,\"#276419\"]],\"sequential\":[[0.0,\"#0d0887\"],[0.1111111111111111,\"#46039f\"],[0.2222222222222222,\"#7201a8\"],[0.3333333333333333,\"#9c179e\"],[0.4444444444444444,\"#bd3786\"],[0.5555555555555556,\"#d8576b\"],[0.6666666666666666,\"#ed7953\"],[0.7777777777777778,\"#fb9f3a\"],[0.8888888888888888,\"#fdca26\"],[1.0,\"#f0f921\"]],\"sequentialminus\":[[0.0,\"#0d0887\"],[0.1111111111111111,\"#46039f\"],[0.2222222222222222,\"#7201a8\"],[0.3333333333333333,\"#9c179e\"],[0.4444444444444444,\"#bd3786\"],[0.5555555555555556,\"#d8576b\"],[0.6666666666666666,\"#ed7953\"],[0.7777777777777778,\"#fb9f3a\"],[0.8888888888888888,\"#fdca26\"],[1.0,\"#f0f921\"]]},\"colorway\":[\"#636efa\",\"#EF553B\",\"#00cc96\",\"#ab63fa\",\"#FFA15A\",\"#19d3f3\",\"#FF6692\",\"#B6E880\",\"#FF97FF\",\"#FECB52\"],\"font\":{\"color\":\"#2a3f5f\"},\"geo\":{\"bgcolor\":\"white\",\"lakecolor\":\"white\",\"landcolor\":\"#E5ECF6\",\"showlakes\":true,\"showland\":true,\"subunitcolor\":\"white\"},\"hoverlabel\":{\"align\":\"left\"},\"hovermode\":\"closest\",\"mapbox\":{\"style\":\"light\"},\"paper_bgcolor\":\"white\",\"plot_bgcolor\":\"#E5ECF6\",\"polar\":{\"angularaxis\":{\"gridcolor\":\"white\",\"linecolor\":\"white\",\"ticks\":\"\"},\"bgcolor\":\"#E5ECF6\",\"radialaxis\":{\"gridcolor\":\"white\",\"linecolor\":\"white\",\"ticks\":\"\"}},\"scene\":{\"xaxis\":{\"backgroundcolor\":\"#E5ECF6\",\"gridcolor\":\"white\",\"gridwidth\":2,\"linecolor\":\"white\",\"showbackground\":true,\"ticks\":\"\",\"zerolinecolor\":\"white\"},\"yaxis\":{\"backgroundcolor\":\"#E5ECF6\",\"gridcolor\":\"white\",\"gridwidth\":2,\"linecolor\":\"white\",\"showbackground\":true,\"ticks\":\"\",\"zerolinecolor\":\"white\"},\"zaxis\":{\"backgroundcolor\":\"#E5ECF6\",\"gridcolor\":\"white\",\"gridwidth\":2,\"linecolor\":\"white\",\"showbackground\":true,\"ticks\":\"\",\"zerolinecolor\":\"white\"}},\"shapedefaults\":{\"line\":{\"color\":\"#2a3f5f\"}},\"ternary\":{\"aaxis\":{\"gridcolor\":\"white\",\"linecolor\":\"white\",\"ticks\":\"\"},\"baxis\":{\"gridcolor\":\"white\",\"linecolor\":\"white\",\"ticks\":\"\"},\"bgcolor\":\"#E5ECF6\",\"caxis\":{\"gridcolor\":\"white\",\"linecolor\":\"white\",\"ticks\":\"\"}},\"title\":{\"x\":0.05},\"xaxis\":{\"automargin\":true,\"gridcolor\":\"white\",\"linecolor\":\"white\",\"ticks\":\"\",\"title\":{\"standoff\":15},\"zerolinecolor\":\"white\",\"zerolinewidth\":2},\"yaxis\":{\"automargin\":true,\"gridcolor\":\"white\",\"linecolor\":\"white\",\"ticks\":\"\",\"title\":{\"standoff\":15},\"zerolinecolor\":\"white\",\"zerolinewidth\":2}}},\"title\":{\"text\":\"Modelo SIR R/I\"},\"xaxis\":{\"anchor\":\"y\",\"domain\":[0.0,1.0],\"title\":{\"text\":\"Infectados\"}},\"yaxis\":{\"anchor\":\"x\",\"domain\":[0.0,1.0],\"title\":{\"text\":\"Recuperados\"}}},                        {\"responsive\": true}                    ).then(function(){\n",
       "                            \n",
       "var gd = document.getElementById('e618c437-f884-45ca-87ad-1b201f39693d');\n",
       "var x = new MutationObserver(function (mutations, observer) {{\n",
       "        var display = window.getComputedStyle(gd).display;\n",
       "        if (!display || display === 'none') {{\n",
       "            console.log([gd, 'removed!']);\n",
       "            Plotly.purge(gd);\n",
       "            observer.disconnect();\n",
       "        }}\n",
       "}});\n",
       "\n",
       "// Listen for the removal of the full notebook cells\n",
       "var notebookContainer = gd.closest('#notebook-container');\n",
       "if (notebookContainer) {{\n",
       "    x.observe(notebookContainer, {childList: true});\n",
       "}}\n",
       "\n",
       "// Listen for the clearing of the current output cell\n",
       "var outputEl = gd.closest('.output');\n",
       "if (outputEl) {{\n",
       "    x.observe(outputEl, {childList: true});\n",
       "}}\n",
       "\n",
       "                        })                };                });            </script>        </div>"
      ]
     },
     "metadata": {},
     "output_type": "display_data"
    }
   ],
   "source": [
    "N = 100\n",
    "\n",
    "S0 = 99\n",
    "I0 = 1\n",
    "R0 = 0\n",
    "\n",
    "alfa = 0.1\n",
    "gamma = 0.01\n",
    "\n",
    "T0 = 0\n",
    "T = 300\n",
    "\n",
    "secciones = 100 #deltaT en realidad es (T-T0)/secciones\n",
    "\n",
    "deltaT = (T-T0)/secciones\n",
    "\n",
    "tiempo = np.linspace(T0, T, secciones)\n",
    "\n",
    "S = np.linspace(T0, T, secciones)\n",
    "I = np.linspace(T0, T, secciones)\n",
    "R = np.linspace(T0, T, secciones)\n",
    "\n",
    "S[0] = S0\n",
    "I[0] = I0\n",
    "R[0] = R0\n",
    "\n",
    "for j in range (secciones-1):\n",
    "    S[j+1] = S[j]*(1-(alfa*deltaT/N)*I[j])\n",
    "    I[j+1] = I[j]*(1-gamma*deltaT+(alfa*deltaT/N)*S[j])\n",
    "    R[j+1] = R[j]+gamma*deltaT*I[j]\n",
    "\n",
    "# Figura S-I\n",
    "\n",
    "df = pd.DataFrame({'Susceptibles':S, 'Infectados':I})\n",
    "fig = px.line(df, x=\"Susceptibles\", y=\"Infectados\", title=\"Modelo SIR I/S\", markers=True) \n",
    "fig.show()\n",
    "\n",
    "# Figura S - R\n",
    "\n",
    "df2 = pd.DataFrame({'Susceptibles':S, 'Recuperados':R})\n",
    "fig2 = px.line(df2, x=\"Susceptibles\", y=\"Recuperados\", title=\"Modelo SIR R/S\", markers=True) \n",
    "fig2.show()\n",
    "\n",
    "# Figura I-R\n",
    "\n",
    "df3 = pd.DataFrame({'Infectados':I, 'Recuperados':R})\n",
    "fig3 = px.line(df3, x=\"Infectados\", y=\"Recuperados\", title=\"Modelo SIR R/I\", markers=True) \n",
    "fig3.show()\n",
    "\n",
    "\n",
    "# Guardar svg\n",
    "fig.write_image(\"./graficas_avanzadas_modelos_basicos/SIR_IsobreS.eps\")\n",
    "fig2.write_image(\"./graficas_avanzadas_modelos_basicos/SIR_RsobreS.eps\")\n",
    "fig3.write_image(\"./graficas_avanzadas_modelos_basicos/SIR_RsobreI.eps\")"
   ]
  },
  {
   "cell_type": "markdown",
   "id": "e260b686",
   "metadata": {},
   "source": [
    "## Modelo SIS"
   ]
  },
  {
   "cell_type": "code",
   "execution_count": 28,
   "id": "283e1140",
   "metadata": {},
   "outputs": [
    {
     "data": {
      "application/vnd.plotly.v1+json": {
       "config": {
        "plotlyServerURL": "https://plot.ly"
       },
       "data": [
        {
         "mode": "lines",
         "name": "Susceptibles",
         "type": "scatter",
         "x": [
          0,
          0.7537688442211056,
          1.5075376884422111,
          2.261306532663317,
          3.0150753768844223,
          3.7688442211055277,
          4.522613065326634,
          5.276381909547739,
          6.030150753768845,
          6.78391959798995,
          7.5376884422110555,
          8.291457286432161,
          9.045226130653267,
          9.798994974874372,
          10.552763819095478,
          11.306532663316583,
          12.06030150753769,
          12.814070351758795,
          13.5678391959799,
          14.321608040201006,
          15.075376884422111,
          15.829145728643217,
          16.582914572864322,
          17.33668341708543,
          18.090452261306535,
          18.84422110552764,
          19.597989949748744,
          20.35175879396985,
          21.105527638190956,
          21.859296482412063,
          22.613065326633166,
          23.366834170854272,
          24.12060301507538,
          24.874371859296485,
          25.62814070351759,
          26.381909547738694,
          27.1356783919598,
          27.889447236180906,
          28.643216080402013,
          29.396984924623116,
          30.150753768844222,
          30.90452261306533,
          31.658291457286435,
          32.41206030150754,
          33.165829145728644,
          33.91959798994975,
          34.67336683417086,
          35.42713567839196,
          36.18090452261307,
          36.934673366834176,
          37.68844221105528,
          38.44221105527638,
          39.19597989949749,
          39.949748743718594,
          40.7035175879397,
          41.45728643216081,
          42.21105527638191,
          42.96482412060302,
          43.718592964824126,
          44.47236180904523,
          45.22613065326633,
          45.97989949748744,
          46.733668341708544,
          47.48743718592965,
          48.24120603015076,
          48.99497487437186,
          49.74874371859297,
          50.502512562814076,
          51.25628140703518,
          52.01005025125628,
          52.76381909547739,
          53.517587939698494,
          54.2713567839196,
          55.02512562814071,
          55.77889447236181,
          56.53266331658292,
          57.286432160804026,
          58.04020100502513,
          58.79396984924623,
          59.54773869346734,
          60.301507537688444,
          61.05527638190955,
          61.80904522613066,
          62.56281407035176,
          63.31658291457287,
          64.07035175879398,
          64.82412060301507,
          65.57788944723619,
          66.33165829145729,
          67.0854271356784,
          67.8391959798995,
          68.59296482412061,
          69.34673366834171,
          70.10050251256281,
          70.85427135678393,
          71.60804020100502,
          72.36180904522614,
          73.11557788944724,
          73.86934673366835,
          74.62311557788945,
          75.37688442211056,
          76.13065326633166,
          76.88442211055276,
          77.63819095477388,
          78.39195979899498,
          79.14572864321609,
          79.89949748743719,
          80.6532663316583,
          81.4070351758794,
          82.16080402010051,
          82.91457286432161,
          83.66834170854271,
          84.42211055276383,
          85.17587939698493,
          85.92964824120604,
          86.68341708542714,
          87.43718592964825,
          88.19095477386935,
          88.94472361809046,
          89.69849246231156,
          90.45226130653266,
          91.20603015075378,
          91.95979899497488,
          92.71356783919599,
          93.46733668341709,
          94.2211055276382,
          94.9748743718593,
          95.72864321608041,
          96.48241206030151,
          97.23618090452261,
          97.98994974874373,
          98.74371859296483,
          99.49748743718594,
          100.25125628140704,
          101.00502512562815,
          101.75879396984925,
          102.51256281407036,
          103.26633165829146,
          104.02010050251256,
          104.77386934673368,
          105.52763819095478,
          106.28140703517589,
          107.03517587939699,
          107.7889447236181,
          108.5427135678392,
          109.29648241206031,
          110.05025125628141,
          110.80402010050251,
          111.55778894472363,
          112.31155778894473,
          113.06532663316584,
          113.81909547738694,
          114.57286432160805,
          115.32663316582915,
          116.08040201005026,
          116.83417085427136,
          117.58793969849246,
          118.34170854271358,
          119.09547738693468,
          119.84924623115579,
          120.60301507537689,
          121.356783919598,
          122.1105527638191,
          122.86432160804021,
          123.61809045226131,
          124.37185929648241,
          125.12562814070353,
          125.87939698492463,
          126.63316582914574,
          127.38693467336684,
          128.14070351758795,
          128.89447236180905,
          129.64824120603015,
          130.40201005025128,
          131.15577889447238,
          131.90954773869348,
          132.66331658291458,
          133.41708542713567,
          134.1708542713568,
          134.9246231155779,
          135.678391959799,
          136.4321608040201,
          137.18592964824123,
          137.93969849246233,
          138.69346733668343,
          139.44723618090453,
          140.20100502512562,
          140.95477386934675,
          141.70854271356785,
          142.46231155778895,
          143.21608040201005,
          143.96984924623118,
          144.72361809045228,
          145.47738693467338,
          146.23115577889448,
          146.98492462311557,
          147.7386934673367,
          148.4924623115578,
          149.2462311557789,
          150
         ],
         "y": [
          95,
          94.68124999999999,
          94.34345120117187,
          93.98563156548612,
          93.60679116690599,
          93.20590441005982,
          92.78192275890278,
          92.33377802442256,
          91.8603862606052,
          91.36065231706597,
          90.83347509475789,
          90.27775354778286,
          89.69239346931644,
          89.07631509278885,
          88.4284615305161,
          87.74780806073899,
          87.03337226032623,
          86.28422496410272,
          85.49950201280616,
          84.67841673007804,
          83.82027304478116,
          82.92447914856297,
          81.99056155035187,
          81.01817935995437,
          80.00713860285944,
          78.95740633868641,
          77.8691243275441,
          76.74262196317561,
          75.57842817055078,
          74.37728195002866,
          73.14014124185682,
          71.86818978506271,
          70.56284165503138,
          69.22574318531606,
          67.858772012197,
          66.46403302544324,
          65.04385106534959,
          63.60076027351678,
          62.13749008147866,
          60.65694790497606,
          59.16219869967577,
          57.656441623187455,
          56.14298413476051,
          54.62521394430975,
          53.1065692927504,
          51.59050810263276,
          50.08047657888142,
          48.57987786189962,
          47.09204133810071,
          45.62019319574943,
          44.16742877751323,
          42.73668722698091,
          41.33072885710758,
          39.95211558729101,
          38.603194706264695,
          37.28608612414519,
          36.002673182746086,
          34.754597002397254,
          33.54325425929876,
          32.369798212634585,
          31.235142737337238,
          30.139969067873288,
          29.08473492133301,
          28.06968564440619,
          27.09486701787451,
          26.16013935293709,
          25.265192524543593,
          24.409561606245433,
          23.592642797087,
          22.81370936194053,
          22.07192734071875,
          21.36637081750993,
          20.696036576498866,
          20.059858006419542,
          19.456718148318213,
          18.88546181190928,
          18.344906713313577,
          17.83385361120534,
          17.351095439250322,
          16.895425450218646,
          16.46564440143353,
          16.060566822481107,
          15.67902641462095,
          15.319880637397505,
          14.982014541870289,
          14.664343911965597,
          14.365817776004736,
          14.085420349764375,
          13.82217247073098,
          13.575132580753648,
          13.34339731128025,
          13.12610172195464,
          12.922419239704707,
          12.731561341684086,
          12.552777021642948,
          12.385352075573719,
          12.228608238865826,
          12.081902203754138,
          11.94462454259023,
          11.816198559424123,
          11.696079089568434,
          11.583751264231116,
          11.478729254945732,
          11.38055501039397,
          11.28879699629492,
          11.203048947318257,
          11.122928638451507,
          11.048076681901321,
          10.978155354421341,
          10.912847458920938,
          10.851855223306218,
          10.794899238724152,
          10.741717438710065,
          10.6920641201663,
          10.64570900661489,
          10.602436353759302,
          10.562044097050796,
          10.52434304067514,
          10.489156087147796,
          10.456317506523515,
          10.425672244083248,
          10.397075265252166,
          10.370390936422352,
          10.345492440298182,
          10.322261224347782,
          10.300586480926846,
          10.280364657638671,
          10.261498996503999,
          10.243899100533858,
          10.227480526326254,
          10.212164401341624,
          10.197877064550962,
          10.184549729193279,
          10.17211816642464,
          10.160522408688387,
          10.149706471684688,
          10.13961809386672,
          10.130208492439817,
          10.121432134888755,
          10.113246525106302,
          10.105612003243213,
          10.098491558445717,
          10.091850653690944,
          10.085657061973743,
          10.079880713139714,
          10.074493550699032,
          10.069469397993668,
          10.064783833127038,
          10.06041407209974,
          10.056338859628088,
          10.05253836715352,
          10.048994097580673,
          10.045688796310177,
          10.042606368158822,
          10.039731799785056,
          10.0370510872615,
          10.034551168458648,
          10.032219859925123,
          10.030045797969706,
          10.028018383669233,
          10.026127731543927,
          10.02436462165848,
          10.022720454922624,
          10.021187211379651,
          10.019757411284969,
          10.01842407878971,
          10.017180708056413,
          10.016021231645151,
          10.014939991019002,
          10.013931709027718,
          10.012991464237734,
          10.012114666985294,
          10.011297037037654,
          10.010534582754895,
          10.009823581652014,
          10.009160562267573,
          10.008542287251437,
          10.007965737589968,
          10.007428097892376,
          10.006926742667119,
          10.006459223521912,
          10.006023257225358,
          10.005616714572367,
          10.005237609999345,
          10.004884091898807,
          10.004554433586403,
          10.00424702487647,
          10.003960364225222,
          10.003693051403383,
          10.003443780662625,
          10.003211334362616,
          10.002994577027641,
          10.002792449803895,
          10.002603965290465,
          10.002428202718834,
          10.002264303457439,
          10.002111466819365,
          10.001968946152775,
          10.001836045195024,
          10.001712114672655
         ]
        },
        {
         "mode": "lines",
         "name": "Infectados",
         "type": "scatter",
         "x": [
          0,
          0.7537688442211056,
          1.5075376884422111,
          2.261306532663317,
          3.0150753768844223,
          3.7688442211055277,
          4.522613065326634,
          5.276381909547739,
          6.030150753768845,
          6.78391959798995,
          7.5376884422110555,
          8.291457286432161,
          9.045226130653267,
          9.798994974874372,
          10.552763819095478,
          11.306532663316583,
          12.06030150753769,
          12.814070351758795,
          13.5678391959799,
          14.321608040201006,
          15.075376884422111,
          15.829145728643217,
          16.582914572864322,
          17.33668341708543,
          18.090452261306535,
          18.84422110552764,
          19.597989949748744,
          20.35175879396985,
          21.105527638190956,
          21.859296482412063,
          22.613065326633166,
          23.366834170854272,
          24.12060301507538,
          24.874371859296485,
          25.62814070351759,
          26.381909547738694,
          27.1356783919598,
          27.889447236180906,
          28.643216080402013,
          29.396984924623116,
          30.150753768844222,
          30.90452261306533,
          31.658291457286435,
          32.41206030150754,
          33.165829145728644,
          33.91959798994975,
          34.67336683417086,
          35.42713567839196,
          36.18090452261307,
          36.934673366834176,
          37.68844221105528,
          38.44221105527638,
          39.19597989949749,
          39.949748743718594,
          40.7035175879397,
          41.45728643216081,
          42.21105527638191,
          42.96482412060302,
          43.718592964824126,
          44.47236180904523,
          45.22613065326633,
          45.97989949748744,
          46.733668341708544,
          47.48743718592965,
          48.24120603015076,
          48.99497487437186,
          49.74874371859297,
          50.502512562814076,
          51.25628140703518,
          52.01005025125628,
          52.76381909547739,
          53.517587939698494,
          54.2713567839196,
          55.02512562814071,
          55.77889447236181,
          56.53266331658292,
          57.286432160804026,
          58.04020100502513,
          58.79396984924623,
          59.54773869346734,
          60.301507537688444,
          61.05527638190955,
          61.80904522613066,
          62.56281407035176,
          63.31658291457287,
          64.07035175879398,
          64.82412060301507,
          65.57788944723619,
          66.33165829145729,
          67.0854271356784,
          67.8391959798995,
          68.59296482412061,
          69.34673366834171,
          70.10050251256281,
          70.85427135678393,
          71.60804020100502,
          72.36180904522614,
          73.11557788944724,
          73.86934673366835,
          74.62311557788945,
          75.37688442211056,
          76.13065326633166,
          76.88442211055276,
          77.63819095477388,
          78.39195979899498,
          79.14572864321609,
          79.89949748743719,
          80.6532663316583,
          81.4070351758794,
          82.16080402010051,
          82.91457286432161,
          83.66834170854271,
          84.42211055276383,
          85.17587939698493,
          85.92964824120604,
          86.68341708542714,
          87.43718592964825,
          88.19095477386935,
          88.94472361809046,
          89.69849246231156,
          90.45226130653266,
          91.20603015075378,
          91.95979899497488,
          92.71356783919599,
          93.46733668341709,
          94.2211055276382,
          94.9748743718593,
          95.72864321608041,
          96.48241206030151,
          97.23618090452261,
          97.98994974874373,
          98.74371859296483,
          99.49748743718594,
          100.25125628140704,
          101.00502512562815,
          101.75879396984925,
          102.51256281407036,
          103.26633165829146,
          104.02010050251256,
          104.77386934673368,
          105.52763819095478,
          106.28140703517589,
          107.03517587939699,
          107.7889447236181,
          108.5427135678392,
          109.29648241206031,
          110.05025125628141,
          110.80402010050251,
          111.55778894472363,
          112.31155778894473,
          113.06532663316584,
          113.81909547738694,
          114.57286432160805,
          115.32663316582915,
          116.08040201005026,
          116.83417085427136,
          117.58793969849246,
          118.34170854271358,
          119.09547738693468,
          119.84924623115579,
          120.60301507537689,
          121.356783919598,
          122.1105527638191,
          122.86432160804021,
          123.61809045226131,
          124.37185929648241,
          125.12562814070353,
          125.87939698492463,
          126.63316582914574,
          127.38693467336684,
          128.14070351758795,
          128.89447236180905,
          129.64824120603015,
          130.40201005025128,
          131.15577889447238,
          131.90954773869348,
          132.66331658291458,
          133.41708542713567,
          134.1708542713568,
          134.9246231155779,
          135.678391959799,
          136.4321608040201,
          137.18592964824123,
          137.93969849246233,
          138.69346733668343,
          139.44723618090453,
          140.20100502512562,
          140.95477386934675,
          141.70854271356785,
          142.46231155778895,
          143.21608040201005,
          143.96984924623118,
          144.72361809045228,
          145.47738693467338,
          146.23115577889448,
          146.98492462311557,
          147.7386934673367,
          148.4924623115578,
          149.2462311557789,
          150
         ],
         "y": [
          5,
          5.31875,
          5.6565487988281244,
          6.014368434513881,
          6.393208833094011,
          6.794095589940194,
          7.218077241097224,
          7.666221975577453,
          8.139613739394811,
          8.639347682934053,
          9.166524905242138,
          9.722246452217165,
          10.307606530683588,
          10.923684907211188,
          11.571538469483919,
          12.252191939261026,
          12.966627739673777,
          13.7157750358973,
          14.50049798719386,
          15.321583269921986,
          16.179726955218857,
          17.075520851437055,
          18.00943844964816,
          18.98182064004566,
          19.992861397140597,
          21.042593661313635,
          22.13087567245594,
          23.257378036824438,
          24.421571829449267,
          25.622718049971382,
          26.859858758143204,
          28.131810214937317,
          29.43715834496865,
          30.774256814683973,
          32.141227987803056,
          33.535966974556814,
          34.95614893465048,
          36.39923972648329,
          37.86250991852141,
          39.34305209502401,
          40.8378013003243,
          42.343558376812624,
          43.857015865239575,
          45.37478605569034,
          46.8934307072497,
          48.40949189736734,
          49.91952342111868,
          51.42012213810049,
          52.9079586618994,
          54.37980680425067,
          55.83257122248688,
          57.2633127730192,
          58.66927114289254,
          60.04788441270911,
          61.39680529373543,
          62.71391387585494,
          63.99732681725405,
          65.24540299760288,
          66.4567457407014,
          67.63020178736556,
          68.76485726266291,
          69.86003093212688,
          70.91526507866716,
          71.93031435559398,
          72.90513298212566,
          73.83986064706309,
          74.73480747545659,
          75.59043839375475,
          76.40735720291319,
          77.18629063805966,
          77.92807265928144,
          78.63362918249027,
          79.30396342350134,
          79.94014199358067,
          80.54328185168201,
          81.11453818809096,
          81.65509328668666,
          82.16614638879491,
          82.64890456074994,
          83.10457454978162,
          83.53435559856675,
          83.93943317751918,
          84.32097358537933,
          84.68011936260278,
          85.01798545813,
          85.33565608803468,
          85.63418222399554,
          85.91457965023591,
          86.17782752926931,
          86.42486741924665,
          86.65660268872006,
          86.87389827804567,
          87.0775807602956,
          87.26843865831623,
          87.44722297835736,
          87.6146479244266,
          87.7713917611345,
          87.91809779624617,
          88.05537545741008,
          88.18380144057619,
          88.30392091043188,
          88.41624873576922,
          88.5212707450546,
          88.61944498960636,
          88.7112030037054,
          88.79695105268208,
          88.87707136154881,
          88.951923318099,
          89.021844645579,
          89.0871525410794,
          89.14814477669412,
          89.2051007612762,
          89.2582825612903,
          89.30793587983408,
          89.35429099338549,
          89.39756364624108,
          89.4379559029496,
          89.47565695932526,
          89.51084391285261,
          89.5436824934769,
          89.57432775591717,
          89.60292473474826,
          89.62960906357807,
          89.65450755970225,
          89.67773877565266,
          89.6994135190736,
          89.71963534236177,
          89.73850100349644,
          89.75610089946657,
          89.77251947367418,
          89.78783559865882,
          89.80212293544949,
          89.81545027080718,
          89.82788183357582,
          89.83947759131209,
          89.85029352831579,
          89.86038190613377,
          89.86979150756066,
          89.87856786511173,
          89.88675347489419,
          89.89438799675729,
          89.90150844155478,
          89.90814934630957,
          89.91434293802676,
          89.9201192868608,
          89.92550644930148,
          89.93053060200684,
          89.93521616687347,
          89.93958592790078,
          89.94366114037243,
          89.947461632847,
          89.95100590241985,
          89.95431120369035,
          89.95739363184171,
          89.96026820021548,
          89.96294891273904,
          89.9654488315419,
          89.96778014007543,
          89.96995420203086,
          89.97198161633135,
          89.97387226845665,
          89.97563537834209,
          89.97727954507795,
          89.97881278862093,
          89.98024258871561,
          89.98157592121088,
          89.98281929194417,
          89.98397876835544,
          89.9850600089816,
          89.9860682909729,
          89.9870085357629,
          89.98788533301534,
          89.98870296296299,
          89.98946541724575,
          89.99017641834863,
          89.99083943773307,
          89.99145771274921,
          89.99203426241068,
          89.99257190210828,
          89.99307325733353,
          89.99354077647874,
          89.99397674277529,
          89.99438328542828,
          89.99476239000133,
          89.99511590810187,
          89.99544556641428,
          89.9957529751242,
          89.99603963577546,
          89.99630694859731,
          89.99655621933806,
          89.99678866563808,
          89.99700542297305,
          89.9972075501968,
          89.99739603471023,
          89.99757179728186,
          89.99773569654326,
          89.99788853318135,
          89.99803105384795,
          89.9981639548057,
          89.99828788532807
         ]
        }
       ],
       "layout": {
        "template": {
         "data": {
          "bar": [
           {
            "error_x": {
             "color": "#2a3f5f"
            },
            "error_y": {
             "color": "#2a3f5f"
            },
            "marker": {
             "line": {
              "color": "#E5ECF6",
              "width": 0.5
             },
             "pattern": {
              "fillmode": "overlay",
              "size": 10,
              "solidity": 0.2
             }
            },
            "type": "bar"
           }
          ],
          "barpolar": [
           {
            "marker": {
             "line": {
              "color": "#E5ECF6",
              "width": 0.5
             },
             "pattern": {
              "fillmode": "overlay",
              "size": 10,
              "solidity": 0.2
             }
            },
            "type": "barpolar"
           }
          ],
          "carpet": [
           {
            "aaxis": {
             "endlinecolor": "#2a3f5f",
             "gridcolor": "white",
             "linecolor": "white",
             "minorgridcolor": "white",
             "startlinecolor": "#2a3f5f"
            },
            "baxis": {
             "endlinecolor": "#2a3f5f",
             "gridcolor": "white",
             "linecolor": "white",
             "minorgridcolor": "white",
             "startlinecolor": "#2a3f5f"
            },
            "type": "carpet"
           }
          ],
          "choropleth": [
           {
            "colorbar": {
             "outlinewidth": 0,
             "ticks": ""
            },
            "type": "choropleth"
           }
          ],
          "contour": [
           {
            "colorbar": {
             "outlinewidth": 0,
             "ticks": ""
            },
            "colorscale": [
             [
              0,
              "#0d0887"
             ],
             [
              0.1111111111111111,
              "#46039f"
             ],
             [
              0.2222222222222222,
              "#7201a8"
             ],
             [
              0.3333333333333333,
              "#9c179e"
             ],
             [
              0.4444444444444444,
              "#bd3786"
             ],
             [
              0.5555555555555556,
              "#d8576b"
             ],
             [
              0.6666666666666666,
              "#ed7953"
             ],
             [
              0.7777777777777778,
              "#fb9f3a"
             ],
             [
              0.8888888888888888,
              "#fdca26"
             ],
             [
              1,
              "#f0f921"
             ]
            ],
            "type": "contour"
           }
          ],
          "contourcarpet": [
           {
            "colorbar": {
             "outlinewidth": 0,
             "ticks": ""
            },
            "type": "contourcarpet"
           }
          ],
          "heatmap": [
           {
            "colorbar": {
             "outlinewidth": 0,
             "ticks": ""
            },
            "colorscale": [
             [
              0,
              "#0d0887"
             ],
             [
              0.1111111111111111,
              "#46039f"
             ],
             [
              0.2222222222222222,
              "#7201a8"
             ],
             [
              0.3333333333333333,
              "#9c179e"
             ],
             [
              0.4444444444444444,
              "#bd3786"
             ],
             [
              0.5555555555555556,
              "#d8576b"
             ],
             [
              0.6666666666666666,
              "#ed7953"
             ],
             [
              0.7777777777777778,
              "#fb9f3a"
             ],
             [
              0.8888888888888888,
              "#fdca26"
             ],
             [
              1,
              "#f0f921"
             ]
            ],
            "type": "heatmap"
           }
          ],
          "heatmapgl": [
           {
            "colorbar": {
             "outlinewidth": 0,
             "ticks": ""
            },
            "colorscale": [
             [
              0,
              "#0d0887"
             ],
             [
              0.1111111111111111,
              "#46039f"
             ],
             [
              0.2222222222222222,
              "#7201a8"
             ],
             [
              0.3333333333333333,
              "#9c179e"
             ],
             [
              0.4444444444444444,
              "#bd3786"
             ],
             [
              0.5555555555555556,
              "#d8576b"
             ],
             [
              0.6666666666666666,
              "#ed7953"
             ],
             [
              0.7777777777777778,
              "#fb9f3a"
             ],
             [
              0.8888888888888888,
              "#fdca26"
             ],
             [
              1,
              "#f0f921"
             ]
            ],
            "type": "heatmapgl"
           }
          ],
          "histogram": [
           {
            "marker": {
             "pattern": {
              "fillmode": "overlay",
              "size": 10,
              "solidity": 0.2
             }
            },
            "type": "histogram"
           }
          ],
          "histogram2d": [
           {
            "colorbar": {
             "outlinewidth": 0,
             "ticks": ""
            },
            "colorscale": [
             [
              0,
              "#0d0887"
             ],
             [
              0.1111111111111111,
              "#46039f"
             ],
             [
              0.2222222222222222,
              "#7201a8"
             ],
             [
              0.3333333333333333,
              "#9c179e"
             ],
             [
              0.4444444444444444,
              "#bd3786"
             ],
             [
              0.5555555555555556,
              "#d8576b"
             ],
             [
              0.6666666666666666,
              "#ed7953"
             ],
             [
              0.7777777777777778,
              "#fb9f3a"
             ],
             [
              0.8888888888888888,
              "#fdca26"
             ],
             [
              1,
              "#f0f921"
             ]
            ],
            "type": "histogram2d"
           }
          ],
          "histogram2dcontour": [
           {
            "colorbar": {
             "outlinewidth": 0,
             "ticks": ""
            },
            "colorscale": [
             [
              0,
              "#0d0887"
             ],
             [
              0.1111111111111111,
              "#46039f"
             ],
             [
              0.2222222222222222,
              "#7201a8"
             ],
             [
              0.3333333333333333,
              "#9c179e"
             ],
             [
              0.4444444444444444,
              "#bd3786"
             ],
             [
              0.5555555555555556,
              "#d8576b"
             ],
             [
              0.6666666666666666,
              "#ed7953"
             ],
             [
              0.7777777777777778,
              "#fb9f3a"
             ],
             [
              0.8888888888888888,
              "#fdca26"
             ],
             [
              1,
              "#f0f921"
             ]
            ],
            "type": "histogram2dcontour"
           }
          ],
          "mesh3d": [
           {
            "colorbar": {
             "outlinewidth": 0,
             "ticks": ""
            },
            "type": "mesh3d"
           }
          ],
          "parcoords": [
           {
            "line": {
             "colorbar": {
              "outlinewidth": 0,
              "ticks": ""
             }
            },
            "type": "parcoords"
           }
          ],
          "pie": [
           {
            "automargin": true,
            "type": "pie"
           }
          ],
          "scatter": [
           {
            "marker": {
             "colorbar": {
              "outlinewidth": 0,
              "ticks": ""
             }
            },
            "type": "scatter"
           }
          ],
          "scatter3d": [
           {
            "line": {
             "colorbar": {
              "outlinewidth": 0,
              "ticks": ""
             }
            },
            "marker": {
             "colorbar": {
              "outlinewidth": 0,
              "ticks": ""
             }
            },
            "type": "scatter3d"
           }
          ],
          "scattercarpet": [
           {
            "marker": {
             "colorbar": {
              "outlinewidth": 0,
              "ticks": ""
             }
            },
            "type": "scattercarpet"
           }
          ],
          "scattergeo": [
           {
            "marker": {
             "colorbar": {
              "outlinewidth": 0,
              "ticks": ""
             }
            },
            "type": "scattergeo"
           }
          ],
          "scattergl": [
           {
            "marker": {
             "colorbar": {
              "outlinewidth": 0,
              "ticks": ""
             }
            },
            "type": "scattergl"
           }
          ],
          "scattermapbox": [
           {
            "marker": {
             "colorbar": {
              "outlinewidth": 0,
              "ticks": ""
             }
            },
            "type": "scattermapbox"
           }
          ],
          "scatterpolar": [
           {
            "marker": {
             "colorbar": {
              "outlinewidth": 0,
              "ticks": ""
             }
            },
            "type": "scatterpolar"
           }
          ],
          "scatterpolargl": [
           {
            "marker": {
             "colorbar": {
              "outlinewidth": 0,
              "ticks": ""
             }
            },
            "type": "scatterpolargl"
           }
          ],
          "scatterternary": [
           {
            "marker": {
             "colorbar": {
              "outlinewidth": 0,
              "ticks": ""
             }
            },
            "type": "scatterternary"
           }
          ],
          "surface": [
           {
            "colorbar": {
             "outlinewidth": 0,
             "ticks": ""
            },
            "colorscale": [
             [
              0,
              "#0d0887"
             ],
             [
              0.1111111111111111,
              "#46039f"
             ],
             [
              0.2222222222222222,
              "#7201a8"
             ],
             [
              0.3333333333333333,
              "#9c179e"
             ],
             [
              0.4444444444444444,
              "#bd3786"
             ],
             [
              0.5555555555555556,
              "#d8576b"
             ],
             [
              0.6666666666666666,
              "#ed7953"
             ],
             [
              0.7777777777777778,
              "#fb9f3a"
             ],
             [
              0.8888888888888888,
              "#fdca26"
             ],
             [
              1,
              "#f0f921"
             ]
            ],
            "type": "surface"
           }
          ],
          "table": [
           {
            "cells": {
             "fill": {
              "color": "#EBF0F8"
             },
             "line": {
              "color": "white"
             }
            },
            "header": {
             "fill": {
              "color": "#C8D4E3"
             },
             "line": {
              "color": "white"
             }
            },
            "type": "table"
           }
          ]
         },
         "layout": {
          "annotationdefaults": {
           "arrowcolor": "#2a3f5f",
           "arrowhead": 0,
           "arrowwidth": 1
          },
          "autotypenumbers": "strict",
          "coloraxis": {
           "colorbar": {
            "outlinewidth": 0,
            "ticks": ""
           }
          },
          "colorscale": {
           "diverging": [
            [
             0,
             "#8e0152"
            ],
            [
             0.1,
             "#c51b7d"
            ],
            [
             0.2,
             "#de77ae"
            ],
            [
             0.3,
             "#f1b6da"
            ],
            [
             0.4,
             "#fde0ef"
            ],
            [
             0.5,
             "#f7f7f7"
            ],
            [
             0.6,
             "#e6f5d0"
            ],
            [
             0.7,
             "#b8e186"
            ],
            [
             0.8,
             "#7fbc41"
            ],
            [
             0.9,
             "#4d9221"
            ],
            [
             1,
             "#276419"
            ]
           ],
           "sequential": [
            [
             0,
             "#0d0887"
            ],
            [
             0.1111111111111111,
             "#46039f"
            ],
            [
             0.2222222222222222,
             "#7201a8"
            ],
            [
             0.3333333333333333,
             "#9c179e"
            ],
            [
             0.4444444444444444,
             "#bd3786"
            ],
            [
             0.5555555555555556,
             "#d8576b"
            ],
            [
             0.6666666666666666,
             "#ed7953"
            ],
            [
             0.7777777777777778,
             "#fb9f3a"
            ],
            [
             0.8888888888888888,
             "#fdca26"
            ],
            [
             1,
             "#f0f921"
            ]
           ],
           "sequentialminus": [
            [
             0,
             "#0d0887"
            ],
            [
             0.1111111111111111,
             "#46039f"
            ],
            [
             0.2222222222222222,
             "#7201a8"
            ],
            [
             0.3333333333333333,
             "#9c179e"
            ],
            [
             0.4444444444444444,
             "#bd3786"
            ],
            [
             0.5555555555555556,
             "#d8576b"
            ],
            [
             0.6666666666666666,
             "#ed7953"
            ],
            [
             0.7777777777777778,
             "#fb9f3a"
            ],
            [
             0.8888888888888888,
             "#fdca26"
            ],
            [
             1,
             "#f0f921"
            ]
           ]
          },
          "colorway": [
           "#636efa",
           "#EF553B",
           "#00cc96",
           "#ab63fa",
           "#FFA15A",
           "#19d3f3",
           "#FF6692",
           "#B6E880",
           "#FF97FF",
           "#FECB52"
          ],
          "font": {
           "color": "#2a3f5f"
          },
          "geo": {
           "bgcolor": "white",
           "lakecolor": "white",
           "landcolor": "#E5ECF6",
           "showlakes": true,
           "showland": true,
           "subunitcolor": "white"
          },
          "hoverlabel": {
           "align": "left"
          },
          "hovermode": "closest",
          "mapbox": {
           "style": "light"
          },
          "paper_bgcolor": "white",
          "plot_bgcolor": "#E5ECF6",
          "polar": {
           "angularaxis": {
            "gridcolor": "white",
            "linecolor": "white",
            "ticks": ""
           },
           "bgcolor": "#E5ECF6",
           "radialaxis": {
            "gridcolor": "white",
            "linecolor": "white",
            "ticks": ""
           }
          },
          "scene": {
           "xaxis": {
            "backgroundcolor": "#E5ECF6",
            "gridcolor": "white",
            "gridwidth": 2,
            "linecolor": "white",
            "showbackground": true,
            "ticks": "",
            "zerolinecolor": "white"
           },
           "yaxis": {
            "backgroundcolor": "#E5ECF6",
            "gridcolor": "white",
            "gridwidth": 2,
            "linecolor": "white",
            "showbackground": true,
            "ticks": "",
            "zerolinecolor": "white"
           },
           "zaxis": {
            "backgroundcolor": "#E5ECF6",
            "gridcolor": "white",
            "gridwidth": 2,
            "linecolor": "white",
            "showbackground": true,
            "ticks": "",
            "zerolinecolor": "white"
           }
          },
          "shapedefaults": {
           "line": {
            "color": "#2a3f5f"
           }
          },
          "ternary": {
           "aaxis": {
            "gridcolor": "white",
            "linecolor": "white",
            "ticks": ""
           },
           "baxis": {
            "gridcolor": "white",
            "linecolor": "white",
            "ticks": ""
           },
           "bgcolor": "#E5ECF6",
           "caxis": {
            "gridcolor": "white",
            "linecolor": "white",
            "ticks": ""
           }
          },
          "title": {
           "x": 0.05
          },
          "xaxis": {
           "automargin": true,
           "gridcolor": "white",
           "linecolor": "white",
           "ticks": "",
           "title": {
            "standoff": 15
           },
           "zerolinecolor": "white",
           "zerolinewidth": 2
          },
          "yaxis": {
           "automargin": true,
           "gridcolor": "white",
           "linecolor": "white",
           "ticks": "",
           "title": {
            "standoff": 15
           },
           "zerolinecolor": "white",
           "zerolinewidth": 2
          }
         }
        },
        "title": {
         "text": "Modelo SIS"
        },
        "xaxis": {
         "title": {
          "text": "Tiempo"
         }
        },
        "yaxis": {
         "title": {
          "text": "Susceptibles/Infectados"
         }
        }
       }
      },
      "text/html": [
       "<div>                            <div id=\"a3d3ed69-26ba-419e-a354-3cae34a604f6\" class=\"plotly-graph-div\" style=\"height:525px; width:100%;\"></div>            <script type=\"text/javascript\">                require([\"plotly\"], function(Plotly) {                    window.PLOTLYENV=window.PLOTLYENV || {};                                    if (document.getElementById(\"a3d3ed69-26ba-419e-a354-3cae34a604f6\")) {                    Plotly.newPlot(                        \"a3d3ed69-26ba-419e-a354-3cae34a604f6\",                        [{\"mode\":\"lines\",\"name\":\"Susceptibles\",\"type\":\"scatter\",\"x\":[0.0,0.7537688442211056,1.5075376884422111,2.261306532663317,3.0150753768844223,3.7688442211055277,4.522613065326634,5.276381909547739,6.030150753768845,6.78391959798995,7.5376884422110555,8.291457286432161,9.045226130653267,9.798994974874372,10.552763819095478,11.306532663316583,12.06030150753769,12.814070351758795,13.5678391959799,14.321608040201006,15.075376884422111,15.829145728643217,16.582914572864322,17.33668341708543,18.090452261306535,18.84422110552764,19.597989949748744,20.35175879396985,21.105527638190956,21.859296482412063,22.613065326633166,23.366834170854272,24.12060301507538,24.874371859296485,25.62814070351759,26.381909547738694,27.1356783919598,27.889447236180906,28.643216080402013,29.396984924623116,30.150753768844222,30.90452261306533,31.658291457286435,32.41206030150754,33.165829145728644,33.91959798994975,34.67336683417086,35.42713567839196,36.18090452261307,36.934673366834176,37.68844221105528,38.44221105527638,39.19597989949749,39.949748743718594,40.7035175879397,41.45728643216081,42.21105527638191,42.96482412060302,43.718592964824126,44.47236180904523,45.22613065326633,45.97989949748744,46.733668341708544,47.48743718592965,48.24120603015076,48.99497487437186,49.74874371859297,50.502512562814076,51.25628140703518,52.01005025125628,52.76381909547739,53.517587939698494,54.2713567839196,55.02512562814071,55.77889447236181,56.53266331658292,57.286432160804026,58.04020100502513,58.79396984924623,59.54773869346734,60.301507537688444,61.05527638190955,61.80904522613066,62.56281407035176,63.31658291457287,64.07035175879398,64.82412060301507,65.57788944723619,66.33165829145729,67.0854271356784,67.8391959798995,68.59296482412061,69.34673366834171,70.10050251256281,70.85427135678393,71.60804020100502,72.36180904522614,73.11557788944724,73.86934673366835,74.62311557788945,75.37688442211056,76.13065326633166,76.88442211055276,77.63819095477388,78.39195979899498,79.14572864321609,79.89949748743719,80.6532663316583,81.4070351758794,82.16080402010051,82.91457286432161,83.66834170854271,84.42211055276383,85.17587939698493,85.92964824120604,86.68341708542714,87.43718592964825,88.19095477386935,88.94472361809046,89.69849246231156,90.45226130653266,91.20603015075378,91.95979899497488,92.71356783919599,93.46733668341709,94.2211055276382,94.9748743718593,95.72864321608041,96.48241206030151,97.23618090452261,97.98994974874373,98.74371859296483,99.49748743718594,100.25125628140704,101.00502512562815,101.75879396984925,102.51256281407036,103.26633165829146,104.02010050251256,104.77386934673368,105.52763819095478,106.28140703517589,107.03517587939699,107.7889447236181,108.5427135678392,109.29648241206031,110.05025125628141,110.80402010050251,111.55778894472363,112.31155778894473,113.06532663316584,113.81909547738694,114.57286432160805,115.32663316582915,116.08040201005026,116.83417085427136,117.58793969849246,118.34170854271358,119.09547738693468,119.84924623115579,120.60301507537689,121.356783919598,122.1105527638191,122.86432160804021,123.61809045226131,124.37185929648241,125.12562814070353,125.87939698492463,126.63316582914574,127.38693467336684,128.14070351758795,128.89447236180905,129.64824120603015,130.40201005025128,131.15577889447238,131.90954773869348,132.66331658291458,133.41708542713567,134.1708542713568,134.9246231155779,135.678391959799,136.4321608040201,137.18592964824123,137.93969849246233,138.69346733668343,139.44723618090453,140.20100502512562,140.95477386934675,141.70854271356785,142.46231155778895,143.21608040201005,143.96984924623118,144.72361809045228,145.47738693467338,146.23115577889448,146.98492462311557,147.7386934673367,148.4924623115578,149.2462311557789,150.0],\"y\":[95.0,94.68124999999999,94.34345120117187,93.98563156548612,93.60679116690599,93.20590441005982,92.78192275890278,92.33377802442256,91.8603862606052,91.36065231706597,90.83347509475789,90.27775354778286,89.69239346931644,89.07631509278885,88.4284615305161,87.74780806073899,87.03337226032623,86.28422496410272,85.49950201280616,84.67841673007804,83.82027304478116,82.92447914856297,81.99056155035187,81.01817935995437,80.00713860285944,78.95740633868641,77.8691243275441,76.74262196317561,75.57842817055078,74.37728195002866,73.14014124185682,71.86818978506271,70.56284165503138,69.22574318531606,67.858772012197,66.46403302544324,65.04385106534959,63.60076027351678,62.13749008147866,60.65694790497606,59.16219869967577,57.656441623187455,56.14298413476051,54.62521394430975,53.1065692927504,51.59050810263276,50.08047657888142,48.57987786189962,47.09204133810071,45.62019319574943,44.16742877751323,42.73668722698091,41.33072885710758,39.95211558729101,38.603194706264695,37.28608612414519,36.002673182746086,34.754597002397254,33.54325425929876,32.369798212634585,31.235142737337238,30.139969067873288,29.08473492133301,28.06968564440619,27.09486701787451,26.16013935293709,25.265192524543593,24.409561606245433,23.592642797087,22.81370936194053,22.07192734071875,21.36637081750993,20.696036576498866,20.059858006419542,19.456718148318213,18.88546181190928,18.344906713313577,17.83385361120534,17.351095439250322,16.895425450218646,16.46564440143353,16.060566822481107,15.67902641462095,15.319880637397505,14.982014541870289,14.664343911965597,14.365817776004736,14.085420349764375,13.82217247073098,13.575132580753648,13.34339731128025,13.12610172195464,12.922419239704707,12.731561341684086,12.552777021642948,12.385352075573719,12.228608238865826,12.081902203754138,11.94462454259023,11.816198559424123,11.696079089568434,11.583751264231116,11.478729254945732,11.38055501039397,11.28879699629492,11.203048947318257,11.122928638451507,11.048076681901321,10.978155354421341,10.912847458920938,10.851855223306218,10.794899238724152,10.741717438710065,10.6920641201663,10.64570900661489,10.602436353759302,10.562044097050796,10.52434304067514,10.489156087147796,10.456317506523515,10.425672244083248,10.397075265252166,10.370390936422352,10.345492440298182,10.322261224347782,10.300586480926846,10.280364657638671,10.261498996503999,10.243899100533858,10.227480526326254,10.212164401341624,10.197877064550962,10.184549729193279,10.17211816642464,10.160522408688387,10.149706471684688,10.13961809386672,10.130208492439817,10.121432134888755,10.113246525106302,10.105612003243213,10.098491558445717,10.091850653690944,10.085657061973743,10.079880713139714,10.074493550699032,10.069469397993668,10.064783833127038,10.06041407209974,10.056338859628088,10.05253836715352,10.048994097580673,10.045688796310177,10.042606368158822,10.039731799785056,10.0370510872615,10.034551168458648,10.032219859925123,10.030045797969706,10.028018383669233,10.026127731543927,10.02436462165848,10.022720454922624,10.021187211379651,10.019757411284969,10.01842407878971,10.017180708056413,10.016021231645151,10.014939991019002,10.013931709027718,10.012991464237734,10.012114666985294,10.011297037037654,10.010534582754895,10.009823581652014,10.009160562267573,10.008542287251437,10.007965737589968,10.007428097892376,10.006926742667119,10.006459223521912,10.006023257225358,10.005616714572367,10.005237609999345,10.004884091898807,10.004554433586403,10.00424702487647,10.003960364225222,10.003693051403383,10.003443780662625,10.003211334362616,10.002994577027641,10.002792449803895,10.002603965290465,10.002428202718834,10.002264303457439,10.002111466819365,10.001968946152775,10.001836045195024,10.001712114672655]},{\"mode\":\"lines\",\"name\":\"Infectados\",\"type\":\"scatter\",\"x\":[0.0,0.7537688442211056,1.5075376884422111,2.261306532663317,3.0150753768844223,3.7688442211055277,4.522613065326634,5.276381909547739,6.030150753768845,6.78391959798995,7.5376884422110555,8.291457286432161,9.045226130653267,9.798994974874372,10.552763819095478,11.306532663316583,12.06030150753769,12.814070351758795,13.5678391959799,14.321608040201006,15.075376884422111,15.829145728643217,16.582914572864322,17.33668341708543,18.090452261306535,18.84422110552764,19.597989949748744,20.35175879396985,21.105527638190956,21.859296482412063,22.613065326633166,23.366834170854272,24.12060301507538,24.874371859296485,25.62814070351759,26.381909547738694,27.1356783919598,27.889447236180906,28.643216080402013,29.396984924623116,30.150753768844222,30.90452261306533,31.658291457286435,32.41206030150754,33.165829145728644,33.91959798994975,34.67336683417086,35.42713567839196,36.18090452261307,36.934673366834176,37.68844221105528,38.44221105527638,39.19597989949749,39.949748743718594,40.7035175879397,41.45728643216081,42.21105527638191,42.96482412060302,43.718592964824126,44.47236180904523,45.22613065326633,45.97989949748744,46.733668341708544,47.48743718592965,48.24120603015076,48.99497487437186,49.74874371859297,50.502512562814076,51.25628140703518,52.01005025125628,52.76381909547739,53.517587939698494,54.2713567839196,55.02512562814071,55.77889447236181,56.53266331658292,57.286432160804026,58.04020100502513,58.79396984924623,59.54773869346734,60.301507537688444,61.05527638190955,61.80904522613066,62.56281407035176,63.31658291457287,64.07035175879398,64.82412060301507,65.57788944723619,66.33165829145729,67.0854271356784,67.8391959798995,68.59296482412061,69.34673366834171,70.10050251256281,70.85427135678393,71.60804020100502,72.36180904522614,73.11557788944724,73.86934673366835,74.62311557788945,75.37688442211056,76.13065326633166,76.88442211055276,77.63819095477388,78.39195979899498,79.14572864321609,79.89949748743719,80.6532663316583,81.4070351758794,82.16080402010051,82.91457286432161,83.66834170854271,84.42211055276383,85.17587939698493,85.92964824120604,86.68341708542714,87.43718592964825,88.19095477386935,88.94472361809046,89.69849246231156,90.45226130653266,91.20603015075378,91.95979899497488,92.71356783919599,93.46733668341709,94.2211055276382,94.9748743718593,95.72864321608041,96.48241206030151,97.23618090452261,97.98994974874373,98.74371859296483,99.49748743718594,100.25125628140704,101.00502512562815,101.75879396984925,102.51256281407036,103.26633165829146,104.02010050251256,104.77386934673368,105.52763819095478,106.28140703517589,107.03517587939699,107.7889447236181,108.5427135678392,109.29648241206031,110.05025125628141,110.80402010050251,111.55778894472363,112.31155778894473,113.06532663316584,113.81909547738694,114.57286432160805,115.32663316582915,116.08040201005026,116.83417085427136,117.58793969849246,118.34170854271358,119.09547738693468,119.84924623115579,120.60301507537689,121.356783919598,122.1105527638191,122.86432160804021,123.61809045226131,124.37185929648241,125.12562814070353,125.87939698492463,126.63316582914574,127.38693467336684,128.14070351758795,128.89447236180905,129.64824120603015,130.40201005025128,131.15577889447238,131.90954773869348,132.66331658291458,133.41708542713567,134.1708542713568,134.9246231155779,135.678391959799,136.4321608040201,137.18592964824123,137.93969849246233,138.69346733668343,139.44723618090453,140.20100502512562,140.95477386934675,141.70854271356785,142.46231155778895,143.21608040201005,143.96984924623118,144.72361809045228,145.47738693467338,146.23115577889448,146.98492462311557,147.7386934673367,148.4924623115578,149.2462311557789,150.0],\"y\":[5.0,5.31875,5.6565487988281244,6.014368434513881,6.393208833094011,6.794095589940194,7.218077241097224,7.666221975577453,8.139613739394811,8.639347682934053,9.166524905242138,9.722246452217165,10.307606530683588,10.923684907211188,11.571538469483919,12.252191939261026,12.966627739673777,13.7157750358973,14.50049798719386,15.321583269921986,16.179726955218857,17.075520851437055,18.00943844964816,18.98182064004566,19.992861397140597,21.042593661313635,22.13087567245594,23.257378036824438,24.421571829449267,25.622718049971382,26.859858758143204,28.131810214937317,29.43715834496865,30.774256814683973,32.141227987803056,33.535966974556814,34.95614893465048,36.39923972648329,37.86250991852141,39.34305209502401,40.8378013003243,42.343558376812624,43.857015865239575,45.37478605569034,46.8934307072497,48.40949189736734,49.91952342111868,51.42012213810049,52.9079586618994,54.37980680425067,55.83257122248688,57.2633127730192,58.66927114289254,60.04788441270911,61.39680529373543,62.71391387585494,63.99732681725405,65.24540299760288,66.4567457407014,67.63020178736556,68.76485726266291,69.86003093212688,70.91526507866716,71.93031435559398,72.90513298212566,73.83986064706309,74.73480747545659,75.59043839375475,76.40735720291319,77.18629063805966,77.92807265928144,78.63362918249027,79.30396342350134,79.94014199358067,80.54328185168201,81.11453818809096,81.65509328668666,82.16614638879491,82.64890456074994,83.10457454978162,83.53435559856675,83.93943317751918,84.32097358537933,84.68011936260278,85.01798545813,85.33565608803468,85.63418222399554,85.91457965023591,86.17782752926931,86.42486741924665,86.65660268872006,86.87389827804567,87.0775807602956,87.26843865831623,87.44722297835736,87.6146479244266,87.7713917611345,87.91809779624617,88.05537545741008,88.18380144057619,88.30392091043188,88.41624873576922,88.5212707450546,88.61944498960636,88.7112030037054,88.79695105268208,88.87707136154881,88.951923318099,89.021844645579,89.0871525410794,89.14814477669412,89.2051007612762,89.2582825612903,89.30793587983408,89.35429099338549,89.39756364624108,89.4379559029496,89.47565695932526,89.51084391285261,89.5436824934769,89.57432775591717,89.60292473474826,89.62960906357807,89.65450755970225,89.67773877565266,89.6994135190736,89.71963534236177,89.73850100349644,89.75610089946657,89.77251947367418,89.78783559865882,89.80212293544949,89.81545027080718,89.82788183357582,89.83947759131209,89.85029352831579,89.86038190613377,89.86979150756066,89.87856786511173,89.88675347489419,89.89438799675729,89.90150844155478,89.90814934630957,89.91434293802676,89.9201192868608,89.92550644930148,89.93053060200684,89.93521616687347,89.93958592790078,89.94366114037243,89.947461632847,89.95100590241985,89.95431120369035,89.95739363184171,89.96026820021548,89.96294891273904,89.9654488315419,89.96778014007543,89.96995420203086,89.97198161633135,89.97387226845665,89.97563537834209,89.97727954507795,89.97881278862093,89.98024258871561,89.98157592121088,89.98281929194417,89.98397876835544,89.9850600089816,89.9860682909729,89.9870085357629,89.98788533301534,89.98870296296299,89.98946541724575,89.99017641834863,89.99083943773307,89.99145771274921,89.99203426241068,89.99257190210828,89.99307325733353,89.99354077647874,89.99397674277529,89.99438328542828,89.99476239000133,89.99511590810187,89.99544556641428,89.9957529751242,89.99603963577546,89.99630694859731,89.99655621933806,89.99678866563808,89.99700542297305,89.9972075501968,89.99739603471023,89.99757179728186,89.99773569654326,89.99788853318135,89.99803105384795,89.9981639548057,89.99828788532807]}],                        {\"template\":{\"data\":{\"bar\":[{\"error_x\":{\"color\":\"#2a3f5f\"},\"error_y\":{\"color\":\"#2a3f5f\"},\"marker\":{\"line\":{\"color\":\"#E5ECF6\",\"width\":0.5},\"pattern\":{\"fillmode\":\"overlay\",\"size\":10,\"solidity\":0.2}},\"type\":\"bar\"}],\"barpolar\":[{\"marker\":{\"line\":{\"color\":\"#E5ECF6\",\"width\":0.5},\"pattern\":{\"fillmode\":\"overlay\",\"size\":10,\"solidity\":0.2}},\"type\":\"barpolar\"}],\"carpet\":[{\"aaxis\":{\"endlinecolor\":\"#2a3f5f\",\"gridcolor\":\"white\",\"linecolor\":\"white\",\"minorgridcolor\":\"white\",\"startlinecolor\":\"#2a3f5f\"},\"baxis\":{\"endlinecolor\":\"#2a3f5f\",\"gridcolor\":\"white\",\"linecolor\":\"white\",\"minorgridcolor\":\"white\",\"startlinecolor\":\"#2a3f5f\"},\"type\":\"carpet\"}],\"choropleth\":[{\"colorbar\":{\"outlinewidth\":0,\"ticks\":\"\"},\"type\":\"choropleth\"}],\"contour\":[{\"colorbar\":{\"outlinewidth\":0,\"ticks\":\"\"},\"colorscale\":[[0.0,\"#0d0887\"],[0.1111111111111111,\"#46039f\"],[0.2222222222222222,\"#7201a8\"],[0.3333333333333333,\"#9c179e\"],[0.4444444444444444,\"#bd3786\"],[0.5555555555555556,\"#d8576b\"],[0.6666666666666666,\"#ed7953\"],[0.7777777777777778,\"#fb9f3a\"],[0.8888888888888888,\"#fdca26\"],[1.0,\"#f0f921\"]],\"type\":\"contour\"}],\"contourcarpet\":[{\"colorbar\":{\"outlinewidth\":0,\"ticks\":\"\"},\"type\":\"contourcarpet\"}],\"heatmap\":[{\"colorbar\":{\"outlinewidth\":0,\"ticks\":\"\"},\"colorscale\":[[0.0,\"#0d0887\"],[0.1111111111111111,\"#46039f\"],[0.2222222222222222,\"#7201a8\"],[0.3333333333333333,\"#9c179e\"],[0.4444444444444444,\"#bd3786\"],[0.5555555555555556,\"#d8576b\"],[0.6666666666666666,\"#ed7953\"],[0.7777777777777778,\"#fb9f3a\"],[0.8888888888888888,\"#fdca26\"],[1.0,\"#f0f921\"]],\"type\":\"heatmap\"}],\"heatmapgl\":[{\"colorbar\":{\"outlinewidth\":0,\"ticks\":\"\"},\"colorscale\":[[0.0,\"#0d0887\"],[0.1111111111111111,\"#46039f\"],[0.2222222222222222,\"#7201a8\"],[0.3333333333333333,\"#9c179e\"],[0.4444444444444444,\"#bd3786\"],[0.5555555555555556,\"#d8576b\"],[0.6666666666666666,\"#ed7953\"],[0.7777777777777778,\"#fb9f3a\"],[0.8888888888888888,\"#fdca26\"],[1.0,\"#f0f921\"]],\"type\":\"heatmapgl\"}],\"histogram\":[{\"marker\":{\"pattern\":{\"fillmode\":\"overlay\",\"size\":10,\"solidity\":0.2}},\"type\":\"histogram\"}],\"histogram2d\":[{\"colorbar\":{\"outlinewidth\":0,\"ticks\":\"\"},\"colorscale\":[[0.0,\"#0d0887\"],[0.1111111111111111,\"#46039f\"],[0.2222222222222222,\"#7201a8\"],[0.3333333333333333,\"#9c179e\"],[0.4444444444444444,\"#bd3786\"],[0.5555555555555556,\"#d8576b\"],[0.6666666666666666,\"#ed7953\"],[0.7777777777777778,\"#fb9f3a\"],[0.8888888888888888,\"#fdca26\"],[1.0,\"#f0f921\"]],\"type\":\"histogram2d\"}],\"histogram2dcontour\":[{\"colorbar\":{\"outlinewidth\":0,\"ticks\":\"\"},\"colorscale\":[[0.0,\"#0d0887\"],[0.1111111111111111,\"#46039f\"],[0.2222222222222222,\"#7201a8\"],[0.3333333333333333,\"#9c179e\"],[0.4444444444444444,\"#bd3786\"],[0.5555555555555556,\"#d8576b\"],[0.6666666666666666,\"#ed7953\"],[0.7777777777777778,\"#fb9f3a\"],[0.8888888888888888,\"#fdca26\"],[1.0,\"#f0f921\"]],\"type\":\"histogram2dcontour\"}],\"mesh3d\":[{\"colorbar\":{\"outlinewidth\":0,\"ticks\":\"\"},\"type\":\"mesh3d\"}],\"parcoords\":[{\"line\":{\"colorbar\":{\"outlinewidth\":0,\"ticks\":\"\"}},\"type\":\"parcoords\"}],\"pie\":[{\"automargin\":true,\"type\":\"pie\"}],\"scatter\":[{\"marker\":{\"colorbar\":{\"outlinewidth\":0,\"ticks\":\"\"}},\"type\":\"scatter\"}],\"scatter3d\":[{\"line\":{\"colorbar\":{\"outlinewidth\":0,\"ticks\":\"\"}},\"marker\":{\"colorbar\":{\"outlinewidth\":0,\"ticks\":\"\"}},\"type\":\"scatter3d\"}],\"scattercarpet\":[{\"marker\":{\"colorbar\":{\"outlinewidth\":0,\"ticks\":\"\"}},\"type\":\"scattercarpet\"}],\"scattergeo\":[{\"marker\":{\"colorbar\":{\"outlinewidth\":0,\"ticks\":\"\"}},\"type\":\"scattergeo\"}],\"scattergl\":[{\"marker\":{\"colorbar\":{\"outlinewidth\":0,\"ticks\":\"\"}},\"type\":\"scattergl\"}],\"scattermapbox\":[{\"marker\":{\"colorbar\":{\"outlinewidth\":0,\"ticks\":\"\"}},\"type\":\"scattermapbox\"}],\"scatterpolar\":[{\"marker\":{\"colorbar\":{\"outlinewidth\":0,\"ticks\":\"\"}},\"type\":\"scatterpolar\"}],\"scatterpolargl\":[{\"marker\":{\"colorbar\":{\"outlinewidth\":0,\"ticks\":\"\"}},\"type\":\"scatterpolargl\"}],\"scatterternary\":[{\"marker\":{\"colorbar\":{\"outlinewidth\":0,\"ticks\":\"\"}},\"type\":\"scatterternary\"}],\"surface\":[{\"colorbar\":{\"outlinewidth\":0,\"ticks\":\"\"},\"colorscale\":[[0.0,\"#0d0887\"],[0.1111111111111111,\"#46039f\"],[0.2222222222222222,\"#7201a8\"],[0.3333333333333333,\"#9c179e\"],[0.4444444444444444,\"#bd3786\"],[0.5555555555555556,\"#d8576b\"],[0.6666666666666666,\"#ed7953\"],[0.7777777777777778,\"#fb9f3a\"],[0.8888888888888888,\"#fdca26\"],[1.0,\"#f0f921\"]],\"type\":\"surface\"}],\"table\":[{\"cells\":{\"fill\":{\"color\":\"#EBF0F8\"},\"line\":{\"color\":\"white\"}},\"header\":{\"fill\":{\"color\":\"#C8D4E3\"},\"line\":{\"color\":\"white\"}},\"type\":\"table\"}]},\"layout\":{\"annotationdefaults\":{\"arrowcolor\":\"#2a3f5f\",\"arrowhead\":0,\"arrowwidth\":1},\"autotypenumbers\":\"strict\",\"coloraxis\":{\"colorbar\":{\"outlinewidth\":0,\"ticks\":\"\"}},\"colorscale\":{\"diverging\":[[0,\"#8e0152\"],[0.1,\"#c51b7d\"],[0.2,\"#de77ae\"],[0.3,\"#f1b6da\"],[0.4,\"#fde0ef\"],[0.5,\"#f7f7f7\"],[0.6,\"#e6f5d0\"],[0.7,\"#b8e186\"],[0.8,\"#7fbc41\"],[0.9,\"#4d9221\"],[1,\"#276419\"]],\"sequential\":[[0.0,\"#0d0887\"],[0.1111111111111111,\"#46039f\"],[0.2222222222222222,\"#7201a8\"],[0.3333333333333333,\"#9c179e\"],[0.4444444444444444,\"#bd3786\"],[0.5555555555555556,\"#d8576b\"],[0.6666666666666666,\"#ed7953\"],[0.7777777777777778,\"#fb9f3a\"],[0.8888888888888888,\"#fdca26\"],[1.0,\"#f0f921\"]],\"sequentialminus\":[[0.0,\"#0d0887\"],[0.1111111111111111,\"#46039f\"],[0.2222222222222222,\"#7201a8\"],[0.3333333333333333,\"#9c179e\"],[0.4444444444444444,\"#bd3786\"],[0.5555555555555556,\"#d8576b\"],[0.6666666666666666,\"#ed7953\"],[0.7777777777777778,\"#fb9f3a\"],[0.8888888888888888,\"#fdca26\"],[1.0,\"#f0f921\"]]},\"colorway\":[\"#636efa\",\"#EF553B\",\"#00cc96\",\"#ab63fa\",\"#FFA15A\",\"#19d3f3\",\"#FF6692\",\"#B6E880\",\"#FF97FF\",\"#FECB52\"],\"font\":{\"color\":\"#2a3f5f\"},\"geo\":{\"bgcolor\":\"white\",\"lakecolor\":\"white\",\"landcolor\":\"#E5ECF6\",\"showlakes\":true,\"showland\":true,\"subunitcolor\":\"white\"},\"hoverlabel\":{\"align\":\"left\"},\"hovermode\":\"closest\",\"mapbox\":{\"style\":\"light\"},\"paper_bgcolor\":\"white\",\"plot_bgcolor\":\"#E5ECF6\",\"polar\":{\"angularaxis\":{\"gridcolor\":\"white\",\"linecolor\":\"white\",\"ticks\":\"\"},\"bgcolor\":\"#E5ECF6\",\"radialaxis\":{\"gridcolor\":\"white\",\"linecolor\":\"white\",\"ticks\":\"\"}},\"scene\":{\"xaxis\":{\"backgroundcolor\":\"#E5ECF6\",\"gridcolor\":\"white\",\"gridwidth\":2,\"linecolor\":\"white\",\"showbackground\":true,\"ticks\":\"\",\"zerolinecolor\":\"white\"},\"yaxis\":{\"backgroundcolor\":\"#E5ECF6\",\"gridcolor\":\"white\",\"gridwidth\":2,\"linecolor\":\"white\",\"showbackground\":true,\"ticks\":\"\",\"zerolinecolor\":\"white\"},\"zaxis\":{\"backgroundcolor\":\"#E5ECF6\",\"gridcolor\":\"white\",\"gridwidth\":2,\"linecolor\":\"white\",\"showbackground\":true,\"ticks\":\"\",\"zerolinecolor\":\"white\"}},\"shapedefaults\":{\"line\":{\"color\":\"#2a3f5f\"}},\"ternary\":{\"aaxis\":{\"gridcolor\":\"white\",\"linecolor\":\"white\",\"ticks\":\"\"},\"baxis\":{\"gridcolor\":\"white\",\"linecolor\":\"white\",\"ticks\":\"\"},\"bgcolor\":\"#E5ECF6\",\"caxis\":{\"gridcolor\":\"white\",\"linecolor\":\"white\",\"ticks\":\"\"}},\"title\":{\"x\":0.05},\"xaxis\":{\"automargin\":true,\"gridcolor\":\"white\",\"linecolor\":\"white\",\"ticks\":\"\",\"title\":{\"standoff\":15},\"zerolinecolor\":\"white\",\"zerolinewidth\":2},\"yaxis\":{\"automargin\":true,\"gridcolor\":\"white\",\"linecolor\":\"white\",\"ticks\":\"\",\"title\":{\"standoff\":15},\"zerolinecolor\":\"white\",\"zerolinewidth\":2}}},\"title\":{\"text\":\"Modelo SIS\"},\"xaxis\":{\"title\":{\"text\":\"Tiempo\"}},\"yaxis\":{\"title\":{\"text\":\"Susceptibles/Infectados\"}}},                        {\"responsive\": true}                    ).then(function(){\n",
       "                            \n",
       "var gd = document.getElementById('a3d3ed69-26ba-419e-a354-3cae34a604f6');\n",
       "var x = new MutationObserver(function (mutations, observer) {{\n",
       "        var display = window.getComputedStyle(gd).display;\n",
       "        if (!display || display === 'none') {{\n",
       "            console.log([gd, 'removed!']);\n",
       "            Plotly.purge(gd);\n",
       "            observer.disconnect();\n",
       "        }}\n",
       "}});\n",
       "\n",
       "// Listen for the removal of the full notebook cells\n",
       "var notebookContainer = gd.closest('#notebook-container');\n",
       "if (notebookContainer) {{\n",
       "    x.observe(notebookContainer, {childList: true});\n",
       "}}\n",
       "\n",
       "// Listen for the clearing of the current output cell\n",
       "var outputEl = gd.closest('.output');\n",
       "if (outputEl) {{\n",
       "    x.observe(outputEl, {childList: true});\n",
       "}}\n",
       "\n",
       "                        })                };                });            </script>        </div>"
      ]
     },
     "metadata": {},
     "output_type": "display_data"
    }
   ],
   "source": [
    "N = 100\n",
    "\n",
    "S0 = 95\n",
    "I0 = 5\n",
    "\n",
    "alfa = 0.1\n",
    "gamma = 0.01\n",
    "\n",
    "T0 = 0\n",
    "T = 150\n",
    "\n",
    "secciones = 200 #deltaT en realidad es (T-T0)/secciones\n",
    "\n",
    "deltaT = (T-T0)/secciones\n",
    "\n",
    "tiempo = np.linspace(T0, T, secciones)\n",
    "\n",
    "S = np.linspace(T0, T, secciones)\n",
    "I = np.linspace(T0, T, secciones)\n",
    "\n",
    "S[0] = S0\n",
    "I[0] = I0\n",
    "\n",
    "for j in range (secciones-1):\n",
    "    S[j+1] = S[j]*(1-(alfa*deltaT/N)*I[j])+gamma*deltaT*I[j]\n",
    "    I[j+1] = I[j]*(1-gamma*deltaT+(alfa*deltaT/N)*S[j])\n",
    "\n",
    "# Figura\n",
    "dfS = pd.DataFrame({'tiempo':tiempo, 'Susceptibles':S})\n",
    "dfI = pd.DataFrame({'tiempo':tiempo, 'Infectados':I})\n",
    "\n",
    "fig = go.Figure()\n",
    "fig.add_trace(go.Scatter(x=tiempo, y=S,\n",
    "                    mode='lines',\n",
    "                    name='Susceptibles'))\n",
    "fig.add_trace(go.Scatter(x=tiempo, y=I,\n",
    "                    mode='lines',  #lines+markers\n",
    "                    name='Infectados'))\n",
    "\n",
    "fig.update_layout(title='Modelo SIS',\n",
    "                   xaxis_title='Tiempo',\n",
    "                   yaxis_title='Susceptibles/Infectados')\n",
    "\n",
    "fig.show()\n",
    "\n",
    "# Guardar svg\n",
    "fig.write_image(\"./graficas_avanzadas_modelos_basicos/SIS_modelo.eps\")"
   ]
  },
  {
   "cell_type": "code",
   "execution_count": 29,
   "id": "344bf341",
   "metadata": {},
   "outputs": [
    {
     "data": {
      "application/vnd.plotly.v1+json": {
       "config": {
        "plotlyServerURL": "https://plot.ly"
       },
       "data": [
        {
         "hovertemplate": "Susceptibles=%{x}<br>Infectados=%{y}<extra></extra>",
         "legendgroup": "",
         "line": {
          "color": "#636efa",
          "dash": "solid"
         },
         "marker": {
          "symbol": "circle"
         },
         "mode": "markers+lines",
         "name": "",
         "orientation": "v",
         "showlegend": false,
         "type": "scatter",
         "x": [
          99,
          98.911,
          98.814175921,
          98.70885793263633,
          98.59432219441172,
          98.4697871220019,
          98.33440951443406,
          98.18728056239873,
          98.02742176477406,
          97.85378078849782,
          97.66522731636644,
          97.46054893832365,
          97.23844715446744,
          96.99753357248818,
          96.73632639866045,
          96.45324733991599,
          96.14661905494025,
          95.81466331459262,
          95.45550005607618,
          95.06714754086336,
          94.64752385292466,
          94.1944500005929,
          93.70565491144187,
          93.1787826335655,
          92.61140207694655,
          92.0010196431403,
          91.34509509777234,
          90.64106103543847,
          89.88634626717032,
          89.07840342304324,
          88.21474100290692,
          87.29296002279712,
          86.31079528983108,
          85.2661611915128,
          84.15720170478343,
          82.98234411603686,
          81.74035569826515,
          80.43040232113488,
          79.05210768334966,
          77.6056115673611,
          76.09162524169551,
          74.51148189703163,
          72.86717982284982,
          71.16141593767188,
          69.3976073027823,
          67.57989839882744,
          65.71315224255227,
          63.80292387352437,
          61.85541534224744,
          59.877412061762165,
          57.87620121018239,
          55.859473743583834,
          53.83521243869974,
          51.8115691687627,
          49.79673525992829,
          47.798809223883566,
          45.82566637247759,
          43.88483476998668,
          41.98338166807718,
          40.12781402087613,
          38.32399593667378,
          36.57708504819385,
          34.89148884351534,
          33.27084106444581,
          31.717997412492387,
          30.235049056977097,
          28.823351852187425,
          27.483568760441806,
          26.215722748603138,
          25.01925736548842,
          23.893102294405242,
          22.83574137927158,
          21.845280911892687,
          20.919516309703994,
          20.055995678268527,
          19.252079116305715,
          18.50499296381258,
          17.811878502383948,
          17.169834882905402,
          16.575956275692043,
          16.027363411819575,
          15.521229814453953,
          15.054803109817112,
          14.625421864412587,
          14.23052842403924,
          13.867678236622313,
          13.534546130268346,
          13.22892999489119,
          12.948752284262893,
          12.69205971871318,
          12.457021529558112,
          12.241926546694595,
          12.045179392132855,
          11.865296005586902,
          11.700898694272539,
          11.55071086815619,
          11.413551594218749,
          11.28833007884858,
          11.174040166144273,
          11.069754921503009,
          10.974621354159819,
          10.88785531906942,
          10.808736627420773,
          10.736604385885434,
          10.67085257717705,
          10.61092588841142,
          10.556315788895525,
          10.506556855151903,
          10.461223338035731,
          10.419925964580065,
          10.382308965583587,
          10.348047318826229,
          10.316844197068011,
          10.288428609577105,
          10.262553225777987,
          10.238992369654335,
          10.217540173738199,
          10.198008881828951,
          10.180227289981628,
          10.164039315759336,
          10.14930268623811,
          10.135887735768797,
          10.123676305026338,
          10.112560733402391,
          10.10244293731488,
          10.093233567511946,
          10.084851238933982,
          10.077221827162672,
          10.070277825928622,
          10.063957760567863,
          10.05820565271189,
          10.052970531865828,
          10.04820598987515,
          10.043869774603847,
          10.039923419446623,
          10.036331905575848,
          10.033063354081383,
          10.030088745399441,
          10.027381663646091,
          10.024918063673447,
          10.022676058852733,
          10.020635727759633,
          10.018778938094526,
          10.017089186314534,
          10.015551451586516,
          10.014152062791377,
          10.012878577421034,
          10.011719671310896,
          10.010665038243612,
          10.009705298544729,
          10.008831915868523,
          10.008037121443095,
          10.007313845108538,
          10.0066556525411,
          10.00605668811011,
          10.005511622863672,
          10.005015607183928,
          10.00456422769369,
          10.004153468033433,
          10.003779673161722,
          10.003439516863097,
          10.003129972175694,
          10.002848284476608,
          10.002591946986437,
          10.002358678475847,
          10.002146402976384,
          10.001953231315557,
          10.00177744431227,
          10.001617477483473,
          10.001471907126195,
          10.001339437651348,
          10.001218890056819,
          10.001109191437399,
          10.001009365438339,
          10.000918523567705,
          10.000835857290298,
          10.00076063083283,
          10.000692174636434,
          10.00062987939826,
          10.000573190649165,
          10.000521603819289,
          10.000474659747624,
          10.00043194059564,
          10.000393066128604,
          10.00035769033153,
          10.000325498329634,
          10.000296203585917,
          10.00026954535092,
          10.000245286341992,
          10.000223210631377,
          10.000203121724377,
          10.00018484081044,
          10.000168205171668,
          10.00015306673451,
          10.000139290751834,
          10.00012675460357,
          10.000115346705316,
          10.000104965515142,
          10.000095518629797,
          10.00008692196224
         ],
         "xaxis": "x",
         "y": [
          1,
          1.089,
          1.1858240789999999,
          1.2911420673636635,
          1.405677805588277,
          1.5302128779980984,
          1.665590485565936,
          1.8127194376012625,
          1.9725782352259187,
          2.1462192115021645,
          2.3347726836335383,
          2.5394510616763153,
          2.761552845532534,
          3.002466427511793,
          3.263673601339519,
          3.546752660083995,
          3.8533809450597416,
          4.185336685407369,
          4.544499943923815,
          4.932852459136634,
          5.35247614707532,
          5.805549999407089,
          6.294345088558111,
          6.821217366434485,
          7.3885979230534415,
          7.998980356859702,
          8.654904902227647,
          9.358938964561531,
          10.11365373282968,
          10.921596576956773,
          11.785258997093088,
          12.707039977202902,
          13.689204710168932,
          14.733838808487222,
          15.842798295216589,
          17.01765588396316,
          18.259644301734863,
          19.569597678865122,
          20.94789231665034,
          22.39438843263889,
          23.908374758304483,
          25.488518102968353,
          27.13282017715016,
          28.838584062328103,
          30.602392697217667,
          32.42010160117253,
          34.28684775744771,
          36.19707612647561,
          38.144584657752546,
          40.12258793823783,
          42.123798789817606,
          44.140526256416145,
          46.16478756130023,
          48.18843083123727,
          50.20326474007168,
          52.201190776116405,
          54.17433362752237,
          56.11516523001328,
          58.016618331922786,
          59.87218597912384,
          61.67600406332619,
          63.422914951806106,
          65.10851115648462,
          66.72915893555415,
          68.28200258750758,
          69.76495094302287,
          71.17664814781254,
          72.51643123955816,
          73.78427725139682,
          74.98074263451153,
          76.1068977055947,
          77.16425862072838,
          78.15471908810729,
          79.08048369029598,
          79.94400432173144,
          80.74792088369425,
          81.49500703618739,
          82.18812149761602,
          82.83016511709457,
          83.42404372430794,
          83.97263658818039,
          84.47877018554601,
          84.94519689018286,
          85.37457813558738,
          85.76947157596074,
          86.13232176337766,
          86.46545386973162,
          86.77107000510877,
          87.05124771573706,
          87.30794028128678,
          87.54297847044185,
          87.75807345330537,
          87.95482060786712,
          88.13470399441306,
          88.29910130572742,
          88.44928913184377,
          88.58644840578121,
          88.71166992115137,
          88.82595983385568,
          88.93024507849694,
          89.02537864584014,
          89.11214468093053,
          89.19126337257917,
          89.26339561411451,
          89.3291474228229,
          89.38907411158853,
          89.44368421110443,
          89.49344314484804,
          89.5387766619642,
          89.58007403541987,
          89.61769103441635,
          89.65195268117371,
          89.68315580293192,
          89.71157139042283,
          89.73744677422194,
          89.7610076303456,
          89.78245982626174,
          89.80199111817097,
          89.8197727100183,
          89.83596068424059,
          89.85069731376181,
          89.86411226423112,
          89.87632369497359,
          89.88743926659754,
          89.89755706268505,
          89.90676643248798,
          89.91514876106595,
          89.92277817283725,
          89.92972217407132,
          89.93604223943208,
          89.94179434728805,
          89.94702946813412,
          89.9517940101248,
          89.95613022539611,
          89.96007658055333,
          89.96366809442411,
          89.96693664591857,
          89.96991125460049,
          89.97261833635385,
          89.97508193632649,
          89.97732394114719,
          89.97936427224029,
          89.9812210619054,
          89.9829108136854,
          89.98444854841341,
          89.98584793720855,
          89.9871214225789,
          89.98828032868903,
          89.98933496175633,
          89.99029470145521,
          89.99116808413143,
          89.99196287855685,
          89.9926861548914,
          89.99334434745883,
          89.99394331188982,
          89.99448837713626,
          89.99498439281601,
          89.99543577230625,
          89.99584653196649,
          89.99622032683821,
          89.99656048313685,
          89.99687002782424,
          89.99715171552333,
          89.99740805301349,
          89.99764132152407,
          89.99785359702354,
          89.99804676868438,
          89.99822255568766,
          89.99838252251645,
          89.99852809287373,
          89.99866056234858,
          89.9987811099431,
          89.99889080856252,
          89.99899063456158,
          89.99908147643221,
          89.99916414270962,
          89.99923936916709,
          89.99930782536347,
          89.99937012060165,
          89.99942680935074,
          89.99947839618062,
          89.99952534025228,
          89.99956805940425,
          89.99960693387129,
          89.99964230966836,
          89.99967450167026,
          89.99970379641397,
          89.99973045464895,
          89.99975471365788,
          89.99977678936848,
          89.99979687827548,
          89.99981515918941,
          89.99983179482818,
          89.99984693326533,
          89.999860709248,
          89.99987324539626,
          89.9998846532945,
          89.99989503448467,
          89.99990448137001,
          89.99991307803758
         ],
         "yaxis": "y"
        }
       ],
       "layout": {
        "legend": {
         "tracegroupgap": 0
        },
        "template": {
         "data": {
          "bar": [
           {
            "error_x": {
             "color": "#2a3f5f"
            },
            "error_y": {
             "color": "#2a3f5f"
            },
            "marker": {
             "line": {
              "color": "#E5ECF6",
              "width": 0.5
             },
             "pattern": {
              "fillmode": "overlay",
              "size": 10,
              "solidity": 0.2
             }
            },
            "type": "bar"
           }
          ],
          "barpolar": [
           {
            "marker": {
             "line": {
              "color": "#E5ECF6",
              "width": 0.5
             },
             "pattern": {
              "fillmode": "overlay",
              "size": 10,
              "solidity": 0.2
             }
            },
            "type": "barpolar"
           }
          ],
          "carpet": [
           {
            "aaxis": {
             "endlinecolor": "#2a3f5f",
             "gridcolor": "white",
             "linecolor": "white",
             "minorgridcolor": "white",
             "startlinecolor": "#2a3f5f"
            },
            "baxis": {
             "endlinecolor": "#2a3f5f",
             "gridcolor": "white",
             "linecolor": "white",
             "minorgridcolor": "white",
             "startlinecolor": "#2a3f5f"
            },
            "type": "carpet"
           }
          ],
          "choropleth": [
           {
            "colorbar": {
             "outlinewidth": 0,
             "ticks": ""
            },
            "type": "choropleth"
           }
          ],
          "contour": [
           {
            "colorbar": {
             "outlinewidth": 0,
             "ticks": ""
            },
            "colorscale": [
             [
              0,
              "#0d0887"
             ],
             [
              0.1111111111111111,
              "#46039f"
             ],
             [
              0.2222222222222222,
              "#7201a8"
             ],
             [
              0.3333333333333333,
              "#9c179e"
             ],
             [
              0.4444444444444444,
              "#bd3786"
             ],
             [
              0.5555555555555556,
              "#d8576b"
             ],
             [
              0.6666666666666666,
              "#ed7953"
             ],
             [
              0.7777777777777778,
              "#fb9f3a"
             ],
             [
              0.8888888888888888,
              "#fdca26"
             ],
             [
              1,
              "#f0f921"
             ]
            ],
            "type": "contour"
           }
          ],
          "contourcarpet": [
           {
            "colorbar": {
             "outlinewidth": 0,
             "ticks": ""
            },
            "type": "contourcarpet"
           }
          ],
          "heatmap": [
           {
            "colorbar": {
             "outlinewidth": 0,
             "ticks": ""
            },
            "colorscale": [
             [
              0,
              "#0d0887"
             ],
             [
              0.1111111111111111,
              "#46039f"
             ],
             [
              0.2222222222222222,
              "#7201a8"
             ],
             [
              0.3333333333333333,
              "#9c179e"
             ],
             [
              0.4444444444444444,
              "#bd3786"
             ],
             [
              0.5555555555555556,
              "#d8576b"
             ],
             [
              0.6666666666666666,
              "#ed7953"
             ],
             [
              0.7777777777777778,
              "#fb9f3a"
             ],
             [
              0.8888888888888888,
              "#fdca26"
             ],
             [
              1,
              "#f0f921"
             ]
            ],
            "type": "heatmap"
           }
          ],
          "heatmapgl": [
           {
            "colorbar": {
             "outlinewidth": 0,
             "ticks": ""
            },
            "colorscale": [
             [
              0,
              "#0d0887"
             ],
             [
              0.1111111111111111,
              "#46039f"
             ],
             [
              0.2222222222222222,
              "#7201a8"
             ],
             [
              0.3333333333333333,
              "#9c179e"
             ],
             [
              0.4444444444444444,
              "#bd3786"
             ],
             [
              0.5555555555555556,
              "#d8576b"
             ],
             [
              0.6666666666666666,
              "#ed7953"
             ],
             [
              0.7777777777777778,
              "#fb9f3a"
             ],
             [
              0.8888888888888888,
              "#fdca26"
             ],
             [
              1,
              "#f0f921"
             ]
            ],
            "type": "heatmapgl"
           }
          ],
          "histogram": [
           {
            "marker": {
             "pattern": {
              "fillmode": "overlay",
              "size": 10,
              "solidity": 0.2
             }
            },
            "type": "histogram"
           }
          ],
          "histogram2d": [
           {
            "colorbar": {
             "outlinewidth": 0,
             "ticks": ""
            },
            "colorscale": [
             [
              0,
              "#0d0887"
             ],
             [
              0.1111111111111111,
              "#46039f"
             ],
             [
              0.2222222222222222,
              "#7201a8"
             ],
             [
              0.3333333333333333,
              "#9c179e"
             ],
             [
              0.4444444444444444,
              "#bd3786"
             ],
             [
              0.5555555555555556,
              "#d8576b"
             ],
             [
              0.6666666666666666,
              "#ed7953"
             ],
             [
              0.7777777777777778,
              "#fb9f3a"
             ],
             [
              0.8888888888888888,
              "#fdca26"
             ],
             [
              1,
              "#f0f921"
             ]
            ],
            "type": "histogram2d"
           }
          ],
          "histogram2dcontour": [
           {
            "colorbar": {
             "outlinewidth": 0,
             "ticks": ""
            },
            "colorscale": [
             [
              0,
              "#0d0887"
             ],
             [
              0.1111111111111111,
              "#46039f"
             ],
             [
              0.2222222222222222,
              "#7201a8"
             ],
             [
              0.3333333333333333,
              "#9c179e"
             ],
             [
              0.4444444444444444,
              "#bd3786"
             ],
             [
              0.5555555555555556,
              "#d8576b"
             ],
             [
              0.6666666666666666,
              "#ed7953"
             ],
             [
              0.7777777777777778,
              "#fb9f3a"
             ],
             [
              0.8888888888888888,
              "#fdca26"
             ],
             [
              1,
              "#f0f921"
             ]
            ],
            "type": "histogram2dcontour"
           }
          ],
          "mesh3d": [
           {
            "colorbar": {
             "outlinewidth": 0,
             "ticks": ""
            },
            "type": "mesh3d"
           }
          ],
          "parcoords": [
           {
            "line": {
             "colorbar": {
              "outlinewidth": 0,
              "ticks": ""
             }
            },
            "type": "parcoords"
           }
          ],
          "pie": [
           {
            "automargin": true,
            "type": "pie"
           }
          ],
          "scatter": [
           {
            "marker": {
             "colorbar": {
              "outlinewidth": 0,
              "ticks": ""
             }
            },
            "type": "scatter"
           }
          ],
          "scatter3d": [
           {
            "line": {
             "colorbar": {
              "outlinewidth": 0,
              "ticks": ""
             }
            },
            "marker": {
             "colorbar": {
              "outlinewidth": 0,
              "ticks": ""
             }
            },
            "type": "scatter3d"
           }
          ],
          "scattercarpet": [
           {
            "marker": {
             "colorbar": {
              "outlinewidth": 0,
              "ticks": ""
             }
            },
            "type": "scattercarpet"
           }
          ],
          "scattergeo": [
           {
            "marker": {
             "colorbar": {
              "outlinewidth": 0,
              "ticks": ""
             }
            },
            "type": "scattergeo"
           }
          ],
          "scattergl": [
           {
            "marker": {
             "colorbar": {
              "outlinewidth": 0,
              "ticks": ""
             }
            },
            "type": "scattergl"
           }
          ],
          "scattermapbox": [
           {
            "marker": {
             "colorbar": {
              "outlinewidth": 0,
              "ticks": ""
             }
            },
            "type": "scattermapbox"
           }
          ],
          "scatterpolar": [
           {
            "marker": {
             "colorbar": {
              "outlinewidth": 0,
              "ticks": ""
             }
            },
            "type": "scatterpolar"
           }
          ],
          "scatterpolargl": [
           {
            "marker": {
             "colorbar": {
              "outlinewidth": 0,
              "ticks": ""
             }
            },
            "type": "scatterpolargl"
           }
          ],
          "scatterternary": [
           {
            "marker": {
             "colorbar": {
              "outlinewidth": 0,
              "ticks": ""
             }
            },
            "type": "scatterternary"
           }
          ],
          "surface": [
           {
            "colorbar": {
             "outlinewidth": 0,
             "ticks": ""
            },
            "colorscale": [
             [
              0,
              "#0d0887"
             ],
             [
              0.1111111111111111,
              "#46039f"
             ],
             [
              0.2222222222222222,
              "#7201a8"
             ],
             [
              0.3333333333333333,
              "#9c179e"
             ],
             [
              0.4444444444444444,
              "#bd3786"
             ],
             [
              0.5555555555555556,
              "#d8576b"
             ],
             [
              0.6666666666666666,
              "#ed7953"
             ],
             [
              0.7777777777777778,
              "#fb9f3a"
             ],
             [
              0.8888888888888888,
              "#fdca26"
             ],
             [
              1,
              "#f0f921"
             ]
            ],
            "type": "surface"
           }
          ],
          "table": [
           {
            "cells": {
             "fill": {
              "color": "#EBF0F8"
             },
             "line": {
              "color": "white"
             }
            },
            "header": {
             "fill": {
              "color": "#C8D4E3"
             },
             "line": {
              "color": "white"
             }
            },
            "type": "table"
           }
          ]
         },
         "layout": {
          "annotationdefaults": {
           "arrowcolor": "#2a3f5f",
           "arrowhead": 0,
           "arrowwidth": 1
          },
          "autotypenumbers": "strict",
          "coloraxis": {
           "colorbar": {
            "outlinewidth": 0,
            "ticks": ""
           }
          },
          "colorscale": {
           "diverging": [
            [
             0,
             "#8e0152"
            ],
            [
             0.1,
             "#c51b7d"
            ],
            [
             0.2,
             "#de77ae"
            ],
            [
             0.3,
             "#f1b6da"
            ],
            [
             0.4,
             "#fde0ef"
            ],
            [
             0.5,
             "#f7f7f7"
            ],
            [
             0.6,
             "#e6f5d0"
            ],
            [
             0.7,
             "#b8e186"
            ],
            [
             0.8,
             "#7fbc41"
            ],
            [
             0.9,
             "#4d9221"
            ],
            [
             1,
             "#276419"
            ]
           ],
           "sequential": [
            [
             0,
             "#0d0887"
            ],
            [
             0.1111111111111111,
             "#46039f"
            ],
            [
             0.2222222222222222,
             "#7201a8"
            ],
            [
             0.3333333333333333,
             "#9c179e"
            ],
            [
             0.4444444444444444,
             "#bd3786"
            ],
            [
             0.5555555555555556,
             "#d8576b"
            ],
            [
             0.6666666666666666,
             "#ed7953"
            ],
            [
             0.7777777777777778,
             "#fb9f3a"
            ],
            [
             0.8888888888888888,
             "#fdca26"
            ],
            [
             1,
             "#f0f921"
            ]
           ],
           "sequentialminus": [
            [
             0,
             "#0d0887"
            ],
            [
             0.1111111111111111,
             "#46039f"
            ],
            [
             0.2222222222222222,
             "#7201a8"
            ],
            [
             0.3333333333333333,
             "#9c179e"
            ],
            [
             0.4444444444444444,
             "#bd3786"
            ],
            [
             0.5555555555555556,
             "#d8576b"
            ],
            [
             0.6666666666666666,
             "#ed7953"
            ],
            [
             0.7777777777777778,
             "#fb9f3a"
            ],
            [
             0.8888888888888888,
             "#fdca26"
            ],
            [
             1,
             "#f0f921"
            ]
           ]
          },
          "colorway": [
           "#636efa",
           "#EF553B",
           "#00cc96",
           "#ab63fa",
           "#FFA15A",
           "#19d3f3",
           "#FF6692",
           "#B6E880",
           "#FF97FF",
           "#FECB52"
          ],
          "font": {
           "color": "#2a3f5f"
          },
          "geo": {
           "bgcolor": "white",
           "lakecolor": "white",
           "landcolor": "#E5ECF6",
           "showlakes": true,
           "showland": true,
           "subunitcolor": "white"
          },
          "hoverlabel": {
           "align": "left"
          },
          "hovermode": "closest",
          "mapbox": {
           "style": "light"
          },
          "paper_bgcolor": "white",
          "plot_bgcolor": "#E5ECF6",
          "polar": {
           "angularaxis": {
            "gridcolor": "white",
            "linecolor": "white",
            "ticks": ""
           },
           "bgcolor": "#E5ECF6",
           "radialaxis": {
            "gridcolor": "white",
            "linecolor": "white",
            "ticks": ""
           }
          },
          "scene": {
           "xaxis": {
            "backgroundcolor": "#E5ECF6",
            "gridcolor": "white",
            "gridwidth": 2,
            "linecolor": "white",
            "showbackground": true,
            "ticks": "",
            "zerolinecolor": "white"
           },
           "yaxis": {
            "backgroundcolor": "#E5ECF6",
            "gridcolor": "white",
            "gridwidth": 2,
            "linecolor": "white",
            "showbackground": true,
            "ticks": "",
            "zerolinecolor": "white"
           },
           "zaxis": {
            "backgroundcolor": "#E5ECF6",
            "gridcolor": "white",
            "gridwidth": 2,
            "linecolor": "white",
            "showbackground": true,
            "ticks": "",
            "zerolinecolor": "white"
           }
          },
          "shapedefaults": {
           "line": {
            "color": "#2a3f5f"
           }
          },
          "ternary": {
           "aaxis": {
            "gridcolor": "white",
            "linecolor": "white",
            "ticks": ""
           },
           "baxis": {
            "gridcolor": "white",
            "linecolor": "white",
            "ticks": ""
           },
           "bgcolor": "#E5ECF6",
           "caxis": {
            "gridcolor": "white",
            "linecolor": "white",
            "ticks": ""
           }
          },
          "title": {
           "x": 0.05
          },
          "xaxis": {
           "automargin": true,
           "gridcolor": "white",
           "linecolor": "white",
           "ticks": "",
           "title": {
            "standoff": 15
           },
           "zerolinecolor": "white",
           "zerolinewidth": 2
          },
          "yaxis": {
           "automargin": true,
           "gridcolor": "white",
           "linecolor": "white",
           "ticks": "",
           "title": {
            "standoff": 15
           },
           "zerolinecolor": "white",
           "zerolinewidth": 2
          }
         }
        },
        "title": {
         "text": "Modelo SIS"
        },
        "xaxis": {
         "anchor": "y",
         "domain": [
          0,
          1
         ],
         "title": {
          "text": "Susceptibles"
         }
        },
        "yaxis": {
         "anchor": "x",
         "domain": [
          0,
          1
         ],
         "title": {
          "text": "Infectados"
         }
        }
       }
      },
      "text/html": [
       "<div>                            <div id=\"0c36f0c2-79cf-4812-8f0e-4c2e7a05023d\" class=\"plotly-graph-div\" style=\"height:525px; width:100%;\"></div>            <script type=\"text/javascript\">                require([\"plotly\"], function(Plotly) {                    window.PLOTLYENV=window.PLOTLYENV || {};                                    if (document.getElementById(\"0c36f0c2-79cf-4812-8f0e-4c2e7a05023d\")) {                    Plotly.newPlot(                        \"0c36f0c2-79cf-4812-8f0e-4c2e7a05023d\",                        [{\"hovertemplate\":\"Susceptibles=%{x}<br>Infectados=%{y}<extra></extra>\",\"legendgroup\":\"\",\"line\":{\"color\":\"#636efa\",\"dash\":\"solid\"},\"marker\":{\"symbol\":\"circle\"},\"mode\":\"markers+lines\",\"name\":\"\",\"orientation\":\"v\",\"showlegend\":false,\"type\":\"scatter\",\"x\":[99.0,98.911,98.814175921,98.70885793263633,98.59432219441172,98.4697871220019,98.33440951443406,98.18728056239873,98.02742176477406,97.85378078849782,97.66522731636644,97.46054893832365,97.23844715446744,96.99753357248818,96.73632639866045,96.45324733991599,96.14661905494025,95.81466331459262,95.45550005607618,95.06714754086336,94.64752385292466,94.1944500005929,93.70565491144187,93.1787826335655,92.61140207694655,92.0010196431403,91.34509509777234,90.64106103543847,89.88634626717032,89.07840342304324,88.21474100290692,87.29296002279712,86.31079528983108,85.2661611915128,84.15720170478343,82.98234411603686,81.74035569826515,80.43040232113488,79.05210768334966,77.6056115673611,76.09162524169551,74.51148189703163,72.86717982284982,71.16141593767188,69.3976073027823,67.57989839882744,65.71315224255227,63.80292387352437,61.85541534224744,59.877412061762165,57.87620121018239,55.859473743583834,53.83521243869974,51.8115691687627,49.79673525992829,47.798809223883566,45.82566637247759,43.88483476998668,41.98338166807718,40.12781402087613,38.32399593667378,36.57708504819385,34.89148884351534,33.27084106444581,31.717997412492387,30.235049056977097,28.823351852187425,27.483568760441806,26.215722748603138,25.01925736548842,23.893102294405242,22.83574137927158,21.845280911892687,20.919516309703994,20.055995678268527,19.252079116305715,18.50499296381258,17.811878502383948,17.169834882905402,16.575956275692043,16.027363411819575,15.521229814453953,15.054803109817112,14.625421864412587,14.23052842403924,13.867678236622313,13.534546130268346,13.22892999489119,12.948752284262893,12.69205971871318,12.457021529558112,12.241926546694595,12.045179392132855,11.865296005586902,11.700898694272539,11.55071086815619,11.413551594218749,11.28833007884858,11.174040166144273,11.069754921503009,10.974621354159819,10.88785531906942,10.808736627420773,10.736604385885434,10.67085257717705,10.61092588841142,10.556315788895525,10.506556855151903,10.461223338035731,10.419925964580065,10.382308965583587,10.348047318826229,10.316844197068011,10.288428609577105,10.262553225777987,10.238992369654335,10.217540173738199,10.198008881828951,10.180227289981628,10.164039315759336,10.14930268623811,10.135887735768797,10.123676305026338,10.112560733402391,10.10244293731488,10.093233567511946,10.084851238933982,10.077221827162672,10.070277825928622,10.063957760567863,10.05820565271189,10.052970531865828,10.04820598987515,10.043869774603847,10.039923419446623,10.036331905575848,10.033063354081383,10.030088745399441,10.027381663646091,10.024918063673447,10.022676058852733,10.020635727759633,10.018778938094526,10.017089186314534,10.015551451586516,10.014152062791377,10.012878577421034,10.011719671310896,10.010665038243612,10.009705298544729,10.008831915868523,10.008037121443095,10.007313845108538,10.0066556525411,10.00605668811011,10.005511622863672,10.005015607183928,10.00456422769369,10.004153468033433,10.003779673161722,10.003439516863097,10.003129972175694,10.002848284476608,10.002591946986437,10.002358678475847,10.002146402976384,10.001953231315557,10.00177744431227,10.001617477483473,10.001471907126195,10.001339437651348,10.001218890056819,10.001109191437399,10.001009365438339,10.000918523567705,10.000835857290298,10.00076063083283,10.000692174636434,10.00062987939826,10.000573190649165,10.000521603819289,10.000474659747624,10.00043194059564,10.000393066128604,10.00035769033153,10.000325498329634,10.000296203585917,10.00026954535092,10.000245286341992,10.000223210631377,10.000203121724377,10.00018484081044,10.000168205171668,10.00015306673451,10.000139290751834,10.00012675460357,10.000115346705316,10.000104965515142,10.000095518629797,10.00008692196224],\"xaxis\":\"x\",\"y\":[1.0,1.089,1.1858240789999999,1.2911420673636635,1.405677805588277,1.5302128779980984,1.665590485565936,1.8127194376012625,1.9725782352259187,2.1462192115021645,2.3347726836335383,2.5394510616763153,2.761552845532534,3.002466427511793,3.263673601339519,3.546752660083995,3.8533809450597416,4.185336685407369,4.544499943923815,4.932852459136634,5.35247614707532,5.805549999407089,6.294345088558111,6.821217366434485,7.3885979230534415,7.998980356859702,8.654904902227647,9.358938964561531,10.11365373282968,10.921596576956773,11.785258997093088,12.707039977202902,13.689204710168932,14.733838808487222,15.842798295216589,17.01765588396316,18.259644301734863,19.569597678865122,20.94789231665034,22.39438843263889,23.908374758304483,25.488518102968353,27.13282017715016,28.838584062328103,30.602392697217667,32.42010160117253,34.28684775744771,36.19707612647561,38.144584657752546,40.12258793823783,42.123798789817606,44.140526256416145,46.16478756130023,48.18843083123727,50.20326474007168,52.201190776116405,54.17433362752237,56.11516523001328,58.016618331922786,59.87218597912384,61.67600406332619,63.422914951806106,65.10851115648462,66.72915893555415,68.28200258750758,69.76495094302287,71.17664814781254,72.51643123955816,73.78427725139682,74.98074263451153,76.1068977055947,77.16425862072838,78.15471908810729,79.08048369029598,79.94400432173144,80.74792088369425,81.49500703618739,82.18812149761602,82.83016511709457,83.42404372430794,83.97263658818039,84.47877018554601,84.94519689018286,85.37457813558738,85.76947157596074,86.13232176337766,86.46545386973162,86.77107000510877,87.05124771573706,87.30794028128678,87.54297847044185,87.75807345330537,87.95482060786712,88.13470399441306,88.29910130572742,88.44928913184377,88.58644840578121,88.71166992115137,88.82595983385568,88.93024507849694,89.02537864584014,89.11214468093053,89.19126337257917,89.26339561411451,89.3291474228229,89.38907411158853,89.44368421110443,89.49344314484804,89.5387766619642,89.58007403541987,89.61769103441635,89.65195268117371,89.68315580293192,89.71157139042283,89.73744677422194,89.7610076303456,89.78245982626174,89.80199111817097,89.8197727100183,89.83596068424059,89.85069731376181,89.86411226423112,89.87632369497359,89.88743926659754,89.89755706268505,89.90676643248798,89.91514876106595,89.92277817283725,89.92972217407132,89.93604223943208,89.94179434728805,89.94702946813412,89.9517940101248,89.95613022539611,89.96007658055333,89.96366809442411,89.96693664591857,89.96991125460049,89.97261833635385,89.97508193632649,89.97732394114719,89.97936427224029,89.9812210619054,89.9829108136854,89.98444854841341,89.98584793720855,89.9871214225789,89.98828032868903,89.98933496175633,89.99029470145521,89.99116808413143,89.99196287855685,89.9926861548914,89.99334434745883,89.99394331188982,89.99448837713626,89.99498439281601,89.99543577230625,89.99584653196649,89.99622032683821,89.99656048313685,89.99687002782424,89.99715171552333,89.99740805301349,89.99764132152407,89.99785359702354,89.99804676868438,89.99822255568766,89.99838252251645,89.99852809287373,89.99866056234858,89.9987811099431,89.99889080856252,89.99899063456158,89.99908147643221,89.99916414270962,89.99923936916709,89.99930782536347,89.99937012060165,89.99942680935074,89.99947839618062,89.99952534025228,89.99956805940425,89.99960693387129,89.99964230966836,89.99967450167026,89.99970379641397,89.99973045464895,89.99975471365788,89.99977678936848,89.99979687827548,89.99981515918941,89.99983179482818,89.99984693326533,89.999860709248,89.99987324539626,89.9998846532945,89.99989503448467,89.99990448137001,89.99991307803758],\"yaxis\":\"y\"}],                        {\"legend\":{\"tracegroupgap\":0},\"template\":{\"data\":{\"bar\":[{\"error_x\":{\"color\":\"#2a3f5f\"},\"error_y\":{\"color\":\"#2a3f5f\"},\"marker\":{\"line\":{\"color\":\"#E5ECF6\",\"width\":0.5},\"pattern\":{\"fillmode\":\"overlay\",\"size\":10,\"solidity\":0.2}},\"type\":\"bar\"}],\"barpolar\":[{\"marker\":{\"line\":{\"color\":\"#E5ECF6\",\"width\":0.5},\"pattern\":{\"fillmode\":\"overlay\",\"size\":10,\"solidity\":0.2}},\"type\":\"barpolar\"}],\"carpet\":[{\"aaxis\":{\"endlinecolor\":\"#2a3f5f\",\"gridcolor\":\"white\",\"linecolor\":\"white\",\"minorgridcolor\":\"white\",\"startlinecolor\":\"#2a3f5f\"},\"baxis\":{\"endlinecolor\":\"#2a3f5f\",\"gridcolor\":\"white\",\"linecolor\":\"white\",\"minorgridcolor\":\"white\",\"startlinecolor\":\"#2a3f5f\"},\"type\":\"carpet\"}],\"choropleth\":[{\"colorbar\":{\"outlinewidth\":0,\"ticks\":\"\"},\"type\":\"choropleth\"}],\"contour\":[{\"colorbar\":{\"outlinewidth\":0,\"ticks\":\"\"},\"colorscale\":[[0.0,\"#0d0887\"],[0.1111111111111111,\"#46039f\"],[0.2222222222222222,\"#7201a8\"],[0.3333333333333333,\"#9c179e\"],[0.4444444444444444,\"#bd3786\"],[0.5555555555555556,\"#d8576b\"],[0.6666666666666666,\"#ed7953\"],[0.7777777777777778,\"#fb9f3a\"],[0.8888888888888888,\"#fdca26\"],[1.0,\"#f0f921\"]],\"type\":\"contour\"}],\"contourcarpet\":[{\"colorbar\":{\"outlinewidth\":0,\"ticks\":\"\"},\"type\":\"contourcarpet\"}],\"heatmap\":[{\"colorbar\":{\"outlinewidth\":0,\"ticks\":\"\"},\"colorscale\":[[0.0,\"#0d0887\"],[0.1111111111111111,\"#46039f\"],[0.2222222222222222,\"#7201a8\"],[0.3333333333333333,\"#9c179e\"],[0.4444444444444444,\"#bd3786\"],[0.5555555555555556,\"#d8576b\"],[0.6666666666666666,\"#ed7953\"],[0.7777777777777778,\"#fb9f3a\"],[0.8888888888888888,\"#fdca26\"],[1.0,\"#f0f921\"]],\"type\":\"heatmap\"}],\"heatmapgl\":[{\"colorbar\":{\"outlinewidth\":0,\"ticks\":\"\"},\"colorscale\":[[0.0,\"#0d0887\"],[0.1111111111111111,\"#46039f\"],[0.2222222222222222,\"#7201a8\"],[0.3333333333333333,\"#9c179e\"],[0.4444444444444444,\"#bd3786\"],[0.5555555555555556,\"#d8576b\"],[0.6666666666666666,\"#ed7953\"],[0.7777777777777778,\"#fb9f3a\"],[0.8888888888888888,\"#fdca26\"],[1.0,\"#f0f921\"]],\"type\":\"heatmapgl\"}],\"histogram\":[{\"marker\":{\"pattern\":{\"fillmode\":\"overlay\",\"size\":10,\"solidity\":0.2}},\"type\":\"histogram\"}],\"histogram2d\":[{\"colorbar\":{\"outlinewidth\":0,\"ticks\":\"\"},\"colorscale\":[[0.0,\"#0d0887\"],[0.1111111111111111,\"#46039f\"],[0.2222222222222222,\"#7201a8\"],[0.3333333333333333,\"#9c179e\"],[0.4444444444444444,\"#bd3786\"],[0.5555555555555556,\"#d8576b\"],[0.6666666666666666,\"#ed7953\"],[0.7777777777777778,\"#fb9f3a\"],[0.8888888888888888,\"#fdca26\"],[1.0,\"#f0f921\"]],\"type\":\"histogram2d\"}],\"histogram2dcontour\":[{\"colorbar\":{\"outlinewidth\":0,\"ticks\":\"\"},\"colorscale\":[[0.0,\"#0d0887\"],[0.1111111111111111,\"#46039f\"],[0.2222222222222222,\"#7201a8\"],[0.3333333333333333,\"#9c179e\"],[0.4444444444444444,\"#bd3786\"],[0.5555555555555556,\"#d8576b\"],[0.6666666666666666,\"#ed7953\"],[0.7777777777777778,\"#fb9f3a\"],[0.8888888888888888,\"#fdca26\"],[1.0,\"#f0f921\"]],\"type\":\"histogram2dcontour\"}],\"mesh3d\":[{\"colorbar\":{\"outlinewidth\":0,\"ticks\":\"\"},\"type\":\"mesh3d\"}],\"parcoords\":[{\"line\":{\"colorbar\":{\"outlinewidth\":0,\"ticks\":\"\"}},\"type\":\"parcoords\"}],\"pie\":[{\"automargin\":true,\"type\":\"pie\"}],\"scatter\":[{\"marker\":{\"colorbar\":{\"outlinewidth\":0,\"ticks\":\"\"}},\"type\":\"scatter\"}],\"scatter3d\":[{\"line\":{\"colorbar\":{\"outlinewidth\":0,\"ticks\":\"\"}},\"marker\":{\"colorbar\":{\"outlinewidth\":0,\"ticks\":\"\"}},\"type\":\"scatter3d\"}],\"scattercarpet\":[{\"marker\":{\"colorbar\":{\"outlinewidth\":0,\"ticks\":\"\"}},\"type\":\"scattercarpet\"}],\"scattergeo\":[{\"marker\":{\"colorbar\":{\"outlinewidth\":0,\"ticks\":\"\"}},\"type\":\"scattergeo\"}],\"scattergl\":[{\"marker\":{\"colorbar\":{\"outlinewidth\":0,\"ticks\":\"\"}},\"type\":\"scattergl\"}],\"scattermapbox\":[{\"marker\":{\"colorbar\":{\"outlinewidth\":0,\"ticks\":\"\"}},\"type\":\"scattermapbox\"}],\"scatterpolar\":[{\"marker\":{\"colorbar\":{\"outlinewidth\":0,\"ticks\":\"\"}},\"type\":\"scatterpolar\"}],\"scatterpolargl\":[{\"marker\":{\"colorbar\":{\"outlinewidth\":0,\"ticks\":\"\"}},\"type\":\"scatterpolargl\"}],\"scatterternary\":[{\"marker\":{\"colorbar\":{\"outlinewidth\":0,\"ticks\":\"\"}},\"type\":\"scatterternary\"}],\"surface\":[{\"colorbar\":{\"outlinewidth\":0,\"ticks\":\"\"},\"colorscale\":[[0.0,\"#0d0887\"],[0.1111111111111111,\"#46039f\"],[0.2222222222222222,\"#7201a8\"],[0.3333333333333333,\"#9c179e\"],[0.4444444444444444,\"#bd3786\"],[0.5555555555555556,\"#d8576b\"],[0.6666666666666666,\"#ed7953\"],[0.7777777777777778,\"#fb9f3a\"],[0.8888888888888888,\"#fdca26\"],[1.0,\"#f0f921\"]],\"type\":\"surface\"}],\"table\":[{\"cells\":{\"fill\":{\"color\":\"#EBF0F8\"},\"line\":{\"color\":\"white\"}},\"header\":{\"fill\":{\"color\":\"#C8D4E3\"},\"line\":{\"color\":\"white\"}},\"type\":\"table\"}]},\"layout\":{\"annotationdefaults\":{\"arrowcolor\":\"#2a3f5f\",\"arrowhead\":0,\"arrowwidth\":1},\"autotypenumbers\":\"strict\",\"coloraxis\":{\"colorbar\":{\"outlinewidth\":0,\"ticks\":\"\"}},\"colorscale\":{\"diverging\":[[0,\"#8e0152\"],[0.1,\"#c51b7d\"],[0.2,\"#de77ae\"],[0.3,\"#f1b6da\"],[0.4,\"#fde0ef\"],[0.5,\"#f7f7f7\"],[0.6,\"#e6f5d0\"],[0.7,\"#b8e186\"],[0.8,\"#7fbc41\"],[0.9,\"#4d9221\"],[1,\"#276419\"]],\"sequential\":[[0.0,\"#0d0887\"],[0.1111111111111111,\"#46039f\"],[0.2222222222222222,\"#7201a8\"],[0.3333333333333333,\"#9c179e\"],[0.4444444444444444,\"#bd3786\"],[0.5555555555555556,\"#d8576b\"],[0.6666666666666666,\"#ed7953\"],[0.7777777777777778,\"#fb9f3a\"],[0.8888888888888888,\"#fdca26\"],[1.0,\"#f0f921\"]],\"sequentialminus\":[[0.0,\"#0d0887\"],[0.1111111111111111,\"#46039f\"],[0.2222222222222222,\"#7201a8\"],[0.3333333333333333,\"#9c179e\"],[0.4444444444444444,\"#bd3786\"],[0.5555555555555556,\"#d8576b\"],[0.6666666666666666,\"#ed7953\"],[0.7777777777777778,\"#fb9f3a\"],[0.8888888888888888,\"#fdca26\"],[1.0,\"#f0f921\"]]},\"colorway\":[\"#636efa\",\"#EF553B\",\"#00cc96\",\"#ab63fa\",\"#FFA15A\",\"#19d3f3\",\"#FF6692\",\"#B6E880\",\"#FF97FF\",\"#FECB52\"],\"font\":{\"color\":\"#2a3f5f\"},\"geo\":{\"bgcolor\":\"white\",\"lakecolor\":\"white\",\"landcolor\":\"#E5ECF6\",\"showlakes\":true,\"showland\":true,\"subunitcolor\":\"white\"},\"hoverlabel\":{\"align\":\"left\"},\"hovermode\":\"closest\",\"mapbox\":{\"style\":\"light\"},\"paper_bgcolor\":\"white\",\"plot_bgcolor\":\"#E5ECF6\",\"polar\":{\"angularaxis\":{\"gridcolor\":\"white\",\"linecolor\":\"white\",\"ticks\":\"\"},\"bgcolor\":\"#E5ECF6\",\"radialaxis\":{\"gridcolor\":\"white\",\"linecolor\":\"white\",\"ticks\":\"\"}},\"scene\":{\"xaxis\":{\"backgroundcolor\":\"#E5ECF6\",\"gridcolor\":\"white\",\"gridwidth\":2,\"linecolor\":\"white\",\"showbackground\":true,\"ticks\":\"\",\"zerolinecolor\":\"white\"},\"yaxis\":{\"backgroundcolor\":\"#E5ECF6\",\"gridcolor\":\"white\",\"gridwidth\":2,\"linecolor\":\"white\",\"showbackground\":true,\"ticks\":\"\",\"zerolinecolor\":\"white\"},\"zaxis\":{\"backgroundcolor\":\"#E5ECF6\",\"gridcolor\":\"white\",\"gridwidth\":2,\"linecolor\":\"white\",\"showbackground\":true,\"ticks\":\"\",\"zerolinecolor\":\"white\"}},\"shapedefaults\":{\"line\":{\"color\":\"#2a3f5f\"}},\"ternary\":{\"aaxis\":{\"gridcolor\":\"white\",\"linecolor\":\"white\",\"ticks\":\"\"},\"baxis\":{\"gridcolor\":\"white\",\"linecolor\":\"white\",\"ticks\":\"\"},\"bgcolor\":\"#E5ECF6\",\"caxis\":{\"gridcolor\":\"white\",\"linecolor\":\"white\",\"ticks\":\"\"}},\"title\":{\"x\":0.05},\"xaxis\":{\"automargin\":true,\"gridcolor\":\"white\",\"linecolor\":\"white\",\"ticks\":\"\",\"title\":{\"standoff\":15},\"zerolinecolor\":\"white\",\"zerolinewidth\":2},\"yaxis\":{\"automargin\":true,\"gridcolor\":\"white\",\"linecolor\":\"white\",\"ticks\":\"\",\"title\":{\"standoff\":15},\"zerolinecolor\":\"white\",\"zerolinewidth\":2}}},\"title\":{\"text\":\"Modelo SIS\"},\"xaxis\":{\"anchor\":\"y\",\"domain\":[0.0,1.0],\"title\":{\"text\":\"Susceptibles\"}},\"yaxis\":{\"anchor\":\"x\",\"domain\":[0.0,1.0],\"title\":{\"text\":\"Infectados\"}}},                        {\"responsive\": true}                    ).then(function(){\n",
       "                            \n",
       "var gd = document.getElementById('0c36f0c2-79cf-4812-8f0e-4c2e7a05023d');\n",
       "var x = new MutationObserver(function (mutations, observer) {{\n",
       "        var display = window.getComputedStyle(gd).display;\n",
       "        if (!display || display === 'none') {{\n",
       "            console.log([gd, 'removed!']);\n",
       "            Plotly.purge(gd);\n",
       "            observer.disconnect();\n",
       "        }}\n",
       "}});\n",
       "\n",
       "// Listen for the removal of the full notebook cells\n",
       "var notebookContainer = gd.closest('#notebook-container');\n",
       "if (notebookContainer) {{\n",
       "    x.observe(notebookContainer, {childList: true});\n",
       "}}\n",
       "\n",
       "// Listen for the clearing of the current output cell\n",
       "var outputEl = gd.closest('.output');\n",
       "if (outputEl) {{\n",
       "    x.observe(outputEl, {childList: true});\n",
       "}}\n",
       "\n",
       "                        })                };                });            </script>        </div>"
      ]
     },
     "metadata": {},
     "output_type": "display_data"
    }
   ],
   "source": [
    "N = 100\n",
    "\n",
    "S0 = 99\n",
    "I0 = 1\n",
    "\n",
    "alfa = 0.1\n",
    "gamma = 0.01\n",
    "\n",
    "T0 = 0\n",
    "T = 200\n",
    "\n",
    "secciones = 200 #deltaT en realidad es (T-T0)/secciones\n",
    "\n",
    "deltaT = (T-T0)/secciones\n",
    "\n",
    "tiempo = np.linspace(T0, T, secciones)\n",
    "\n",
    "S = np.linspace(T0, T, secciones)\n",
    "I = np.linspace(T0, T, secciones)\n",
    "\n",
    "S[0] = S0\n",
    "I[0] = I0\n",
    "\n",
    "for j in range (secciones-1):\n",
    "    S[j+1] = S[j]*(1-(alfa*deltaT/N)*I[j])+gamma*deltaT*I[j]\n",
    "    I[j+1] = I[j]*(1-gamma*deltaT+(alfa*deltaT/N)*S[j])\n",
    "\n",
    "# Figura\n",
    "df = pd.DataFrame({'Susceptibles':S, 'Infectados':I})\n",
    "fig = px.line(df, x=\"Susceptibles\", y=\"Infectados\", title=\"Modelo SIS\", markers=True) \n",
    "fig.show()\n",
    "\n",
    "# Guardar svg\n",
    "fig.write_image(\"./graficas_avanzadas_modelos_basicos/SIS_IsobreS.eps\")"
   ]
  },
  {
   "cell_type": "code",
   "execution_count": null,
   "id": "d106b930",
   "metadata": {},
   "outputs": [],
   "source": []
  },
  {
   "cell_type": "code",
   "execution_count": null,
   "id": "d6b87d9e",
   "metadata": {},
   "outputs": [],
   "source": []
  }
 ],
 "metadata": {
  "kernelspec": {
   "display_name": "Python 3 (ipykernel)",
   "language": "python",
   "name": "python3"
  },
  "language_info": {
   "codemirror_mode": {
    "name": "ipython",
    "version": 3
   },
   "file_extension": ".py",
   "mimetype": "text/x-python",
   "name": "python",
   "nbconvert_exporter": "python",
   "pygments_lexer": "ipython3",
   "version": "3.8.8"
  }
 },
 "nbformat": 4,
 "nbformat_minor": 5
}
