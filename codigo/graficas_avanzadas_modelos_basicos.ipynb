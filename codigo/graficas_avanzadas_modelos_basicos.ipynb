{
 "cells": [
  {
   "cell_type": "markdown",
   "id": "c1a57ae9",
   "metadata": {},
   "source": [
    "# Implementación de modelos discretos\n",
    "\n",
    "> Por Ana Buendía Ruiz-Azuaga"
   ]
  },
  {
   "cell_type": "code",
   "execution_count": 24,
   "id": "d6e6ea44",
   "metadata": {},
   "outputs": [],
   "source": [
    "import plotly.express as px\n",
    "import plotly.graph_objects as go\n",
    "import numpy as np\n",
    "import pandas as pd"
   ]
  },
  {
   "cell_type": "markdown",
   "id": "c4357920",
   "metadata": {},
   "source": [
    "## Modelo SI"
   ]
  },
  {
   "cell_type": "code",
   "execution_count": 20,
   "id": "0666aa94",
   "metadata": {},
   "outputs": [
    {
     "data": {
      "application/vnd.plotly.v1+json": {
       "config": {
        "plotlyServerURL": "https://plot.ly"
       },
       "data": [
        {
         "hovertemplate": "Susceptibles=%{x}<br>Infectados=%{y}<extra></extra>",
         "legendgroup": "",
         "line": {
          "color": "#636efa",
          "dash": "solid"
         },
         "marker": {
          "symbol": "circle"
         },
         "mode": "lines+markers",
         "name": "",
         "orientation": "v",
         "showlegend": false,
         "type": "scatter",
         "x": [
          99,
          98.901,
          98.792307801,
          98.67299710154754,
          98.5420577483948,
          98.39838911884328,
          98.24079318814225,
          98.06796731556337,
          97.87849679741343,
          97.67084725299337,
          97.44335693081159,
          97.19422904767598,
          96.92152430308047,
          96.62315374600504,
          96.29687221122867,
          95.9402725877715,
          95.55078123321026,
          95.12565490416604,
          94.66197963469592,
          94.15667205958592,
          93.60648374696373,
          93.00800917173794,
          92.35769802465423,
          91.65187260660203,
          90.88675109823862,
          90.05847751360793,
          89.16315913431615,
          88.19691216769591,
          87.15591626684258,
          86.0364783804712,
          84.83510615453736,
          83.54859077533524,
          82.17409871834614,
          80.70927134668403,
          79.15233069332831,
          77.50218907818149,
          75.75855948227353,
          73.92206286887534,
          71.99432796077777,
          69.97807842322402,
          67.87720204070851,
          65.69679639351283,
          63.44318581053222,
          61.12390505526871,
          58.74764631894734,
          56.324167635068726,
          53.864162731345175,
          51.37909448495949,
          48.880996386557925,
          46.38224855564482,
          43.89533668115796,
          41.43260359539437,
          39.006003876548014,
          36.62687182731049,
          34.30571238443367,
          32.05202304819379,
          29.874152924856354,
          27.77920264534842,
          25.77296648042491,
          23.859915633583523,
          22.043219644266895,
          20.324801212125596,
          18.70541863522546,
          17.18476945802195,
          15.76160881354512,
          14.43387624458183,
          13.19882540356755,
          12.053151855244653,
          10.993115139365775,
          10.014652205896551,
          9.113480244111964,
          8.285187741860586,
          7.525313303592403,
          6.829412313550387,
          6.193111954743821,
          5.612155394953429,
          5.08243614363519,
          4.600023686425801,
          4.1611815356988995,
          3.7623788139020506,
          3.400296426851144,
          3.071828799956486,
          2.774082052137079,
          2.50436937815536,
          2.260204306322066,
          2.0392923991961758,
          1.8395218727659775,
          1.658953526209764,
          1.4958103003909113,
          1.3484667188065755,
          1.215438409417647,
          1.0953718590029697,
          0.9870345126121683,
          0.8893052984800389,
          0.8011656325459396,
          0.7216909356621184,
          0.6500426799025234,
          0.5854609673979658,
          0.5272576352025158,
          0.4748098722961435
         ],
         "xaxis": "x",
         "y": [
          1,
          1.099,
          1.2076921989999998,
          1.3270028984524744,
          1.4579422516052207,
          1.6016108811567271,
          1.7592068118577604,
          1.9320326844366496,
          2.121503202586583,
          2.329152747006656,
          2.5566430691884334,
          2.8057709523240475,
          3.078475696919547,
          3.3768462539949775,
          3.703127788771355,
          4.05972741222852,
          4.449218766789773,
          4.874345095833997,
          5.338020365304116,
          5.8433279404141265,
          6.3935162530363145,
          6.991990828262106,
          7.642301975345816,
          8.348127393398025,
          9.113248901761425,
          9.941522486392111,
          10.836840865683884,
          11.803087832304115,
          12.844083733157442,
          13.963521619528825,
          15.16489384546266,
          16.451409224664776,
          17.82590128165387,
          19.290728653315988,
          20.84766930667172,
          22.49781092181855,
          24.24144051772651,
          26.077937131124692,
          28.00567203922227,
          30.02192157677602,
          32.12279795929153,
          34.30320360648722,
          36.55681418946783,
          38.876094944731335,
          41.25235368105271,
          43.675832364931324,
          46.135837268654875,
          48.62090551504056,
          51.11900361344212,
          53.61775144435523,
          56.1046633188421,
          58.56739640460568,
          60.99399612345204,
          63.37312817268957,
          65.69428761556638,
          67.94797695180627,
          70.1258470751437,
          72.22079735465162,
          74.22703351957514,
          76.14008436641653,
          77.95678035573316,
          79.67519878787445,
          81.29458136477459,
          82.8152305419781,
          84.23839118645493,
          85.56612375541822,
          86.8011745964325,
          87.94684814475539,
          89.00688486063427,
          89.9853477941035,
          90.88651975588809,
          91.71481225813946,
          92.47468669640764,
          93.17058768644966,
          93.80688804525623,
          94.38784460504662,
          94.91756385636486,
          95.39997631357426,
          95.83881846430117,
          96.23762118609802,
          96.59970357314893,
          96.9281712000436,
          97.225917947863,
          97.49563062184473,
          97.73979569367803,
          97.96070760080391,
          98.1604781272341,
          98.34104647379031,
          98.50418969960916,
          98.65153328119348,
          98.78456159058241,
          98.90462814099709,
          99.01296548738789,
          99.11069470152002,
          99.19883436745411,
          99.27830906433793,
          99.34995732009753,
          99.4145390326021,
          99.47274236479754,
          99.52519012770391
         ],
         "yaxis": "y"
        }
       ],
       "layout": {
        "legend": {
         "tracegroupgap": 0
        },
        "template": {
         "data": {
          "bar": [
           {
            "error_x": {
             "color": "#2a3f5f"
            },
            "error_y": {
             "color": "#2a3f5f"
            },
            "marker": {
             "line": {
              "color": "#E5ECF6",
              "width": 0.5
             },
             "pattern": {
              "fillmode": "overlay",
              "size": 10,
              "solidity": 0.2
             }
            },
            "type": "bar"
           }
          ],
          "barpolar": [
           {
            "marker": {
             "line": {
              "color": "#E5ECF6",
              "width": 0.5
             },
             "pattern": {
              "fillmode": "overlay",
              "size": 10,
              "solidity": 0.2
             }
            },
            "type": "barpolar"
           }
          ],
          "carpet": [
           {
            "aaxis": {
             "endlinecolor": "#2a3f5f",
             "gridcolor": "white",
             "linecolor": "white",
             "minorgridcolor": "white",
             "startlinecolor": "#2a3f5f"
            },
            "baxis": {
             "endlinecolor": "#2a3f5f",
             "gridcolor": "white",
             "linecolor": "white",
             "minorgridcolor": "white",
             "startlinecolor": "#2a3f5f"
            },
            "type": "carpet"
           }
          ],
          "choropleth": [
           {
            "colorbar": {
             "outlinewidth": 0,
             "ticks": ""
            },
            "type": "choropleth"
           }
          ],
          "contour": [
           {
            "colorbar": {
             "outlinewidth": 0,
             "ticks": ""
            },
            "colorscale": [
             [
              0,
              "#0d0887"
             ],
             [
              0.1111111111111111,
              "#46039f"
             ],
             [
              0.2222222222222222,
              "#7201a8"
             ],
             [
              0.3333333333333333,
              "#9c179e"
             ],
             [
              0.4444444444444444,
              "#bd3786"
             ],
             [
              0.5555555555555556,
              "#d8576b"
             ],
             [
              0.6666666666666666,
              "#ed7953"
             ],
             [
              0.7777777777777778,
              "#fb9f3a"
             ],
             [
              0.8888888888888888,
              "#fdca26"
             ],
             [
              1,
              "#f0f921"
             ]
            ],
            "type": "contour"
           }
          ],
          "contourcarpet": [
           {
            "colorbar": {
             "outlinewidth": 0,
             "ticks": ""
            },
            "type": "contourcarpet"
           }
          ],
          "heatmap": [
           {
            "colorbar": {
             "outlinewidth": 0,
             "ticks": ""
            },
            "colorscale": [
             [
              0,
              "#0d0887"
             ],
             [
              0.1111111111111111,
              "#46039f"
             ],
             [
              0.2222222222222222,
              "#7201a8"
             ],
             [
              0.3333333333333333,
              "#9c179e"
             ],
             [
              0.4444444444444444,
              "#bd3786"
             ],
             [
              0.5555555555555556,
              "#d8576b"
             ],
             [
              0.6666666666666666,
              "#ed7953"
             ],
             [
              0.7777777777777778,
              "#fb9f3a"
             ],
             [
              0.8888888888888888,
              "#fdca26"
             ],
             [
              1,
              "#f0f921"
             ]
            ],
            "type": "heatmap"
           }
          ],
          "heatmapgl": [
           {
            "colorbar": {
             "outlinewidth": 0,
             "ticks": ""
            },
            "colorscale": [
             [
              0,
              "#0d0887"
             ],
             [
              0.1111111111111111,
              "#46039f"
             ],
             [
              0.2222222222222222,
              "#7201a8"
             ],
             [
              0.3333333333333333,
              "#9c179e"
             ],
             [
              0.4444444444444444,
              "#bd3786"
             ],
             [
              0.5555555555555556,
              "#d8576b"
             ],
             [
              0.6666666666666666,
              "#ed7953"
             ],
             [
              0.7777777777777778,
              "#fb9f3a"
             ],
             [
              0.8888888888888888,
              "#fdca26"
             ],
             [
              1,
              "#f0f921"
             ]
            ],
            "type": "heatmapgl"
           }
          ],
          "histogram": [
           {
            "marker": {
             "pattern": {
              "fillmode": "overlay",
              "size": 10,
              "solidity": 0.2
             }
            },
            "type": "histogram"
           }
          ],
          "histogram2d": [
           {
            "colorbar": {
             "outlinewidth": 0,
             "ticks": ""
            },
            "colorscale": [
             [
              0,
              "#0d0887"
             ],
             [
              0.1111111111111111,
              "#46039f"
             ],
             [
              0.2222222222222222,
              "#7201a8"
             ],
             [
              0.3333333333333333,
              "#9c179e"
             ],
             [
              0.4444444444444444,
              "#bd3786"
             ],
             [
              0.5555555555555556,
              "#d8576b"
             ],
             [
              0.6666666666666666,
              "#ed7953"
             ],
             [
              0.7777777777777778,
              "#fb9f3a"
             ],
             [
              0.8888888888888888,
              "#fdca26"
             ],
             [
              1,
              "#f0f921"
             ]
            ],
            "type": "histogram2d"
           }
          ],
          "histogram2dcontour": [
           {
            "colorbar": {
             "outlinewidth": 0,
             "ticks": ""
            },
            "colorscale": [
             [
              0,
              "#0d0887"
             ],
             [
              0.1111111111111111,
              "#46039f"
             ],
             [
              0.2222222222222222,
              "#7201a8"
             ],
             [
              0.3333333333333333,
              "#9c179e"
             ],
             [
              0.4444444444444444,
              "#bd3786"
             ],
             [
              0.5555555555555556,
              "#d8576b"
             ],
             [
              0.6666666666666666,
              "#ed7953"
             ],
             [
              0.7777777777777778,
              "#fb9f3a"
             ],
             [
              0.8888888888888888,
              "#fdca26"
             ],
             [
              1,
              "#f0f921"
             ]
            ],
            "type": "histogram2dcontour"
           }
          ],
          "mesh3d": [
           {
            "colorbar": {
             "outlinewidth": 0,
             "ticks": ""
            },
            "type": "mesh3d"
           }
          ],
          "parcoords": [
           {
            "line": {
             "colorbar": {
              "outlinewidth": 0,
              "ticks": ""
             }
            },
            "type": "parcoords"
           }
          ],
          "pie": [
           {
            "automargin": true,
            "type": "pie"
           }
          ],
          "scatter": [
           {
            "marker": {
             "colorbar": {
              "outlinewidth": 0,
              "ticks": ""
             }
            },
            "type": "scatter"
           }
          ],
          "scatter3d": [
           {
            "line": {
             "colorbar": {
              "outlinewidth": 0,
              "ticks": ""
             }
            },
            "marker": {
             "colorbar": {
              "outlinewidth": 0,
              "ticks": ""
             }
            },
            "type": "scatter3d"
           }
          ],
          "scattercarpet": [
           {
            "marker": {
             "colorbar": {
              "outlinewidth": 0,
              "ticks": ""
             }
            },
            "type": "scattercarpet"
           }
          ],
          "scattergeo": [
           {
            "marker": {
             "colorbar": {
              "outlinewidth": 0,
              "ticks": ""
             }
            },
            "type": "scattergeo"
           }
          ],
          "scattergl": [
           {
            "marker": {
             "colorbar": {
              "outlinewidth": 0,
              "ticks": ""
             }
            },
            "type": "scattergl"
           }
          ],
          "scattermapbox": [
           {
            "marker": {
             "colorbar": {
              "outlinewidth": 0,
              "ticks": ""
             }
            },
            "type": "scattermapbox"
           }
          ],
          "scatterpolar": [
           {
            "marker": {
             "colorbar": {
              "outlinewidth": 0,
              "ticks": ""
             }
            },
            "type": "scatterpolar"
           }
          ],
          "scatterpolargl": [
           {
            "marker": {
             "colorbar": {
              "outlinewidth": 0,
              "ticks": ""
             }
            },
            "type": "scatterpolargl"
           }
          ],
          "scatterternary": [
           {
            "marker": {
             "colorbar": {
              "outlinewidth": 0,
              "ticks": ""
             }
            },
            "type": "scatterternary"
           }
          ],
          "surface": [
           {
            "colorbar": {
             "outlinewidth": 0,
             "ticks": ""
            },
            "colorscale": [
             [
              0,
              "#0d0887"
             ],
             [
              0.1111111111111111,
              "#46039f"
             ],
             [
              0.2222222222222222,
              "#7201a8"
             ],
             [
              0.3333333333333333,
              "#9c179e"
             ],
             [
              0.4444444444444444,
              "#bd3786"
             ],
             [
              0.5555555555555556,
              "#d8576b"
             ],
             [
              0.6666666666666666,
              "#ed7953"
             ],
             [
              0.7777777777777778,
              "#fb9f3a"
             ],
             [
              0.8888888888888888,
              "#fdca26"
             ],
             [
              1,
              "#f0f921"
             ]
            ],
            "type": "surface"
           }
          ],
          "table": [
           {
            "cells": {
             "fill": {
              "color": "#EBF0F8"
             },
             "line": {
              "color": "white"
             }
            },
            "header": {
             "fill": {
              "color": "#C8D4E3"
             },
             "line": {
              "color": "white"
             }
            },
            "type": "table"
           }
          ]
         },
         "layout": {
          "annotationdefaults": {
           "arrowcolor": "#2a3f5f",
           "arrowhead": 0,
           "arrowwidth": 1
          },
          "autotypenumbers": "strict",
          "coloraxis": {
           "colorbar": {
            "outlinewidth": 0,
            "ticks": ""
           }
          },
          "colorscale": {
           "diverging": [
            [
             0,
             "#8e0152"
            ],
            [
             0.1,
             "#c51b7d"
            ],
            [
             0.2,
             "#de77ae"
            ],
            [
             0.3,
             "#f1b6da"
            ],
            [
             0.4,
             "#fde0ef"
            ],
            [
             0.5,
             "#f7f7f7"
            ],
            [
             0.6,
             "#e6f5d0"
            ],
            [
             0.7,
             "#b8e186"
            ],
            [
             0.8,
             "#7fbc41"
            ],
            [
             0.9,
             "#4d9221"
            ],
            [
             1,
             "#276419"
            ]
           ],
           "sequential": [
            [
             0,
             "#0d0887"
            ],
            [
             0.1111111111111111,
             "#46039f"
            ],
            [
             0.2222222222222222,
             "#7201a8"
            ],
            [
             0.3333333333333333,
             "#9c179e"
            ],
            [
             0.4444444444444444,
             "#bd3786"
            ],
            [
             0.5555555555555556,
             "#d8576b"
            ],
            [
             0.6666666666666666,
             "#ed7953"
            ],
            [
             0.7777777777777778,
             "#fb9f3a"
            ],
            [
             0.8888888888888888,
             "#fdca26"
            ],
            [
             1,
             "#f0f921"
            ]
           ],
           "sequentialminus": [
            [
             0,
             "#0d0887"
            ],
            [
             0.1111111111111111,
             "#46039f"
            ],
            [
             0.2222222222222222,
             "#7201a8"
            ],
            [
             0.3333333333333333,
             "#9c179e"
            ],
            [
             0.4444444444444444,
             "#bd3786"
            ],
            [
             0.5555555555555556,
             "#d8576b"
            ],
            [
             0.6666666666666666,
             "#ed7953"
            ],
            [
             0.7777777777777778,
             "#fb9f3a"
            ],
            [
             0.8888888888888888,
             "#fdca26"
            ],
            [
             1,
             "#f0f921"
            ]
           ]
          },
          "colorway": [
           "#636efa",
           "#EF553B",
           "#00cc96",
           "#ab63fa",
           "#FFA15A",
           "#19d3f3",
           "#FF6692",
           "#B6E880",
           "#FF97FF",
           "#FECB52"
          ],
          "font": {
           "color": "#2a3f5f"
          },
          "geo": {
           "bgcolor": "white",
           "lakecolor": "white",
           "landcolor": "#E5ECF6",
           "showlakes": true,
           "showland": true,
           "subunitcolor": "white"
          },
          "hoverlabel": {
           "align": "left"
          },
          "hovermode": "closest",
          "mapbox": {
           "style": "light"
          },
          "paper_bgcolor": "white",
          "plot_bgcolor": "#E5ECF6",
          "polar": {
           "angularaxis": {
            "gridcolor": "white",
            "linecolor": "white",
            "ticks": ""
           },
           "bgcolor": "#E5ECF6",
           "radialaxis": {
            "gridcolor": "white",
            "linecolor": "white",
            "ticks": ""
           }
          },
          "scene": {
           "xaxis": {
            "backgroundcolor": "#E5ECF6",
            "gridcolor": "white",
            "gridwidth": 2,
            "linecolor": "white",
            "showbackground": true,
            "ticks": "",
            "zerolinecolor": "white"
           },
           "yaxis": {
            "backgroundcolor": "#E5ECF6",
            "gridcolor": "white",
            "gridwidth": 2,
            "linecolor": "white",
            "showbackground": true,
            "ticks": "",
            "zerolinecolor": "white"
           },
           "zaxis": {
            "backgroundcolor": "#E5ECF6",
            "gridcolor": "white",
            "gridwidth": 2,
            "linecolor": "white",
            "showbackground": true,
            "ticks": "",
            "zerolinecolor": "white"
           }
          },
          "shapedefaults": {
           "line": {
            "color": "#2a3f5f"
           }
          },
          "ternary": {
           "aaxis": {
            "gridcolor": "white",
            "linecolor": "white",
            "ticks": ""
           },
           "baxis": {
            "gridcolor": "white",
            "linecolor": "white",
            "ticks": ""
           },
           "bgcolor": "#E5ECF6",
           "caxis": {
            "gridcolor": "white",
            "linecolor": "white",
            "ticks": ""
           }
          },
          "title": {
           "x": 0.05
          },
          "xaxis": {
           "automargin": true,
           "gridcolor": "white",
           "linecolor": "white",
           "ticks": "",
           "title": {
            "standoff": 15
           },
           "zerolinecolor": "white",
           "zerolinewidth": 2
          },
          "yaxis": {
           "automargin": true,
           "gridcolor": "white",
           "linecolor": "white",
           "ticks": "",
           "title": {
            "standoff": 15
           },
           "zerolinecolor": "white",
           "zerolinewidth": 2
          }
         }
        },
        "title": {
         "text": "Modelo SI"
        },
        "xaxis": {
         "anchor": "y",
         "domain": [
          0,
          1
         ],
         "title": {
          "text": "Susceptibles"
         }
        },
        "yaxis": {
         "anchor": "x",
         "domain": [
          0,
          1
         ],
         "title": {
          "text": "Infectados"
         }
        }
       }
      },
      "text/html": [
       "<div>                            <div id=\"74b68daa-72b3-452a-a013-af1551c96b42\" class=\"plotly-graph-div\" style=\"height:525px; width:100%;\"></div>            <script type=\"text/javascript\">                require([\"plotly\"], function(Plotly) {                    window.PLOTLYENV=window.PLOTLYENV || {};                                    if (document.getElementById(\"74b68daa-72b3-452a-a013-af1551c96b42\")) {                    Plotly.newPlot(                        \"74b68daa-72b3-452a-a013-af1551c96b42\",                        [{\"hovertemplate\":\"Susceptibles=%{x}<br>Infectados=%{y}<extra></extra>\",\"legendgroup\":\"\",\"line\":{\"color\":\"#636efa\",\"dash\":\"solid\"},\"marker\":{\"symbol\":\"circle\"},\"mode\":\"lines+markers\",\"name\":\"\",\"orientation\":\"v\",\"showlegend\":false,\"type\":\"scatter\",\"x\":[99.0,98.901,98.792307801,98.67299710154754,98.5420577483948,98.39838911884328,98.24079318814225,98.06796731556337,97.87849679741343,97.67084725299337,97.44335693081159,97.19422904767598,96.92152430308047,96.62315374600504,96.29687221122867,95.9402725877715,95.55078123321026,95.12565490416604,94.66197963469592,94.15667205958592,93.60648374696373,93.00800917173794,92.35769802465423,91.65187260660203,90.88675109823862,90.05847751360793,89.16315913431615,88.19691216769591,87.15591626684258,86.0364783804712,84.83510615453736,83.54859077533524,82.17409871834614,80.70927134668403,79.15233069332831,77.50218907818149,75.75855948227353,73.92206286887534,71.99432796077777,69.97807842322402,67.87720204070851,65.69679639351283,63.44318581053222,61.12390505526871,58.74764631894734,56.324167635068726,53.864162731345175,51.37909448495949,48.880996386557925,46.38224855564482,43.89533668115796,41.43260359539437,39.006003876548014,36.62687182731049,34.30571238443367,32.05202304819379,29.874152924856354,27.77920264534842,25.77296648042491,23.859915633583523,22.043219644266895,20.324801212125596,18.70541863522546,17.18476945802195,15.76160881354512,14.43387624458183,13.19882540356755,12.053151855244653,10.993115139365775,10.014652205896551,9.113480244111964,8.285187741860586,7.525313303592403,6.829412313550387,6.193111954743821,5.612155394953429,5.08243614363519,4.600023686425801,4.1611815356988995,3.7623788139020506,3.400296426851144,3.071828799956486,2.774082052137079,2.50436937815536,2.260204306322066,2.0392923991961758,1.8395218727659775,1.658953526209764,1.4958103003909113,1.3484667188065755,1.215438409417647,1.0953718590029697,0.9870345126121683,0.8893052984800389,0.8011656325459396,0.7216909356621184,0.6500426799025234,0.5854609673979658,0.5272576352025158,0.4748098722961435],\"xaxis\":\"x\",\"y\":[1.0,1.099,1.2076921989999998,1.3270028984524744,1.4579422516052207,1.6016108811567271,1.7592068118577604,1.9320326844366496,2.121503202586583,2.329152747006656,2.5566430691884334,2.8057709523240475,3.078475696919547,3.3768462539949775,3.703127788771355,4.05972741222852,4.449218766789773,4.874345095833997,5.338020365304116,5.8433279404141265,6.3935162530363145,6.991990828262106,7.642301975345816,8.348127393398025,9.113248901761425,9.941522486392111,10.836840865683884,11.803087832304115,12.844083733157442,13.963521619528825,15.16489384546266,16.451409224664776,17.82590128165387,19.290728653315988,20.84766930667172,22.49781092181855,24.24144051772651,26.077937131124692,28.00567203922227,30.02192157677602,32.12279795929153,34.30320360648722,36.55681418946783,38.876094944731335,41.25235368105271,43.675832364931324,46.135837268654875,48.62090551504056,51.11900361344212,53.61775144435523,56.1046633188421,58.56739640460568,60.99399612345204,63.37312817268957,65.69428761556638,67.94797695180627,70.1258470751437,72.22079735465162,74.22703351957514,76.14008436641653,77.95678035573316,79.67519878787445,81.29458136477459,82.8152305419781,84.23839118645493,85.56612375541822,86.8011745964325,87.94684814475539,89.00688486063427,89.9853477941035,90.88651975588809,91.71481225813946,92.47468669640764,93.17058768644966,93.80688804525623,94.38784460504662,94.91756385636486,95.39997631357426,95.83881846430117,96.23762118609802,96.59970357314893,96.9281712000436,97.225917947863,97.49563062184473,97.73979569367803,97.96070760080391,98.1604781272341,98.34104647379031,98.50418969960916,98.65153328119348,98.78456159058241,98.90462814099709,99.01296548738789,99.11069470152002,99.19883436745411,99.27830906433793,99.34995732009753,99.4145390326021,99.47274236479754,99.52519012770391],\"yaxis\":\"y\"}],                        {\"legend\":{\"tracegroupgap\":0},\"template\":{\"data\":{\"bar\":[{\"error_x\":{\"color\":\"#2a3f5f\"},\"error_y\":{\"color\":\"#2a3f5f\"},\"marker\":{\"line\":{\"color\":\"#E5ECF6\",\"width\":0.5},\"pattern\":{\"fillmode\":\"overlay\",\"size\":10,\"solidity\":0.2}},\"type\":\"bar\"}],\"barpolar\":[{\"marker\":{\"line\":{\"color\":\"#E5ECF6\",\"width\":0.5},\"pattern\":{\"fillmode\":\"overlay\",\"size\":10,\"solidity\":0.2}},\"type\":\"barpolar\"}],\"carpet\":[{\"aaxis\":{\"endlinecolor\":\"#2a3f5f\",\"gridcolor\":\"white\",\"linecolor\":\"white\",\"minorgridcolor\":\"white\",\"startlinecolor\":\"#2a3f5f\"},\"baxis\":{\"endlinecolor\":\"#2a3f5f\",\"gridcolor\":\"white\",\"linecolor\":\"white\",\"minorgridcolor\":\"white\",\"startlinecolor\":\"#2a3f5f\"},\"type\":\"carpet\"}],\"choropleth\":[{\"colorbar\":{\"outlinewidth\":0,\"ticks\":\"\"},\"type\":\"choropleth\"}],\"contour\":[{\"colorbar\":{\"outlinewidth\":0,\"ticks\":\"\"},\"colorscale\":[[0.0,\"#0d0887\"],[0.1111111111111111,\"#46039f\"],[0.2222222222222222,\"#7201a8\"],[0.3333333333333333,\"#9c179e\"],[0.4444444444444444,\"#bd3786\"],[0.5555555555555556,\"#d8576b\"],[0.6666666666666666,\"#ed7953\"],[0.7777777777777778,\"#fb9f3a\"],[0.8888888888888888,\"#fdca26\"],[1.0,\"#f0f921\"]],\"type\":\"contour\"}],\"contourcarpet\":[{\"colorbar\":{\"outlinewidth\":0,\"ticks\":\"\"},\"type\":\"contourcarpet\"}],\"heatmap\":[{\"colorbar\":{\"outlinewidth\":0,\"ticks\":\"\"},\"colorscale\":[[0.0,\"#0d0887\"],[0.1111111111111111,\"#46039f\"],[0.2222222222222222,\"#7201a8\"],[0.3333333333333333,\"#9c179e\"],[0.4444444444444444,\"#bd3786\"],[0.5555555555555556,\"#d8576b\"],[0.6666666666666666,\"#ed7953\"],[0.7777777777777778,\"#fb9f3a\"],[0.8888888888888888,\"#fdca26\"],[1.0,\"#f0f921\"]],\"type\":\"heatmap\"}],\"heatmapgl\":[{\"colorbar\":{\"outlinewidth\":0,\"ticks\":\"\"},\"colorscale\":[[0.0,\"#0d0887\"],[0.1111111111111111,\"#46039f\"],[0.2222222222222222,\"#7201a8\"],[0.3333333333333333,\"#9c179e\"],[0.4444444444444444,\"#bd3786\"],[0.5555555555555556,\"#d8576b\"],[0.6666666666666666,\"#ed7953\"],[0.7777777777777778,\"#fb9f3a\"],[0.8888888888888888,\"#fdca26\"],[1.0,\"#f0f921\"]],\"type\":\"heatmapgl\"}],\"histogram\":[{\"marker\":{\"pattern\":{\"fillmode\":\"overlay\",\"size\":10,\"solidity\":0.2}},\"type\":\"histogram\"}],\"histogram2d\":[{\"colorbar\":{\"outlinewidth\":0,\"ticks\":\"\"},\"colorscale\":[[0.0,\"#0d0887\"],[0.1111111111111111,\"#46039f\"],[0.2222222222222222,\"#7201a8\"],[0.3333333333333333,\"#9c179e\"],[0.4444444444444444,\"#bd3786\"],[0.5555555555555556,\"#d8576b\"],[0.6666666666666666,\"#ed7953\"],[0.7777777777777778,\"#fb9f3a\"],[0.8888888888888888,\"#fdca26\"],[1.0,\"#f0f921\"]],\"type\":\"histogram2d\"}],\"histogram2dcontour\":[{\"colorbar\":{\"outlinewidth\":0,\"ticks\":\"\"},\"colorscale\":[[0.0,\"#0d0887\"],[0.1111111111111111,\"#46039f\"],[0.2222222222222222,\"#7201a8\"],[0.3333333333333333,\"#9c179e\"],[0.4444444444444444,\"#bd3786\"],[0.5555555555555556,\"#d8576b\"],[0.6666666666666666,\"#ed7953\"],[0.7777777777777778,\"#fb9f3a\"],[0.8888888888888888,\"#fdca26\"],[1.0,\"#f0f921\"]],\"type\":\"histogram2dcontour\"}],\"mesh3d\":[{\"colorbar\":{\"outlinewidth\":0,\"ticks\":\"\"},\"type\":\"mesh3d\"}],\"parcoords\":[{\"line\":{\"colorbar\":{\"outlinewidth\":0,\"ticks\":\"\"}},\"type\":\"parcoords\"}],\"pie\":[{\"automargin\":true,\"type\":\"pie\"}],\"scatter\":[{\"marker\":{\"colorbar\":{\"outlinewidth\":0,\"ticks\":\"\"}},\"type\":\"scatter\"}],\"scatter3d\":[{\"line\":{\"colorbar\":{\"outlinewidth\":0,\"ticks\":\"\"}},\"marker\":{\"colorbar\":{\"outlinewidth\":0,\"ticks\":\"\"}},\"type\":\"scatter3d\"}],\"scattercarpet\":[{\"marker\":{\"colorbar\":{\"outlinewidth\":0,\"ticks\":\"\"}},\"type\":\"scattercarpet\"}],\"scattergeo\":[{\"marker\":{\"colorbar\":{\"outlinewidth\":0,\"ticks\":\"\"}},\"type\":\"scattergeo\"}],\"scattergl\":[{\"marker\":{\"colorbar\":{\"outlinewidth\":0,\"ticks\":\"\"}},\"type\":\"scattergl\"}],\"scattermapbox\":[{\"marker\":{\"colorbar\":{\"outlinewidth\":0,\"ticks\":\"\"}},\"type\":\"scattermapbox\"}],\"scatterpolar\":[{\"marker\":{\"colorbar\":{\"outlinewidth\":0,\"ticks\":\"\"}},\"type\":\"scatterpolar\"}],\"scatterpolargl\":[{\"marker\":{\"colorbar\":{\"outlinewidth\":0,\"ticks\":\"\"}},\"type\":\"scatterpolargl\"}],\"scatterternary\":[{\"marker\":{\"colorbar\":{\"outlinewidth\":0,\"ticks\":\"\"}},\"type\":\"scatterternary\"}],\"surface\":[{\"colorbar\":{\"outlinewidth\":0,\"ticks\":\"\"},\"colorscale\":[[0.0,\"#0d0887\"],[0.1111111111111111,\"#46039f\"],[0.2222222222222222,\"#7201a8\"],[0.3333333333333333,\"#9c179e\"],[0.4444444444444444,\"#bd3786\"],[0.5555555555555556,\"#d8576b\"],[0.6666666666666666,\"#ed7953\"],[0.7777777777777778,\"#fb9f3a\"],[0.8888888888888888,\"#fdca26\"],[1.0,\"#f0f921\"]],\"type\":\"surface\"}],\"table\":[{\"cells\":{\"fill\":{\"color\":\"#EBF0F8\"},\"line\":{\"color\":\"white\"}},\"header\":{\"fill\":{\"color\":\"#C8D4E3\"},\"line\":{\"color\":\"white\"}},\"type\":\"table\"}]},\"layout\":{\"annotationdefaults\":{\"arrowcolor\":\"#2a3f5f\",\"arrowhead\":0,\"arrowwidth\":1},\"autotypenumbers\":\"strict\",\"coloraxis\":{\"colorbar\":{\"outlinewidth\":0,\"ticks\":\"\"}},\"colorscale\":{\"diverging\":[[0,\"#8e0152\"],[0.1,\"#c51b7d\"],[0.2,\"#de77ae\"],[0.3,\"#f1b6da\"],[0.4,\"#fde0ef\"],[0.5,\"#f7f7f7\"],[0.6,\"#e6f5d0\"],[0.7,\"#b8e186\"],[0.8,\"#7fbc41\"],[0.9,\"#4d9221\"],[1,\"#276419\"]],\"sequential\":[[0.0,\"#0d0887\"],[0.1111111111111111,\"#46039f\"],[0.2222222222222222,\"#7201a8\"],[0.3333333333333333,\"#9c179e\"],[0.4444444444444444,\"#bd3786\"],[0.5555555555555556,\"#d8576b\"],[0.6666666666666666,\"#ed7953\"],[0.7777777777777778,\"#fb9f3a\"],[0.8888888888888888,\"#fdca26\"],[1.0,\"#f0f921\"]],\"sequentialminus\":[[0.0,\"#0d0887\"],[0.1111111111111111,\"#46039f\"],[0.2222222222222222,\"#7201a8\"],[0.3333333333333333,\"#9c179e\"],[0.4444444444444444,\"#bd3786\"],[0.5555555555555556,\"#d8576b\"],[0.6666666666666666,\"#ed7953\"],[0.7777777777777778,\"#fb9f3a\"],[0.8888888888888888,\"#fdca26\"],[1.0,\"#f0f921\"]]},\"colorway\":[\"#636efa\",\"#EF553B\",\"#00cc96\",\"#ab63fa\",\"#FFA15A\",\"#19d3f3\",\"#FF6692\",\"#B6E880\",\"#FF97FF\",\"#FECB52\"],\"font\":{\"color\":\"#2a3f5f\"},\"geo\":{\"bgcolor\":\"white\",\"lakecolor\":\"white\",\"landcolor\":\"#E5ECF6\",\"showlakes\":true,\"showland\":true,\"subunitcolor\":\"white\"},\"hoverlabel\":{\"align\":\"left\"},\"hovermode\":\"closest\",\"mapbox\":{\"style\":\"light\"},\"paper_bgcolor\":\"white\",\"plot_bgcolor\":\"#E5ECF6\",\"polar\":{\"angularaxis\":{\"gridcolor\":\"white\",\"linecolor\":\"white\",\"ticks\":\"\"},\"bgcolor\":\"#E5ECF6\",\"radialaxis\":{\"gridcolor\":\"white\",\"linecolor\":\"white\",\"ticks\":\"\"}},\"scene\":{\"xaxis\":{\"backgroundcolor\":\"#E5ECF6\",\"gridcolor\":\"white\",\"gridwidth\":2,\"linecolor\":\"white\",\"showbackground\":true,\"ticks\":\"\",\"zerolinecolor\":\"white\"},\"yaxis\":{\"backgroundcolor\":\"#E5ECF6\",\"gridcolor\":\"white\",\"gridwidth\":2,\"linecolor\":\"white\",\"showbackground\":true,\"ticks\":\"\",\"zerolinecolor\":\"white\"},\"zaxis\":{\"backgroundcolor\":\"#E5ECF6\",\"gridcolor\":\"white\",\"gridwidth\":2,\"linecolor\":\"white\",\"showbackground\":true,\"ticks\":\"\",\"zerolinecolor\":\"white\"}},\"shapedefaults\":{\"line\":{\"color\":\"#2a3f5f\"}},\"ternary\":{\"aaxis\":{\"gridcolor\":\"white\",\"linecolor\":\"white\",\"ticks\":\"\"},\"baxis\":{\"gridcolor\":\"white\",\"linecolor\":\"white\",\"ticks\":\"\"},\"bgcolor\":\"#E5ECF6\",\"caxis\":{\"gridcolor\":\"white\",\"linecolor\":\"white\",\"ticks\":\"\"}},\"title\":{\"x\":0.05},\"xaxis\":{\"automargin\":true,\"gridcolor\":\"white\",\"linecolor\":\"white\",\"ticks\":\"\",\"title\":{\"standoff\":15},\"zerolinecolor\":\"white\",\"zerolinewidth\":2},\"yaxis\":{\"automargin\":true,\"gridcolor\":\"white\",\"linecolor\":\"white\",\"ticks\":\"\",\"title\":{\"standoff\":15},\"zerolinecolor\":\"white\",\"zerolinewidth\":2}}},\"title\":{\"text\":\"Modelo SI\"},\"xaxis\":{\"anchor\":\"y\",\"domain\":[0.0,1.0],\"title\":{\"text\":\"Susceptibles\"}},\"yaxis\":{\"anchor\":\"x\",\"domain\":[0.0,1.0],\"title\":{\"text\":\"Infectados\"}}},                        {\"responsive\": true}                    ).then(function(){\n",
       "                            \n",
       "var gd = document.getElementById('74b68daa-72b3-452a-a013-af1551c96b42');\n",
       "var x = new MutationObserver(function (mutations, observer) {{\n",
       "        var display = window.getComputedStyle(gd).display;\n",
       "        if (!display || display === 'none') {{\n",
       "            console.log([gd, 'removed!']);\n",
       "            Plotly.purge(gd);\n",
       "            observer.disconnect();\n",
       "        }}\n",
       "}});\n",
       "\n",
       "// Listen for the removal of the full notebook cells\n",
       "var notebookContainer = gd.closest('#notebook-container');\n",
       "if (notebookContainer) {{\n",
       "    x.observe(notebookContainer, {childList: true});\n",
       "}}\n",
       "\n",
       "// Listen for the clearing of the current output cell\n",
       "var outputEl = gd.closest('.output');\n",
       "if (outputEl) {{\n",
       "    x.observe(outputEl, {childList: true});\n",
       "}}\n",
       "\n",
       "                        })                };                });            </script>        </div>"
      ]
     },
     "metadata": {},
     "output_type": "display_data"
    }
   ],
   "source": [
    "N = 100\n",
    "\n",
    "S0 = 99\n",
    "I0 = 1\n",
    "\n",
    "alfa = 0.1\n",
    "\n",
    "T0 = 0\n",
    "T = 100\n",
    "\n",
    "secciones = 100 #deltaT en realidad es (T-T0)/secciones\n",
    "\n",
    "deltaT = (T-T0)/secciones\n",
    "\n",
    "tiempo = np.linspace(T0, T, secciones)\n",
    "\n",
    "S = np.linspace(T0, T, secciones)\n",
    "I = np.linspace(T0, T, secciones)\n",
    "\n",
    "S[0] = S0\n",
    "I[0] = I0\n",
    "\n",
    "for j in range (secciones-1):\n",
    "    S[j+1] = S[j]*(1-(alfa*deltaT/N)*I[j])\n",
    "    I[j+1] = I[j]*(1+(alfa*deltaT/N)*S[j])\n",
    "\n",
    "# Figura\n",
    "df = pd.DataFrame({'Susceptibles':S, 'Infectados':I})\n",
    "fig = px.line(df, x=\"Susceptibles\", y=\"Infectados\", title=\"Modelo SI\", markers=True) \n",
    "fig.show()\n",
    "\n",
    "# Guardar svg\n",
    "fig.write_image(\"./graficas_avanzadas_modelos_basicos/SI.eps\")"
   ]
  },
  {
   "cell_type": "markdown",
   "id": "734af85c",
   "metadata": {},
   "source": [
    "## Modelo SIR"
   ]
  },
  {
   "cell_type": "code",
   "execution_count": 21,
   "id": "8bcd2b74",
   "metadata": {},
   "outputs": [
    {
     "data": {
      "application/vnd.plotly.v1+json": {
       "config": {
        "plotlyServerURL": "https://plot.ly"
       },
       "data": [
        {
         "hovertemplate": "Susceptibles=%{x}<br>Infectados=%{y}<extra></extra>",
         "legendgroup": "",
         "line": {
          "color": "#636efa",
          "dash": "solid"
         },
         "marker": {
          "symbol": "circle"
         },
         "mode": "lines+markers",
         "name": "",
         "orientation": "v",
         "showlegend": false,
         "type": "scatter",
         "x": [
          99,
          98.703,
          98.327829897,
          97.85462915179399,
          97.25891872982514,
          96.51078288181169,
          95.57406375223007,
          94.40568694031931,
          92.95531189937276,
          91.16560187023678,
          88.97352750796247,
          86.31323272692383,
          83.12104699408572,
          79.3431305552105,
          74.94585443006555,
          69.92821416267213,
          64.33433331356859,
          58.26268906097336,
          51.86777263657323,
          45.35048272851443,
          38.936368049547816,
          32.84541048995752,
          27.261247361653435,
          22.308816983407322,
          18.046206492089116,
          14.470737760818459,
          11.534464443728993,
          9.162602680889549,
          7.269799598208088,
          5.77178303508807,
          4.592189474693462,
          3.665577126793983,
          2.937936196239438,
          2.3658194250624507,
          1.9148739847761376,
          1.558241836996626,
          1.2750691792976245,
          1.0492244762836094,
          0.8682465589227598,
          0.7225064826814851,
          0.6045521083265617,
          0.5086016286232746,
          0.43015502336519407,
          0.3656971834755351,
          0.31247147030302586,
          0.2683070130040446,
          0.23148684309723633,
          0.20064700813954908,
          0.17469918240758264,
          0.15277111729284024,
          0.13416066115733677,
          0.11830012598402528,
          0.10472856653826737,
          0.0930701301121021,
          0.08301707990891238,
          0.0743164296907861,
          0.06675937926300263,
          0.06017293052490701,
          0.05441320770668775,
          0.049360114612203465,
          0.04491304482361261,
          0.040987424325572674,
          0.03751191467830072,
          0.03442614230407415,
          0.0316788483468816,
          0.02922637594769614,
          0.02703142917780651,
          0.02506205144710092,
          0.0232907818315491,
          0.021693956113253775,
          0.020251125908359077,
          0.01894457446452015,
          0.017758911841813604,
          0.016680735481366896,
          0.015698344794581993,
          0.014801500512421137,
          0.0139812212277522,
          0.013229610929388411,
          0.01253971243100062,
          0.01190538249408368,
          0.011321185173096649,
          0.010782300505600584,
          0.010284446156754331,
          0.00982381002665512,
          0.009396992157303552,
          0.009000954546707953,
          0.008632977701483345,
          0.008290622944832007,
          0.007971699650949585,
          0.007674236705296514,
          0.007396457597366138,
          0.007136758642276531,
          0.006893689902738253,
          0.006665938446179136,
          0.006452313625068378,
          0.006251734113442291,
          0.006063216470666117,
          0.005885865035703499,
          0.005718862982545336,
          0.005561464390750116
         ],
         "xaxis": "x",
         "y": [
          1,
          1.267,
          1.6041601030000001,
          2.0292360451160145,
          2.5640693857313765,
          3.2352831521728773,
          4.07494378718931,
          5.121072285484387,
          6.417815157866409,
          8.0149907322664,
          9.966615372572715,
          12.327911692434173,
          15.150260074499254,
          18.473668711139496,
          22.316734774950255,
          26.66487299909516,
          31.45880765822584,
          36.5866876810743,
          41.8840034750422,
          47.14477327884973,
          52.14454475945085,
          56.67116597625762,
          60.55519412527398,
          63.690968679761866,
          66.04285011068721,
          67.63703333863725,
          68.5441956555676,
          68.85973154874002,
          68.68674268495927,
          68.12415696753051,
          67.26002581889921,
          66.16883739223171,
          64.9114132010193,
          63.5361875761657,
          62.08104738916705,
          60.57524811527155,
          59.04116332951241,
          57.49577313264105,
          55.95187785602266,
          54.419061596583255,
          52.90444412304068,
          51.41326127905275,
          49.94931004593924,
          48.51528858445072,
          47.113055640089705,
          45.74382842818599,
          44.40833374524722,
          43.10692356784749,
          41.83966368654403,
          40.60640184106245,
          39.40682024196608,
          38.24047616988041,
          37.10683344422975,
          36.00528687732902,
          34.93518132121234,
          33.89582653179409,
          32.88650878626805,
          31.906499971418107,
          30.955064695093785,
          30.031465847335454,
          29.13496894170398,
          28.2648454939509,
          27.420375638779646,
          26.60085014199048,
          25.80557193168796,
          25.033857246136506,
          24.2850364755223,
          23.558454758987338,
          22.85347238583327,
          22.16946503997657,
          21.505823918982166,
          20.861955752856538,
          20.237282742893548,
          19.631242436967188,
          19.043287554544957,
          18.472885772190768,
          17.919519478309713,
          17.382685504258784,
          16.861894837629407,
          16.356672322437444,
          15.866556350085306,
          15.391098544250243,
          14.92986344227158,
          14.482428175133533,
          14.048382147748878,
          13.627326720927007,
          13.21887489614442,
          12.82265100401674,
          12.43829039719012,
          12.065439148220069,
          11.703753752881397,
          11.352900839250044,
          11.012556882812081,
          10.682407927784277,
          10.36214931477186,
          10.05148541484033,
          9.750129370037897,
          9.457802840371722,
          9.174235757213728,
          8.89916608308911
         ],
         "yaxis": "y"
        }
       ],
       "layout": {
        "legend": {
         "tracegroupgap": 0
        },
        "template": {
         "data": {
          "bar": [
           {
            "error_x": {
             "color": "#2a3f5f"
            },
            "error_y": {
             "color": "#2a3f5f"
            },
            "marker": {
             "line": {
              "color": "#E5ECF6",
              "width": 0.5
             },
             "pattern": {
              "fillmode": "overlay",
              "size": 10,
              "solidity": 0.2
             }
            },
            "type": "bar"
           }
          ],
          "barpolar": [
           {
            "marker": {
             "line": {
              "color": "#E5ECF6",
              "width": 0.5
             },
             "pattern": {
              "fillmode": "overlay",
              "size": 10,
              "solidity": 0.2
             }
            },
            "type": "barpolar"
           }
          ],
          "carpet": [
           {
            "aaxis": {
             "endlinecolor": "#2a3f5f",
             "gridcolor": "white",
             "linecolor": "white",
             "minorgridcolor": "white",
             "startlinecolor": "#2a3f5f"
            },
            "baxis": {
             "endlinecolor": "#2a3f5f",
             "gridcolor": "white",
             "linecolor": "white",
             "minorgridcolor": "white",
             "startlinecolor": "#2a3f5f"
            },
            "type": "carpet"
           }
          ],
          "choropleth": [
           {
            "colorbar": {
             "outlinewidth": 0,
             "ticks": ""
            },
            "type": "choropleth"
           }
          ],
          "contour": [
           {
            "colorbar": {
             "outlinewidth": 0,
             "ticks": ""
            },
            "colorscale": [
             [
              0,
              "#0d0887"
             ],
             [
              0.1111111111111111,
              "#46039f"
             ],
             [
              0.2222222222222222,
              "#7201a8"
             ],
             [
              0.3333333333333333,
              "#9c179e"
             ],
             [
              0.4444444444444444,
              "#bd3786"
             ],
             [
              0.5555555555555556,
              "#d8576b"
             ],
             [
              0.6666666666666666,
              "#ed7953"
             ],
             [
              0.7777777777777778,
              "#fb9f3a"
             ],
             [
              0.8888888888888888,
              "#fdca26"
             ],
             [
              1,
              "#f0f921"
             ]
            ],
            "type": "contour"
           }
          ],
          "contourcarpet": [
           {
            "colorbar": {
             "outlinewidth": 0,
             "ticks": ""
            },
            "type": "contourcarpet"
           }
          ],
          "heatmap": [
           {
            "colorbar": {
             "outlinewidth": 0,
             "ticks": ""
            },
            "colorscale": [
             [
              0,
              "#0d0887"
             ],
             [
              0.1111111111111111,
              "#46039f"
             ],
             [
              0.2222222222222222,
              "#7201a8"
             ],
             [
              0.3333333333333333,
              "#9c179e"
             ],
             [
              0.4444444444444444,
              "#bd3786"
             ],
             [
              0.5555555555555556,
              "#d8576b"
             ],
             [
              0.6666666666666666,
              "#ed7953"
             ],
             [
              0.7777777777777778,
              "#fb9f3a"
             ],
             [
              0.8888888888888888,
              "#fdca26"
             ],
             [
              1,
              "#f0f921"
             ]
            ],
            "type": "heatmap"
           }
          ],
          "heatmapgl": [
           {
            "colorbar": {
             "outlinewidth": 0,
             "ticks": ""
            },
            "colorscale": [
             [
              0,
              "#0d0887"
             ],
             [
              0.1111111111111111,
              "#46039f"
             ],
             [
              0.2222222222222222,
              "#7201a8"
             ],
             [
              0.3333333333333333,
              "#9c179e"
             ],
             [
              0.4444444444444444,
              "#bd3786"
             ],
             [
              0.5555555555555556,
              "#d8576b"
             ],
             [
              0.6666666666666666,
              "#ed7953"
             ],
             [
              0.7777777777777778,
              "#fb9f3a"
             ],
             [
              0.8888888888888888,
              "#fdca26"
             ],
             [
              1,
              "#f0f921"
             ]
            ],
            "type": "heatmapgl"
           }
          ],
          "histogram": [
           {
            "marker": {
             "pattern": {
              "fillmode": "overlay",
              "size": 10,
              "solidity": 0.2
             }
            },
            "type": "histogram"
           }
          ],
          "histogram2d": [
           {
            "colorbar": {
             "outlinewidth": 0,
             "ticks": ""
            },
            "colorscale": [
             [
              0,
              "#0d0887"
             ],
             [
              0.1111111111111111,
              "#46039f"
             ],
             [
              0.2222222222222222,
              "#7201a8"
             ],
             [
              0.3333333333333333,
              "#9c179e"
             ],
             [
              0.4444444444444444,
              "#bd3786"
             ],
             [
              0.5555555555555556,
              "#d8576b"
             ],
             [
              0.6666666666666666,
              "#ed7953"
             ],
             [
              0.7777777777777778,
              "#fb9f3a"
             ],
             [
              0.8888888888888888,
              "#fdca26"
             ],
             [
              1,
              "#f0f921"
             ]
            ],
            "type": "histogram2d"
           }
          ],
          "histogram2dcontour": [
           {
            "colorbar": {
             "outlinewidth": 0,
             "ticks": ""
            },
            "colorscale": [
             [
              0,
              "#0d0887"
             ],
             [
              0.1111111111111111,
              "#46039f"
             ],
             [
              0.2222222222222222,
              "#7201a8"
             ],
             [
              0.3333333333333333,
              "#9c179e"
             ],
             [
              0.4444444444444444,
              "#bd3786"
             ],
             [
              0.5555555555555556,
              "#d8576b"
             ],
             [
              0.6666666666666666,
              "#ed7953"
             ],
             [
              0.7777777777777778,
              "#fb9f3a"
             ],
             [
              0.8888888888888888,
              "#fdca26"
             ],
             [
              1,
              "#f0f921"
             ]
            ],
            "type": "histogram2dcontour"
           }
          ],
          "mesh3d": [
           {
            "colorbar": {
             "outlinewidth": 0,
             "ticks": ""
            },
            "type": "mesh3d"
           }
          ],
          "parcoords": [
           {
            "line": {
             "colorbar": {
              "outlinewidth": 0,
              "ticks": ""
             }
            },
            "type": "parcoords"
           }
          ],
          "pie": [
           {
            "automargin": true,
            "type": "pie"
           }
          ],
          "scatter": [
           {
            "marker": {
             "colorbar": {
              "outlinewidth": 0,
              "ticks": ""
             }
            },
            "type": "scatter"
           }
          ],
          "scatter3d": [
           {
            "line": {
             "colorbar": {
              "outlinewidth": 0,
              "ticks": ""
             }
            },
            "marker": {
             "colorbar": {
              "outlinewidth": 0,
              "ticks": ""
             }
            },
            "type": "scatter3d"
           }
          ],
          "scattercarpet": [
           {
            "marker": {
             "colorbar": {
              "outlinewidth": 0,
              "ticks": ""
             }
            },
            "type": "scattercarpet"
           }
          ],
          "scattergeo": [
           {
            "marker": {
             "colorbar": {
              "outlinewidth": 0,
              "ticks": ""
             }
            },
            "type": "scattergeo"
           }
          ],
          "scattergl": [
           {
            "marker": {
             "colorbar": {
              "outlinewidth": 0,
              "ticks": ""
             }
            },
            "type": "scattergl"
           }
          ],
          "scattermapbox": [
           {
            "marker": {
             "colorbar": {
              "outlinewidth": 0,
              "ticks": ""
             }
            },
            "type": "scattermapbox"
           }
          ],
          "scatterpolar": [
           {
            "marker": {
             "colorbar": {
              "outlinewidth": 0,
              "ticks": ""
             }
            },
            "type": "scatterpolar"
           }
          ],
          "scatterpolargl": [
           {
            "marker": {
             "colorbar": {
              "outlinewidth": 0,
              "ticks": ""
             }
            },
            "type": "scatterpolargl"
           }
          ],
          "scatterternary": [
           {
            "marker": {
             "colorbar": {
              "outlinewidth": 0,
              "ticks": ""
             }
            },
            "type": "scatterternary"
           }
          ],
          "surface": [
           {
            "colorbar": {
             "outlinewidth": 0,
             "ticks": ""
            },
            "colorscale": [
             [
              0,
              "#0d0887"
             ],
             [
              0.1111111111111111,
              "#46039f"
             ],
             [
              0.2222222222222222,
              "#7201a8"
             ],
             [
              0.3333333333333333,
              "#9c179e"
             ],
             [
              0.4444444444444444,
              "#bd3786"
             ],
             [
              0.5555555555555556,
              "#d8576b"
             ],
             [
              0.6666666666666666,
              "#ed7953"
             ],
             [
              0.7777777777777778,
              "#fb9f3a"
             ],
             [
              0.8888888888888888,
              "#fdca26"
             ],
             [
              1,
              "#f0f921"
             ]
            ],
            "type": "surface"
           }
          ],
          "table": [
           {
            "cells": {
             "fill": {
              "color": "#EBF0F8"
             },
             "line": {
              "color": "white"
             }
            },
            "header": {
             "fill": {
              "color": "#C8D4E3"
             },
             "line": {
              "color": "white"
             }
            },
            "type": "table"
           }
          ]
         },
         "layout": {
          "annotationdefaults": {
           "arrowcolor": "#2a3f5f",
           "arrowhead": 0,
           "arrowwidth": 1
          },
          "autotypenumbers": "strict",
          "coloraxis": {
           "colorbar": {
            "outlinewidth": 0,
            "ticks": ""
           }
          },
          "colorscale": {
           "diverging": [
            [
             0,
             "#8e0152"
            ],
            [
             0.1,
             "#c51b7d"
            ],
            [
             0.2,
             "#de77ae"
            ],
            [
             0.3,
             "#f1b6da"
            ],
            [
             0.4,
             "#fde0ef"
            ],
            [
             0.5,
             "#f7f7f7"
            ],
            [
             0.6,
             "#e6f5d0"
            ],
            [
             0.7,
             "#b8e186"
            ],
            [
             0.8,
             "#7fbc41"
            ],
            [
             0.9,
             "#4d9221"
            ],
            [
             1,
             "#276419"
            ]
           ],
           "sequential": [
            [
             0,
             "#0d0887"
            ],
            [
             0.1111111111111111,
             "#46039f"
            ],
            [
             0.2222222222222222,
             "#7201a8"
            ],
            [
             0.3333333333333333,
             "#9c179e"
            ],
            [
             0.4444444444444444,
             "#bd3786"
            ],
            [
             0.5555555555555556,
             "#d8576b"
            ],
            [
             0.6666666666666666,
             "#ed7953"
            ],
            [
             0.7777777777777778,
             "#fb9f3a"
            ],
            [
             0.8888888888888888,
             "#fdca26"
            ],
            [
             1,
             "#f0f921"
            ]
           ],
           "sequentialminus": [
            [
             0,
             "#0d0887"
            ],
            [
             0.1111111111111111,
             "#46039f"
            ],
            [
             0.2222222222222222,
             "#7201a8"
            ],
            [
             0.3333333333333333,
             "#9c179e"
            ],
            [
             0.4444444444444444,
             "#bd3786"
            ],
            [
             0.5555555555555556,
             "#d8576b"
            ],
            [
             0.6666666666666666,
             "#ed7953"
            ],
            [
             0.7777777777777778,
             "#fb9f3a"
            ],
            [
             0.8888888888888888,
             "#fdca26"
            ],
            [
             1,
             "#f0f921"
            ]
           ]
          },
          "colorway": [
           "#636efa",
           "#EF553B",
           "#00cc96",
           "#ab63fa",
           "#FFA15A",
           "#19d3f3",
           "#FF6692",
           "#B6E880",
           "#FF97FF",
           "#FECB52"
          ],
          "font": {
           "color": "#2a3f5f"
          },
          "geo": {
           "bgcolor": "white",
           "lakecolor": "white",
           "landcolor": "#E5ECF6",
           "showlakes": true,
           "showland": true,
           "subunitcolor": "white"
          },
          "hoverlabel": {
           "align": "left"
          },
          "hovermode": "closest",
          "mapbox": {
           "style": "light"
          },
          "paper_bgcolor": "white",
          "plot_bgcolor": "#E5ECF6",
          "polar": {
           "angularaxis": {
            "gridcolor": "white",
            "linecolor": "white",
            "ticks": ""
           },
           "bgcolor": "#E5ECF6",
           "radialaxis": {
            "gridcolor": "white",
            "linecolor": "white",
            "ticks": ""
           }
          },
          "scene": {
           "xaxis": {
            "backgroundcolor": "#E5ECF6",
            "gridcolor": "white",
            "gridwidth": 2,
            "linecolor": "white",
            "showbackground": true,
            "ticks": "",
            "zerolinecolor": "white"
           },
           "yaxis": {
            "backgroundcolor": "#E5ECF6",
            "gridcolor": "white",
            "gridwidth": 2,
            "linecolor": "white",
            "showbackground": true,
            "ticks": "",
            "zerolinecolor": "white"
           },
           "zaxis": {
            "backgroundcolor": "#E5ECF6",
            "gridcolor": "white",
            "gridwidth": 2,
            "linecolor": "white",
            "showbackground": true,
            "ticks": "",
            "zerolinecolor": "white"
           }
          },
          "shapedefaults": {
           "line": {
            "color": "#2a3f5f"
           }
          },
          "ternary": {
           "aaxis": {
            "gridcolor": "white",
            "linecolor": "white",
            "ticks": ""
           },
           "baxis": {
            "gridcolor": "white",
            "linecolor": "white",
            "ticks": ""
           },
           "bgcolor": "#E5ECF6",
           "caxis": {
            "gridcolor": "white",
            "linecolor": "white",
            "ticks": ""
           }
          },
          "title": {
           "x": 0.05
          },
          "xaxis": {
           "automargin": true,
           "gridcolor": "white",
           "linecolor": "white",
           "ticks": "",
           "title": {
            "standoff": 15
           },
           "zerolinecolor": "white",
           "zerolinewidth": 2
          },
          "yaxis": {
           "automargin": true,
           "gridcolor": "white",
           "linecolor": "white",
           "ticks": "",
           "title": {
            "standoff": 15
           },
           "zerolinecolor": "white",
           "zerolinewidth": 2
          }
         }
        },
        "title": {
         "text": "Modelo SIR I/S"
        },
        "xaxis": {
         "anchor": "y",
         "domain": [
          0,
          1
         ],
         "title": {
          "text": "Susceptibles"
         }
        },
        "yaxis": {
         "anchor": "x",
         "domain": [
          0,
          1
         ],
         "title": {
          "text": "Infectados"
         }
        }
       }
      },
      "text/html": [
       "<div>                            <div id=\"920e5517-c8e0-4146-ab26-6403b02e4e0a\" class=\"plotly-graph-div\" style=\"height:525px; width:100%;\"></div>            <script type=\"text/javascript\">                require([\"plotly\"], function(Plotly) {                    window.PLOTLYENV=window.PLOTLYENV || {};                                    if (document.getElementById(\"920e5517-c8e0-4146-ab26-6403b02e4e0a\")) {                    Plotly.newPlot(                        \"920e5517-c8e0-4146-ab26-6403b02e4e0a\",                        [{\"hovertemplate\":\"Susceptibles=%{x}<br>Infectados=%{y}<extra></extra>\",\"legendgroup\":\"\",\"line\":{\"color\":\"#636efa\",\"dash\":\"solid\"},\"marker\":{\"symbol\":\"circle\"},\"mode\":\"lines+markers\",\"name\":\"\",\"orientation\":\"v\",\"showlegend\":false,\"type\":\"scatter\",\"x\":[99.0,98.703,98.327829897,97.85462915179399,97.25891872982514,96.51078288181169,95.57406375223007,94.40568694031931,92.95531189937276,91.16560187023678,88.97352750796247,86.31323272692383,83.12104699408572,79.3431305552105,74.94585443006555,69.92821416267213,64.33433331356859,58.26268906097336,51.86777263657323,45.35048272851443,38.936368049547816,32.84541048995752,27.261247361653435,22.308816983407322,18.046206492089116,14.470737760818459,11.534464443728993,9.162602680889549,7.269799598208088,5.77178303508807,4.592189474693462,3.665577126793983,2.937936196239438,2.3658194250624507,1.9148739847761376,1.558241836996626,1.2750691792976245,1.0492244762836094,0.8682465589227598,0.7225064826814851,0.6045521083265617,0.5086016286232746,0.43015502336519407,0.3656971834755351,0.31247147030302586,0.2683070130040446,0.23148684309723633,0.20064700813954908,0.17469918240758264,0.15277111729284024,0.13416066115733677,0.11830012598402528,0.10472856653826737,0.0930701301121021,0.08301707990891238,0.0743164296907861,0.06675937926300263,0.06017293052490701,0.05441320770668775,0.049360114612203465,0.04491304482361261,0.040987424325572674,0.03751191467830072,0.03442614230407415,0.0316788483468816,0.02922637594769614,0.02703142917780651,0.02506205144710092,0.0232907818315491,0.021693956113253775,0.020251125908359077,0.01894457446452015,0.017758911841813604,0.016680735481366896,0.015698344794581993,0.014801500512421137,0.0139812212277522,0.013229610929388411,0.01253971243100062,0.01190538249408368,0.011321185173096649,0.010782300505600584,0.010284446156754331,0.00982381002665512,0.009396992157303552,0.009000954546707953,0.008632977701483345,0.008290622944832007,0.007971699650949585,0.007674236705296514,0.007396457597366138,0.007136758642276531,0.006893689902738253,0.006665938446179136,0.006452313625068378,0.006251734113442291,0.006063216470666117,0.005885865035703499,0.005718862982545336,0.005561464390750116],\"xaxis\":\"x\",\"y\":[1.0,1.267,1.6041601030000001,2.0292360451160145,2.5640693857313765,3.2352831521728773,4.07494378718931,5.121072285484387,6.417815157866409,8.0149907322664,9.966615372572715,12.327911692434173,15.150260074499254,18.473668711139496,22.316734774950255,26.66487299909516,31.45880765822584,36.5866876810743,41.8840034750422,47.14477327884973,52.14454475945085,56.67116597625762,60.55519412527398,63.690968679761866,66.04285011068721,67.63703333863725,68.5441956555676,68.85973154874002,68.68674268495927,68.12415696753051,67.26002581889921,66.16883739223171,64.9114132010193,63.5361875761657,62.08104738916705,60.57524811527155,59.04116332951241,57.49577313264105,55.95187785602266,54.419061596583255,52.90444412304068,51.41326127905275,49.94931004593924,48.51528858445072,47.113055640089705,45.74382842818599,44.40833374524722,43.10692356784749,41.83966368654403,40.60640184106245,39.40682024196608,38.24047616988041,37.10683344422975,36.00528687732902,34.93518132121234,33.89582653179409,32.88650878626805,31.906499971418107,30.955064695093785,30.031465847335454,29.13496894170398,28.2648454939509,27.420375638779646,26.60085014199048,25.80557193168796,25.033857246136506,24.2850364755223,23.558454758987338,22.85347238583327,22.16946503997657,21.505823918982166,20.861955752856538,20.237282742893548,19.631242436967188,19.043287554544957,18.472885772190768,17.919519478309713,17.382685504258784,16.861894837629407,16.356672322437444,15.866556350085306,15.391098544250243,14.92986344227158,14.482428175133533,14.048382147748878,13.627326720927007,13.21887489614442,12.82265100401674,12.43829039719012,12.065439148220069,11.703753752881397,11.352900839250044,11.012556882812081,10.682407927784277,10.36214931477186,10.05148541484033,9.750129370037897,9.457802840371722,9.174235757213728,8.89916608308911],\"yaxis\":\"y\"}],                        {\"legend\":{\"tracegroupgap\":0},\"template\":{\"data\":{\"bar\":[{\"error_x\":{\"color\":\"#2a3f5f\"},\"error_y\":{\"color\":\"#2a3f5f\"},\"marker\":{\"line\":{\"color\":\"#E5ECF6\",\"width\":0.5},\"pattern\":{\"fillmode\":\"overlay\",\"size\":10,\"solidity\":0.2}},\"type\":\"bar\"}],\"barpolar\":[{\"marker\":{\"line\":{\"color\":\"#E5ECF6\",\"width\":0.5},\"pattern\":{\"fillmode\":\"overlay\",\"size\":10,\"solidity\":0.2}},\"type\":\"barpolar\"}],\"carpet\":[{\"aaxis\":{\"endlinecolor\":\"#2a3f5f\",\"gridcolor\":\"white\",\"linecolor\":\"white\",\"minorgridcolor\":\"white\",\"startlinecolor\":\"#2a3f5f\"},\"baxis\":{\"endlinecolor\":\"#2a3f5f\",\"gridcolor\":\"white\",\"linecolor\":\"white\",\"minorgridcolor\":\"white\",\"startlinecolor\":\"#2a3f5f\"},\"type\":\"carpet\"}],\"choropleth\":[{\"colorbar\":{\"outlinewidth\":0,\"ticks\":\"\"},\"type\":\"choropleth\"}],\"contour\":[{\"colorbar\":{\"outlinewidth\":0,\"ticks\":\"\"},\"colorscale\":[[0.0,\"#0d0887\"],[0.1111111111111111,\"#46039f\"],[0.2222222222222222,\"#7201a8\"],[0.3333333333333333,\"#9c179e\"],[0.4444444444444444,\"#bd3786\"],[0.5555555555555556,\"#d8576b\"],[0.6666666666666666,\"#ed7953\"],[0.7777777777777778,\"#fb9f3a\"],[0.8888888888888888,\"#fdca26\"],[1.0,\"#f0f921\"]],\"type\":\"contour\"}],\"contourcarpet\":[{\"colorbar\":{\"outlinewidth\":0,\"ticks\":\"\"},\"type\":\"contourcarpet\"}],\"heatmap\":[{\"colorbar\":{\"outlinewidth\":0,\"ticks\":\"\"},\"colorscale\":[[0.0,\"#0d0887\"],[0.1111111111111111,\"#46039f\"],[0.2222222222222222,\"#7201a8\"],[0.3333333333333333,\"#9c179e\"],[0.4444444444444444,\"#bd3786\"],[0.5555555555555556,\"#d8576b\"],[0.6666666666666666,\"#ed7953\"],[0.7777777777777778,\"#fb9f3a\"],[0.8888888888888888,\"#fdca26\"],[1.0,\"#f0f921\"]],\"type\":\"heatmap\"}],\"heatmapgl\":[{\"colorbar\":{\"outlinewidth\":0,\"ticks\":\"\"},\"colorscale\":[[0.0,\"#0d0887\"],[0.1111111111111111,\"#46039f\"],[0.2222222222222222,\"#7201a8\"],[0.3333333333333333,\"#9c179e\"],[0.4444444444444444,\"#bd3786\"],[0.5555555555555556,\"#d8576b\"],[0.6666666666666666,\"#ed7953\"],[0.7777777777777778,\"#fb9f3a\"],[0.8888888888888888,\"#fdca26\"],[1.0,\"#f0f921\"]],\"type\":\"heatmapgl\"}],\"histogram\":[{\"marker\":{\"pattern\":{\"fillmode\":\"overlay\",\"size\":10,\"solidity\":0.2}},\"type\":\"histogram\"}],\"histogram2d\":[{\"colorbar\":{\"outlinewidth\":0,\"ticks\":\"\"},\"colorscale\":[[0.0,\"#0d0887\"],[0.1111111111111111,\"#46039f\"],[0.2222222222222222,\"#7201a8\"],[0.3333333333333333,\"#9c179e\"],[0.4444444444444444,\"#bd3786\"],[0.5555555555555556,\"#d8576b\"],[0.6666666666666666,\"#ed7953\"],[0.7777777777777778,\"#fb9f3a\"],[0.8888888888888888,\"#fdca26\"],[1.0,\"#f0f921\"]],\"type\":\"histogram2d\"}],\"histogram2dcontour\":[{\"colorbar\":{\"outlinewidth\":0,\"ticks\":\"\"},\"colorscale\":[[0.0,\"#0d0887\"],[0.1111111111111111,\"#46039f\"],[0.2222222222222222,\"#7201a8\"],[0.3333333333333333,\"#9c179e\"],[0.4444444444444444,\"#bd3786\"],[0.5555555555555556,\"#d8576b\"],[0.6666666666666666,\"#ed7953\"],[0.7777777777777778,\"#fb9f3a\"],[0.8888888888888888,\"#fdca26\"],[1.0,\"#f0f921\"]],\"type\":\"histogram2dcontour\"}],\"mesh3d\":[{\"colorbar\":{\"outlinewidth\":0,\"ticks\":\"\"},\"type\":\"mesh3d\"}],\"parcoords\":[{\"line\":{\"colorbar\":{\"outlinewidth\":0,\"ticks\":\"\"}},\"type\":\"parcoords\"}],\"pie\":[{\"automargin\":true,\"type\":\"pie\"}],\"scatter\":[{\"marker\":{\"colorbar\":{\"outlinewidth\":0,\"ticks\":\"\"}},\"type\":\"scatter\"}],\"scatter3d\":[{\"line\":{\"colorbar\":{\"outlinewidth\":0,\"ticks\":\"\"}},\"marker\":{\"colorbar\":{\"outlinewidth\":0,\"ticks\":\"\"}},\"type\":\"scatter3d\"}],\"scattercarpet\":[{\"marker\":{\"colorbar\":{\"outlinewidth\":0,\"ticks\":\"\"}},\"type\":\"scattercarpet\"}],\"scattergeo\":[{\"marker\":{\"colorbar\":{\"outlinewidth\":0,\"ticks\":\"\"}},\"type\":\"scattergeo\"}],\"scattergl\":[{\"marker\":{\"colorbar\":{\"outlinewidth\":0,\"ticks\":\"\"}},\"type\":\"scattergl\"}],\"scattermapbox\":[{\"marker\":{\"colorbar\":{\"outlinewidth\":0,\"ticks\":\"\"}},\"type\":\"scattermapbox\"}],\"scatterpolar\":[{\"marker\":{\"colorbar\":{\"outlinewidth\":0,\"ticks\":\"\"}},\"type\":\"scatterpolar\"}],\"scatterpolargl\":[{\"marker\":{\"colorbar\":{\"outlinewidth\":0,\"ticks\":\"\"}},\"type\":\"scatterpolargl\"}],\"scatterternary\":[{\"marker\":{\"colorbar\":{\"outlinewidth\":0,\"ticks\":\"\"}},\"type\":\"scatterternary\"}],\"surface\":[{\"colorbar\":{\"outlinewidth\":0,\"ticks\":\"\"},\"colorscale\":[[0.0,\"#0d0887\"],[0.1111111111111111,\"#46039f\"],[0.2222222222222222,\"#7201a8\"],[0.3333333333333333,\"#9c179e\"],[0.4444444444444444,\"#bd3786\"],[0.5555555555555556,\"#d8576b\"],[0.6666666666666666,\"#ed7953\"],[0.7777777777777778,\"#fb9f3a\"],[0.8888888888888888,\"#fdca26\"],[1.0,\"#f0f921\"]],\"type\":\"surface\"}],\"table\":[{\"cells\":{\"fill\":{\"color\":\"#EBF0F8\"},\"line\":{\"color\":\"white\"}},\"header\":{\"fill\":{\"color\":\"#C8D4E3\"},\"line\":{\"color\":\"white\"}},\"type\":\"table\"}]},\"layout\":{\"annotationdefaults\":{\"arrowcolor\":\"#2a3f5f\",\"arrowhead\":0,\"arrowwidth\":1},\"autotypenumbers\":\"strict\",\"coloraxis\":{\"colorbar\":{\"outlinewidth\":0,\"ticks\":\"\"}},\"colorscale\":{\"diverging\":[[0,\"#8e0152\"],[0.1,\"#c51b7d\"],[0.2,\"#de77ae\"],[0.3,\"#f1b6da\"],[0.4,\"#fde0ef\"],[0.5,\"#f7f7f7\"],[0.6,\"#e6f5d0\"],[0.7,\"#b8e186\"],[0.8,\"#7fbc41\"],[0.9,\"#4d9221\"],[1,\"#276419\"]],\"sequential\":[[0.0,\"#0d0887\"],[0.1111111111111111,\"#46039f\"],[0.2222222222222222,\"#7201a8\"],[0.3333333333333333,\"#9c179e\"],[0.4444444444444444,\"#bd3786\"],[0.5555555555555556,\"#d8576b\"],[0.6666666666666666,\"#ed7953\"],[0.7777777777777778,\"#fb9f3a\"],[0.8888888888888888,\"#fdca26\"],[1.0,\"#f0f921\"]],\"sequentialminus\":[[0.0,\"#0d0887\"],[0.1111111111111111,\"#46039f\"],[0.2222222222222222,\"#7201a8\"],[0.3333333333333333,\"#9c179e\"],[0.4444444444444444,\"#bd3786\"],[0.5555555555555556,\"#d8576b\"],[0.6666666666666666,\"#ed7953\"],[0.7777777777777778,\"#fb9f3a\"],[0.8888888888888888,\"#fdca26\"],[1.0,\"#f0f921\"]]},\"colorway\":[\"#636efa\",\"#EF553B\",\"#00cc96\",\"#ab63fa\",\"#FFA15A\",\"#19d3f3\",\"#FF6692\",\"#B6E880\",\"#FF97FF\",\"#FECB52\"],\"font\":{\"color\":\"#2a3f5f\"},\"geo\":{\"bgcolor\":\"white\",\"lakecolor\":\"white\",\"landcolor\":\"#E5ECF6\",\"showlakes\":true,\"showland\":true,\"subunitcolor\":\"white\"},\"hoverlabel\":{\"align\":\"left\"},\"hovermode\":\"closest\",\"mapbox\":{\"style\":\"light\"},\"paper_bgcolor\":\"white\",\"plot_bgcolor\":\"#E5ECF6\",\"polar\":{\"angularaxis\":{\"gridcolor\":\"white\",\"linecolor\":\"white\",\"ticks\":\"\"},\"bgcolor\":\"#E5ECF6\",\"radialaxis\":{\"gridcolor\":\"white\",\"linecolor\":\"white\",\"ticks\":\"\"}},\"scene\":{\"xaxis\":{\"backgroundcolor\":\"#E5ECF6\",\"gridcolor\":\"white\",\"gridwidth\":2,\"linecolor\":\"white\",\"showbackground\":true,\"ticks\":\"\",\"zerolinecolor\":\"white\"},\"yaxis\":{\"backgroundcolor\":\"#E5ECF6\",\"gridcolor\":\"white\",\"gridwidth\":2,\"linecolor\":\"white\",\"showbackground\":true,\"ticks\":\"\",\"zerolinecolor\":\"white\"},\"zaxis\":{\"backgroundcolor\":\"#E5ECF6\",\"gridcolor\":\"white\",\"gridwidth\":2,\"linecolor\":\"white\",\"showbackground\":true,\"ticks\":\"\",\"zerolinecolor\":\"white\"}},\"shapedefaults\":{\"line\":{\"color\":\"#2a3f5f\"}},\"ternary\":{\"aaxis\":{\"gridcolor\":\"white\",\"linecolor\":\"white\",\"ticks\":\"\"},\"baxis\":{\"gridcolor\":\"white\",\"linecolor\":\"white\",\"ticks\":\"\"},\"bgcolor\":\"#E5ECF6\",\"caxis\":{\"gridcolor\":\"white\",\"linecolor\":\"white\",\"ticks\":\"\"}},\"title\":{\"x\":0.05},\"xaxis\":{\"automargin\":true,\"gridcolor\":\"white\",\"linecolor\":\"white\",\"ticks\":\"\",\"title\":{\"standoff\":15},\"zerolinecolor\":\"white\",\"zerolinewidth\":2},\"yaxis\":{\"automargin\":true,\"gridcolor\":\"white\",\"linecolor\":\"white\",\"ticks\":\"\",\"title\":{\"standoff\":15},\"zerolinecolor\":\"white\",\"zerolinewidth\":2}}},\"title\":{\"text\":\"Modelo SIR I/S\"},\"xaxis\":{\"anchor\":\"y\",\"domain\":[0.0,1.0],\"title\":{\"text\":\"Susceptibles\"}},\"yaxis\":{\"anchor\":\"x\",\"domain\":[0.0,1.0],\"title\":{\"text\":\"Infectados\"}}},                        {\"responsive\": true}                    ).then(function(){\n",
       "                            \n",
       "var gd = document.getElementById('920e5517-c8e0-4146-ab26-6403b02e4e0a');\n",
       "var x = new MutationObserver(function (mutations, observer) {{\n",
       "        var display = window.getComputedStyle(gd).display;\n",
       "        if (!display || display === 'none') {{\n",
       "            console.log([gd, 'removed!']);\n",
       "            Plotly.purge(gd);\n",
       "            observer.disconnect();\n",
       "        }}\n",
       "}});\n",
       "\n",
       "// Listen for the removal of the full notebook cells\n",
       "var notebookContainer = gd.closest('#notebook-container');\n",
       "if (notebookContainer) {{\n",
       "    x.observe(notebookContainer, {childList: true});\n",
       "}}\n",
       "\n",
       "// Listen for the clearing of the current output cell\n",
       "var outputEl = gd.closest('.output');\n",
       "if (outputEl) {{\n",
       "    x.observe(outputEl, {childList: true});\n",
       "}}\n",
       "\n",
       "                        })                };                });            </script>        </div>"
      ]
     },
     "metadata": {},
     "output_type": "display_data"
    },
    {
     "data": {
      "application/vnd.plotly.v1+json": {
       "config": {
        "plotlyServerURL": "https://plot.ly"
       },
       "data": [
        {
         "hovertemplate": "Susceptibles=%{x}<br>Recuperados=%{y}<extra></extra>",
         "legendgroup": "",
         "line": {
          "color": "#636efa",
          "dash": "solid"
         },
         "marker": {
          "symbol": "circle"
         },
         "mode": "lines+markers",
         "name": "",
         "orientation": "v",
         "showlegend": false,
         "type": "scatter",
         "x": [
          99,
          98.703,
          98.327829897,
          97.85462915179399,
          97.25891872982514,
          96.51078288181169,
          95.57406375223007,
          94.40568694031931,
          92.95531189937276,
          91.16560187023678,
          88.97352750796247,
          86.31323272692383,
          83.12104699408572,
          79.3431305552105,
          74.94585443006555,
          69.92821416267213,
          64.33433331356859,
          58.26268906097336,
          51.86777263657323,
          45.35048272851443,
          38.936368049547816,
          32.84541048995752,
          27.261247361653435,
          22.308816983407322,
          18.046206492089116,
          14.470737760818459,
          11.534464443728993,
          9.162602680889549,
          7.269799598208088,
          5.77178303508807,
          4.592189474693462,
          3.665577126793983,
          2.937936196239438,
          2.3658194250624507,
          1.9148739847761376,
          1.558241836996626,
          1.2750691792976245,
          1.0492244762836094,
          0.8682465589227598,
          0.7225064826814851,
          0.6045521083265617,
          0.5086016286232746,
          0.43015502336519407,
          0.3656971834755351,
          0.31247147030302586,
          0.2683070130040446,
          0.23148684309723633,
          0.20064700813954908,
          0.17469918240758264,
          0.15277111729284024,
          0.13416066115733677,
          0.11830012598402528,
          0.10472856653826737,
          0.0930701301121021,
          0.08301707990891238,
          0.0743164296907861,
          0.06675937926300263,
          0.06017293052490701,
          0.05441320770668775,
          0.049360114612203465,
          0.04491304482361261,
          0.040987424325572674,
          0.03751191467830072,
          0.03442614230407415,
          0.0316788483468816,
          0.02922637594769614,
          0.02703142917780651,
          0.02506205144710092,
          0.0232907818315491,
          0.021693956113253775,
          0.020251125908359077,
          0.01894457446452015,
          0.017758911841813604,
          0.016680735481366896,
          0.015698344794581993,
          0.014801500512421137,
          0.0139812212277522,
          0.013229610929388411,
          0.01253971243100062,
          0.01190538249408368,
          0.011321185173096649,
          0.010782300505600584,
          0.010284446156754331,
          0.00982381002665512,
          0.009396992157303552,
          0.009000954546707953,
          0.008632977701483345,
          0.008290622944832007,
          0.007971699650949585,
          0.007674236705296514,
          0.007396457597366138,
          0.007136758642276531,
          0.006893689902738253,
          0.006665938446179136,
          0.006452313625068378,
          0.006251734113442291,
          0.006063216470666117,
          0.005885865035703499,
          0.005718862982545336,
          0.005561464390750116
         ],
         "xaxis": "x",
         "y": [
          0,
          0.03,
          0.06800999999999999,
          0.11613480308999999,
          0.17701188444348043,
          0.25393396601542173,
          0.35099246058060807,
          0.4732407741962874,
          0.6268729427608191,
          0.8194073974968114,
          1.0598571194648034,
          1.3588555806419849,
          1.7286929314150101,
          2.1832007336499877,
          2.7374107949841724,
          3.40691283823268,
          4.2068590282055345,
          5.15062325795231,
          6.248223888384539,
          7.504743992635804,
          8.919087191001296,
          10.483423533784821,
          12.18355851307255,
          14.00021433683077,
          15.910943397223626,
          17.892228900544243,
          19.92133990070336,
          21.977665770370386,
          24.043457716832588,
          26.104059997381366,
          28.147784706407283,
          30.165585480974258,
          32.15065060274121,
          34.09799299877179,
          36.00407862605676,
          37.86651004773177,
          39.68376749118992,
          41.45500239107529,
          43.17987558505452,
          44.8584319207352,
          46.491003768632694,
          48.078137092323914,
          49.6205349306955,
          51.119014232073674,
          52.57447288960719,
          53.98786455880988,
          55.36017941165546,
          56.69242942401287,
          57.98563713104829,
          59.240827041644614,
          60.45901909687649,
          61.64122370413547,
          62.78843798923188,
          63.90164299255877,
          64.98180159887865,
          66.02985703851502,
          67.04673183446884,
          68.03332709805689,
          68.99052209719943,
          69.91917403805225,
          70.82011801347231,
          71.69416708172344,
          72.54211244654196,
          73.36472371570535,
          74.16274921996506,
          74.93691637791571,
          75.6879320952998,
          76.41648318956547,
          77.1232368323351,
          77.80884100391009,
          78.47392495510938,
          79.11909967267884,
          79.74495834526454,
          80.35207682755134,
          80.94101410066035,
          81.5123127272967,
          82.06649930046243,
          82.60408488481171,
          83.12556544993947,
          83.63142229506836,
          84.12212246474148,
          84.59811915524404,
          85.05985211157154,
          85.50774801483969,
          85.9422208600937,
          86.36367232452616,
          86.77249212615398,
          87.16905837303831,
          87.55373790315882,
          87.92688661507452,
          88.28884978952112,
          88.63996240210757,
          88.98054942728507,
          89.31092613376943,
          89.63139837160296,
          89.94226285104611,
          90.24380741349133,
          90.53631129459247,
          90.82004537980362,
          91.09527245252004
         ],
         "yaxis": "y"
        }
       ],
       "layout": {
        "legend": {
         "tracegroupgap": 0
        },
        "template": {
         "data": {
          "bar": [
           {
            "error_x": {
             "color": "#2a3f5f"
            },
            "error_y": {
             "color": "#2a3f5f"
            },
            "marker": {
             "line": {
              "color": "#E5ECF6",
              "width": 0.5
             },
             "pattern": {
              "fillmode": "overlay",
              "size": 10,
              "solidity": 0.2
             }
            },
            "type": "bar"
           }
          ],
          "barpolar": [
           {
            "marker": {
             "line": {
              "color": "#E5ECF6",
              "width": 0.5
             },
             "pattern": {
              "fillmode": "overlay",
              "size": 10,
              "solidity": 0.2
             }
            },
            "type": "barpolar"
           }
          ],
          "carpet": [
           {
            "aaxis": {
             "endlinecolor": "#2a3f5f",
             "gridcolor": "white",
             "linecolor": "white",
             "minorgridcolor": "white",
             "startlinecolor": "#2a3f5f"
            },
            "baxis": {
             "endlinecolor": "#2a3f5f",
             "gridcolor": "white",
             "linecolor": "white",
             "minorgridcolor": "white",
             "startlinecolor": "#2a3f5f"
            },
            "type": "carpet"
           }
          ],
          "choropleth": [
           {
            "colorbar": {
             "outlinewidth": 0,
             "ticks": ""
            },
            "type": "choropleth"
           }
          ],
          "contour": [
           {
            "colorbar": {
             "outlinewidth": 0,
             "ticks": ""
            },
            "colorscale": [
             [
              0,
              "#0d0887"
             ],
             [
              0.1111111111111111,
              "#46039f"
             ],
             [
              0.2222222222222222,
              "#7201a8"
             ],
             [
              0.3333333333333333,
              "#9c179e"
             ],
             [
              0.4444444444444444,
              "#bd3786"
             ],
             [
              0.5555555555555556,
              "#d8576b"
             ],
             [
              0.6666666666666666,
              "#ed7953"
             ],
             [
              0.7777777777777778,
              "#fb9f3a"
             ],
             [
              0.8888888888888888,
              "#fdca26"
             ],
             [
              1,
              "#f0f921"
             ]
            ],
            "type": "contour"
           }
          ],
          "contourcarpet": [
           {
            "colorbar": {
             "outlinewidth": 0,
             "ticks": ""
            },
            "type": "contourcarpet"
           }
          ],
          "heatmap": [
           {
            "colorbar": {
             "outlinewidth": 0,
             "ticks": ""
            },
            "colorscale": [
             [
              0,
              "#0d0887"
             ],
             [
              0.1111111111111111,
              "#46039f"
             ],
             [
              0.2222222222222222,
              "#7201a8"
             ],
             [
              0.3333333333333333,
              "#9c179e"
             ],
             [
              0.4444444444444444,
              "#bd3786"
             ],
             [
              0.5555555555555556,
              "#d8576b"
             ],
             [
              0.6666666666666666,
              "#ed7953"
             ],
             [
              0.7777777777777778,
              "#fb9f3a"
             ],
             [
              0.8888888888888888,
              "#fdca26"
             ],
             [
              1,
              "#f0f921"
             ]
            ],
            "type": "heatmap"
           }
          ],
          "heatmapgl": [
           {
            "colorbar": {
             "outlinewidth": 0,
             "ticks": ""
            },
            "colorscale": [
             [
              0,
              "#0d0887"
             ],
             [
              0.1111111111111111,
              "#46039f"
             ],
             [
              0.2222222222222222,
              "#7201a8"
             ],
             [
              0.3333333333333333,
              "#9c179e"
             ],
             [
              0.4444444444444444,
              "#bd3786"
             ],
             [
              0.5555555555555556,
              "#d8576b"
             ],
             [
              0.6666666666666666,
              "#ed7953"
             ],
             [
              0.7777777777777778,
              "#fb9f3a"
             ],
             [
              0.8888888888888888,
              "#fdca26"
             ],
             [
              1,
              "#f0f921"
             ]
            ],
            "type": "heatmapgl"
           }
          ],
          "histogram": [
           {
            "marker": {
             "pattern": {
              "fillmode": "overlay",
              "size": 10,
              "solidity": 0.2
             }
            },
            "type": "histogram"
           }
          ],
          "histogram2d": [
           {
            "colorbar": {
             "outlinewidth": 0,
             "ticks": ""
            },
            "colorscale": [
             [
              0,
              "#0d0887"
             ],
             [
              0.1111111111111111,
              "#46039f"
             ],
             [
              0.2222222222222222,
              "#7201a8"
             ],
             [
              0.3333333333333333,
              "#9c179e"
             ],
             [
              0.4444444444444444,
              "#bd3786"
             ],
             [
              0.5555555555555556,
              "#d8576b"
             ],
             [
              0.6666666666666666,
              "#ed7953"
             ],
             [
              0.7777777777777778,
              "#fb9f3a"
             ],
             [
              0.8888888888888888,
              "#fdca26"
             ],
             [
              1,
              "#f0f921"
             ]
            ],
            "type": "histogram2d"
           }
          ],
          "histogram2dcontour": [
           {
            "colorbar": {
             "outlinewidth": 0,
             "ticks": ""
            },
            "colorscale": [
             [
              0,
              "#0d0887"
             ],
             [
              0.1111111111111111,
              "#46039f"
             ],
             [
              0.2222222222222222,
              "#7201a8"
             ],
             [
              0.3333333333333333,
              "#9c179e"
             ],
             [
              0.4444444444444444,
              "#bd3786"
             ],
             [
              0.5555555555555556,
              "#d8576b"
             ],
             [
              0.6666666666666666,
              "#ed7953"
             ],
             [
              0.7777777777777778,
              "#fb9f3a"
             ],
             [
              0.8888888888888888,
              "#fdca26"
             ],
             [
              1,
              "#f0f921"
             ]
            ],
            "type": "histogram2dcontour"
           }
          ],
          "mesh3d": [
           {
            "colorbar": {
             "outlinewidth": 0,
             "ticks": ""
            },
            "type": "mesh3d"
           }
          ],
          "parcoords": [
           {
            "line": {
             "colorbar": {
              "outlinewidth": 0,
              "ticks": ""
             }
            },
            "type": "parcoords"
           }
          ],
          "pie": [
           {
            "automargin": true,
            "type": "pie"
           }
          ],
          "scatter": [
           {
            "marker": {
             "colorbar": {
              "outlinewidth": 0,
              "ticks": ""
             }
            },
            "type": "scatter"
           }
          ],
          "scatter3d": [
           {
            "line": {
             "colorbar": {
              "outlinewidth": 0,
              "ticks": ""
             }
            },
            "marker": {
             "colorbar": {
              "outlinewidth": 0,
              "ticks": ""
             }
            },
            "type": "scatter3d"
           }
          ],
          "scattercarpet": [
           {
            "marker": {
             "colorbar": {
              "outlinewidth": 0,
              "ticks": ""
             }
            },
            "type": "scattercarpet"
           }
          ],
          "scattergeo": [
           {
            "marker": {
             "colorbar": {
              "outlinewidth": 0,
              "ticks": ""
             }
            },
            "type": "scattergeo"
           }
          ],
          "scattergl": [
           {
            "marker": {
             "colorbar": {
              "outlinewidth": 0,
              "ticks": ""
             }
            },
            "type": "scattergl"
           }
          ],
          "scattermapbox": [
           {
            "marker": {
             "colorbar": {
              "outlinewidth": 0,
              "ticks": ""
             }
            },
            "type": "scattermapbox"
           }
          ],
          "scatterpolar": [
           {
            "marker": {
             "colorbar": {
              "outlinewidth": 0,
              "ticks": ""
             }
            },
            "type": "scatterpolar"
           }
          ],
          "scatterpolargl": [
           {
            "marker": {
             "colorbar": {
              "outlinewidth": 0,
              "ticks": ""
             }
            },
            "type": "scatterpolargl"
           }
          ],
          "scatterternary": [
           {
            "marker": {
             "colorbar": {
              "outlinewidth": 0,
              "ticks": ""
             }
            },
            "type": "scatterternary"
           }
          ],
          "surface": [
           {
            "colorbar": {
             "outlinewidth": 0,
             "ticks": ""
            },
            "colorscale": [
             [
              0,
              "#0d0887"
             ],
             [
              0.1111111111111111,
              "#46039f"
             ],
             [
              0.2222222222222222,
              "#7201a8"
             ],
             [
              0.3333333333333333,
              "#9c179e"
             ],
             [
              0.4444444444444444,
              "#bd3786"
             ],
             [
              0.5555555555555556,
              "#d8576b"
             ],
             [
              0.6666666666666666,
              "#ed7953"
             ],
             [
              0.7777777777777778,
              "#fb9f3a"
             ],
             [
              0.8888888888888888,
              "#fdca26"
             ],
             [
              1,
              "#f0f921"
             ]
            ],
            "type": "surface"
           }
          ],
          "table": [
           {
            "cells": {
             "fill": {
              "color": "#EBF0F8"
             },
             "line": {
              "color": "white"
             }
            },
            "header": {
             "fill": {
              "color": "#C8D4E3"
             },
             "line": {
              "color": "white"
             }
            },
            "type": "table"
           }
          ]
         },
         "layout": {
          "annotationdefaults": {
           "arrowcolor": "#2a3f5f",
           "arrowhead": 0,
           "arrowwidth": 1
          },
          "autotypenumbers": "strict",
          "coloraxis": {
           "colorbar": {
            "outlinewidth": 0,
            "ticks": ""
           }
          },
          "colorscale": {
           "diverging": [
            [
             0,
             "#8e0152"
            ],
            [
             0.1,
             "#c51b7d"
            ],
            [
             0.2,
             "#de77ae"
            ],
            [
             0.3,
             "#f1b6da"
            ],
            [
             0.4,
             "#fde0ef"
            ],
            [
             0.5,
             "#f7f7f7"
            ],
            [
             0.6,
             "#e6f5d0"
            ],
            [
             0.7,
             "#b8e186"
            ],
            [
             0.8,
             "#7fbc41"
            ],
            [
             0.9,
             "#4d9221"
            ],
            [
             1,
             "#276419"
            ]
           ],
           "sequential": [
            [
             0,
             "#0d0887"
            ],
            [
             0.1111111111111111,
             "#46039f"
            ],
            [
             0.2222222222222222,
             "#7201a8"
            ],
            [
             0.3333333333333333,
             "#9c179e"
            ],
            [
             0.4444444444444444,
             "#bd3786"
            ],
            [
             0.5555555555555556,
             "#d8576b"
            ],
            [
             0.6666666666666666,
             "#ed7953"
            ],
            [
             0.7777777777777778,
             "#fb9f3a"
            ],
            [
             0.8888888888888888,
             "#fdca26"
            ],
            [
             1,
             "#f0f921"
            ]
           ],
           "sequentialminus": [
            [
             0,
             "#0d0887"
            ],
            [
             0.1111111111111111,
             "#46039f"
            ],
            [
             0.2222222222222222,
             "#7201a8"
            ],
            [
             0.3333333333333333,
             "#9c179e"
            ],
            [
             0.4444444444444444,
             "#bd3786"
            ],
            [
             0.5555555555555556,
             "#d8576b"
            ],
            [
             0.6666666666666666,
             "#ed7953"
            ],
            [
             0.7777777777777778,
             "#fb9f3a"
            ],
            [
             0.8888888888888888,
             "#fdca26"
            ],
            [
             1,
             "#f0f921"
            ]
           ]
          },
          "colorway": [
           "#636efa",
           "#EF553B",
           "#00cc96",
           "#ab63fa",
           "#FFA15A",
           "#19d3f3",
           "#FF6692",
           "#B6E880",
           "#FF97FF",
           "#FECB52"
          ],
          "font": {
           "color": "#2a3f5f"
          },
          "geo": {
           "bgcolor": "white",
           "lakecolor": "white",
           "landcolor": "#E5ECF6",
           "showlakes": true,
           "showland": true,
           "subunitcolor": "white"
          },
          "hoverlabel": {
           "align": "left"
          },
          "hovermode": "closest",
          "mapbox": {
           "style": "light"
          },
          "paper_bgcolor": "white",
          "plot_bgcolor": "#E5ECF6",
          "polar": {
           "angularaxis": {
            "gridcolor": "white",
            "linecolor": "white",
            "ticks": ""
           },
           "bgcolor": "#E5ECF6",
           "radialaxis": {
            "gridcolor": "white",
            "linecolor": "white",
            "ticks": ""
           }
          },
          "scene": {
           "xaxis": {
            "backgroundcolor": "#E5ECF6",
            "gridcolor": "white",
            "gridwidth": 2,
            "linecolor": "white",
            "showbackground": true,
            "ticks": "",
            "zerolinecolor": "white"
           },
           "yaxis": {
            "backgroundcolor": "#E5ECF6",
            "gridcolor": "white",
            "gridwidth": 2,
            "linecolor": "white",
            "showbackground": true,
            "ticks": "",
            "zerolinecolor": "white"
           },
           "zaxis": {
            "backgroundcolor": "#E5ECF6",
            "gridcolor": "white",
            "gridwidth": 2,
            "linecolor": "white",
            "showbackground": true,
            "ticks": "",
            "zerolinecolor": "white"
           }
          },
          "shapedefaults": {
           "line": {
            "color": "#2a3f5f"
           }
          },
          "ternary": {
           "aaxis": {
            "gridcolor": "white",
            "linecolor": "white",
            "ticks": ""
           },
           "baxis": {
            "gridcolor": "white",
            "linecolor": "white",
            "ticks": ""
           },
           "bgcolor": "#E5ECF6",
           "caxis": {
            "gridcolor": "white",
            "linecolor": "white",
            "ticks": ""
           }
          },
          "title": {
           "x": 0.05
          },
          "xaxis": {
           "automargin": true,
           "gridcolor": "white",
           "linecolor": "white",
           "ticks": "",
           "title": {
            "standoff": 15
           },
           "zerolinecolor": "white",
           "zerolinewidth": 2
          },
          "yaxis": {
           "automargin": true,
           "gridcolor": "white",
           "linecolor": "white",
           "ticks": "",
           "title": {
            "standoff": 15
           },
           "zerolinecolor": "white",
           "zerolinewidth": 2
          }
         }
        },
        "title": {
         "text": "Modelo SIR R/S"
        },
        "xaxis": {
         "anchor": "y",
         "domain": [
          0,
          1
         ],
         "title": {
          "text": "Susceptibles"
         }
        },
        "yaxis": {
         "anchor": "x",
         "domain": [
          0,
          1
         ],
         "title": {
          "text": "Recuperados"
         }
        }
       }
      },
      "text/html": [
       "<div>                            <div id=\"d7ea2912-d2e5-4980-a531-497b400c66e5\" class=\"plotly-graph-div\" style=\"height:525px; width:100%;\"></div>            <script type=\"text/javascript\">                require([\"plotly\"], function(Plotly) {                    window.PLOTLYENV=window.PLOTLYENV || {};                                    if (document.getElementById(\"d7ea2912-d2e5-4980-a531-497b400c66e5\")) {                    Plotly.newPlot(                        \"d7ea2912-d2e5-4980-a531-497b400c66e5\",                        [{\"hovertemplate\":\"Susceptibles=%{x}<br>Recuperados=%{y}<extra></extra>\",\"legendgroup\":\"\",\"line\":{\"color\":\"#636efa\",\"dash\":\"solid\"},\"marker\":{\"symbol\":\"circle\"},\"mode\":\"lines+markers\",\"name\":\"\",\"orientation\":\"v\",\"showlegend\":false,\"type\":\"scatter\",\"x\":[99.0,98.703,98.327829897,97.85462915179399,97.25891872982514,96.51078288181169,95.57406375223007,94.40568694031931,92.95531189937276,91.16560187023678,88.97352750796247,86.31323272692383,83.12104699408572,79.3431305552105,74.94585443006555,69.92821416267213,64.33433331356859,58.26268906097336,51.86777263657323,45.35048272851443,38.936368049547816,32.84541048995752,27.261247361653435,22.308816983407322,18.046206492089116,14.470737760818459,11.534464443728993,9.162602680889549,7.269799598208088,5.77178303508807,4.592189474693462,3.665577126793983,2.937936196239438,2.3658194250624507,1.9148739847761376,1.558241836996626,1.2750691792976245,1.0492244762836094,0.8682465589227598,0.7225064826814851,0.6045521083265617,0.5086016286232746,0.43015502336519407,0.3656971834755351,0.31247147030302586,0.2683070130040446,0.23148684309723633,0.20064700813954908,0.17469918240758264,0.15277111729284024,0.13416066115733677,0.11830012598402528,0.10472856653826737,0.0930701301121021,0.08301707990891238,0.0743164296907861,0.06675937926300263,0.06017293052490701,0.05441320770668775,0.049360114612203465,0.04491304482361261,0.040987424325572674,0.03751191467830072,0.03442614230407415,0.0316788483468816,0.02922637594769614,0.02703142917780651,0.02506205144710092,0.0232907818315491,0.021693956113253775,0.020251125908359077,0.01894457446452015,0.017758911841813604,0.016680735481366896,0.015698344794581993,0.014801500512421137,0.0139812212277522,0.013229610929388411,0.01253971243100062,0.01190538249408368,0.011321185173096649,0.010782300505600584,0.010284446156754331,0.00982381002665512,0.009396992157303552,0.009000954546707953,0.008632977701483345,0.008290622944832007,0.007971699650949585,0.007674236705296514,0.007396457597366138,0.007136758642276531,0.006893689902738253,0.006665938446179136,0.006452313625068378,0.006251734113442291,0.006063216470666117,0.005885865035703499,0.005718862982545336,0.005561464390750116],\"xaxis\":\"x\",\"y\":[0.0,0.03,0.06800999999999999,0.11613480308999999,0.17701188444348043,0.25393396601542173,0.35099246058060807,0.4732407741962874,0.6268729427608191,0.8194073974968114,1.0598571194648034,1.3588555806419849,1.7286929314150101,2.1832007336499877,2.7374107949841724,3.40691283823268,4.2068590282055345,5.15062325795231,6.248223888384539,7.504743992635804,8.919087191001296,10.483423533784821,12.18355851307255,14.00021433683077,15.910943397223626,17.892228900544243,19.92133990070336,21.977665770370386,24.043457716832588,26.104059997381366,28.147784706407283,30.165585480974258,32.15065060274121,34.09799299877179,36.00407862605676,37.86651004773177,39.68376749118992,41.45500239107529,43.17987558505452,44.8584319207352,46.491003768632694,48.078137092323914,49.6205349306955,51.119014232073674,52.57447288960719,53.98786455880988,55.36017941165546,56.69242942401287,57.98563713104829,59.240827041644614,60.45901909687649,61.64122370413547,62.78843798923188,63.90164299255877,64.98180159887865,66.02985703851502,67.04673183446884,68.03332709805689,68.99052209719943,69.91917403805225,70.82011801347231,71.69416708172344,72.54211244654196,73.36472371570535,74.16274921996506,74.93691637791571,75.6879320952998,76.41648318956547,77.1232368323351,77.80884100391009,78.47392495510938,79.11909967267884,79.74495834526454,80.35207682755134,80.94101410066035,81.5123127272967,82.06649930046243,82.60408488481171,83.12556544993947,83.63142229506836,84.12212246474148,84.59811915524404,85.05985211157154,85.50774801483969,85.9422208600937,86.36367232452616,86.77249212615398,87.16905837303831,87.55373790315882,87.92688661507452,88.28884978952112,88.63996240210757,88.98054942728507,89.31092613376943,89.63139837160296,89.94226285104611,90.24380741349133,90.53631129459247,90.82004537980362,91.09527245252004],\"yaxis\":\"y\"}],                        {\"legend\":{\"tracegroupgap\":0},\"template\":{\"data\":{\"bar\":[{\"error_x\":{\"color\":\"#2a3f5f\"},\"error_y\":{\"color\":\"#2a3f5f\"},\"marker\":{\"line\":{\"color\":\"#E5ECF6\",\"width\":0.5},\"pattern\":{\"fillmode\":\"overlay\",\"size\":10,\"solidity\":0.2}},\"type\":\"bar\"}],\"barpolar\":[{\"marker\":{\"line\":{\"color\":\"#E5ECF6\",\"width\":0.5},\"pattern\":{\"fillmode\":\"overlay\",\"size\":10,\"solidity\":0.2}},\"type\":\"barpolar\"}],\"carpet\":[{\"aaxis\":{\"endlinecolor\":\"#2a3f5f\",\"gridcolor\":\"white\",\"linecolor\":\"white\",\"minorgridcolor\":\"white\",\"startlinecolor\":\"#2a3f5f\"},\"baxis\":{\"endlinecolor\":\"#2a3f5f\",\"gridcolor\":\"white\",\"linecolor\":\"white\",\"minorgridcolor\":\"white\",\"startlinecolor\":\"#2a3f5f\"},\"type\":\"carpet\"}],\"choropleth\":[{\"colorbar\":{\"outlinewidth\":0,\"ticks\":\"\"},\"type\":\"choropleth\"}],\"contour\":[{\"colorbar\":{\"outlinewidth\":0,\"ticks\":\"\"},\"colorscale\":[[0.0,\"#0d0887\"],[0.1111111111111111,\"#46039f\"],[0.2222222222222222,\"#7201a8\"],[0.3333333333333333,\"#9c179e\"],[0.4444444444444444,\"#bd3786\"],[0.5555555555555556,\"#d8576b\"],[0.6666666666666666,\"#ed7953\"],[0.7777777777777778,\"#fb9f3a\"],[0.8888888888888888,\"#fdca26\"],[1.0,\"#f0f921\"]],\"type\":\"contour\"}],\"contourcarpet\":[{\"colorbar\":{\"outlinewidth\":0,\"ticks\":\"\"},\"type\":\"contourcarpet\"}],\"heatmap\":[{\"colorbar\":{\"outlinewidth\":0,\"ticks\":\"\"},\"colorscale\":[[0.0,\"#0d0887\"],[0.1111111111111111,\"#46039f\"],[0.2222222222222222,\"#7201a8\"],[0.3333333333333333,\"#9c179e\"],[0.4444444444444444,\"#bd3786\"],[0.5555555555555556,\"#d8576b\"],[0.6666666666666666,\"#ed7953\"],[0.7777777777777778,\"#fb9f3a\"],[0.8888888888888888,\"#fdca26\"],[1.0,\"#f0f921\"]],\"type\":\"heatmap\"}],\"heatmapgl\":[{\"colorbar\":{\"outlinewidth\":0,\"ticks\":\"\"},\"colorscale\":[[0.0,\"#0d0887\"],[0.1111111111111111,\"#46039f\"],[0.2222222222222222,\"#7201a8\"],[0.3333333333333333,\"#9c179e\"],[0.4444444444444444,\"#bd3786\"],[0.5555555555555556,\"#d8576b\"],[0.6666666666666666,\"#ed7953\"],[0.7777777777777778,\"#fb9f3a\"],[0.8888888888888888,\"#fdca26\"],[1.0,\"#f0f921\"]],\"type\":\"heatmapgl\"}],\"histogram\":[{\"marker\":{\"pattern\":{\"fillmode\":\"overlay\",\"size\":10,\"solidity\":0.2}},\"type\":\"histogram\"}],\"histogram2d\":[{\"colorbar\":{\"outlinewidth\":0,\"ticks\":\"\"},\"colorscale\":[[0.0,\"#0d0887\"],[0.1111111111111111,\"#46039f\"],[0.2222222222222222,\"#7201a8\"],[0.3333333333333333,\"#9c179e\"],[0.4444444444444444,\"#bd3786\"],[0.5555555555555556,\"#d8576b\"],[0.6666666666666666,\"#ed7953\"],[0.7777777777777778,\"#fb9f3a\"],[0.8888888888888888,\"#fdca26\"],[1.0,\"#f0f921\"]],\"type\":\"histogram2d\"}],\"histogram2dcontour\":[{\"colorbar\":{\"outlinewidth\":0,\"ticks\":\"\"},\"colorscale\":[[0.0,\"#0d0887\"],[0.1111111111111111,\"#46039f\"],[0.2222222222222222,\"#7201a8\"],[0.3333333333333333,\"#9c179e\"],[0.4444444444444444,\"#bd3786\"],[0.5555555555555556,\"#d8576b\"],[0.6666666666666666,\"#ed7953\"],[0.7777777777777778,\"#fb9f3a\"],[0.8888888888888888,\"#fdca26\"],[1.0,\"#f0f921\"]],\"type\":\"histogram2dcontour\"}],\"mesh3d\":[{\"colorbar\":{\"outlinewidth\":0,\"ticks\":\"\"},\"type\":\"mesh3d\"}],\"parcoords\":[{\"line\":{\"colorbar\":{\"outlinewidth\":0,\"ticks\":\"\"}},\"type\":\"parcoords\"}],\"pie\":[{\"automargin\":true,\"type\":\"pie\"}],\"scatter\":[{\"marker\":{\"colorbar\":{\"outlinewidth\":0,\"ticks\":\"\"}},\"type\":\"scatter\"}],\"scatter3d\":[{\"line\":{\"colorbar\":{\"outlinewidth\":0,\"ticks\":\"\"}},\"marker\":{\"colorbar\":{\"outlinewidth\":0,\"ticks\":\"\"}},\"type\":\"scatter3d\"}],\"scattercarpet\":[{\"marker\":{\"colorbar\":{\"outlinewidth\":0,\"ticks\":\"\"}},\"type\":\"scattercarpet\"}],\"scattergeo\":[{\"marker\":{\"colorbar\":{\"outlinewidth\":0,\"ticks\":\"\"}},\"type\":\"scattergeo\"}],\"scattergl\":[{\"marker\":{\"colorbar\":{\"outlinewidth\":0,\"ticks\":\"\"}},\"type\":\"scattergl\"}],\"scattermapbox\":[{\"marker\":{\"colorbar\":{\"outlinewidth\":0,\"ticks\":\"\"}},\"type\":\"scattermapbox\"}],\"scatterpolar\":[{\"marker\":{\"colorbar\":{\"outlinewidth\":0,\"ticks\":\"\"}},\"type\":\"scatterpolar\"}],\"scatterpolargl\":[{\"marker\":{\"colorbar\":{\"outlinewidth\":0,\"ticks\":\"\"}},\"type\":\"scatterpolargl\"}],\"scatterternary\":[{\"marker\":{\"colorbar\":{\"outlinewidth\":0,\"ticks\":\"\"}},\"type\":\"scatterternary\"}],\"surface\":[{\"colorbar\":{\"outlinewidth\":0,\"ticks\":\"\"},\"colorscale\":[[0.0,\"#0d0887\"],[0.1111111111111111,\"#46039f\"],[0.2222222222222222,\"#7201a8\"],[0.3333333333333333,\"#9c179e\"],[0.4444444444444444,\"#bd3786\"],[0.5555555555555556,\"#d8576b\"],[0.6666666666666666,\"#ed7953\"],[0.7777777777777778,\"#fb9f3a\"],[0.8888888888888888,\"#fdca26\"],[1.0,\"#f0f921\"]],\"type\":\"surface\"}],\"table\":[{\"cells\":{\"fill\":{\"color\":\"#EBF0F8\"},\"line\":{\"color\":\"white\"}},\"header\":{\"fill\":{\"color\":\"#C8D4E3\"},\"line\":{\"color\":\"white\"}},\"type\":\"table\"}]},\"layout\":{\"annotationdefaults\":{\"arrowcolor\":\"#2a3f5f\",\"arrowhead\":0,\"arrowwidth\":1},\"autotypenumbers\":\"strict\",\"coloraxis\":{\"colorbar\":{\"outlinewidth\":0,\"ticks\":\"\"}},\"colorscale\":{\"diverging\":[[0,\"#8e0152\"],[0.1,\"#c51b7d\"],[0.2,\"#de77ae\"],[0.3,\"#f1b6da\"],[0.4,\"#fde0ef\"],[0.5,\"#f7f7f7\"],[0.6,\"#e6f5d0\"],[0.7,\"#b8e186\"],[0.8,\"#7fbc41\"],[0.9,\"#4d9221\"],[1,\"#276419\"]],\"sequential\":[[0.0,\"#0d0887\"],[0.1111111111111111,\"#46039f\"],[0.2222222222222222,\"#7201a8\"],[0.3333333333333333,\"#9c179e\"],[0.4444444444444444,\"#bd3786\"],[0.5555555555555556,\"#d8576b\"],[0.6666666666666666,\"#ed7953\"],[0.7777777777777778,\"#fb9f3a\"],[0.8888888888888888,\"#fdca26\"],[1.0,\"#f0f921\"]],\"sequentialminus\":[[0.0,\"#0d0887\"],[0.1111111111111111,\"#46039f\"],[0.2222222222222222,\"#7201a8\"],[0.3333333333333333,\"#9c179e\"],[0.4444444444444444,\"#bd3786\"],[0.5555555555555556,\"#d8576b\"],[0.6666666666666666,\"#ed7953\"],[0.7777777777777778,\"#fb9f3a\"],[0.8888888888888888,\"#fdca26\"],[1.0,\"#f0f921\"]]},\"colorway\":[\"#636efa\",\"#EF553B\",\"#00cc96\",\"#ab63fa\",\"#FFA15A\",\"#19d3f3\",\"#FF6692\",\"#B6E880\",\"#FF97FF\",\"#FECB52\"],\"font\":{\"color\":\"#2a3f5f\"},\"geo\":{\"bgcolor\":\"white\",\"lakecolor\":\"white\",\"landcolor\":\"#E5ECF6\",\"showlakes\":true,\"showland\":true,\"subunitcolor\":\"white\"},\"hoverlabel\":{\"align\":\"left\"},\"hovermode\":\"closest\",\"mapbox\":{\"style\":\"light\"},\"paper_bgcolor\":\"white\",\"plot_bgcolor\":\"#E5ECF6\",\"polar\":{\"angularaxis\":{\"gridcolor\":\"white\",\"linecolor\":\"white\",\"ticks\":\"\"},\"bgcolor\":\"#E5ECF6\",\"radialaxis\":{\"gridcolor\":\"white\",\"linecolor\":\"white\",\"ticks\":\"\"}},\"scene\":{\"xaxis\":{\"backgroundcolor\":\"#E5ECF6\",\"gridcolor\":\"white\",\"gridwidth\":2,\"linecolor\":\"white\",\"showbackground\":true,\"ticks\":\"\",\"zerolinecolor\":\"white\"},\"yaxis\":{\"backgroundcolor\":\"#E5ECF6\",\"gridcolor\":\"white\",\"gridwidth\":2,\"linecolor\":\"white\",\"showbackground\":true,\"ticks\":\"\",\"zerolinecolor\":\"white\"},\"zaxis\":{\"backgroundcolor\":\"#E5ECF6\",\"gridcolor\":\"white\",\"gridwidth\":2,\"linecolor\":\"white\",\"showbackground\":true,\"ticks\":\"\",\"zerolinecolor\":\"white\"}},\"shapedefaults\":{\"line\":{\"color\":\"#2a3f5f\"}},\"ternary\":{\"aaxis\":{\"gridcolor\":\"white\",\"linecolor\":\"white\",\"ticks\":\"\"},\"baxis\":{\"gridcolor\":\"white\",\"linecolor\":\"white\",\"ticks\":\"\"},\"bgcolor\":\"#E5ECF6\",\"caxis\":{\"gridcolor\":\"white\",\"linecolor\":\"white\",\"ticks\":\"\"}},\"title\":{\"x\":0.05},\"xaxis\":{\"automargin\":true,\"gridcolor\":\"white\",\"linecolor\":\"white\",\"ticks\":\"\",\"title\":{\"standoff\":15},\"zerolinecolor\":\"white\",\"zerolinewidth\":2},\"yaxis\":{\"automargin\":true,\"gridcolor\":\"white\",\"linecolor\":\"white\",\"ticks\":\"\",\"title\":{\"standoff\":15},\"zerolinecolor\":\"white\",\"zerolinewidth\":2}}},\"title\":{\"text\":\"Modelo SIR R/S\"},\"xaxis\":{\"anchor\":\"y\",\"domain\":[0.0,1.0],\"title\":{\"text\":\"Susceptibles\"}},\"yaxis\":{\"anchor\":\"x\",\"domain\":[0.0,1.0],\"title\":{\"text\":\"Recuperados\"}}},                        {\"responsive\": true}                    ).then(function(){\n",
       "                            \n",
       "var gd = document.getElementById('d7ea2912-d2e5-4980-a531-497b400c66e5');\n",
       "var x = new MutationObserver(function (mutations, observer) {{\n",
       "        var display = window.getComputedStyle(gd).display;\n",
       "        if (!display || display === 'none') {{\n",
       "            console.log([gd, 'removed!']);\n",
       "            Plotly.purge(gd);\n",
       "            observer.disconnect();\n",
       "        }}\n",
       "}});\n",
       "\n",
       "// Listen for the removal of the full notebook cells\n",
       "var notebookContainer = gd.closest('#notebook-container');\n",
       "if (notebookContainer) {{\n",
       "    x.observe(notebookContainer, {childList: true});\n",
       "}}\n",
       "\n",
       "// Listen for the clearing of the current output cell\n",
       "var outputEl = gd.closest('.output');\n",
       "if (outputEl) {{\n",
       "    x.observe(outputEl, {childList: true});\n",
       "}}\n",
       "\n",
       "                        })                };                });            </script>        </div>"
      ]
     },
     "metadata": {},
     "output_type": "display_data"
    },
    {
     "data": {
      "application/vnd.plotly.v1+json": {
       "config": {
        "plotlyServerURL": "https://plot.ly"
       },
       "data": [
        {
         "hovertemplate": "Infectados=%{x}<br>Recuperados=%{y}<extra></extra>",
         "legendgroup": "",
         "line": {
          "color": "#636efa",
          "dash": "solid"
         },
         "marker": {
          "symbol": "circle"
         },
         "mode": "lines+markers",
         "name": "",
         "orientation": "v",
         "showlegend": false,
         "type": "scatter",
         "x": [
          1,
          1.267,
          1.6041601030000001,
          2.0292360451160145,
          2.5640693857313765,
          3.2352831521728773,
          4.07494378718931,
          5.121072285484387,
          6.417815157866409,
          8.0149907322664,
          9.966615372572715,
          12.327911692434173,
          15.150260074499254,
          18.473668711139496,
          22.316734774950255,
          26.66487299909516,
          31.45880765822584,
          36.5866876810743,
          41.8840034750422,
          47.14477327884973,
          52.14454475945085,
          56.67116597625762,
          60.55519412527398,
          63.690968679761866,
          66.04285011068721,
          67.63703333863725,
          68.5441956555676,
          68.85973154874002,
          68.68674268495927,
          68.12415696753051,
          67.26002581889921,
          66.16883739223171,
          64.9114132010193,
          63.5361875761657,
          62.08104738916705,
          60.57524811527155,
          59.04116332951241,
          57.49577313264105,
          55.95187785602266,
          54.419061596583255,
          52.90444412304068,
          51.41326127905275,
          49.94931004593924,
          48.51528858445072,
          47.113055640089705,
          45.74382842818599,
          44.40833374524722,
          43.10692356784749,
          41.83966368654403,
          40.60640184106245,
          39.40682024196608,
          38.24047616988041,
          37.10683344422975,
          36.00528687732902,
          34.93518132121234,
          33.89582653179409,
          32.88650878626805,
          31.906499971418107,
          30.955064695093785,
          30.031465847335454,
          29.13496894170398,
          28.2648454939509,
          27.420375638779646,
          26.60085014199048,
          25.80557193168796,
          25.033857246136506,
          24.2850364755223,
          23.558454758987338,
          22.85347238583327,
          22.16946503997657,
          21.505823918982166,
          20.861955752856538,
          20.237282742893548,
          19.631242436967188,
          19.043287554544957,
          18.472885772190768,
          17.919519478309713,
          17.382685504258784,
          16.861894837629407,
          16.356672322437444,
          15.866556350085306,
          15.391098544250243,
          14.92986344227158,
          14.482428175133533,
          14.048382147748878,
          13.627326720927007,
          13.21887489614442,
          12.82265100401674,
          12.43829039719012,
          12.065439148220069,
          11.703753752881397,
          11.352900839250044,
          11.012556882812081,
          10.682407927784277,
          10.36214931477186,
          10.05148541484033,
          9.750129370037897,
          9.457802840371722,
          9.174235757213728,
          8.89916608308911
         ],
         "xaxis": "x",
         "y": [
          0,
          0.03,
          0.06800999999999999,
          0.11613480308999999,
          0.17701188444348043,
          0.25393396601542173,
          0.35099246058060807,
          0.4732407741962874,
          0.6268729427608191,
          0.8194073974968114,
          1.0598571194648034,
          1.3588555806419849,
          1.7286929314150101,
          2.1832007336499877,
          2.7374107949841724,
          3.40691283823268,
          4.2068590282055345,
          5.15062325795231,
          6.248223888384539,
          7.504743992635804,
          8.919087191001296,
          10.483423533784821,
          12.18355851307255,
          14.00021433683077,
          15.910943397223626,
          17.892228900544243,
          19.92133990070336,
          21.977665770370386,
          24.043457716832588,
          26.104059997381366,
          28.147784706407283,
          30.165585480974258,
          32.15065060274121,
          34.09799299877179,
          36.00407862605676,
          37.86651004773177,
          39.68376749118992,
          41.45500239107529,
          43.17987558505452,
          44.8584319207352,
          46.491003768632694,
          48.078137092323914,
          49.6205349306955,
          51.119014232073674,
          52.57447288960719,
          53.98786455880988,
          55.36017941165546,
          56.69242942401287,
          57.98563713104829,
          59.240827041644614,
          60.45901909687649,
          61.64122370413547,
          62.78843798923188,
          63.90164299255877,
          64.98180159887865,
          66.02985703851502,
          67.04673183446884,
          68.03332709805689,
          68.99052209719943,
          69.91917403805225,
          70.82011801347231,
          71.69416708172344,
          72.54211244654196,
          73.36472371570535,
          74.16274921996506,
          74.93691637791571,
          75.6879320952998,
          76.41648318956547,
          77.1232368323351,
          77.80884100391009,
          78.47392495510938,
          79.11909967267884,
          79.74495834526454,
          80.35207682755134,
          80.94101410066035,
          81.5123127272967,
          82.06649930046243,
          82.60408488481171,
          83.12556544993947,
          83.63142229506836,
          84.12212246474148,
          84.59811915524404,
          85.05985211157154,
          85.50774801483969,
          85.9422208600937,
          86.36367232452616,
          86.77249212615398,
          87.16905837303831,
          87.55373790315882,
          87.92688661507452,
          88.28884978952112,
          88.63996240210757,
          88.98054942728507,
          89.31092613376943,
          89.63139837160296,
          89.94226285104611,
          90.24380741349133,
          90.53631129459247,
          90.82004537980362,
          91.09527245252004
         ],
         "yaxis": "y"
        }
       ],
       "layout": {
        "legend": {
         "tracegroupgap": 0
        },
        "template": {
         "data": {
          "bar": [
           {
            "error_x": {
             "color": "#2a3f5f"
            },
            "error_y": {
             "color": "#2a3f5f"
            },
            "marker": {
             "line": {
              "color": "#E5ECF6",
              "width": 0.5
             },
             "pattern": {
              "fillmode": "overlay",
              "size": 10,
              "solidity": 0.2
             }
            },
            "type": "bar"
           }
          ],
          "barpolar": [
           {
            "marker": {
             "line": {
              "color": "#E5ECF6",
              "width": 0.5
             },
             "pattern": {
              "fillmode": "overlay",
              "size": 10,
              "solidity": 0.2
             }
            },
            "type": "barpolar"
           }
          ],
          "carpet": [
           {
            "aaxis": {
             "endlinecolor": "#2a3f5f",
             "gridcolor": "white",
             "linecolor": "white",
             "minorgridcolor": "white",
             "startlinecolor": "#2a3f5f"
            },
            "baxis": {
             "endlinecolor": "#2a3f5f",
             "gridcolor": "white",
             "linecolor": "white",
             "minorgridcolor": "white",
             "startlinecolor": "#2a3f5f"
            },
            "type": "carpet"
           }
          ],
          "choropleth": [
           {
            "colorbar": {
             "outlinewidth": 0,
             "ticks": ""
            },
            "type": "choropleth"
           }
          ],
          "contour": [
           {
            "colorbar": {
             "outlinewidth": 0,
             "ticks": ""
            },
            "colorscale": [
             [
              0,
              "#0d0887"
             ],
             [
              0.1111111111111111,
              "#46039f"
             ],
             [
              0.2222222222222222,
              "#7201a8"
             ],
             [
              0.3333333333333333,
              "#9c179e"
             ],
             [
              0.4444444444444444,
              "#bd3786"
             ],
             [
              0.5555555555555556,
              "#d8576b"
             ],
             [
              0.6666666666666666,
              "#ed7953"
             ],
             [
              0.7777777777777778,
              "#fb9f3a"
             ],
             [
              0.8888888888888888,
              "#fdca26"
             ],
             [
              1,
              "#f0f921"
             ]
            ],
            "type": "contour"
           }
          ],
          "contourcarpet": [
           {
            "colorbar": {
             "outlinewidth": 0,
             "ticks": ""
            },
            "type": "contourcarpet"
           }
          ],
          "heatmap": [
           {
            "colorbar": {
             "outlinewidth": 0,
             "ticks": ""
            },
            "colorscale": [
             [
              0,
              "#0d0887"
             ],
             [
              0.1111111111111111,
              "#46039f"
             ],
             [
              0.2222222222222222,
              "#7201a8"
             ],
             [
              0.3333333333333333,
              "#9c179e"
             ],
             [
              0.4444444444444444,
              "#bd3786"
             ],
             [
              0.5555555555555556,
              "#d8576b"
             ],
             [
              0.6666666666666666,
              "#ed7953"
             ],
             [
              0.7777777777777778,
              "#fb9f3a"
             ],
             [
              0.8888888888888888,
              "#fdca26"
             ],
             [
              1,
              "#f0f921"
             ]
            ],
            "type": "heatmap"
           }
          ],
          "heatmapgl": [
           {
            "colorbar": {
             "outlinewidth": 0,
             "ticks": ""
            },
            "colorscale": [
             [
              0,
              "#0d0887"
             ],
             [
              0.1111111111111111,
              "#46039f"
             ],
             [
              0.2222222222222222,
              "#7201a8"
             ],
             [
              0.3333333333333333,
              "#9c179e"
             ],
             [
              0.4444444444444444,
              "#bd3786"
             ],
             [
              0.5555555555555556,
              "#d8576b"
             ],
             [
              0.6666666666666666,
              "#ed7953"
             ],
             [
              0.7777777777777778,
              "#fb9f3a"
             ],
             [
              0.8888888888888888,
              "#fdca26"
             ],
             [
              1,
              "#f0f921"
             ]
            ],
            "type": "heatmapgl"
           }
          ],
          "histogram": [
           {
            "marker": {
             "pattern": {
              "fillmode": "overlay",
              "size": 10,
              "solidity": 0.2
             }
            },
            "type": "histogram"
           }
          ],
          "histogram2d": [
           {
            "colorbar": {
             "outlinewidth": 0,
             "ticks": ""
            },
            "colorscale": [
             [
              0,
              "#0d0887"
             ],
             [
              0.1111111111111111,
              "#46039f"
             ],
             [
              0.2222222222222222,
              "#7201a8"
             ],
             [
              0.3333333333333333,
              "#9c179e"
             ],
             [
              0.4444444444444444,
              "#bd3786"
             ],
             [
              0.5555555555555556,
              "#d8576b"
             ],
             [
              0.6666666666666666,
              "#ed7953"
             ],
             [
              0.7777777777777778,
              "#fb9f3a"
             ],
             [
              0.8888888888888888,
              "#fdca26"
             ],
             [
              1,
              "#f0f921"
             ]
            ],
            "type": "histogram2d"
           }
          ],
          "histogram2dcontour": [
           {
            "colorbar": {
             "outlinewidth": 0,
             "ticks": ""
            },
            "colorscale": [
             [
              0,
              "#0d0887"
             ],
             [
              0.1111111111111111,
              "#46039f"
             ],
             [
              0.2222222222222222,
              "#7201a8"
             ],
             [
              0.3333333333333333,
              "#9c179e"
             ],
             [
              0.4444444444444444,
              "#bd3786"
             ],
             [
              0.5555555555555556,
              "#d8576b"
             ],
             [
              0.6666666666666666,
              "#ed7953"
             ],
             [
              0.7777777777777778,
              "#fb9f3a"
             ],
             [
              0.8888888888888888,
              "#fdca26"
             ],
             [
              1,
              "#f0f921"
             ]
            ],
            "type": "histogram2dcontour"
           }
          ],
          "mesh3d": [
           {
            "colorbar": {
             "outlinewidth": 0,
             "ticks": ""
            },
            "type": "mesh3d"
           }
          ],
          "parcoords": [
           {
            "line": {
             "colorbar": {
              "outlinewidth": 0,
              "ticks": ""
             }
            },
            "type": "parcoords"
           }
          ],
          "pie": [
           {
            "automargin": true,
            "type": "pie"
           }
          ],
          "scatter": [
           {
            "marker": {
             "colorbar": {
              "outlinewidth": 0,
              "ticks": ""
             }
            },
            "type": "scatter"
           }
          ],
          "scatter3d": [
           {
            "line": {
             "colorbar": {
              "outlinewidth": 0,
              "ticks": ""
             }
            },
            "marker": {
             "colorbar": {
              "outlinewidth": 0,
              "ticks": ""
             }
            },
            "type": "scatter3d"
           }
          ],
          "scattercarpet": [
           {
            "marker": {
             "colorbar": {
              "outlinewidth": 0,
              "ticks": ""
             }
            },
            "type": "scattercarpet"
           }
          ],
          "scattergeo": [
           {
            "marker": {
             "colorbar": {
              "outlinewidth": 0,
              "ticks": ""
             }
            },
            "type": "scattergeo"
           }
          ],
          "scattergl": [
           {
            "marker": {
             "colorbar": {
              "outlinewidth": 0,
              "ticks": ""
             }
            },
            "type": "scattergl"
           }
          ],
          "scattermapbox": [
           {
            "marker": {
             "colorbar": {
              "outlinewidth": 0,
              "ticks": ""
             }
            },
            "type": "scattermapbox"
           }
          ],
          "scatterpolar": [
           {
            "marker": {
             "colorbar": {
              "outlinewidth": 0,
              "ticks": ""
             }
            },
            "type": "scatterpolar"
           }
          ],
          "scatterpolargl": [
           {
            "marker": {
             "colorbar": {
              "outlinewidth": 0,
              "ticks": ""
             }
            },
            "type": "scatterpolargl"
           }
          ],
          "scatterternary": [
           {
            "marker": {
             "colorbar": {
              "outlinewidth": 0,
              "ticks": ""
             }
            },
            "type": "scatterternary"
           }
          ],
          "surface": [
           {
            "colorbar": {
             "outlinewidth": 0,
             "ticks": ""
            },
            "colorscale": [
             [
              0,
              "#0d0887"
             ],
             [
              0.1111111111111111,
              "#46039f"
             ],
             [
              0.2222222222222222,
              "#7201a8"
             ],
             [
              0.3333333333333333,
              "#9c179e"
             ],
             [
              0.4444444444444444,
              "#bd3786"
             ],
             [
              0.5555555555555556,
              "#d8576b"
             ],
             [
              0.6666666666666666,
              "#ed7953"
             ],
             [
              0.7777777777777778,
              "#fb9f3a"
             ],
             [
              0.8888888888888888,
              "#fdca26"
             ],
             [
              1,
              "#f0f921"
             ]
            ],
            "type": "surface"
           }
          ],
          "table": [
           {
            "cells": {
             "fill": {
              "color": "#EBF0F8"
             },
             "line": {
              "color": "white"
             }
            },
            "header": {
             "fill": {
              "color": "#C8D4E3"
             },
             "line": {
              "color": "white"
             }
            },
            "type": "table"
           }
          ]
         },
         "layout": {
          "annotationdefaults": {
           "arrowcolor": "#2a3f5f",
           "arrowhead": 0,
           "arrowwidth": 1
          },
          "autotypenumbers": "strict",
          "coloraxis": {
           "colorbar": {
            "outlinewidth": 0,
            "ticks": ""
           }
          },
          "colorscale": {
           "diverging": [
            [
             0,
             "#8e0152"
            ],
            [
             0.1,
             "#c51b7d"
            ],
            [
             0.2,
             "#de77ae"
            ],
            [
             0.3,
             "#f1b6da"
            ],
            [
             0.4,
             "#fde0ef"
            ],
            [
             0.5,
             "#f7f7f7"
            ],
            [
             0.6,
             "#e6f5d0"
            ],
            [
             0.7,
             "#b8e186"
            ],
            [
             0.8,
             "#7fbc41"
            ],
            [
             0.9,
             "#4d9221"
            ],
            [
             1,
             "#276419"
            ]
           ],
           "sequential": [
            [
             0,
             "#0d0887"
            ],
            [
             0.1111111111111111,
             "#46039f"
            ],
            [
             0.2222222222222222,
             "#7201a8"
            ],
            [
             0.3333333333333333,
             "#9c179e"
            ],
            [
             0.4444444444444444,
             "#bd3786"
            ],
            [
             0.5555555555555556,
             "#d8576b"
            ],
            [
             0.6666666666666666,
             "#ed7953"
            ],
            [
             0.7777777777777778,
             "#fb9f3a"
            ],
            [
             0.8888888888888888,
             "#fdca26"
            ],
            [
             1,
             "#f0f921"
            ]
           ],
           "sequentialminus": [
            [
             0,
             "#0d0887"
            ],
            [
             0.1111111111111111,
             "#46039f"
            ],
            [
             0.2222222222222222,
             "#7201a8"
            ],
            [
             0.3333333333333333,
             "#9c179e"
            ],
            [
             0.4444444444444444,
             "#bd3786"
            ],
            [
             0.5555555555555556,
             "#d8576b"
            ],
            [
             0.6666666666666666,
             "#ed7953"
            ],
            [
             0.7777777777777778,
             "#fb9f3a"
            ],
            [
             0.8888888888888888,
             "#fdca26"
            ],
            [
             1,
             "#f0f921"
            ]
           ]
          },
          "colorway": [
           "#636efa",
           "#EF553B",
           "#00cc96",
           "#ab63fa",
           "#FFA15A",
           "#19d3f3",
           "#FF6692",
           "#B6E880",
           "#FF97FF",
           "#FECB52"
          ],
          "font": {
           "color": "#2a3f5f"
          },
          "geo": {
           "bgcolor": "white",
           "lakecolor": "white",
           "landcolor": "#E5ECF6",
           "showlakes": true,
           "showland": true,
           "subunitcolor": "white"
          },
          "hoverlabel": {
           "align": "left"
          },
          "hovermode": "closest",
          "mapbox": {
           "style": "light"
          },
          "paper_bgcolor": "white",
          "plot_bgcolor": "#E5ECF6",
          "polar": {
           "angularaxis": {
            "gridcolor": "white",
            "linecolor": "white",
            "ticks": ""
           },
           "bgcolor": "#E5ECF6",
           "radialaxis": {
            "gridcolor": "white",
            "linecolor": "white",
            "ticks": ""
           }
          },
          "scene": {
           "xaxis": {
            "backgroundcolor": "#E5ECF6",
            "gridcolor": "white",
            "gridwidth": 2,
            "linecolor": "white",
            "showbackground": true,
            "ticks": "",
            "zerolinecolor": "white"
           },
           "yaxis": {
            "backgroundcolor": "#E5ECF6",
            "gridcolor": "white",
            "gridwidth": 2,
            "linecolor": "white",
            "showbackground": true,
            "ticks": "",
            "zerolinecolor": "white"
           },
           "zaxis": {
            "backgroundcolor": "#E5ECF6",
            "gridcolor": "white",
            "gridwidth": 2,
            "linecolor": "white",
            "showbackground": true,
            "ticks": "",
            "zerolinecolor": "white"
           }
          },
          "shapedefaults": {
           "line": {
            "color": "#2a3f5f"
           }
          },
          "ternary": {
           "aaxis": {
            "gridcolor": "white",
            "linecolor": "white",
            "ticks": ""
           },
           "baxis": {
            "gridcolor": "white",
            "linecolor": "white",
            "ticks": ""
           },
           "bgcolor": "#E5ECF6",
           "caxis": {
            "gridcolor": "white",
            "linecolor": "white",
            "ticks": ""
           }
          },
          "title": {
           "x": 0.05
          },
          "xaxis": {
           "automargin": true,
           "gridcolor": "white",
           "linecolor": "white",
           "ticks": "",
           "title": {
            "standoff": 15
           },
           "zerolinecolor": "white",
           "zerolinewidth": 2
          },
          "yaxis": {
           "automargin": true,
           "gridcolor": "white",
           "linecolor": "white",
           "ticks": "",
           "title": {
            "standoff": 15
           },
           "zerolinecolor": "white",
           "zerolinewidth": 2
          }
         }
        },
        "title": {
         "text": "Modelo SIR R/I"
        },
        "xaxis": {
         "anchor": "y",
         "domain": [
          0,
          1
         ],
         "title": {
          "text": "Infectados"
         }
        },
        "yaxis": {
         "anchor": "x",
         "domain": [
          0,
          1
         ],
         "title": {
          "text": "Recuperados"
         }
        }
       }
      },
      "text/html": [
       "<div>                            <div id=\"61e5df21-afff-4048-b92a-2a1525f17365\" class=\"plotly-graph-div\" style=\"height:525px; width:100%;\"></div>            <script type=\"text/javascript\">                require([\"plotly\"], function(Plotly) {                    window.PLOTLYENV=window.PLOTLYENV || {};                                    if (document.getElementById(\"61e5df21-afff-4048-b92a-2a1525f17365\")) {                    Plotly.newPlot(                        \"61e5df21-afff-4048-b92a-2a1525f17365\",                        [{\"hovertemplate\":\"Infectados=%{x}<br>Recuperados=%{y}<extra></extra>\",\"legendgroup\":\"\",\"line\":{\"color\":\"#636efa\",\"dash\":\"solid\"},\"marker\":{\"symbol\":\"circle\"},\"mode\":\"lines+markers\",\"name\":\"\",\"orientation\":\"v\",\"showlegend\":false,\"type\":\"scatter\",\"x\":[1.0,1.267,1.6041601030000001,2.0292360451160145,2.5640693857313765,3.2352831521728773,4.07494378718931,5.121072285484387,6.417815157866409,8.0149907322664,9.966615372572715,12.327911692434173,15.150260074499254,18.473668711139496,22.316734774950255,26.66487299909516,31.45880765822584,36.5866876810743,41.8840034750422,47.14477327884973,52.14454475945085,56.67116597625762,60.55519412527398,63.690968679761866,66.04285011068721,67.63703333863725,68.5441956555676,68.85973154874002,68.68674268495927,68.12415696753051,67.26002581889921,66.16883739223171,64.9114132010193,63.5361875761657,62.08104738916705,60.57524811527155,59.04116332951241,57.49577313264105,55.95187785602266,54.419061596583255,52.90444412304068,51.41326127905275,49.94931004593924,48.51528858445072,47.113055640089705,45.74382842818599,44.40833374524722,43.10692356784749,41.83966368654403,40.60640184106245,39.40682024196608,38.24047616988041,37.10683344422975,36.00528687732902,34.93518132121234,33.89582653179409,32.88650878626805,31.906499971418107,30.955064695093785,30.031465847335454,29.13496894170398,28.2648454939509,27.420375638779646,26.60085014199048,25.80557193168796,25.033857246136506,24.2850364755223,23.558454758987338,22.85347238583327,22.16946503997657,21.505823918982166,20.861955752856538,20.237282742893548,19.631242436967188,19.043287554544957,18.472885772190768,17.919519478309713,17.382685504258784,16.861894837629407,16.356672322437444,15.866556350085306,15.391098544250243,14.92986344227158,14.482428175133533,14.048382147748878,13.627326720927007,13.21887489614442,12.82265100401674,12.43829039719012,12.065439148220069,11.703753752881397,11.352900839250044,11.012556882812081,10.682407927784277,10.36214931477186,10.05148541484033,9.750129370037897,9.457802840371722,9.174235757213728,8.89916608308911],\"xaxis\":\"x\",\"y\":[0.0,0.03,0.06800999999999999,0.11613480308999999,0.17701188444348043,0.25393396601542173,0.35099246058060807,0.4732407741962874,0.6268729427608191,0.8194073974968114,1.0598571194648034,1.3588555806419849,1.7286929314150101,2.1832007336499877,2.7374107949841724,3.40691283823268,4.2068590282055345,5.15062325795231,6.248223888384539,7.504743992635804,8.919087191001296,10.483423533784821,12.18355851307255,14.00021433683077,15.910943397223626,17.892228900544243,19.92133990070336,21.977665770370386,24.043457716832588,26.104059997381366,28.147784706407283,30.165585480974258,32.15065060274121,34.09799299877179,36.00407862605676,37.86651004773177,39.68376749118992,41.45500239107529,43.17987558505452,44.8584319207352,46.491003768632694,48.078137092323914,49.6205349306955,51.119014232073674,52.57447288960719,53.98786455880988,55.36017941165546,56.69242942401287,57.98563713104829,59.240827041644614,60.45901909687649,61.64122370413547,62.78843798923188,63.90164299255877,64.98180159887865,66.02985703851502,67.04673183446884,68.03332709805689,68.99052209719943,69.91917403805225,70.82011801347231,71.69416708172344,72.54211244654196,73.36472371570535,74.16274921996506,74.93691637791571,75.6879320952998,76.41648318956547,77.1232368323351,77.80884100391009,78.47392495510938,79.11909967267884,79.74495834526454,80.35207682755134,80.94101410066035,81.5123127272967,82.06649930046243,82.60408488481171,83.12556544993947,83.63142229506836,84.12212246474148,84.59811915524404,85.05985211157154,85.50774801483969,85.9422208600937,86.36367232452616,86.77249212615398,87.16905837303831,87.55373790315882,87.92688661507452,88.28884978952112,88.63996240210757,88.98054942728507,89.31092613376943,89.63139837160296,89.94226285104611,90.24380741349133,90.53631129459247,90.82004537980362,91.09527245252004],\"yaxis\":\"y\"}],                        {\"legend\":{\"tracegroupgap\":0},\"template\":{\"data\":{\"bar\":[{\"error_x\":{\"color\":\"#2a3f5f\"},\"error_y\":{\"color\":\"#2a3f5f\"},\"marker\":{\"line\":{\"color\":\"#E5ECF6\",\"width\":0.5},\"pattern\":{\"fillmode\":\"overlay\",\"size\":10,\"solidity\":0.2}},\"type\":\"bar\"}],\"barpolar\":[{\"marker\":{\"line\":{\"color\":\"#E5ECF6\",\"width\":0.5},\"pattern\":{\"fillmode\":\"overlay\",\"size\":10,\"solidity\":0.2}},\"type\":\"barpolar\"}],\"carpet\":[{\"aaxis\":{\"endlinecolor\":\"#2a3f5f\",\"gridcolor\":\"white\",\"linecolor\":\"white\",\"minorgridcolor\":\"white\",\"startlinecolor\":\"#2a3f5f\"},\"baxis\":{\"endlinecolor\":\"#2a3f5f\",\"gridcolor\":\"white\",\"linecolor\":\"white\",\"minorgridcolor\":\"white\",\"startlinecolor\":\"#2a3f5f\"},\"type\":\"carpet\"}],\"choropleth\":[{\"colorbar\":{\"outlinewidth\":0,\"ticks\":\"\"},\"type\":\"choropleth\"}],\"contour\":[{\"colorbar\":{\"outlinewidth\":0,\"ticks\":\"\"},\"colorscale\":[[0.0,\"#0d0887\"],[0.1111111111111111,\"#46039f\"],[0.2222222222222222,\"#7201a8\"],[0.3333333333333333,\"#9c179e\"],[0.4444444444444444,\"#bd3786\"],[0.5555555555555556,\"#d8576b\"],[0.6666666666666666,\"#ed7953\"],[0.7777777777777778,\"#fb9f3a\"],[0.8888888888888888,\"#fdca26\"],[1.0,\"#f0f921\"]],\"type\":\"contour\"}],\"contourcarpet\":[{\"colorbar\":{\"outlinewidth\":0,\"ticks\":\"\"},\"type\":\"contourcarpet\"}],\"heatmap\":[{\"colorbar\":{\"outlinewidth\":0,\"ticks\":\"\"},\"colorscale\":[[0.0,\"#0d0887\"],[0.1111111111111111,\"#46039f\"],[0.2222222222222222,\"#7201a8\"],[0.3333333333333333,\"#9c179e\"],[0.4444444444444444,\"#bd3786\"],[0.5555555555555556,\"#d8576b\"],[0.6666666666666666,\"#ed7953\"],[0.7777777777777778,\"#fb9f3a\"],[0.8888888888888888,\"#fdca26\"],[1.0,\"#f0f921\"]],\"type\":\"heatmap\"}],\"heatmapgl\":[{\"colorbar\":{\"outlinewidth\":0,\"ticks\":\"\"},\"colorscale\":[[0.0,\"#0d0887\"],[0.1111111111111111,\"#46039f\"],[0.2222222222222222,\"#7201a8\"],[0.3333333333333333,\"#9c179e\"],[0.4444444444444444,\"#bd3786\"],[0.5555555555555556,\"#d8576b\"],[0.6666666666666666,\"#ed7953\"],[0.7777777777777778,\"#fb9f3a\"],[0.8888888888888888,\"#fdca26\"],[1.0,\"#f0f921\"]],\"type\":\"heatmapgl\"}],\"histogram\":[{\"marker\":{\"pattern\":{\"fillmode\":\"overlay\",\"size\":10,\"solidity\":0.2}},\"type\":\"histogram\"}],\"histogram2d\":[{\"colorbar\":{\"outlinewidth\":0,\"ticks\":\"\"},\"colorscale\":[[0.0,\"#0d0887\"],[0.1111111111111111,\"#46039f\"],[0.2222222222222222,\"#7201a8\"],[0.3333333333333333,\"#9c179e\"],[0.4444444444444444,\"#bd3786\"],[0.5555555555555556,\"#d8576b\"],[0.6666666666666666,\"#ed7953\"],[0.7777777777777778,\"#fb9f3a\"],[0.8888888888888888,\"#fdca26\"],[1.0,\"#f0f921\"]],\"type\":\"histogram2d\"}],\"histogram2dcontour\":[{\"colorbar\":{\"outlinewidth\":0,\"ticks\":\"\"},\"colorscale\":[[0.0,\"#0d0887\"],[0.1111111111111111,\"#46039f\"],[0.2222222222222222,\"#7201a8\"],[0.3333333333333333,\"#9c179e\"],[0.4444444444444444,\"#bd3786\"],[0.5555555555555556,\"#d8576b\"],[0.6666666666666666,\"#ed7953\"],[0.7777777777777778,\"#fb9f3a\"],[0.8888888888888888,\"#fdca26\"],[1.0,\"#f0f921\"]],\"type\":\"histogram2dcontour\"}],\"mesh3d\":[{\"colorbar\":{\"outlinewidth\":0,\"ticks\":\"\"},\"type\":\"mesh3d\"}],\"parcoords\":[{\"line\":{\"colorbar\":{\"outlinewidth\":0,\"ticks\":\"\"}},\"type\":\"parcoords\"}],\"pie\":[{\"automargin\":true,\"type\":\"pie\"}],\"scatter\":[{\"marker\":{\"colorbar\":{\"outlinewidth\":0,\"ticks\":\"\"}},\"type\":\"scatter\"}],\"scatter3d\":[{\"line\":{\"colorbar\":{\"outlinewidth\":0,\"ticks\":\"\"}},\"marker\":{\"colorbar\":{\"outlinewidth\":0,\"ticks\":\"\"}},\"type\":\"scatter3d\"}],\"scattercarpet\":[{\"marker\":{\"colorbar\":{\"outlinewidth\":0,\"ticks\":\"\"}},\"type\":\"scattercarpet\"}],\"scattergeo\":[{\"marker\":{\"colorbar\":{\"outlinewidth\":0,\"ticks\":\"\"}},\"type\":\"scattergeo\"}],\"scattergl\":[{\"marker\":{\"colorbar\":{\"outlinewidth\":0,\"ticks\":\"\"}},\"type\":\"scattergl\"}],\"scattermapbox\":[{\"marker\":{\"colorbar\":{\"outlinewidth\":0,\"ticks\":\"\"}},\"type\":\"scattermapbox\"}],\"scatterpolar\":[{\"marker\":{\"colorbar\":{\"outlinewidth\":0,\"ticks\":\"\"}},\"type\":\"scatterpolar\"}],\"scatterpolargl\":[{\"marker\":{\"colorbar\":{\"outlinewidth\":0,\"ticks\":\"\"}},\"type\":\"scatterpolargl\"}],\"scatterternary\":[{\"marker\":{\"colorbar\":{\"outlinewidth\":0,\"ticks\":\"\"}},\"type\":\"scatterternary\"}],\"surface\":[{\"colorbar\":{\"outlinewidth\":0,\"ticks\":\"\"},\"colorscale\":[[0.0,\"#0d0887\"],[0.1111111111111111,\"#46039f\"],[0.2222222222222222,\"#7201a8\"],[0.3333333333333333,\"#9c179e\"],[0.4444444444444444,\"#bd3786\"],[0.5555555555555556,\"#d8576b\"],[0.6666666666666666,\"#ed7953\"],[0.7777777777777778,\"#fb9f3a\"],[0.8888888888888888,\"#fdca26\"],[1.0,\"#f0f921\"]],\"type\":\"surface\"}],\"table\":[{\"cells\":{\"fill\":{\"color\":\"#EBF0F8\"},\"line\":{\"color\":\"white\"}},\"header\":{\"fill\":{\"color\":\"#C8D4E3\"},\"line\":{\"color\":\"white\"}},\"type\":\"table\"}]},\"layout\":{\"annotationdefaults\":{\"arrowcolor\":\"#2a3f5f\",\"arrowhead\":0,\"arrowwidth\":1},\"autotypenumbers\":\"strict\",\"coloraxis\":{\"colorbar\":{\"outlinewidth\":0,\"ticks\":\"\"}},\"colorscale\":{\"diverging\":[[0,\"#8e0152\"],[0.1,\"#c51b7d\"],[0.2,\"#de77ae\"],[0.3,\"#f1b6da\"],[0.4,\"#fde0ef\"],[0.5,\"#f7f7f7\"],[0.6,\"#e6f5d0\"],[0.7,\"#b8e186\"],[0.8,\"#7fbc41\"],[0.9,\"#4d9221\"],[1,\"#276419\"]],\"sequential\":[[0.0,\"#0d0887\"],[0.1111111111111111,\"#46039f\"],[0.2222222222222222,\"#7201a8\"],[0.3333333333333333,\"#9c179e\"],[0.4444444444444444,\"#bd3786\"],[0.5555555555555556,\"#d8576b\"],[0.6666666666666666,\"#ed7953\"],[0.7777777777777778,\"#fb9f3a\"],[0.8888888888888888,\"#fdca26\"],[1.0,\"#f0f921\"]],\"sequentialminus\":[[0.0,\"#0d0887\"],[0.1111111111111111,\"#46039f\"],[0.2222222222222222,\"#7201a8\"],[0.3333333333333333,\"#9c179e\"],[0.4444444444444444,\"#bd3786\"],[0.5555555555555556,\"#d8576b\"],[0.6666666666666666,\"#ed7953\"],[0.7777777777777778,\"#fb9f3a\"],[0.8888888888888888,\"#fdca26\"],[1.0,\"#f0f921\"]]},\"colorway\":[\"#636efa\",\"#EF553B\",\"#00cc96\",\"#ab63fa\",\"#FFA15A\",\"#19d3f3\",\"#FF6692\",\"#B6E880\",\"#FF97FF\",\"#FECB52\"],\"font\":{\"color\":\"#2a3f5f\"},\"geo\":{\"bgcolor\":\"white\",\"lakecolor\":\"white\",\"landcolor\":\"#E5ECF6\",\"showlakes\":true,\"showland\":true,\"subunitcolor\":\"white\"},\"hoverlabel\":{\"align\":\"left\"},\"hovermode\":\"closest\",\"mapbox\":{\"style\":\"light\"},\"paper_bgcolor\":\"white\",\"plot_bgcolor\":\"#E5ECF6\",\"polar\":{\"angularaxis\":{\"gridcolor\":\"white\",\"linecolor\":\"white\",\"ticks\":\"\"},\"bgcolor\":\"#E5ECF6\",\"radialaxis\":{\"gridcolor\":\"white\",\"linecolor\":\"white\",\"ticks\":\"\"}},\"scene\":{\"xaxis\":{\"backgroundcolor\":\"#E5ECF6\",\"gridcolor\":\"white\",\"gridwidth\":2,\"linecolor\":\"white\",\"showbackground\":true,\"ticks\":\"\",\"zerolinecolor\":\"white\"},\"yaxis\":{\"backgroundcolor\":\"#E5ECF6\",\"gridcolor\":\"white\",\"gridwidth\":2,\"linecolor\":\"white\",\"showbackground\":true,\"ticks\":\"\",\"zerolinecolor\":\"white\"},\"zaxis\":{\"backgroundcolor\":\"#E5ECF6\",\"gridcolor\":\"white\",\"gridwidth\":2,\"linecolor\":\"white\",\"showbackground\":true,\"ticks\":\"\",\"zerolinecolor\":\"white\"}},\"shapedefaults\":{\"line\":{\"color\":\"#2a3f5f\"}},\"ternary\":{\"aaxis\":{\"gridcolor\":\"white\",\"linecolor\":\"white\",\"ticks\":\"\"},\"baxis\":{\"gridcolor\":\"white\",\"linecolor\":\"white\",\"ticks\":\"\"},\"bgcolor\":\"#E5ECF6\",\"caxis\":{\"gridcolor\":\"white\",\"linecolor\":\"white\",\"ticks\":\"\"}},\"title\":{\"x\":0.05},\"xaxis\":{\"automargin\":true,\"gridcolor\":\"white\",\"linecolor\":\"white\",\"ticks\":\"\",\"title\":{\"standoff\":15},\"zerolinecolor\":\"white\",\"zerolinewidth\":2},\"yaxis\":{\"automargin\":true,\"gridcolor\":\"white\",\"linecolor\":\"white\",\"ticks\":\"\",\"title\":{\"standoff\":15},\"zerolinecolor\":\"white\",\"zerolinewidth\":2}}},\"title\":{\"text\":\"Modelo SIR R/I\"},\"xaxis\":{\"anchor\":\"y\",\"domain\":[0.0,1.0],\"title\":{\"text\":\"Infectados\"}},\"yaxis\":{\"anchor\":\"x\",\"domain\":[0.0,1.0],\"title\":{\"text\":\"Recuperados\"}}},                        {\"responsive\": true}                    ).then(function(){\n",
       "                            \n",
       "var gd = document.getElementById('61e5df21-afff-4048-b92a-2a1525f17365');\n",
       "var x = new MutationObserver(function (mutations, observer) {{\n",
       "        var display = window.getComputedStyle(gd).display;\n",
       "        if (!display || display === 'none') {{\n",
       "            console.log([gd, 'removed!']);\n",
       "            Plotly.purge(gd);\n",
       "            observer.disconnect();\n",
       "        }}\n",
       "}});\n",
       "\n",
       "// Listen for the removal of the full notebook cells\n",
       "var notebookContainer = gd.closest('#notebook-container');\n",
       "if (notebookContainer) {{\n",
       "    x.observe(notebookContainer, {childList: true});\n",
       "}}\n",
       "\n",
       "// Listen for the clearing of the current output cell\n",
       "var outputEl = gd.closest('.output');\n",
       "if (outputEl) {{\n",
       "    x.observe(outputEl, {childList: true});\n",
       "}}\n",
       "\n",
       "                        })                };                });            </script>        </div>"
      ]
     },
     "metadata": {},
     "output_type": "display_data"
    }
   ],
   "source": [
    "N = 100\n",
    "\n",
    "S0 = 99\n",
    "I0 = 1\n",
    "R0 = 0\n",
    "\n",
    "alfa = 0.1\n",
    "gamma = 0.01\n",
    "\n",
    "T0 = 0\n",
    "T = 300\n",
    "\n",
    "secciones = 100 #deltaT en realidad es (T-T0)/secciones\n",
    "\n",
    "deltaT = (T-T0)/secciones\n",
    "\n",
    "tiempo = np.linspace(T0, T, secciones)\n",
    "\n",
    "S = np.linspace(T0, T, secciones)\n",
    "I = np.linspace(T0, T, secciones)\n",
    "R = np.linspace(T0, T, secciones)\n",
    "\n",
    "S[0] = S0\n",
    "I[0] = I0\n",
    "R[0] = R0\n",
    "\n",
    "for j in range (secciones-1):\n",
    "    S[j+1] = S[j]*(1-(alfa*deltaT/N)*I[j])\n",
    "    I[j+1] = I[j]*(1-gamma*deltaT+(alfa*deltaT/N)*S[j])\n",
    "    R[j+1] = R[j]+gamma*deltaT*I[j]\n",
    "\n",
    "# Figura S-I\n",
    "\n",
    "df = pd.DataFrame({'Susceptibles':S, 'Infectados':I})\n",
    "fig = px.line(df, x=\"Susceptibles\", y=\"Infectados\", title=\"Modelo SIR I/S\", markers=True) \n",
    "fig.show()\n",
    "\n",
    "# Figura S - R\n",
    "\n",
    "df2 = pd.DataFrame({'Susceptibles':S, 'Recuperados':R})\n",
    "fig2 = px.line(df2, x=\"Susceptibles\", y=\"Recuperados\", title=\"Modelo SIR R/S\", markers=True) \n",
    "fig2.show()\n",
    "\n",
    "# Figura I-R\n",
    "\n",
    "df3 = pd.DataFrame({'Infectados':I, 'Recuperados':R})\n",
    "fig3 = px.line(df3, x=\"Infectados\", y=\"Recuperados\", title=\"Modelo SIR R/I\", markers=True) \n",
    "fig3.show()\n",
    "\n",
    "\n",
    "# Guardar svg\n",
    "fig.write_image(\"./graficas_avanzadas_modelos_basicos/SIR_IS.eps\")\n",
    "fig2.write_image(\"./graficas_avanzadas_modelos_basicos/SIR_RS.eps\")\n",
    "fig3.write_image(\"./graficas_avanzadas_modelos_basicos/SIR_RI.eps\")"
   ]
  },
  {
   "cell_type": "markdown",
   "id": "e260b686",
   "metadata": {},
   "source": [
    "## Modelo SIS"
   ]
  },
  {
   "cell_type": "code",
   "execution_count": 44,
   "id": "283e1140",
   "metadata": {},
   "outputs": [
    {
     "data": {
      "application/vnd.plotly.v1+json": {
       "config": {
        "plotlyServerURL": "https://plot.ly"
       },
       "data": [
        {
         "mode": "lines",
         "name": "Susceptibles",
         "type": "scatter",
         "x": [
          0,
          0.7537688442211056,
          1.5075376884422111,
          2.261306532663317,
          3.0150753768844223,
          3.7688442211055277,
          4.522613065326634,
          5.276381909547739,
          6.030150753768845,
          6.78391959798995,
          7.5376884422110555,
          8.291457286432161,
          9.045226130653267,
          9.798994974874372,
          10.552763819095478,
          11.306532663316583,
          12.06030150753769,
          12.814070351758795,
          13.5678391959799,
          14.321608040201006,
          15.075376884422111,
          15.829145728643217,
          16.582914572864322,
          17.33668341708543,
          18.090452261306535,
          18.84422110552764,
          19.597989949748744,
          20.35175879396985,
          21.105527638190956,
          21.859296482412063,
          22.613065326633166,
          23.366834170854272,
          24.12060301507538,
          24.874371859296485,
          25.62814070351759,
          26.381909547738694,
          27.1356783919598,
          27.889447236180906,
          28.643216080402013,
          29.396984924623116,
          30.150753768844222,
          30.90452261306533,
          31.658291457286435,
          32.41206030150754,
          33.165829145728644,
          33.91959798994975,
          34.67336683417086,
          35.42713567839196,
          36.18090452261307,
          36.934673366834176,
          37.68844221105528,
          38.44221105527638,
          39.19597989949749,
          39.949748743718594,
          40.7035175879397,
          41.45728643216081,
          42.21105527638191,
          42.96482412060302,
          43.718592964824126,
          44.47236180904523,
          45.22613065326633,
          45.97989949748744,
          46.733668341708544,
          47.48743718592965,
          48.24120603015076,
          48.99497487437186,
          49.74874371859297,
          50.502512562814076,
          51.25628140703518,
          52.01005025125628,
          52.76381909547739,
          53.517587939698494,
          54.2713567839196,
          55.02512562814071,
          55.77889447236181,
          56.53266331658292,
          57.286432160804026,
          58.04020100502513,
          58.79396984924623,
          59.54773869346734,
          60.301507537688444,
          61.05527638190955,
          61.80904522613066,
          62.56281407035176,
          63.31658291457287,
          64.07035175879398,
          64.82412060301507,
          65.57788944723619,
          66.33165829145729,
          67.0854271356784,
          67.8391959798995,
          68.59296482412061,
          69.34673366834171,
          70.10050251256281,
          70.85427135678393,
          71.60804020100502,
          72.36180904522614,
          73.11557788944724,
          73.86934673366835,
          74.62311557788945,
          75.37688442211056,
          76.13065326633166,
          76.88442211055276,
          77.63819095477388,
          78.39195979899498,
          79.14572864321609,
          79.89949748743719,
          80.6532663316583,
          81.4070351758794,
          82.16080402010051,
          82.91457286432161,
          83.66834170854271,
          84.42211055276383,
          85.17587939698493,
          85.92964824120604,
          86.68341708542714,
          87.43718592964825,
          88.19095477386935,
          88.94472361809046,
          89.69849246231156,
          90.45226130653266,
          91.20603015075378,
          91.95979899497488,
          92.71356783919599,
          93.46733668341709,
          94.2211055276382,
          94.9748743718593,
          95.72864321608041,
          96.48241206030151,
          97.23618090452261,
          97.98994974874373,
          98.74371859296483,
          99.49748743718594,
          100.25125628140704,
          101.00502512562815,
          101.75879396984925,
          102.51256281407036,
          103.26633165829146,
          104.02010050251256,
          104.77386934673368,
          105.52763819095478,
          106.28140703517589,
          107.03517587939699,
          107.7889447236181,
          108.5427135678392,
          109.29648241206031,
          110.05025125628141,
          110.80402010050251,
          111.55778894472363,
          112.31155778894473,
          113.06532663316584,
          113.81909547738694,
          114.57286432160805,
          115.32663316582915,
          116.08040201005026,
          116.83417085427136,
          117.58793969849246,
          118.34170854271358,
          119.09547738693468,
          119.84924623115579,
          120.60301507537689,
          121.356783919598,
          122.1105527638191,
          122.86432160804021,
          123.61809045226131,
          124.37185929648241,
          125.12562814070353,
          125.87939698492463,
          126.63316582914574,
          127.38693467336684,
          128.14070351758795,
          128.89447236180905,
          129.64824120603015,
          130.40201005025128,
          131.15577889447238,
          131.90954773869348,
          132.66331658291458,
          133.41708542713567,
          134.1708542713568,
          134.9246231155779,
          135.678391959799,
          136.4321608040201,
          137.18592964824123,
          137.93969849246233,
          138.69346733668343,
          139.44723618090453,
          140.20100502512562,
          140.95477386934675,
          141.70854271356785,
          142.46231155778895,
          143.21608040201005,
          143.96984924623118,
          144.72361809045228,
          145.47738693467338,
          146.23115577889448,
          146.98492462311557,
          147.7386934673367,
          148.4924623115578,
          149.2462311557789,
          150
         ],
         "y": [
          95,
          94.71875,
          94.42279370117187,
          94.11149024581694,
          93.7841855709098,
          93.44021396692705,
          93.07889989954245,
          92.69956011346541,
          92.30150603717601,
          91.88404650637831,
          91.44649082259399,
          90.9881521613856,
          90.50835134216848,
          90.00642096838136,
          89.48170994288016,
          88.93358835874724,
          88.36145276023232,
          87.7647317622355,
          87.14289200960717,
          86.49544444959106,
          85.8219508820271,
          85.12203074254246,
          84.3953680640144,
          83.64171855124846,
          82.86091669329079,
          82.05288282733397,
          81.21763005808106,
          80.35527092704224,
          79.46602371792721,
          78.5502182774674,
          77.60830122607365,
          76.64084043012475,
          75.64852860779041,
          74.63218594348204,
          73.59276159259551,
          72.53133396838035,
          71.44910971665067,
          70.34742130162859,
          69.22772314732363,
          68.09158630318638,
          66.94069162986281,
          65.77682153008844,
          64.6018502803313,
          63.417733049833245,
          62.226493724233194,
          61.03021167996123,
          59.831007682040386,
          58.63102910084303,
          57.43243466183509,
          56.2373789556594,
          55.047996943501886,
          53.86638869420557,
          52.6946045849435,
          51.53463118657124,
          50.38837803843177,
          49.25766549598084,
          48.14421380892802,
          47.049633558584325,
          45.975417551809535,
          44.92293423644411,
          43.89342267047304,
          42.88798904542707,
          41.90760473460914,
          40.9531058094385,
          40.025193943168325,
          39.12443860092436,
          38.25128039871929,
          37.40603550194064,
          36.58890092574532,
          35.799960595643746,
          35.039192026023045,
          34.30647347705836,
          33.601591455947194,
          32.924248436191235,
          32.274070678250055,
          31.65061604581606,
          31.05338172375237,
          30.481811755975468,
          29.93530433388272,
          29.413218778004907,
          28.91488216714655,
          28.43959558015834,
          27.986639925516307,
          27.555281342960214,
          27.14477616951106,
          26.754375469224705,
          26.38332913205567,
          26.030889552238442,
          25.69631490069761,
          25.378872009241686,
          25.077838886756037,
          24.792506889370564,
          24.522182567721828,
          24.266189215040374,
          24.023868139951848,
          23.794579687660526,
          23.577704032655397,
          23.37264176530503,
          23.178814293744537,
          22.99566408135545,
          22.822654738940365,
          22.65927098943539,
          22.505018521715705,
          22.359423748758367,
          22.22203348415252,
          22.092414549706888,
          21.970153325710342,
          21.85485525426283,
          21.74614430501776,
          21.643662411667155,
          21.54706888655977,
          21.456039819971007,
          21.370267469740753,
          21.28945964626028,
          21.213339097119164,
          21.14164289511546,
          21.074121832783508,
          21.010539826100242,
          20.950673329589325,
          20.89431076464866,
          20.841251962577566,
          20.79130762347132,
          20.744298791879263,
          20.7000563498852,
          20.65842052806185,
          20.619240434571967,
          20.582373602534506,
          20.547685555642133,
          20.515049391904498,
          20.484345385297303,
          20.455460605018658,
          20.42828855198958,
          20.402728812183028,
          20.37868672632417,
          20.356073075472242,
          20.334803781970216,
          20.314799625231316,
          20.29598597182047,
          20.27829251928288,
          20.261653053170622,
          20.246005216720558,
          20.231290292642313,
          20.217452996483377,
          20.204441281048634,
          20.192206151363763,
          20.180701489685404,
          20.16988389007556,
          20.159712502073106,
          20.15014888301121,
          20.14115685854584,
          20.132702390977123,
          20.124753454961922,
          20.1172799202326,
          20.11025344095341,
          20.103647351362138,
          20.097436567360493,
          20.09159749373236,
          20.08610793668406,
          20.080947021415586,
          20.07609511444586,
          20.07153375042894,
          20.06724556321129,
          20.063214220892945,
          20.05942436466766,
          20.055861551228936,
          20.05251219853988,
          20.049363534775736,
          20.046403550258116,
          20.043620952209736,
          20.041005122167753,
          20.03854607590272,
          20.03623442569853,
          20.034061344856823,
          20.032018534296824,
          20.03009819112892,
          20.02829297908702,
          20.026596000711297,
          20.02500077117906,
          20.023501193687235,
          20.022091536295576,
          20.020766410144823,
          20.019520748968976,
          20.018349789825567,
          20.017249054972122,
          20.016214334821218,
          20.01524167191043,
          20.014327345827226,
          20.013467859032218,
          20.012659923527707,
          20.011900448321292,
          20.011186527637516,
          20.010515429833063,
          20.00988458697378,
          20.00929158503415,
          20.008734154682262,
          20.00821016261542,
          20.00771760341357,
          20.007254591879807,
          20.006819355838847,
          20.006410229366224
         ]
        },
        {
         "mode": "lines",
         "name": "Infectados",
         "type": "scatter",
         "x": [
          0,
          0.7537688442211056,
          1.5075376884422111,
          2.261306532663317,
          3.0150753768844223,
          3.7688442211055277,
          4.522613065326634,
          5.276381909547739,
          6.030150753768845,
          6.78391959798995,
          7.5376884422110555,
          8.291457286432161,
          9.045226130653267,
          9.798994974874372,
          10.552763819095478,
          11.306532663316583,
          12.06030150753769,
          12.814070351758795,
          13.5678391959799,
          14.321608040201006,
          15.075376884422111,
          15.829145728643217,
          16.582914572864322,
          17.33668341708543,
          18.090452261306535,
          18.84422110552764,
          19.597989949748744,
          20.35175879396985,
          21.105527638190956,
          21.859296482412063,
          22.613065326633166,
          23.366834170854272,
          24.12060301507538,
          24.874371859296485,
          25.62814070351759,
          26.381909547738694,
          27.1356783919598,
          27.889447236180906,
          28.643216080402013,
          29.396984924623116,
          30.150753768844222,
          30.90452261306533,
          31.658291457286435,
          32.41206030150754,
          33.165829145728644,
          33.91959798994975,
          34.67336683417086,
          35.42713567839196,
          36.18090452261307,
          36.934673366834176,
          37.68844221105528,
          38.44221105527638,
          39.19597989949749,
          39.949748743718594,
          40.7035175879397,
          41.45728643216081,
          42.21105527638191,
          42.96482412060302,
          43.718592964824126,
          44.47236180904523,
          45.22613065326633,
          45.97989949748744,
          46.733668341708544,
          47.48743718592965,
          48.24120603015076,
          48.99497487437186,
          49.74874371859297,
          50.502512562814076,
          51.25628140703518,
          52.01005025125628,
          52.76381909547739,
          53.517587939698494,
          54.2713567839196,
          55.02512562814071,
          55.77889447236181,
          56.53266331658292,
          57.286432160804026,
          58.04020100502513,
          58.79396984924623,
          59.54773869346734,
          60.301507537688444,
          61.05527638190955,
          61.80904522613066,
          62.56281407035176,
          63.31658291457287,
          64.07035175879398,
          64.82412060301507,
          65.57788944723619,
          66.33165829145729,
          67.0854271356784,
          67.8391959798995,
          68.59296482412061,
          69.34673366834171,
          70.10050251256281,
          70.85427135678393,
          71.60804020100502,
          72.36180904522614,
          73.11557788944724,
          73.86934673366835,
          74.62311557788945,
          75.37688442211056,
          76.13065326633166,
          76.88442211055276,
          77.63819095477388,
          78.39195979899498,
          79.14572864321609,
          79.89949748743719,
          80.6532663316583,
          81.4070351758794,
          82.16080402010051,
          82.91457286432161,
          83.66834170854271,
          84.42211055276383,
          85.17587939698493,
          85.92964824120604,
          86.68341708542714,
          87.43718592964825,
          88.19095477386935,
          88.94472361809046,
          89.69849246231156,
          90.45226130653266,
          91.20603015075378,
          91.95979899497488,
          92.71356783919599,
          93.46733668341709,
          94.2211055276382,
          94.9748743718593,
          95.72864321608041,
          96.48241206030151,
          97.23618090452261,
          97.98994974874373,
          98.74371859296483,
          99.49748743718594,
          100.25125628140704,
          101.00502512562815,
          101.75879396984925,
          102.51256281407036,
          103.26633165829146,
          104.02010050251256,
          104.77386934673368,
          105.52763819095478,
          106.28140703517589,
          107.03517587939699,
          107.7889447236181,
          108.5427135678392,
          109.29648241206031,
          110.05025125628141,
          110.80402010050251,
          111.55778894472363,
          112.31155778894473,
          113.06532663316584,
          113.81909547738694,
          114.57286432160805,
          115.32663316582915,
          116.08040201005026,
          116.83417085427136,
          117.58793969849246,
          118.34170854271358,
          119.09547738693468,
          119.84924623115579,
          120.60301507537689,
          121.356783919598,
          122.1105527638191,
          122.86432160804021,
          123.61809045226131,
          124.37185929648241,
          125.12562814070353,
          125.87939698492463,
          126.63316582914574,
          127.38693467336684,
          128.14070351758795,
          128.89447236180905,
          129.64824120603015,
          130.40201005025128,
          131.15577889447238,
          131.90954773869348,
          132.66331658291458,
          133.41708542713567,
          134.1708542713568,
          134.9246231155779,
          135.678391959799,
          136.4321608040201,
          137.18592964824123,
          137.93969849246233,
          138.69346733668343,
          139.44723618090453,
          140.20100502512562,
          140.95477386934675,
          141.70854271356785,
          142.46231155778895,
          143.21608040201005,
          143.96984924623118,
          144.72361809045228,
          145.47738693467338,
          146.23115577889448,
          146.98492462311557,
          147.7386934673367,
          148.4924623115578,
          149.2462311557789,
          150
         ],
         "y": [
          5,
          5.28125,
          5.577206298828125,
          5.888509754183047,
          6.215814429090198,
          6.559786033072946,
          6.921100100457549,
          7.300439886534587,
          7.698493962823982,
          8.115953493621694,
          8.553509177406024,
          9.01184783861441,
          9.491648657831519,
          9.993579031618625,
          10.518290057119836,
          11.066411641252747,
          11.638547239767671,
          12.235268237764505,
          12.857107990392837,
          13.50455555040894,
          14.178049117972915,
          14.877969257457549,
          15.604631935985612,
          16.358281448751562,
          17.139083306709228,
          17.947117172666044,
          18.782369941918954,
          19.644729072957766,
          20.5339762820728,
          21.449781722532624,
          22.39169877392636,
          23.35915956987525,
          24.351471392209593,
          25.367814056517968,
          26.407238407404492,
          27.468666031619637,
          28.550890283349325,
          29.652578698371396,
          30.77227685267635,
          31.908413696813607,
          33.059308370137174,
          34.22317846991154,
          35.398149719668666,
          36.582266950166726,
          37.77350627576678,
          38.96978832003874,
          40.168992317959585,
          41.368970899156935,
          42.56756533816488,
          43.76262104434057,
          44.95200305649808,
          46.1336113057944,
          47.30539541505647,
          48.465368813428725,
          49.61162196156819,
          50.74233450401911,
          51.85578619107193,
          52.95036644141562,
          54.024582448190415,
          55.077065763555844,
          56.10657732952691,
          57.11201095457288,
          58.09239526539081,
          59.04689419056145,
          59.97480605683161,
          60.87556139907558,
          61.74871960128065,
          62.5939644980593,
          63.41109907425462,
          64.20003940435619,
          64.96080797397688,
          65.69352652294157,
          66.39840854405273,
          67.07575156380868,
          67.72592932174986,
          68.34938395418386,
          68.94661827624755,
          69.51818824402444,
          70.06469566611719,
          70.586781221995,
          71.08511783285336,
          71.56040441984157,
          72.0133600744836,
          72.44471865703969,
          72.85522383048884,
          73.2456245307752,
          73.61667086794424,
          73.96911044776147,
          74.3036850993023,
          74.62112799075823,
          74.92216111324387,
          75.20749311062934,
          75.47781743227809,
          75.73381078495954,
          75.97613186004807,
          76.20542031233938,
          76.42229596734451,
          76.62735823469488,
          76.82118570625536,
          77.00433591864446,
          77.17734526105954,
          77.34072901056453,
          77.49498147828422,
          77.64057625124155,
          77.77796651584741,
          77.90758545029303,
          78.02984667428956,
          78.14514474573707,
          78.25385569498214,
          78.35633758833275,
          78.45293111344013,
          78.54396018002889,
          78.62973253025913,
          78.7105403537396,
          78.78666090288071,
          78.85835710488442,
          78.92587816721637,
          78.98946017389963,
          79.04932667041054,
          79.10568923535119,
          79.15874803742228,
          79.20869237652853,
          79.2557012081206,
          79.29994365011466,
          79.341579471938,
          79.38075956542788,
          79.41762639746534,
          79.45231444435773,
          79.48495060809536,
          79.51565461470256,
          79.5445393949812,
          79.57171144801028,
          79.59727118781682,
          79.62131327367567,
          79.6439269245276,
          79.66519621802964,
          79.68520037476853,
          79.70401402817937,
          79.72170748071696,
          79.73834694682922,
          79.7539947832793,
          79.76870970735753,
          79.78254700351647,
          79.79555871895121,
          79.80779384863608,
          79.81929851031444,
          79.83011610992428,
          79.84028749792672,
          79.84985111698862,
          79.85884314145397,
          79.86729760902269,
          79.87524654503788,
          79.88272007976721,
          79.8897465590464,
          79.89635264863769,
          79.90256343263933,
          79.90840250626746,
          79.91389206331577,
          79.91905297858425,
          79.92390488555398,
          79.92846624957089,
          79.93275443678853,
          79.93678577910687,
          79.94057563533215,
          79.94413844877087,
          79.94748780145993,
          79.95063646522406,
          79.95359644974168,
          79.95637904779005,
          79.95899487783203,
          79.96145392409706,
          79.96376557430125,
          79.96593865514295,
          79.96798146570295,
          79.96990180887086,
          79.97170702091275,
          79.97340399928846,
          79.9749992288207,
          79.97649880631252,
          79.97790846370417,
          79.97923358985493,
          79.98047925103077,
          79.98165021017418,
          79.98275094502763,
          79.98378566517854,
          79.98475832808933,
          79.98567265417253,
          79.98653214096753,
          79.98734007647204,
          79.98809955167845,
          79.98881347236222,
          79.98948457016668,
          79.99011541302596,
          79.9907084149656,
          79.99126584531749,
          79.99178983738432,
          79.99228239658618,
          79.99274540811993,
          79.99318064416089,
          79.9935897706335
         ]
        }
       ],
       "layout": {
        "template": {
         "data": {
          "bar": [
           {
            "error_x": {
             "color": "#2a3f5f"
            },
            "error_y": {
             "color": "#2a3f5f"
            },
            "marker": {
             "line": {
              "color": "#E5ECF6",
              "width": 0.5
             },
             "pattern": {
              "fillmode": "overlay",
              "size": 10,
              "solidity": 0.2
             }
            },
            "type": "bar"
           }
          ],
          "barpolar": [
           {
            "marker": {
             "line": {
              "color": "#E5ECF6",
              "width": 0.5
             },
             "pattern": {
              "fillmode": "overlay",
              "size": 10,
              "solidity": 0.2
             }
            },
            "type": "barpolar"
           }
          ],
          "carpet": [
           {
            "aaxis": {
             "endlinecolor": "#2a3f5f",
             "gridcolor": "white",
             "linecolor": "white",
             "minorgridcolor": "white",
             "startlinecolor": "#2a3f5f"
            },
            "baxis": {
             "endlinecolor": "#2a3f5f",
             "gridcolor": "white",
             "linecolor": "white",
             "minorgridcolor": "white",
             "startlinecolor": "#2a3f5f"
            },
            "type": "carpet"
           }
          ],
          "choropleth": [
           {
            "colorbar": {
             "outlinewidth": 0,
             "ticks": ""
            },
            "type": "choropleth"
           }
          ],
          "contour": [
           {
            "colorbar": {
             "outlinewidth": 0,
             "ticks": ""
            },
            "colorscale": [
             [
              0,
              "#0d0887"
             ],
             [
              0.1111111111111111,
              "#46039f"
             ],
             [
              0.2222222222222222,
              "#7201a8"
             ],
             [
              0.3333333333333333,
              "#9c179e"
             ],
             [
              0.4444444444444444,
              "#bd3786"
             ],
             [
              0.5555555555555556,
              "#d8576b"
             ],
             [
              0.6666666666666666,
              "#ed7953"
             ],
             [
              0.7777777777777778,
              "#fb9f3a"
             ],
             [
              0.8888888888888888,
              "#fdca26"
             ],
             [
              1,
              "#f0f921"
             ]
            ],
            "type": "contour"
           }
          ],
          "contourcarpet": [
           {
            "colorbar": {
             "outlinewidth": 0,
             "ticks": ""
            },
            "type": "contourcarpet"
           }
          ],
          "heatmap": [
           {
            "colorbar": {
             "outlinewidth": 0,
             "ticks": ""
            },
            "colorscale": [
             [
              0,
              "#0d0887"
             ],
             [
              0.1111111111111111,
              "#46039f"
             ],
             [
              0.2222222222222222,
              "#7201a8"
             ],
             [
              0.3333333333333333,
              "#9c179e"
             ],
             [
              0.4444444444444444,
              "#bd3786"
             ],
             [
              0.5555555555555556,
              "#d8576b"
             ],
             [
              0.6666666666666666,
              "#ed7953"
             ],
             [
              0.7777777777777778,
              "#fb9f3a"
             ],
             [
              0.8888888888888888,
              "#fdca26"
             ],
             [
              1,
              "#f0f921"
             ]
            ],
            "type": "heatmap"
           }
          ],
          "heatmapgl": [
           {
            "colorbar": {
             "outlinewidth": 0,
             "ticks": ""
            },
            "colorscale": [
             [
              0,
              "#0d0887"
             ],
             [
              0.1111111111111111,
              "#46039f"
             ],
             [
              0.2222222222222222,
              "#7201a8"
             ],
             [
              0.3333333333333333,
              "#9c179e"
             ],
             [
              0.4444444444444444,
              "#bd3786"
             ],
             [
              0.5555555555555556,
              "#d8576b"
             ],
             [
              0.6666666666666666,
              "#ed7953"
             ],
             [
              0.7777777777777778,
              "#fb9f3a"
             ],
             [
              0.8888888888888888,
              "#fdca26"
             ],
             [
              1,
              "#f0f921"
             ]
            ],
            "type": "heatmapgl"
           }
          ],
          "histogram": [
           {
            "marker": {
             "pattern": {
              "fillmode": "overlay",
              "size": 10,
              "solidity": 0.2
             }
            },
            "type": "histogram"
           }
          ],
          "histogram2d": [
           {
            "colorbar": {
             "outlinewidth": 0,
             "ticks": ""
            },
            "colorscale": [
             [
              0,
              "#0d0887"
             ],
             [
              0.1111111111111111,
              "#46039f"
             ],
             [
              0.2222222222222222,
              "#7201a8"
             ],
             [
              0.3333333333333333,
              "#9c179e"
             ],
             [
              0.4444444444444444,
              "#bd3786"
             ],
             [
              0.5555555555555556,
              "#d8576b"
             ],
             [
              0.6666666666666666,
              "#ed7953"
             ],
             [
              0.7777777777777778,
              "#fb9f3a"
             ],
             [
              0.8888888888888888,
              "#fdca26"
             ],
             [
              1,
              "#f0f921"
             ]
            ],
            "type": "histogram2d"
           }
          ],
          "histogram2dcontour": [
           {
            "colorbar": {
             "outlinewidth": 0,
             "ticks": ""
            },
            "colorscale": [
             [
              0,
              "#0d0887"
             ],
             [
              0.1111111111111111,
              "#46039f"
             ],
             [
              0.2222222222222222,
              "#7201a8"
             ],
             [
              0.3333333333333333,
              "#9c179e"
             ],
             [
              0.4444444444444444,
              "#bd3786"
             ],
             [
              0.5555555555555556,
              "#d8576b"
             ],
             [
              0.6666666666666666,
              "#ed7953"
             ],
             [
              0.7777777777777778,
              "#fb9f3a"
             ],
             [
              0.8888888888888888,
              "#fdca26"
             ],
             [
              1,
              "#f0f921"
             ]
            ],
            "type": "histogram2dcontour"
           }
          ],
          "mesh3d": [
           {
            "colorbar": {
             "outlinewidth": 0,
             "ticks": ""
            },
            "type": "mesh3d"
           }
          ],
          "parcoords": [
           {
            "line": {
             "colorbar": {
              "outlinewidth": 0,
              "ticks": ""
             }
            },
            "type": "parcoords"
           }
          ],
          "pie": [
           {
            "automargin": true,
            "type": "pie"
           }
          ],
          "scatter": [
           {
            "marker": {
             "colorbar": {
              "outlinewidth": 0,
              "ticks": ""
             }
            },
            "type": "scatter"
           }
          ],
          "scatter3d": [
           {
            "line": {
             "colorbar": {
              "outlinewidth": 0,
              "ticks": ""
             }
            },
            "marker": {
             "colorbar": {
              "outlinewidth": 0,
              "ticks": ""
             }
            },
            "type": "scatter3d"
           }
          ],
          "scattercarpet": [
           {
            "marker": {
             "colorbar": {
              "outlinewidth": 0,
              "ticks": ""
             }
            },
            "type": "scattercarpet"
           }
          ],
          "scattergeo": [
           {
            "marker": {
             "colorbar": {
              "outlinewidth": 0,
              "ticks": ""
             }
            },
            "type": "scattergeo"
           }
          ],
          "scattergl": [
           {
            "marker": {
             "colorbar": {
              "outlinewidth": 0,
              "ticks": ""
             }
            },
            "type": "scattergl"
           }
          ],
          "scattermapbox": [
           {
            "marker": {
             "colorbar": {
              "outlinewidth": 0,
              "ticks": ""
             }
            },
            "type": "scattermapbox"
           }
          ],
          "scatterpolar": [
           {
            "marker": {
             "colorbar": {
              "outlinewidth": 0,
              "ticks": ""
             }
            },
            "type": "scatterpolar"
           }
          ],
          "scatterpolargl": [
           {
            "marker": {
             "colorbar": {
              "outlinewidth": 0,
              "ticks": ""
             }
            },
            "type": "scatterpolargl"
           }
          ],
          "scatterternary": [
           {
            "marker": {
             "colorbar": {
              "outlinewidth": 0,
              "ticks": ""
             }
            },
            "type": "scatterternary"
           }
          ],
          "surface": [
           {
            "colorbar": {
             "outlinewidth": 0,
             "ticks": ""
            },
            "colorscale": [
             [
              0,
              "#0d0887"
             ],
             [
              0.1111111111111111,
              "#46039f"
             ],
             [
              0.2222222222222222,
              "#7201a8"
             ],
             [
              0.3333333333333333,
              "#9c179e"
             ],
             [
              0.4444444444444444,
              "#bd3786"
             ],
             [
              0.5555555555555556,
              "#d8576b"
             ],
             [
              0.6666666666666666,
              "#ed7953"
             ],
             [
              0.7777777777777778,
              "#fb9f3a"
             ],
             [
              0.8888888888888888,
              "#fdca26"
             ],
             [
              1,
              "#f0f921"
             ]
            ],
            "type": "surface"
           }
          ],
          "table": [
           {
            "cells": {
             "fill": {
              "color": "#EBF0F8"
             },
             "line": {
              "color": "white"
             }
            },
            "header": {
             "fill": {
              "color": "#C8D4E3"
             },
             "line": {
              "color": "white"
             }
            },
            "type": "table"
           }
          ]
         },
         "layout": {
          "annotationdefaults": {
           "arrowcolor": "#2a3f5f",
           "arrowhead": 0,
           "arrowwidth": 1
          },
          "autotypenumbers": "strict",
          "coloraxis": {
           "colorbar": {
            "outlinewidth": 0,
            "ticks": ""
           }
          },
          "colorscale": {
           "diverging": [
            [
             0,
             "#8e0152"
            ],
            [
             0.1,
             "#c51b7d"
            ],
            [
             0.2,
             "#de77ae"
            ],
            [
             0.3,
             "#f1b6da"
            ],
            [
             0.4,
             "#fde0ef"
            ],
            [
             0.5,
             "#f7f7f7"
            ],
            [
             0.6,
             "#e6f5d0"
            ],
            [
             0.7,
             "#b8e186"
            ],
            [
             0.8,
             "#7fbc41"
            ],
            [
             0.9,
             "#4d9221"
            ],
            [
             1,
             "#276419"
            ]
           ],
           "sequential": [
            [
             0,
             "#0d0887"
            ],
            [
             0.1111111111111111,
             "#46039f"
            ],
            [
             0.2222222222222222,
             "#7201a8"
            ],
            [
             0.3333333333333333,
             "#9c179e"
            ],
            [
             0.4444444444444444,
             "#bd3786"
            ],
            [
             0.5555555555555556,
             "#d8576b"
            ],
            [
             0.6666666666666666,
             "#ed7953"
            ],
            [
             0.7777777777777778,
             "#fb9f3a"
            ],
            [
             0.8888888888888888,
             "#fdca26"
            ],
            [
             1,
             "#f0f921"
            ]
           ],
           "sequentialminus": [
            [
             0,
             "#0d0887"
            ],
            [
             0.1111111111111111,
             "#46039f"
            ],
            [
             0.2222222222222222,
             "#7201a8"
            ],
            [
             0.3333333333333333,
             "#9c179e"
            ],
            [
             0.4444444444444444,
             "#bd3786"
            ],
            [
             0.5555555555555556,
             "#d8576b"
            ],
            [
             0.6666666666666666,
             "#ed7953"
            ],
            [
             0.7777777777777778,
             "#fb9f3a"
            ],
            [
             0.8888888888888888,
             "#fdca26"
            ],
            [
             1,
             "#f0f921"
            ]
           ]
          },
          "colorway": [
           "#636efa",
           "#EF553B",
           "#00cc96",
           "#ab63fa",
           "#FFA15A",
           "#19d3f3",
           "#FF6692",
           "#B6E880",
           "#FF97FF",
           "#FECB52"
          ],
          "font": {
           "color": "#2a3f5f"
          },
          "geo": {
           "bgcolor": "white",
           "lakecolor": "white",
           "landcolor": "#E5ECF6",
           "showlakes": true,
           "showland": true,
           "subunitcolor": "white"
          },
          "hoverlabel": {
           "align": "left"
          },
          "hovermode": "closest",
          "mapbox": {
           "style": "light"
          },
          "paper_bgcolor": "white",
          "plot_bgcolor": "#E5ECF6",
          "polar": {
           "angularaxis": {
            "gridcolor": "white",
            "linecolor": "white",
            "ticks": ""
           },
           "bgcolor": "#E5ECF6",
           "radialaxis": {
            "gridcolor": "white",
            "linecolor": "white",
            "ticks": ""
           }
          },
          "scene": {
           "xaxis": {
            "backgroundcolor": "#E5ECF6",
            "gridcolor": "white",
            "gridwidth": 2,
            "linecolor": "white",
            "showbackground": true,
            "ticks": "",
            "zerolinecolor": "white"
           },
           "yaxis": {
            "backgroundcolor": "#E5ECF6",
            "gridcolor": "white",
            "gridwidth": 2,
            "linecolor": "white",
            "showbackground": true,
            "ticks": "",
            "zerolinecolor": "white"
           },
           "zaxis": {
            "backgroundcolor": "#E5ECF6",
            "gridcolor": "white",
            "gridwidth": 2,
            "linecolor": "white",
            "showbackground": true,
            "ticks": "",
            "zerolinecolor": "white"
           }
          },
          "shapedefaults": {
           "line": {
            "color": "#2a3f5f"
           }
          },
          "ternary": {
           "aaxis": {
            "gridcolor": "white",
            "linecolor": "white",
            "ticks": ""
           },
           "baxis": {
            "gridcolor": "white",
            "linecolor": "white",
            "ticks": ""
           },
           "bgcolor": "#E5ECF6",
           "caxis": {
            "gridcolor": "white",
            "linecolor": "white",
            "ticks": ""
           }
          },
          "title": {
           "x": 0.05
          },
          "xaxis": {
           "automargin": true,
           "gridcolor": "white",
           "linecolor": "white",
           "ticks": "",
           "title": {
            "standoff": 15
           },
           "zerolinecolor": "white",
           "zerolinewidth": 2
          },
          "yaxis": {
           "automargin": true,
           "gridcolor": "white",
           "linecolor": "white",
           "ticks": "",
           "title": {
            "standoff": 15
           },
           "zerolinecolor": "white",
           "zerolinewidth": 2
          }
         }
        }
       }
      },
      "text/html": [
       "<div>                            <div id=\"0baf6a6e-ee01-4603-82fd-796132903bef\" class=\"plotly-graph-div\" style=\"height:525px; width:100%;\"></div>            <script type=\"text/javascript\">                require([\"plotly\"], function(Plotly) {                    window.PLOTLYENV=window.PLOTLYENV || {};                                    if (document.getElementById(\"0baf6a6e-ee01-4603-82fd-796132903bef\")) {                    Plotly.newPlot(                        \"0baf6a6e-ee01-4603-82fd-796132903bef\",                        [{\"mode\":\"lines\",\"name\":\"Susceptibles\",\"type\":\"scatter\",\"x\":[0.0,0.7537688442211056,1.5075376884422111,2.261306532663317,3.0150753768844223,3.7688442211055277,4.522613065326634,5.276381909547739,6.030150753768845,6.78391959798995,7.5376884422110555,8.291457286432161,9.045226130653267,9.798994974874372,10.552763819095478,11.306532663316583,12.06030150753769,12.814070351758795,13.5678391959799,14.321608040201006,15.075376884422111,15.829145728643217,16.582914572864322,17.33668341708543,18.090452261306535,18.84422110552764,19.597989949748744,20.35175879396985,21.105527638190956,21.859296482412063,22.613065326633166,23.366834170854272,24.12060301507538,24.874371859296485,25.62814070351759,26.381909547738694,27.1356783919598,27.889447236180906,28.643216080402013,29.396984924623116,30.150753768844222,30.90452261306533,31.658291457286435,32.41206030150754,33.165829145728644,33.91959798994975,34.67336683417086,35.42713567839196,36.18090452261307,36.934673366834176,37.68844221105528,38.44221105527638,39.19597989949749,39.949748743718594,40.7035175879397,41.45728643216081,42.21105527638191,42.96482412060302,43.718592964824126,44.47236180904523,45.22613065326633,45.97989949748744,46.733668341708544,47.48743718592965,48.24120603015076,48.99497487437186,49.74874371859297,50.502512562814076,51.25628140703518,52.01005025125628,52.76381909547739,53.517587939698494,54.2713567839196,55.02512562814071,55.77889447236181,56.53266331658292,57.286432160804026,58.04020100502513,58.79396984924623,59.54773869346734,60.301507537688444,61.05527638190955,61.80904522613066,62.56281407035176,63.31658291457287,64.07035175879398,64.82412060301507,65.57788944723619,66.33165829145729,67.0854271356784,67.8391959798995,68.59296482412061,69.34673366834171,70.10050251256281,70.85427135678393,71.60804020100502,72.36180904522614,73.11557788944724,73.86934673366835,74.62311557788945,75.37688442211056,76.13065326633166,76.88442211055276,77.63819095477388,78.39195979899498,79.14572864321609,79.89949748743719,80.6532663316583,81.4070351758794,82.16080402010051,82.91457286432161,83.66834170854271,84.42211055276383,85.17587939698493,85.92964824120604,86.68341708542714,87.43718592964825,88.19095477386935,88.94472361809046,89.69849246231156,90.45226130653266,91.20603015075378,91.95979899497488,92.71356783919599,93.46733668341709,94.2211055276382,94.9748743718593,95.72864321608041,96.48241206030151,97.23618090452261,97.98994974874373,98.74371859296483,99.49748743718594,100.25125628140704,101.00502512562815,101.75879396984925,102.51256281407036,103.26633165829146,104.02010050251256,104.77386934673368,105.52763819095478,106.28140703517589,107.03517587939699,107.7889447236181,108.5427135678392,109.29648241206031,110.05025125628141,110.80402010050251,111.55778894472363,112.31155778894473,113.06532663316584,113.81909547738694,114.57286432160805,115.32663316582915,116.08040201005026,116.83417085427136,117.58793969849246,118.34170854271358,119.09547738693468,119.84924623115579,120.60301507537689,121.356783919598,122.1105527638191,122.86432160804021,123.61809045226131,124.37185929648241,125.12562814070353,125.87939698492463,126.63316582914574,127.38693467336684,128.14070351758795,128.89447236180905,129.64824120603015,130.40201005025128,131.15577889447238,131.90954773869348,132.66331658291458,133.41708542713567,134.1708542713568,134.9246231155779,135.678391959799,136.4321608040201,137.18592964824123,137.93969849246233,138.69346733668343,139.44723618090453,140.20100502512562,140.95477386934675,141.70854271356785,142.46231155778895,143.21608040201005,143.96984924623118,144.72361809045228,145.47738693467338,146.23115577889448,146.98492462311557,147.7386934673367,148.4924623115578,149.2462311557789,150.0],\"y\":[95.0,94.71875,94.42279370117187,94.11149024581694,93.7841855709098,93.44021396692705,93.07889989954245,92.69956011346541,92.30150603717601,91.88404650637831,91.44649082259399,90.9881521613856,90.50835134216848,90.00642096838136,89.48170994288016,88.93358835874724,88.36145276023232,87.7647317622355,87.14289200960717,86.49544444959106,85.8219508820271,85.12203074254246,84.3953680640144,83.64171855124846,82.86091669329079,82.05288282733397,81.21763005808106,80.35527092704224,79.46602371792721,78.5502182774674,77.60830122607365,76.64084043012475,75.64852860779041,74.63218594348204,73.59276159259551,72.53133396838035,71.44910971665067,70.34742130162859,69.22772314732363,68.09158630318638,66.94069162986281,65.77682153008844,64.6018502803313,63.417733049833245,62.226493724233194,61.03021167996123,59.831007682040386,58.63102910084303,57.43243466183509,56.2373789556594,55.047996943501886,53.86638869420557,52.6946045849435,51.53463118657124,50.38837803843177,49.25766549598084,48.14421380892802,47.049633558584325,45.975417551809535,44.92293423644411,43.89342267047304,42.88798904542707,41.90760473460914,40.9531058094385,40.025193943168325,39.12443860092436,38.25128039871929,37.40603550194064,36.58890092574532,35.799960595643746,35.039192026023045,34.30647347705836,33.601591455947194,32.924248436191235,32.274070678250055,31.65061604581606,31.05338172375237,30.481811755975468,29.93530433388272,29.413218778004907,28.91488216714655,28.43959558015834,27.986639925516307,27.555281342960214,27.14477616951106,26.754375469224705,26.38332913205567,26.030889552238442,25.69631490069761,25.378872009241686,25.077838886756037,24.792506889370564,24.522182567721828,24.266189215040374,24.023868139951848,23.794579687660526,23.577704032655397,23.37264176530503,23.178814293744537,22.99566408135545,22.822654738940365,22.65927098943539,22.505018521715705,22.359423748758367,22.22203348415252,22.092414549706888,21.970153325710342,21.85485525426283,21.74614430501776,21.643662411667155,21.54706888655977,21.456039819971007,21.370267469740753,21.28945964626028,21.213339097119164,21.14164289511546,21.074121832783508,21.010539826100242,20.950673329589325,20.89431076464866,20.841251962577566,20.79130762347132,20.744298791879263,20.7000563498852,20.65842052806185,20.619240434571967,20.582373602534506,20.547685555642133,20.515049391904498,20.484345385297303,20.455460605018658,20.42828855198958,20.402728812183028,20.37868672632417,20.356073075472242,20.334803781970216,20.314799625231316,20.29598597182047,20.27829251928288,20.261653053170622,20.246005216720558,20.231290292642313,20.217452996483377,20.204441281048634,20.192206151363763,20.180701489685404,20.16988389007556,20.159712502073106,20.15014888301121,20.14115685854584,20.132702390977123,20.124753454961922,20.1172799202326,20.11025344095341,20.103647351362138,20.097436567360493,20.09159749373236,20.08610793668406,20.080947021415586,20.07609511444586,20.07153375042894,20.06724556321129,20.063214220892945,20.05942436466766,20.055861551228936,20.05251219853988,20.049363534775736,20.046403550258116,20.043620952209736,20.041005122167753,20.03854607590272,20.03623442569853,20.034061344856823,20.032018534296824,20.03009819112892,20.02829297908702,20.026596000711297,20.02500077117906,20.023501193687235,20.022091536295576,20.020766410144823,20.019520748968976,20.018349789825567,20.017249054972122,20.016214334821218,20.01524167191043,20.014327345827226,20.013467859032218,20.012659923527707,20.011900448321292,20.011186527637516,20.010515429833063,20.00988458697378,20.00929158503415,20.008734154682262,20.00821016261542,20.00771760341357,20.007254591879807,20.006819355838847,20.006410229366224]},{\"mode\":\"lines\",\"name\":\"Infectados\",\"type\":\"scatter\",\"x\":[0.0,0.7537688442211056,1.5075376884422111,2.261306532663317,3.0150753768844223,3.7688442211055277,4.522613065326634,5.276381909547739,6.030150753768845,6.78391959798995,7.5376884422110555,8.291457286432161,9.045226130653267,9.798994974874372,10.552763819095478,11.306532663316583,12.06030150753769,12.814070351758795,13.5678391959799,14.321608040201006,15.075376884422111,15.829145728643217,16.582914572864322,17.33668341708543,18.090452261306535,18.84422110552764,19.597989949748744,20.35175879396985,21.105527638190956,21.859296482412063,22.613065326633166,23.366834170854272,24.12060301507538,24.874371859296485,25.62814070351759,26.381909547738694,27.1356783919598,27.889447236180906,28.643216080402013,29.396984924623116,30.150753768844222,30.90452261306533,31.658291457286435,32.41206030150754,33.165829145728644,33.91959798994975,34.67336683417086,35.42713567839196,36.18090452261307,36.934673366834176,37.68844221105528,38.44221105527638,39.19597989949749,39.949748743718594,40.7035175879397,41.45728643216081,42.21105527638191,42.96482412060302,43.718592964824126,44.47236180904523,45.22613065326633,45.97989949748744,46.733668341708544,47.48743718592965,48.24120603015076,48.99497487437186,49.74874371859297,50.502512562814076,51.25628140703518,52.01005025125628,52.76381909547739,53.517587939698494,54.2713567839196,55.02512562814071,55.77889447236181,56.53266331658292,57.286432160804026,58.04020100502513,58.79396984924623,59.54773869346734,60.301507537688444,61.05527638190955,61.80904522613066,62.56281407035176,63.31658291457287,64.07035175879398,64.82412060301507,65.57788944723619,66.33165829145729,67.0854271356784,67.8391959798995,68.59296482412061,69.34673366834171,70.10050251256281,70.85427135678393,71.60804020100502,72.36180904522614,73.11557788944724,73.86934673366835,74.62311557788945,75.37688442211056,76.13065326633166,76.88442211055276,77.63819095477388,78.39195979899498,79.14572864321609,79.89949748743719,80.6532663316583,81.4070351758794,82.16080402010051,82.91457286432161,83.66834170854271,84.42211055276383,85.17587939698493,85.92964824120604,86.68341708542714,87.43718592964825,88.19095477386935,88.94472361809046,89.69849246231156,90.45226130653266,91.20603015075378,91.95979899497488,92.71356783919599,93.46733668341709,94.2211055276382,94.9748743718593,95.72864321608041,96.48241206030151,97.23618090452261,97.98994974874373,98.74371859296483,99.49748743718594,100.25125628140704,101.00502512562815,101.75879396984925,102.51256281407036,103.26633165829146,104.02010050251256,104.77386934673368,105.52763819095478,106.28140703517589,107.03517587939699,107.7889447236181,108.5427135678392,109.29648241206031,110.05025125628141,110.80402010050251,111.55778894472363,112.31155778894473,113.06532663316584,113.81909547738694,114.57286432160805,115.32663316582915,116.08040201005026,116.83417085427136,117.58793969849246,118.34170854271358,119.09547738693468,119.84924623115579,120.60301507537689,121.356783919598,122.1105527638191,122.86432160804021,123.61809045226131,124.37185929648241,125.12562814070353,125.87939698492463,126.63316582914574,127.38693467336684,128.14070351758795,128.89447236180905,129.64824120603015,130.40201005025128,131.15577889447238,131.90954773869348,132.66331658291458,133.41708542713567,134.1708542713568,134.9246231155779,135.678391959799,136.4321608040201,137.18592964824123,137.93969849246233,138.69346733668343,139.44723618090453,140.20100502512562,140.95477386934675,141.70854271356785,142.46231155778895,143.21608040201005,143.96984924623118,144.72361809045228,145.47738693467338,146.23115577889448,146.98492462311557,147.7386934673367,148.4924623115578,149.2462311557789,150.0],\"y\":[5.0,5.28125,5.577206298828125,5.888509754183047,6.215814429090198,6.559786033072946,6.921100100457549,7.300439886534587,7.698493962823982,8.115953493621694,8.553509177406024,9.01184783861441,9.491648657831519,9.993579031618625,10.518290057119836,11.066411641252747,11.638547239767671,12.235268237764505,12.857107990392837,13.50455555040894,14.178049117972915,14.877969257457549,15.604631935985612,16.358281448751562,17.139083306709228,17.947117172666044,18.782369941918954,19.644729072957766,20.5339762820728,21.449781722532624,22.39169877392636,23.35915956987525,24.351471392209593,25.367814056517968,26.407238407404492,27.468666031619637,28.550890283349325,29.652578698371396,30.77227685267635,31.908413696813607,33.059308370137174,34.22317846991154,35.398149719668666,36.582266950166726,37.77350627576678,38.96978832003874,40.168992317959585,41.368970899156935,42.56756533816488,43.76262104434057,44.95200305649808,46.1336113057944,47.30539541505647,48.465368813428725,49.61162196156819,50.74233450401911,51.85578619107193,52.95036644141562,54.024582448190415,55.077065763555844,56.10657732952691,57.11201095457288,58.09239526539081,59.04689419056145,59.97480605683161,60.87556139907558,61.74871960128065,62.5939644980593,63.41109907425462,64.20003940435619,64.96080797397688,65.69352652294157,66.39840854405273,67.07575156380868,67.72592932174986,68.34938395418386,68.94661827624755,69.51818824402444,70.06469566611719,70.586781221995,71.08511783285336,71.56040441984157,72.0133600744836,72.44471865703969,72.85522383048884,73.2456245307752,73.61667086794424,73.96911044776147,74.3036850993023,74.62112799075823,74.92216111324387,75.20749311062934,75.47781743227809,75.73381078495954,75.97613186004807,76.20542031233938,76.42229596734451,76.62735823469488,76.82118570625536,77.00433591864446,77.17734526105954,77.34072901056453,77.49498147828422,77.64057625124155,77.77796651584741,77.90758545029303,78.02984667428956,78.14514474573707,78.25385569498214,78.35633758833275,78.45293111344013,78.54396018002889,78.62973253025913,78.7105403537396,78.78666090288071,78.85835710488442,78.92587816721637,78.98946017389963,79.04932667041054,79.10568923535119,79.15874803742228,79.20869237652853,79.2557012081206,79.29994365011466,79.341579471938,79.38075956542788,79.41762639746534,79.45231444435773,79.48495060809536,79.51565461470256,79.5445393949812,79.57171144801028,79.59727118781682,79.62131327367567,79.6439269245276,79.66519621802964,79.68520037476853,79.70401402817937,79.72170748071696,79.73834694682922,79.7539947832793,79.76870970735753,79.78254700351647,79.79555871895121,79.80779384863608,79.81929851031444,79.83011610992428,79.84028749792672,79.84985111698862,79.85884314145397,79.86729760902269,79.87524654503788,79.88272007976721,79.8897465590464,79.89635264863769,79.90256343263933,79.90840250626746,79.91389206331577,79.91905297858425,79.92390488555398,79.92846624957089,79.93275443678853,79.93678577910687,79.94057563533215,79.94413844877087,79.94748780145993,79.95063646522406,79.95359644974168,79.95637904779005,79.95899487783203,79.96145392409706,79.96376557430125,79.96593865514295,79.96798146570295,79.96990180887086,79.97170702091275,79.97340399928846,79.9749992288207,79.97649880631252,79.97790846370417,79.97923358985493,79.98047925103077,79.98165021017418,79.98275094502763,79.98378566517854,79.98475832808933,79.98567265417253,79.98653214096753,79.98734007647204,79.98809955167845,79.98881347236222,79.98948457016668,79.99011541302596,79.9907084149656,79.99126584531749,79.99178983738432,79.99228239658618,79.99274540811993,79.99318064416089,79.9935897706335]}],                        {\"template\":{\"data\":{\"bar\":[{\"error_x\":{\"color\":\"#2a3f5f\"},\"error_y\":{\"color\":\"#2a3f5f\"},\"marker\":{\"line\":{\"color\":\"#E5ECF6\",\"width\":0.5},\"pattern\":{\"fillmode\":\"overlay\",\"size\":10,\"solidity\":0.2}},\"type\":\"bar\"}],\"barpolar\":[{\"marker\":{\"line\":{\"color\":\"#E5ECF6\",\"width\":0.5},\"pattern\":{\"fillmode\":\"overlay\",\"size\":10,\"solidity\":0.2}},\"type\":\"barpolar\"}],\"carpet\":[{\"aaxis\":{\"endlinecolor\":\"#2a3f5f\",\"gridcolor\":\"white\",\"linecolor\":\"white\",\"minorgridcolor\":\"white\",\"startlinecolor\":\"#2a3f5f\"},\"baxis\":{\"endlinecolor\":\"#2a3f5f\",\"gridcolor\":\"white\",\"linecolor\":\"white\",\"minorgridcolor\":\"white\",\"startlinecolor\":\"#2a3f5f\"},\"type\":\"carpet\"}],\"choropleth\":[{\"colorbar\":{\"outlinewidth\":0,\"ticks\":\"\"},\"type\":\"choropleth\"}],\"contour\":[{\"colorbar\":{\"outlinewidth\":0,\"ticks\":\"\"},\"colorscale\":[[0.0,\"#0d0887\"],[0.1111111111111111,\"#46039f\"],[0.2222222222222222,\"#7201a8\"],[0.3333333333333333,\"#9c179e\"],[0.4444444444444444,\"#bd3786\"],[0.5555555555555556,\"#d8576b\"],[0.6666666666666666,\"#ed7953\"],[0.7777777777777778,\"#fb9f3a\"],[0.8888888888888888,\"#fdca26\"],[1.0,\"#f0f921\"]],\"type\":\"contour\"}],\"contourcarpet\":[{\"colorbar\":{\"outlinewidth\":0,\"ticks\":\"\"},\"type\":\"contourcarpet\"}],\"heatmap\":[{\"colorbar\":{\"outlinewidth\":0,\"ticks\":\"\"},\"colorscale\":[[0.0,\"#0d0887\"],[0.1111111111111111,\"#46039f\"],[0.2222222222222222,\"#7201a8\"],[0.3333333333333333,\"#9c179e\"],[0.4444444444444444,\"#bd3786\"],[0.5555555555555556,\"#d8576b\"],[0.6666666666666666,\"#ed7953\"],[0.7777777777777778,\"#fb9f3a\"],[0.8888888888888888,\"#fdca26\"],[1.0,\"#f0f921\"]],\"type\":\"heatmap\"}],\"heatmapgl\":[{\"colorbar\":{\"outlinewidth\":0,\"ticks\":\"\"},\"colorscale\":[[0.0,\"#0d0887\"],[0.1111111111111111,\"#46039f\"],[0.2222222222222222,\"#7201a8\"],[0.3333333333333333,\"#9c179e\"],[0.4444444444444444,\"#bd3786\"],[0.5555555555555556,\"#d8576b\"],[0.6666666666666666,\"#ed7953\"],[0.7777777777777778,\"#fb9f3a\"],[0.8888888888888888,\"#fdca26\"],[1.0,\"#f0f921\"]],\"type\":\"heatmapgl\"}],\"histogram\":[{\"marker\":{\"pattern\":{\"fillmode\":\"overlay\",\"size\":10,\"solidity\":0.2}},\"type\":\"histogram\"}],\"histogram2d\":[{\"colorbar\":{\"outlinewidth\":0,\"ticks\":\"\"},\"colorscale\":[[0.0,\"#0d0887\"],[0.1111111111111111,\"#46039f\"],[0.2222222222222222,\"#7201a8\"],[0.3333333333333333,\"#9c179e\"],[0.4444444444444444,\"#bd3786\"],[0.5555555555555556,\"#d8576b\"],[0.6666666666666666,\"#ed7953\"],[0.7777777777777778,\"#fb9f3a\"],[0.8888888888888888,\"#fdca26\"],[1.0,\"#f0f921\"]],\"type\":\"histogram2d\"}],\"histogram2dcontour\":[{\"colorbar\":{\"outlinewidth\":0,\"ticks\":\"\"},\"colorscale\":[[0.0,\"#0d0887\"],[0.1111111111111111,\"#46039f\"],[0.2222222222222222,\"#7201a8\"],[0.3333333333333333,\"#9c179e\"],[0.4444444444444444,\"#bd3786\"],[0.5555555555555556,\"#d8576b\"],[0.6666666666666666,\"#ed7953\"],[0.7777777777777778,\"#fb9f3a\"],[0.8888888888888888,\"#fdca26\"],[1.0,\"#f0f921\"]],\"type\":\"histogram2dcontour\"}],\"mesh3d\":[{\"colorbar\":{\"outlinewidth\":0,\"ticks\":\"\"},\"type\":\"mesh3d\"}],\"parcoords\":[{\"line\":{\"colorbar\":{\"outlinewidth\":0,\"ticks\":\"\"}},\"type\":\"parcoords\"}],\"pie\":[{\"automargin\":true,\"type\":\"pie\"}],\"scatter\":[{\"marker\":{\"colorbar\":{\"outlinewidth\":0,\"ticks\":\"\"}},\"type\":\"scatter\"}],\"scatter3d\":[{\"line\":{\"colorbar\":{\"outlinewidth\":0,\"ticks\":\"\"}},\"marker\":{\"colorbar\":{\"outlinewidth\":0,\"ticks\":\"\"}},\"type\":\"scatter3d\"}],\"scattercarpet\":[{\"marker\":{\"colorbar\":{\"outlinewidth\":0,\"ticks\":\"\"}},\"type\":\"scattercarpet\"}],\"scattergeo\":[{\"marker\":{\"colorbar\":{\"outlinewidth\":0,\"ticks\":\"\"}},\"type\":\"scattergeo\"}],\"scattergl\":[{\"marker\":{\"colorbar\":{\"outlinewidth\":0,\"ticks\":\"\"}},\"type\":\"scattergl\"}],\"scattermapbox\":[{\"marker\":{\"colorbar\":{\"outlinewidth\":0,\"ticks\":\"\"}},\"type\":\"scattermapbox\"}],\"scatterpolar\":[{\"marker\":{\"colorbar\":{\"outlinewidth\":0,\"ticks\":\"\"}},\"type\":\"scatterpolar\"}],\"scatterpolargl\":[{\"marker\":{\"colorbar\":{\"outlinewidth\":0,\"ticks\":\"\"}},\"type\":\"scatterpolargl\"}],\"scatterternary\":[{\"marker\":{\"colorbar\":{\"outlinewidth\":0,\"ticks\":\"\"}},\"type\":\"scatterternary\"}],\"surface\":[{\"colorbar\":{\"outlinewidth\":0,\"ticks\":\"\"},\"colorscale\":[[0.0,\"#0d0887\"],[0.1111111111111111,\"#46039f\"],[0.2222222222222222,\"#7201a8\"],[0.3333333333333333,\"#9c179e\"],[0.4444444444444444,\"#bd3786\"],[0.5555555555555556,\"#d8576b\"],[0.6666666666666666,\"#ed7953\"],[0.7777777777777778,\"#fb9f3a\"],[0.8888888888888888,\"#fdca26\"],[1.0,\"#f0f921\"]],\"type\":\"surface\"}],\"table\":[{\"cells\":{\"fill\":{\"color\":\"#EBF0F8\"},\"line\":{\"color\":\"white\"}},\"header\":{\"fill\":{\"color\":\"#C8D4E3\"},\"line\":{\"color\":\"white\"}},\"type\":\"table\"}]},\"layout\":{\"annotationdefaults\":{\"arrowcolor\":\"#2a3f5f\",\"arrowhead\":0,\"arrowwidth\":1},\"autotypenumbers\":\"strict\",\"coloraxis\":{\"colorbar\":{\"outlinewidth\":0,\"ticks\":\"\"}},\"colorscale\":{\"diverging\":[[0,\"#8e0152\"],[0.1,\"#c51b7d\"],[0.2,\"#de77ae\"],[0.3,\"#f1b6da\"],[0.4,\"#fde0ef\"],[0.5,\"#f7f7f7\"],[0.6,\"#e6f5d0\"],[0.7,\"#b8e186\"],[0.8,\"#7fbc41\"],[0.9,\"#4d9221\"],[1,\"#276419\"]],\"sequential\":[[0.0,\"#0d0887\"],[0.1111111111111111,\"#46039f\"],[0.2222222222222222,\"#7201a8\"],[0.3333333333333333,\"#9c179e\"],[0.4444444444444444,\"#bd3786\"],[0.5555555555555556,\"#d8576b\"],[0.6666666666666666,\"#ed7953\"],[0.7777777777777778,\"#fb9f3a\"],[0.8888888888888888,\"#fdca26\"],[1.0,\"#f0f921\"]],\"sequentialminus\":[[0.0,\"#0d0887\"],[0.1111111111111111,\"#46039f\"],[0.2222222222222222,\"#7201a8\"],[0.3333333333333333,\"#9c179e\"],[0.4444444444444444,\"#bd3786\"],[0.5555555555555556,\"#d8576b\"],[0.6666666666666666,\"#ed7953\"],[0.7777777777777778,\"#fb9f3a\"],[0.8888888888888888,\"#fdca26\"],[1.0,\"#f0f921\"]]},\"colorway\":[\"#636efa\",\"#EF553B\",\"#00cc96\",\"#ab63fa\",\"#FFA15A\",\"#19d3f3\",\"#FF6692\",\"#B6E880\",\"#FF97FF\",\"#FECB52\"],\"font\":{\"color\":\"#2a3f5f\"},\"geo\":{\"bgcolor\":\"white\",\"lakecolor\":\"white\",\"landcolor\":\"#E5ECF6\",\"showlakes\":true,\"showland\":true,\"subunitcolor\":\"white\"},\"hoverlabel\":{\"align\":\"left\"},\"hovermode\":\"closest\",\"mapbox\":{\"style\":\"light\"},\"paper_bgcolor\":\"white\",\"plot_bgcolor\":\"#E5ECF6\",\"polar\":{\"angularaxis\":{\"gridcolor\":\"white\",\"linecolor\":\"white\",\"ticks\":\"\"},\"bgcolor\":\"#E5ECF6\",\"radialaxis\":{\"gridcolor\":\"white\",\"linecolor\":\"white\",\"ticks\":\"\"}},\"scene\":{\"xaxis\":{\"backgroundcolor\":\"#E5ECF6\",\"gridcolor\":\"white\",\"gridwidth\":2,\"linecolor\":\"white\",\"showbackground\":true,\"ticks\":\"\",\"zerolinecolor\":\"white\"},\"yaxis\":{\"backgroundcolor\":\"#E5ECF6\",\"gridcolor\":\"white\",\"gridwidth\":2,\"linecolor\":\"white\",\"showbackground\":true,\"ticks\":\"\",\"zerolinecolor\":\"white\"},\"zaxis\":{\"backgroundcolor\":\"#E5ECF6\",\"gridcolor\":\"white\",\"gridwidth\":2,\"linecolor\":\"white\",\"showbackground\":true,\"ticks\":\"\",\"zerolinecolor\":\"white\"}},\"shapedefaults\":{\"line\":{\"color\":\"#2a3f5f\"}},\"ternary\":{\"aaxis\":{\"gridcolor\":\"white\",\"linecolor\":\"white\",\"ticks\":\"\"},\"baxis\":{\"gridcolor\":\"white\",\"linecolor\":\"white\",\"ticks\":\"\"},\"bgcolor\":\"#E5ECF6\",\"caxis\":{\"gridcolor\":\"white\",\"linecolor\":\"white\",\"ticks\":\"\"}},\"title\":{\"x\":0.05},\"xaxis\":{\"automargin\":true,\"gridcolor\":\"white\",\"linecolor\":\"white\",\"ticks\":\"\",\"title\":{\"standoff\":15},\"zerolinecolor\":\"white\",\"zerolinewidth\":2},\"yaxis\":{\"automargin\":true,\"gridcolor\":\"white\",\"linecolor\":\"white\",\"ticks\":\"\",\"title\":{\"standoff\":15},\"zerolinecolor\":\"white\",\"zerolinewidth\":2}}}},                        {\"responsive\": true}                    ).then(function(){\n",
       "                            \n",
       "var gd = document.getElementById('0baf6a6e-ee01-4603-82fd-796132903bef');\n",
       "var x = new MutationObserver(function (mutations, observer) {{\n",
       "        var display = window.getComputedStyle(gd).display;\n",
       "        if (!display || display === 'none') {{\n",
       "            console.log([gd, 'removed!']);\n",
       "            Plotly.purge(gd);\n",
       "            observer.disconnect();\n",
       "        }}\n",
       "}});\n",
       "\n",
       "// Listen for the removal of the full notebook cells\n",
       "var notebookContainer = gd.closest('#notebook-container');\n",
       "if (notebookContainer) {{\n",
       "    x.observe(notebookContainer, {childList: true});\n",
       "}}\n",
       "\n",
       "// Listen for the clearing of the current output cell\n",
       "var outputEl = gd.closest('.output');\n",
       "if (outputEl) {{\n",
       "    x.observe(outputEl, {childList: true});\n",
       "}}\n",
       "\n",
       "                        })                };                });            </script>        </div>"
      ]
     },
     "metadata": {},
     "output_type": "display_data"
    }
   ],
   "source": [
    "N = 100\n",
    "\n",
    "S0 = 95\n",
    "I0 = 5\n",
    "\n",
    "alfa = 0.1\n",
    "gamma = 0.02\n",
    "\n",
    "T0 = 0\n",
    "T = 150\n",
    "\n",
    "secciones = 200 #deltaT en realidad es (T-T0)/secciones\n",
    "\n",
    "deltaT = (T-T0)/secciones\n",
    "\n",
    "tiempo = np.linspace(T0, T, secciones)\n",
    "\n",
    "S = np.linspace(T0, T, secciones)\n",
    "I = np.linspace(T0, T, secciones)\n",
    "\n",
    "S[0] = S0\n",
    "I[0] = I0\n",
    "\n",
    "for j in range (secciones-1):\n",
    "    S[j+1] = S[j]*(1-(alfa*deltaT/N)*I[j])+gamma*deltaT*I[j]\n",
    "    I[j+1] = I[j]*(1-gamma*deltaT+(alfa*deltaT/N)*S[j])\n",
    "\n",
    "# Figura\n",
    "dfS = pd.DataFrame({'tiempo':tiempo, 'Susceptibles':S})\n",
    "dfI = pd.DataFrame({'tiempo':tiempo, 'Infectados':I})\n",
    "\n",
    "fig = go.Figure()\n",
    "fig.add_trace(go.Scatter(x=tiempo, y=S,\n",
    "                    mode='lines',\n",
    "                    name='Susceptibles'))\n",
    "fig.add_trace(go.Scatter(x=tiempo, y=I,\n",
    "                    mode='lines',  #lines+markers\n",
    "                    name='Infectados'))\n",
    "\n",
    "#fig = px.line(df, x=\"Susceptibles\", y=\"Infectados\", title=\"Modelo SIS\", markers=True) \n",
    "fig.show()\n",
    "\n",
    "# Guardar svg\n",
    "fig.write_image(\"./graficas_avanzadas_modelos_basicos/SIS_modelo.eps\")"
   ]
  },
  {
   "cell_type": "code",
   "execution_count": 35,
   "id": "344bf341",
   "metadata": {},
   "outputs": [
    {
     "data": {
      "application/vnd.plotly.v1+json": {
       "config": {
        "plotlyServerURL": "https://plot.ly"
       },
       "data": [
        {
         "hovertemplate": "Susceptibles=%{x}<br>Infectados=%{y}<extra></extra>",
         "legendgroup": "",
         "line": {
          "color": "#636efa",
          "dash": "solid"
         },
         "marker": {
          "symbol": "circle"
         },
         "mode": "lines+markers",
         "name": "",
         "orientation": "v",
         "showlegend": false,
         "type": "scatter",
         "x": [
          99,
          98.911,
          98.814175921,
          98.70885793263633,
          98.59432219441172,
          98.4697871220019,
          98.33440951443406,
          98.18728056239873,
          98.02742176477406,
          97.85378078849782,
          97.66522731636644,
          97.46054893832365,
          97.23844715446744,
          96.99753357248818,
          96.73632639866045,
          96.45324733991599,
          96.14661905494025,
          95.81466331459262,
          95.45550005607618,
          95.06714754086336,
          94.64752385292466,
          94.1944500005929,
          93.70565491144187,
          93.1787826335655,
          92.61140207694655,
          92.0010196431403,
          91.34509509777234,
          90.64106103543847,
          89.88634626717032,
          89.07840342304324,
          88.21474100290692,
          87.29296002279712,
          86.31079528983108,
          85.2661611915128,
          84.15720170478343,
          82.98234411603686,
          81.74035569826515,
          80.43040232113488,
          79.05210768334966,
          77.6056115673611,
          76.09162524169551,
          74.51148189703163,
          72.86717982284982,
          71.16141593767188,
          69.3976073027823,
          67.57989839882744,
          65.71315224255227,
          63.80292387352437,
          61.85541534224744,
          59.877412061762165,
          57.87620121018239,
          55.859473743583834,
          53.83521243869974,
          51.8115691687627,
          49.79673525992829,
          47.798809223883566,
          45.82566637247759,
          43.88483476998668,
          41.98338166807718,
          40.12781402087613,
          38.32399593667378,
          36.57708504819385,
          34.89148884351534,
          33.27084106444581,
          31.717997412492387,
          30.235049056977097,
          28.823351852187425,
          27.483568760441806,
          26.215722748603138,
          25.01925736548842,
          23.893102294405242,
          22.83574137927158,
          21.845280911892687,
          20.919516309703994,
          20.055995678268527,
          19.252079116305715,
          18.50499296381258,
          17.811878502383948,
          17.169834882905402,
          16.575956275692043,
          16.027363411819575,
          15.521229814453953,
          15.054803109817112,
          14.625421864412587,
          14.23052842403924,
          13.867678236622313,
          13.534546130268346,
          13.22892999489119,
          12.948752284262893,
          12.69205971871318,
          12.457021529558112,
          12.241926546694595,
          12.045179392132855,
          11.865296005586902,
          11.700898694272539,
          11.55071086815619,
          11.413551594218749,
          11.28833007884858,
          11.174040166144273,
          11.069754921503009,
          10.974621354159819,
          10.88785531906942,
          10.808736627420773,
          10.736604385885434,
          10.67085257717705,
          10.61092588841142,
          10.556315788895525,
          10.506556855151903,
          10.461223338035731,
          10.419925964580065,
          10.382308965583587,
          10.348047318826229,
          10.316844197068011,
          10.288428609577105,
          10.262553225777987,
          10.238992369654335,
          10.217540173738199,
          10.198008881828951,
          10.180227289981628,
          10.164039315759336,
          10.14930268623811,
          10.135887735768797,
          10.123676305026338,
          10.112560733402391,
          10.10244293731488,
          10.093233567511946,
          10.084851238933982,
          10.077221827162672,
          10.070277825928622,
          10.063957760567863,
          10.05820565271189,
          10.052970531865828,
          10.04820598987515,
          10.043869774603847,
          10.039923419446623,
          10.036331905575848,
          10.033063354081383,
          10.030088745399441,
          10.027381663646091,
          10.024918063673447,
          10.022676058852733,
          10.020635727759633,
          10.018778938094526,
          10.017089186314534,
          10.015551451586516,
          10.014152062791377,
          10.012878577421034,
          10.011719671310896,
          10.010665038243612,
          10.009705298544729,
          10.008831915868523,
          10.008037121443095,
          10.007313845108538,
          10.0066556525411,
          10.00605668811011,
          10.005511622863672,
          10.005015607183928,
          10.00456422769369,
          10.004153468033433,
          10.003779673161722,
          10.003439516863097,
          10.003129972175694,
          10.002848284476608,
          10.002591946986437,
          10.002358678475847,
          10.002146402976384,
          10.001953231315557,
          10.00177744431227,
          10.001617477483473,
          10.001471907126195,
          10.001339437651348,
          10.001218890056819,
          10.001109191437399,
          10.001009365438339,
          10.000918523567705,
          10.000835857290298,
          10.00076063083283,
          10.000692174636434,
          10.00062987939826,
          10.000573190649165,
          10.000521603819289,
          10.000474659747624,
          10.00043194059564,
          10.000393066128604,
          10.00035769033153,
          10.000325498329634,
          10.000296203585917,
          10.00026954535092,
          10.000245286341992,
          10.000223210631377,
          10.000203121724377,
          10.00018484081044,
          10.000168205171668,
          10.00015306673451,
          10.000139290751834,
          10.00012675460357,
          10.000115346705316,
          10.000104965515142,
          10.000095518629797,
          10.00008692196224
         ],
         "xaxis": "x",
         "y": [
          1,
          1.089,
          1.1858240789999999,
          1.2911420673636635,
          1.405677805588277,
          1.5302128779980984,
          1.665590485565936,
          1.8127194376012625,
          1.9725782352259187,
          2.1462192115021645,
          2.3347726836335383,
          2.5394510616763153,
          2.761552845532534,
          3.002466427511793,
          3.263673601339519,
          3.546752660083995,
          3.8533809450597416,
          4.185336685407369,
          4.544499943923815,
          4.932852459136634,
          5.35247614707532,
          5.805549999407089,
          6.294345088558111,
          6.821217366434485,
          7.3885979230534415,
          7.998980356859702,
          8.654904902227647,
          9.358938964561531,
          10.11365373282968,
          10.921596576956773,
          11.785258997093088,
          12.707039977202902,
          13.689204710168932,
          14.733838808487222,
          15.842798295216589,
          17.01765588396316,
          18.259644301734863,
          19.569597678865122,
          20.94789231665034,
          22.39438843263889,
          23.908374758304483,
          25.488518102968353,
          27.13282017715016,
          28.838584062328103,
          30.602392697217667,
          32.42010160117253,
          34.28684775744771,
          36.19707612647561,
          38.144584657752546,
          40.12258793823783,
          42.123798789817606,
          44.140526256416145,
          46.16478756130023,
          48.18843083123727,
          50.20326474007168,
          52.201190776116405,
          54.17433362752237,
          56.11516523001328,
          58.016618331922786,
          59.87218597912384,
          61.67600406332619,
          63.422914951806106,
          65.10851115648462,
          66.72915893555415,
          68.28200258750758,
          69.76495094302287,
          71.17664814781254,
          72.51643123955816,
          73.78427725139682,
          74.98074263451153,
          76.1068977055947,
          77.16425862072838,
          78.15471908810729,
          79.08048369029598,
          79.94400432173144,
          80.74792088369425,
          81.49500703618739,
          82.18812149761602,
          82.83016511709457,
          83.42404372430794,
          83.97263658818039,
          84.47877018554601,
          84.94519689018286,
          85.37457813558738,
          85.76947157596074,
          86.13232176337766,
          86.46545386973162,
          86.77107000510877,
          87.05124771573706,
          87.30794028128678,
          87.54297847044185,
          87.75807345330537,
          87.95482060786712,
          88.13470399441306,
          88.29910130572742,
          88.44928913184377,
          88.58644840578121,
          88.71166992115137,
          88.82595983385568,
          88.93024507849694,
          89.02537864584014,
          89.11214468093053,
          89.19126337257917,
          89.26339561411451,
          89.3291474228229,
          89.38907411158853,
          89.44368421110443,
          89.49344314484804,
          89.5387766619642,
          89.58007403541987,
          89.61769103441635,
          89.65195268117371,
          89.68315580293192,
          89.71157139042283,
          89.73744677422194,
          89.7610076303456,
          89.78245982626174,
          89.80199111817097,
          89.8197727100183,
          89.83596068424059,
          89.85069731376181,
          89.86411226423112,
          89.87632369497359,
          89.88743926659754,
          89.89755706268505,
          89.90676643248798,
          89.91514876106595,
          89.92277817283725,
          89.92972217407132,
          89.93604223943208,
          89.94179434728805,
          89.94702946813412,
          89.9517940101248,
          89.95613022539611,
          89.96007658055333,
          89.96366809442411,
          89.96693664591857,
          89.96991125460049,
          89.97261833635385,
          89.97508193632649,
          89.97732394114719,
          89.97936427224029,
          89.9812210619054,
          89.9829108136854,
          89.98444854841341,
          89.98584793720855,
          89.9871214225789,
          89.98828032868903,
          89.98933496175633,
          89.99029470145521,
          89.99116808413143,
          89.99196287855685,
          89.9926861548914,
          89.99334434745883,
          89.99394331188982,
          89.99448837713626,
          89.99498439281601,
          89.99543577230625,
          89.99584653196649,
          89.99622032683821,
          89.99656048313685,
          89.99687002782424,
          89.99715171552333,
          89.99740805301349,
          89.99764132152407,
          89.99785359702354,
          89.99804676868438,
          89.99822255568766,
          89.99838252251645,
          89.99852809287373,
          89.99866056234858,
          89.9987811099431,
          89.99889080856252,
          89.99899063456158,
          89.99908147643221,
          89.99916414270962,
          89.99923936916709,
          89.99930782536347,
          89.99937012060165,
          89.99942680935074,
          89.99947839618062,
          89.99952534025228,
          89.99956805940425,
          89.99960693387129,
          89.99964230966836,
          89.99967450167026,
          89.99970379641397,
          89.99973045464895,
          89.99975471365788,
          89.99977678936848,
          89.99979687827548,
          89.99981515918941,
          89.99983179482818,
          89.99984693326533,
          89.999860709248,
          89.99987324539626,
          89.9998846532945,
          89.99989503448467,
          89.99990448137001,
          89.99991307803758
         ],
         "yaxis": "y"
        }
       ],
       "layout": {
        "legend": {
         "tracegroupgap": 0
        },
        "template": {
         "data": {
          "bar": [
           {
            "error_x": {
             "color": "#2a3f5f"
            },
            "error_y": {
             "color": "#2a3f5f"
            },
            "marker": {
             "line": {
              "color": "#E5ECF6",
              "width": 0.5
             },
             "pattern": {
              "fillmode": "overlay",
              "size": 10,
              "solidity": 0.2
             }
            },
            "type": "bar"
           }
          ],
          "barpolar": [
           {
            "marker": {
             "line": {
              "color": "#E5ECF6",
              "width": 0.5
             },
             "pattern": {
              "fillmode": "overlay",
              "size": 10,
              "solidity": 0.2
             }
            },
            "type": "barpolar"
           }
          ],
          "carpet": [
           {
            "aaxis": {
             "endlinecolor": "#2a3f5f",
             "gridcolor": "white",
             "linecolor": "white",
             "minorgridcolor": "white",
             "startlinecolor": "#2a3f5f"
            },
            "baxis": {
             "endlinecolor": "#2a3f5f",
             "gridcolor": "white",
             "linecolor": "white",
             "minorgridcolor": "white",
             "startlinecolor": "#2a3f5f"
            },
            "type": "carpet"
           }
          ],
          "choropleth": [
           {
            "colorbar": {
             "outlinewidth": 0,
             "ticks": ""
            },
            "type": "choropleth"
           }
          ],
          "contour": [
           {
            "colorbar": {
             "outlinewidth": 0,
             "ticks": ""
            },
            "colorscale": [
             [
              0,
              "#0d0887"
             ],
             [
              0.1111111111111111,
              "#46039f"
             ],
             [
              0.2222222222222222,
              "#7201a8"
             ],
             [
              0.3333333333333333,
              "#9c179e"
             ],
             [
              0.4444444444444444,
              "#bd3786"
             ],
             [
              0.5555555555555556,
              "#d8576b"
             ],
             [
              0.6666666666666666,
              "#ed7953"
             ],
             [
              0.7777777777777778,
              "#fb9f3a"
             ],
             [
              0.8888888888888888,
              "#fdca26"
             ],
             [
              1,
              "#f0f921"
             ]
            ],
            "type": "contour"
           }
          ],
          "contourcarpet": [
           {
            "colorbar": {
             "outlinewidth": 0,
             "ticks": ""
            },
            "type": "contourcarpet"
           }
          ],
          "heatmap": [
           {
            "colorbar": {
             "outlinewidth": 0,
             "ticks": ""
            },
            "colorscale": [
             [
              0,
              "#0d0887"
             ],
             [
              0.1111111111111111,
              "#46039f"
             ],
             [
              0.2222222222222222,
              "#7201a8"
             ],
             [
              0.3333333333333333,
              "#9c179e"
             ],
             [
              0.4444444444444444,
              "#bd3786"
             ],
             [
              0.5555555555555556,
              "#d8576b"
             ],
             [
              0.6666666666666666,
              "#ed7953"
             ],
             [
              0.7777777777777778,
              "#fb9f3a"
             ],
             [
              0.8888888888888888,
              "#fdca26"
             ],
             [
              1,
              "#f0f921"
             ]
            ],
            "type": "heatmap"
           }
          ],
          "heatmapgl": [
           {
            "colorbar": {
             "outlinewidth": 0,
             "ticks": ""
            },
            "colorscale": [
             [
              0,
              "#0d0887"
             ],
             [
              0.1111111111111111,
              "#46039f"
             ],
             [
              0.2222222222222222,
              "#7201a8"
             ],
             [
              0.3333333333333333,
              "#9c179e"
             ],
             [
              0.4444444444444444,
              "#bd3786"
             ],
             [
              0.5555555555555556,
              "#d8576b"
             ],
             [
              0.6666666666666666,
              "#ed7953"
             ],
             [
              0.7777777777777778,
              "#fb9f3a"
             ],
             [
              0.8888888888888888,
              "#fdca26"
             ],
             [
              1,
              "#f0f921"
             ]
            ],
            "type": "heatmapgl"
           }
          ],
          "histogram": [
           {
            "marker": {
             "pattern": {
              "fillmode": "overlay",
              "size": 10,
              "solidity": 0.2
             }
            },
            "type": "histogram"
           }
          ],
          "histogram2d": [
           {
            "colorbar": {
             "outlinewidth": 0,
             "ticks": ""
            },
            "colorscale": [
             [
              0,
              "#0d0887"
             ],
             [
              0.1111111111111111,
              "#46039f"
             ],
             [
              0.2222222222222222,
              "#7201a8"
             ],
             [
              0.3333333333333333,
              "#9c179e"
             ],
             [
              0.4444444444444444,
              "#bd3786"
             ],
             [
              0.5555555555555556,
              "#d8576b"
             ],
             [
              0.6666666666666666,
              "#ed7953"
             ],
             [
              0.7777777777777778,
              "#fb9f3a"
             ],
             [
              0.8888888888888888,
              "#fdca26"
             ],
             [
              1,
              "#f0f921"
             ]
            ],
            "type": "histogram2d"
           }
          ],
          "histogram2dcontour": [
           {
            "colorbar": {
             "outlinewidth": 0,
             "ticks": ""
            },
            "colorscale": [
             [
              0,
              "#0d0887"
             ],
             [
              0.1111111111111111,
              "#46039f"
             ],
             [
              0.2222222222222222,
              "#7201a8"
             ],
             [
              0.3333333333333333,
              "#9c179e"
             ],
             [
              0.4444444444444444,
              "#bd3786"
             ],
             [
              0.5555555555555556,
              "#d8576b"
             ],
             [
              0.6666666666666666,
              "#ed7953"
             ],
             [
              0.7777777777777778,
              "#fb9f3a"
             ],
             [
              0.8888888888888888,
              "#fdca26"
             ],
             [
              1,
              "#f0f921"
             ]
            ],
            "type": "histogram2dcontour"
           }
          ],
          "mesh3d": [
           {
            "colorbar": {
             "outlinewidth": 0,
             "ticks": ""
            },
            "type": "mesh3d"
           }
          ],
          "parcoords": [
           {
            "line": {
             "colorbar": {
              "outlinewidth": 0,
              "ticks": ""
             }
            },
            "type": "parcoords"
           }
          ],
          "pie": [
           {
            "automargin": true,
            "type": "pie"
           }
          ],
          "scatter": [
           {
            "marker": {
             "colorbar": {
              "outlinewidth": 0,
              "ticks": ""
             }
            },
            "type": "scatter"
           }
          ],
          "scatter3d": [
           {
            "line": {
             "colorbar": {
              "outlinewidth": 0,
              "ticks": ""
             }
            },
            "marker": {
             "colorbar": {
              "outlinewidth": 0,
              "ticks": ""
             }
            },
            "type": "scatter3d"
           }
          ],
          "scattercarpet": [
           {
            "marker": {
             "colorbar": {
              "outlinewidth": 0,
              "ticks": ""
             }
            },
            "type": "scattercarpet"
           }
          ],
          "scattergeo": [
           {
            "marker": {
             "colorbar": {
              "outlinewidth": 0,
              "ticks": ""
             }
            },
            "type": "scattergeo"
           }
          ],
          "scattergl": [
           {
            "marker": {
             "colorbar": {
              "outlinewidth": 0,
              "ticks": ""
             }
            },
            "type": "scattergl"
           }
          ],
          "scattermapbox": [
           {
            "marker": {
             "colorbar": {
              "outlinewidth": 0,
              "ticks": ""
             }
            },
            "type": "scattermapbox"
           }
          ],
          "scatterpolar": [
           {
            "marker": {
             "colorbar": {
              "outlinewidth": 0,
              "ticks": ""
             }
            },
            "type": "scatterpolar"
           }
          ],
          "scatterpolargl": [
           {
            "marker": {
             "colorbar": {
              "outlinewidth": 0,
              "ticks": ""
             }
            },
            "type": "scatterpolargl"
           }
          ],
          "scatterternary": [
           {
            "marker": {
             "colorbar": {
              "outlinewidth": 0,
              "ticks": ""
             }
            },
            "type": "scatterternary"
           }
          ],
          "surface": [
           {
            "colorbar": {
             "outlinewidth": 0,
             "ticks": ""
            },
            "colorscale": [
             [
              0,
              "#0d0887"
             ],
             [
              0.1111111111111111,
              "#46039f"
             ],
             [
              0.2222222222222222,
              "#7201a8"
             ],
             [
              0.3333333333333333,
              "#9c179e"
             ],
             [
              0.4444444444444444,
              "#bd3786"
             ],
             [
              0.5555555555555556,
              "#d8576b"
             ],
             [
              0.6666666666666666,
              "#ed7953"
             ],
             [
              0.7777777777777778,
              "#fb9f3a"
             ],
             [
              0.8888888888888888,
              "#fdca26"
             ],
             [
              1,
              "#f0f921"
             ]
            ],
            "type": "surface"
           }
          ],
          "table": [
           {
            "cells": {
             "fill": {
              "color": "#EBF0F8"
             },
             "line": {
              "color": "white"
             }
            },
            "header": {
             "fill": {
              "color": "#C8D4E3"
             },
             "line": {
              "color": "white"
             }
            },
            "type": "table"
           }
          ]
         },
         "layout": {
          "annotationdefaults": {
           "arrowcolor": "#2a3f5f",
           "arrowhead": 0,
           "arrowwidth": 1
          },
          "autotypenumbers": "strict",
          "coloraxis": {
           "colorbar": {
            "outlinewidth": 0,
            "ticks": ""
           }
          },
          "colorscale": {
           "diverging": [
            [
             0,
             "#8e0152"
            ],
            [
             0.1,
             "#c51b7d"
            ],
            [
             0.2,
             "#de77ae"
            ],
            [
             0.3,
             "#f1b6da"
            ],
            [
             0.4,
             "#fde0ef"
            ],
            [
             0.5,
             "#f7f7f7"
            ],
            [
             0.6,
             "#e6f5d0"
            ],
            [
             0.7,
             "#b8e186"
            ],
            [
             0.8,
             "#7fbc41"
            ],
            [
             0.9,
             "#4d9221"
            ],
            [
             1,
             "#276419"
            ]
           ],
           "sequential": [
            [
             0,
             "#0d0887"
            ],
            [
             0.1111111111111111,
             "#46039f"
            ],
            [
             0.2222222222222222,
             "#7201a8"
            ],
            [
             0.3333333333333333,
             "#9c179e"
            ],
            [
             0.4444444444444444,
             "#bd3786"
            ],
            [
             0.5555555555555556,
             "#d8576b"
            ],
            [
             0.6666666666666666,
             "#ed7953"
            ],
            [
             0.7777777777777778,
             "#fb9f3a"
            ],
            [
             0.8888888888888888,
             "#fdca26"
            ],
            [
             1,
             "#f0f921"
            ]
           ],
           "sequentialminus": [
            [
             0,
             "#0d0887"
            ],
            [
             0.1111111111111111,
             "#46039f"
            ],
            [
             0.2222222222222222,
             "#7201a8"
            ],
            [
             0.3333333333333333,
             "#9c179e"
            ],
            [
             0.4444444444444444,
             "#bd3786"
            ],
            [
             0.5555555555555556,
             "#d8576b"
            ],
            [
             0.6666666666666666,
             "#ed7953"
            ],
            [
             0.7777777777777778,
             "#fb9f3a"
            ],
            [
             0.8888888888888888,
             "#fdca26"
            ],
            [
             1,
             "#f0f921"
            ]
           ]
          },
          "colorway": [
           "#636efa",
           "#EF553B",
           "#00cc96",
           "#ab63fa",
           "#FFA15A",
           "#19d3f3",
           "#FF6692",
           "#B6E880",
           "#FF97FF",
           "#FECB52"
          ],
          "font": {
           "color": "#2a3f5f"
          },
          "geo": {
           "bgcolor": "white",
           "lakecolor": "white",
           "landcolor": "#E5ECF6",
           "showlakes": true,
           "showland": true,
           "subunitcolor": "white"
          },
          "hoverlabel": {
           "align": "left"
          },
          "hovermode": "closest",
          "mapbox": {
           "style": "light"
          },
          "paper_bgcolor": "white",
          "plot_bgcolor": "#E5ECF6",
          "polar": {
           "angularaxis": {
            "gridcolor": "white",
            "linecolor": "white",
            "ticks": ""
           },
           "bgcolor": "#E5ECF6",
           "radialaxis": {
            "gridcolor": "white",
            "linecolor": "white",
            "ticks": ""
           }
          },
          "scene": {
           "xaxis": {
            "backgroundcolor": "#E5ECF6",
            "gridcolor": "white",
            "gridwidth": 2,
            "linecolor": "white",
            "showbackground": true,
            "ticks": "",
            "zerolinecolor": "white"
           },
           "yaxis": {
            "backgroundcolor": "#E5ECF6",
            "gridcolor": "white",
            "gridwidth": 2,
            "linecolor": "white",
            "showbackground": true,
            "ticks": "",
            "zerolinecolor": "white"
           },
           "zaxis": {
            "backgroundcolor": "#E5ECF6",
            "gridcolor": "white",
            "gridwidth": 2,
            "linecolor": "white",
            "showbackground": true,
            "ticks": "",
            "zerolinecolor": "white"
           }
          },
          "shapedefaults": {
           "line": {
            "color": "#2a3f5f"
           }
          },
          "ternary": {
           "aaxis": {
            "gridcolor": "white",
            "linecolor": "white",
            "ticks": ""
           },
           "baxis": {
            "gridcolor": "white",
            "linecolor": "white",
            "ticks": ""
           },
           "bgcolor": "#E5ECF6",
           "caxis": {
            "gridcolor": "white",
            "linecolor": "white",
            "ticks": ""
           }
          },
          "title": {
           "x": 0.05
          },
          "xaxis": {
           "automargin": true,
           "gridcolor": "white",
           "linecolor": "white",
           "ticks": "",
           "title": {
            "standoff": 15
           },
           "zerolinecolor": "white",
           "zerolinewidth": 2
          },
          "yaxis": {
           "automargin": true,
           "gridcolor": "white",
           "linecolor": "white",
           "ticks": "",
           "title": {
            "standoff": 15
           },
           "zerolinecolor": "white",
           "zerolinewidth": 2
          }
         }
        },
        "title": {
         "text": "Modelo SIS"
        },
        "xaxis": {
         "anchor": "y",
         "domain": [
          0,
          1
         ],
         "title": {
          "text": "Susceptibles"
         }
        },
        "yaxis": {
         "anchor": "x",
         "domain": [
          0,
          1
         ],
         "title": {
          "text": "Infectados"
         }
        }
       }
      },
      "text/html": [
       "<div>                            <div id=\"b3458a8d-e75b-4786-b68a-d256e0e5689e\" class=\"plotly-graph-div\" style=\"height:525px; width:100%;\"></div>            <script type=\"text/javascript\">                require([\"plotly\"], function(Plotly) {                    window.PLOTLYENV=window.PLOTLYENV || {};                                    if (document.getElementById(\"b3458a8d-e75b-4786-b68a-d256e0e5689e\")) {                    Plotly.newPlot(                        \"b3458a8d-e75b-4786-b68a-d256e0e5689e\",                        [{\"hovertemplate\":\"Susceptibles=%{x}<br>Infectados=%{y}<extra></extra>\",\"legendgroup\":\"\",\"line\":{\"color\":\"#636efa\",\"dash\":\"solid\"},\"marker\":{\"symbol\":\"circle\"},\"mode\":\"lines+markers\",\"name\":\"\",\"orientation\":\"v\",\"showlegend\":false,\"type\":\"scatter\",\"x\":[99.0,98.911,98.814175921,98.70885793263633,98.59432219441172,98.4697871220019,98.33440951443406,98.18728056239873,98.02742176477406,97.85378078849782,97.66522731636644,97.46054893832365,97.23844715446744,96.99753357248818,96.73632639866045,96.45324733991599,96.14661905494025,95.81466331459262,95.45550005607618,95.06714754086336,94.64752385292466,94.1944500005929,93.70565491144187,93.1787826335655,92.61140207694655,92.0010196431403,91.34509509777234,90.64106103543847,89.88634626717032,89.07840342304324,88.21474100290692,87.29296002279712,86.31079528983108,85.2661611915128,84.15720170478343,82.98234411603686,81.74035569826515,80.43040232113488,79.05210768334966,77.6056115673611,76.09162524169551,74.51148189703163,72.86717982284982,71.16141593767188,69.3976073027823,67.57989839882744,65.71315224255227,63.80292387352437,61.85541534224744,59.877412061762165,57.87620121018239,55.859473743583834,53.83521243869974,51.8115691687627,49.79673525992829,47.798809223883566,45.82566637247759,43.88483476998668,41.98338166807718,40.12781402087613,38.32399593667378,36.57708504819385,34.89148884351534,33.27084106444581,31.717997412492387,30.235049056977097,28.823351852187425,27.483568760441806,26.215722748603138,25.01925736548842,23.893102294405242,22.83574137927158,21.845280911892687,20.919516309703994,20.055995678268527,19.252079116305715,18.50499296381258,17.811878502383948,17.169834882905402,16.575956275692043,16.027363411819575,15.521229814453953,15.054803109817112,14.625421864412587,14.23052842403924,13.867678236622313,13.534546130268346,13.22892999489119,12.948752284262893,12.69205971871318,12.457021529558112,12.241926546694595,12.045179392132855,11.865296005586902,11.700898694272539,11.55071086815619,11.413551594218749,11.28833007884858,11.174040166144273,11.069754921503009,10.974621354159819,10.88785531906942,10.808736627420773,10.736604385885434,10.67085257717705,10.61092588841142,10.556315788895525,10.506556855151903,10.461223338035731,10.419925964580065,10.382308965583587,10.348047318826229,10.316844197068011,10.288428609577105,10.262553225777987,10.238992369654335,10.217540173738199,10.198008881828951,10.180227289981628,10.164039315759336,10.14930268623811,10.135887735768797,10.123676305026338,10.112560733402391,10.10244293731488,10.093233567511946,10.084851238933982,10.077221827162672,10.070277825928622,10.063957760567863,10.05820565271189,10.052970531865828,10.04820598987515,10.043869774603847,10.039923419446623,10.036331905575848,10.033063354081383,10.030088745399441,10.027381663646091,10.024918063673447,10.022676058852733,10.020635727759633,10.018778938094526,10.017089186314534,10.015551451586516,10.014152062791377,10.012878577421034,10.011719671310896,10.010665038243612,10.009705298544729,10.008831915868523,10.008037121443095,10.007313845108538,10.0066556525411,10.00605668811011,10.005511622863672,10.005015607183928,10.00456422769369,10.004153468033433,10.003779673161722,10.003439516863097,10.003129972175694,10.002848284476608,10.002591946986437,10.002358678475847,10.002146402976384,10.001953231315557,10.00177744431227,10.001617477483473,10.001471907126195,10.001339437651348,10.001218890056819,10.001109191437399,10.001009365438339,10.000918523567705,10.000835857290298,10.00076063083283,10.000692174636434,10.00062987939826,10.000573190649165,10.000521603819289,10.000474659747624,10.00043194059564,10.000393066128604,10.00035769033153,10.000325498329634,10.000296203585917,10.00026954535092,10.000245286341992,10.000223210631377,10.000203121724377,10.00018484081044,10.000168205171668,10.00015306673451,10.000139290751834,10.00012675460357,10.000115346705316,10.000104965515142,10.000095518629797,10.00008692196224],\"xaxis\":\"x\",\"y\":[1.0,1.089,1.1858240789999999,1.2911420673636635,1.405677805588277,1.5302128779980984,1.665590485565936,1.8127194376012625,1.9725782352259187,2.1462192115021645,2.3347726836335383,2.5394510616763153,2.761552845532534,3.002466427511793,3.263673601339519,3.546752660083995,3.8533809450597416,4.185336685407369,4.544499943923815,4.932852459136634,5.35247614707532,5.805549999407089,6.294345088558111,6.821217366434485,7.3885979230534415,7.998980356859702,8.654904902227647,9.358938964561531,10.11365373282968,10.921596576956773,11.785258997093088,12.707039977202902,13.689204710168932,14.733838808487222,15.842798295216589,17.01765588396316,18.259644301734863,19.569597678865122,20.94789231665034,22.39438843263889,23.908374758304483,25.488518102968353,27.13282017715016,28.838584062328103,30.602392697217667,32.42010160117253,34.28684775744771,36.19707612647561,38.144584657752546,40.12258793823783,42.123798789817606,44.140526256416145,46.16478756130023,48.18843083123727,50.20326474007168,52.201190776116405,54.17433362752237,56.11516523001328,58.016618331922786,59.87218597912384,61.67600406332619,63.422914951806106,65.10851115648462,66.72915893555415,68.28200258750758,69.76495094302287,71.17664814781254,72.51643123955816,73.78427725139682,74.98074263451153,76.1068977055947,77.16425862072838,78.15471908810729,79.08048369029598,79.94400432173144,80.74792088369425,81.49500703618739,82.18812149761602,82.83016511709457,83.42404372430794,83.97263658818039,84.47877018554601,84.94519689018286,85.37457813558738,85.76947157596074,86.13232176337766,86.46545386973162,86.77107000510877,87.05124771573706,87.30794028128678,87.54297847044185,87.75807345330537,87.95482060786712,88.13470399441306,88.29910130572742,88.44928913184377,88.58644840578121,88.71166992115137,88.82595983385568,88.93024507849694,89.02537864584014,89.11214468093053,89.19126337257917,89.26339561411451,89.3291474228229,89.38907411158853,89.44368421110443,89.49344314484804,89.5387766619642,89.58007403541987,89.61769103441635,89.65195268117371,89.68315580293192,89.71157139042283,89.73744677422194,89.7610076303456,89.78245982626174,89.80199111817097,89.8197727100183,89.83596068424059,89.85069731376181,89.86411226423112,89.87632369497359,89.88743926659754,89.89755706268505,89.90676643248798,89.91514876106595,89.92277817283725,89.92972217407132,89.93604223943208,89.94179434728805,89.94702946813412,89.9517940101248,89.95613022539611,89.96007658055333,89.96366809442411,89.96693664591857,89.96991125460049,89.97261833635385,89.97508193632649,89.97732394114719,89.97936427224029,89.9812210619054,89.9829108136854,89.98444854841341,89.98584793720855,89.9871214225789,89.98828032868903,89.98933496175633,89.99029470145521,89.99116808413143,89.99196287855685,89.9926861548914,89.99334434745883,89.99394331188982,89.99448837713626,89.99498439281601,89.99543577230625,89.99584653196649,89.99622032683821,89.99656048313685,89.99687002782424,89.99715171552333,89.99740805301349,89.99764132152407,89.99785359702354,89.99804676868438,89.99822255568766,89.99838252251645,89.99852809287373,89.99866056234858,89.9987811099431,89.99889080856252,89.99899063456158,89.99908147643221,89.99916414270962,89.99923936916709,89.99930782536347,89.99937012060165,89.99942680935074,89.99947839618062,89.99952534025228,89.99956805940425,89.99960693387129,89.99964230966836,89.99967450167026,89.99970379641397,89.99973045464895,89.99975471365788,89.99977678936848,89.99979687827548,89.99981515918941,89.99983179482818,89.99984693326533,89.999860709248,89.99987324539626,89.9998846532945,89.99989503448467,89.99990448137001,89.99991307803758],\"yaxis\":\"y\"}],                        {\"legend\":{\"tracegroupgap\":0},\"template\":{\"data\":{\"bar\":[{\"error_x\":{\"color\":\"#2a3f5f\"},\"error_y\":{\"color\":\"#2a3f5f\"},\"marker\":{\"line\":{\"color\":\"#E5ECF6\",\"width\":0.5},\"pattern\":{\"fillmode\":\"overlay\",\"size\":10,\"solidity\":0.2}},\"type\":\"bar\"}],\"barpolar\":[{\"marker\":{\"line\":{\"color\":\"#E5ECF6\",\"width\":0.5},\"pattern\":{\"fillmode\":\"overlay\",\"size\":10,\"solidity\":0.2}},\"type\":\"barpolar\"}],\"carpet\":[{\"aaxis\":{\"endlinecolor\":\"#2a3f5f\",\"gridcolor\":\"white\",\"linecolor\":\"white\",\"minorgridcolor\":\"white\",\"startlinecolor\":\"#2a3f5f\"},\"baxis\":{\"endlinecolor\":\"#2a3f5f\",\"gridcolor\":\"white\",\"linecolor\":\"white\",\"minorgridcolor\":\"white\",\"startlinecolor\":\"#2a3f5f\"},\"type\":\"carpet\"}],\"choropleth\":[{\"colorbar\":{\"outlinewidth\":0,\"ticks\":\"\"},\"type\":\"choropleth\"}],\"contour\":[{\"colorbar\":{\"outlinewidth\":0,\"ticks\":\"\"},\"colorscale\":[[0.0,\"#0d0887\"],[0.1111111111111111,\"#46039f\"],[0.2222222222222222,\"#7201a8\"],[0.3333333333333333,\"#9c179e\"],[0.4444444444444444,\"#bd3786\"],[0.5555555555555556,\"#d8576b\"],[0.6666666666666666,\"#ed7953\"],[0.7777777777777778,\"#fb9f3a\"],[0.8888888888888888,\"#fdca26\"],[1.0,\"#f0f921\"]],\"type\":\"contour\"}],\"contourcarpet\":[{\"colorbar\":{\"outlinewidth\":0,\"ticks\":\"\"},\"type\":\"contourcarpet\"}],\"heatmap\":[{\"colorbar\":{\"outlinewidth\":0,\"ticks\":\"\"},\"colorscale\":[[0.0,\"#0d0887\"],[0.1111111111111111,\"#46039f\"],[0.2222222222222222,\"#7201a8\"],[0.3333333333333333,\"#9c179e\"],[0.4444444444444444,\"#bd3786\"],[0.5555555555555556,\"#d8576b\"],[0.6666666666666666,\"#ed7953\"],[0.7777777777777778,\"#fb9f3a\"],[0.8888888888888888,\"#fdca26\"],[1.0,\"#f0f921\"]],\"type\":\"heatmap\"}],\"heatmapgl\":[{\"colorbar\":{\"outlinewidth\":0,\"ticks\":\"\"},\"colorscale\":[[0.0,\"#0d0887\"],[0.1111111111111111,\"#46039f\"],[0.2222222222222222,\"#7201a8\"],[0.3333333333333333,\"#9c179e\"],[0.4444444444444444,\"#bd3786\"],[0.5555555555555556,\"#d8576b\"],[0.6666666666666666,\"#ed7953\"],[0.7777777777777778,\"#fb9f3a\"],[0.8888888888888888,\"#fdca26\"],[1.0,\"#f0f921\"]],\"type\":\"heatmapgl\"}],\"histogram\":[{\"marker\":{\"pattern\":{\"fillmode\":\"overlay\",\"size\":10,\"solidity\":0.2}},\"type\":\"histogram\"}],\"histogram2d\":[{\"colorbar\":{\"outlinewidth\":0,\"ticks\":\"\"},\"colorscale\":[[0.0,\"#0d0887\"],[0.1111111111111111,\"#46039f\"],[0.2222222222222222,\"#7201a8\"],[0.3333333333333333,\"#9c179e\"],[0.4444444444444444,\"#bd3786\"],[0.5555555555555556,\"#d8576b\"],[0.6666666666666666,\"#ed7953\"],[0.7777777777777778,\"#fb9f3a\"],[0.8888888888888888,\"#fdca26\"],[1.0,\"#f0f921\"]],\"type\":\"histogram2d\"}],\"histogram2dcontour\":[{\"colorbar\":{\"outlinewidth\":0,\"ticks\":\"\"},\"colorscale\":[[0.0,\"#0d0887\"],[0.1111111111111111,\"#46039f\"],[0.2222222222222222,\"#7201a8\"],[0.3333333333333333,\"#9c179e\"],[0.4444444444444444,\"#bd3786\"],[0.5555555555555556,\"#d8576b\"],[0.6666666666666666,\"#ed7953\"],[0.7777777777777778,\"#fb9f3a\"],[0.8888888888888888,\"#fdca26\"],[1.0,\"#f0f921\"]],\"type\":\"histogram2dcontour\"}],\"mesh3d\":[{\"colorbar\":{\"outlinewidth\":0,\"ticks\":\"\"},\"type\":\"mesh3d\"}],\"parcoords\":[{\"line\":{\"colorbar\":{\"outlinewidth\":0,\"ticks\":\"\"}},\"type\":\"parcoords\"}],\"pie\":[{\"automargin\":true,\"type\":\"pie\"}],\"scatter\":[{\"marker\":{\"colorbar\":{\"outlinewidth\":0,\"ticks\":\"\"}},\"type\":\"scatter\"}],\"scatter3d\":[{\"line\":{\"colorbar\":{\"outlinewidth\":0,\"ticks\":\"\"}},\"marker\":{\"colorbar\":{\"outlinewidth\":0,\"ticks\":\"\"}},\"type\":\"scatter3d\"}],\"scattercarpet\":[{\"marker\":{\"colorbar\":{\"outlinewidth\":0,\"ticks\":\"\"}},\"type\":\"scattercarpet\"}],\"scattergeo\":[{\"marker\":{\"colorbar\":{\"outlinewidth\":0,\"ticks\":\"\"}},\"type\":\"scattergeo\"}],\"scattergl\":[{\"marker\":{\"colorbar\":{\"outlinewidth\":0,\"ticks\":\"\"}},\"type\":\"scattergl\"}],\"scattermapbox\":[{\"marker\":{\"colorbar\":{\"outlinewidth\":0,\"ticks\":\"\"}},\"type\":\"scattermapbox\"}],\"scatterpolar\":[{\"marker\":{\"colorbar\":{\"outlinewidth\":0,\"ticks\":\"\"}},\"type\":\"scatterpolar\"}],\"scatterpolargl\":[{\"marker\":{\"colorbar\":{\"outlinewidth\":0,\"ticks\":\"\"}},\"type\":\"scatterpolargl\"}],\"scatterternary\":[{\"marker\":{\"colorbar\":{\"outlinewidth\":0,\"ticks\":\"\"}},\"type\":\"scatterternary\"}],\"surface\":[{\"colorbar\":{\"outlinewidth\":0,\"ticks\":\"\"},\"colorscale\":[[0.0,\"#0d0887\"],[0.1111111111111111,\"#46039f\"],[0.2222222222222222,\"#7201a8\"],[0.3333333333333333,\"#9c179e\"],[0.4444444444444444,\"#bd3786\"],[0.5555555555555556,\"#d8576b\"],[0.6666666666666666,\"#ed7953\"],[0.7777777777777778,\"#fb9f3a\"],[0.8888888888888888,\"#fdca26\"],[1.0,\"#f0f921\"]],\"type\":\"surface\"}],\"table\":[{\"cells\":{\"fill\":{\"color\":\"#EBF0F8\"},\"line\":{\"color\":\"white\"}},\"header\":{\"fill\":{\"color\":\"#C8D4E3\"},\"line\":{\"color\":\"white\"}},\"type\":\"table\"}]},\"layout\":{\"annotationdefaults\":{\"arrowcolor\":\"#2a3f5f\",\"arrowhead\":0,\"arrowwidth\":1},\"autotypenumbers\":\"strict\",\"coloraxis\":{\"colorbar\":{\"outlinewidth\":0,\"ticks\":\"\"}},\"colorscale\":{\"diverging\":[[0,\"#8e0152\"],[0.1,\"#c51b7d\"],[0.2,\"#de77ae\"],[0.3,\"#f1b6da\"],[0.4,\"#fde0ef\"],[0.5,\"#f7f7f7\"],[0.6,\"#e6f5d0\"],[0.7,\"#b8e186\"],[0.8,\"#7fbc41\"],[0.9,\"#4d9221\"],[1,\"#276419\"]],\"sequential\":[[0.0,\"#0d0887\"],[0.1111111111111111,\"#46039f\"],[0.2222222222222222,\"#7201a8\"],[0.3333333333333333,\"#9c179e\"],[0.4444444444444444,\"#bd3786\"],[0.5555555555555556,\"#d8576b\"],[0.6666666666666666,\"#ed7953\"],[0.7777777777777778,\"#fb9f3a\"],[0.8888888888888888,\"#fdca26\"],[1.0,\"#f0f921\"]],\"sequentialminus\":[[0.0,\"#0d0887\"],[0.1111111111111111,\"#46039f\"],[0.2222222222222222,\"#7201a8\"],[0.3333333333333333,\"#9c179e\"],[0.4444444444444444,\"#bd3786\"],[0.5555555555555556,\"#d8576b\"],[0.6666666666666666,\"#ed7953\"],[0.7777777777777778,\"#fb9f3a\"],[0.8888888888888888,\"#fdca26\"],[1.0,\"#f0f921\"]]},\"colorway\":[\"#636efa\",\"#EF553B\",\"#00cc96\",\"#ab63fa\",\"#FFA15A\",\"#19d3f3\",\"#FF6692\",\"#B6E880\",\"#FF97FF\",\"#FECB52\"],\"font\":{\"color\":\"#2a3f5f\"},\"geo\":{\"bgcolor\":\"white\",\"lakecolor\":\"white\",\"landcolor\":\"#E5ECF6\",\"showlakes\":true,\"showland\":true,\"subunitcolor\":\"white\"},\"hoverlabel\":{\"align\":\"left\"},\"hovermode\":\"closest\",\"mapbox\":{\"style\":\"light\"},\"paper_bgcolor\":\"white\",\"plot_bgcolor\":\"#E5ECF6\",\"polar\":{\"angularaxis\":{\"gridcolor\":\"white\",\"linecolor\":\"white\",\"ticks\":\"\"},\"bgcolor\":\"#E5ECF6\",\"radialaxis\":{\"gridcolor\":\"white\",\"linecolor\":\"white\",\"ticks\":\"\"}},\"scene\":{\"xaxis\":{\"backgroundcolor\":\"#E5ECF6\",\"gridcolor\":\"white\",\"gridwidth\":2,\"linecolor\":\"white\",\"showbackground\":true,\"ticks\":\"\",\"zerolinecolor\":\"white\"},\"yaxis\":{\"backgroundcolor\":\"#E5ECF6\",\"gridcolor\":\"white\",\"gridwidth\":2,\"linecolor\":\"white\",\"showbackground\":true,\"ticks\":\"\",\"zerolinecolor\":\"white\"},\"zaxis\":{\"backgroundcolor\":\"#E5ECF6\",\"gridcolor\":\"white\",\"gridwidth\":2,\"linecolor\":\"white\",\"showbackground\":true,\"ticks\":\"\",\"zerolinecolor\":\"white\"}},\"shapedefaults\":{\"line\":{\"color\":\"#2a3f5f\"}},\"ternary\":{\"aaxis\":{\"gridcolor\":\"white\",\"linecolor\":\"white\",\"ticks\":\"\"},\"baxis\":{\"gridcolor\":\"white\",\"linecolor\":\"white\",\"ticks\":\"\"},\"bgcolor\":\"#E5ECF6\",\"caxis\":{\"gridcolor\":\"white\",\"linecolor\":\"white\",\"ticks\":\"\"}},\"title\":{\"x\":0.05},\"xaxis\":{\"automargin\":true,\"gridcolor\":\"white\",\"linecolor\":\"white\",\"ticks\":\"\",\"title\":{\"standoff\":15},\"zerolinecolor\":\"white\",\"zerolinewidth\":2},\"yaxis\":{\"automargin\":true,\"gridcolor\":\"white\",\"linecolor\":\"white\",\"ticks\":\"\",\"title\":{\"standoff\":15},\"zerolinecolor\":\"white\",\"zerolinewidth\":2}}},\"title\":{\"text\":\"Modelo SIS\"},\"xaxis\":{\"anchor\":\"y\",\"domain\":[0.0,1.0],\"title\":{\"text\":\"Susceptibles\"}},\"yaxis\":{\"anchor\":\"x\",\"domain\":[0.0,1.0],\"title\":{\"text\":\"Infectados\"}}},                        {\"responsive\": true}                    ).then(function(){\n",
       "                            \n",
       "var gd = document.getElementById('b3458a8d-e75b-4786-b68a-d256e0e5689e');\n",
       "var x = new MutationObserver(function (mutations, observer) {{\n",
       "        var display = window.getComputedStyle(gd).display;\n",
       "        if (!display || display === 'none') {{\n",
       "            console.log([gd, 'removed!']);\n",
       "            Plotly.purge(gd);\n",
       "            observer.disconnect();\n",
       "        }}\n",
       "}});\n",
       "\n",
       "// Listen for the removal of the full notebook cells\n",
       "var notebookContainer = gd.closest('#notebook-container');\n",
       "if (notebookContainer) {{\n",
       "    x.observe(notebookContainer, {childList: true});\n",
       "}}\n",
       "\n",
       "// Listen for the clearing of the current output cell\n",
       "var outputEl = gd.closest('.output');\n",
       "if (outputEl) {{\n",
       "    x.observe(outputEl, {childList: true});\n",
       "}}\n",
       "\n",
       "                        })                };                });            </script>        </div>"
      ]
     },
     "metadata": {},
     "output_type": "display_data"
    }
   ],
   "source": [
    "N = 100\n",
    "\n",
    "S0 = 99\n",
    "I0 = 1\n",
    "\n",
    "alfa = 0.1\n",
    "gamma = 0.01\n",
    "\n",
    "T0 = 0\n",
    "T = 200\n",
    "\n",
    "secciones = 200 #deltaT en realidad es (T-T0)/secciones\n",
    "\n",
    "deltaT = (T-T0)/secciones\n",
    "\n",
    "tiempo = np.linspace(T0, T, secciones)\n",
    "\n",
    "S = np.linspace(T0, T, secciones)\n",
    "I = np.linspace(T0, T, secciones)\n",
    "\n",
    "S[0] = S0\n",
    "I[0] = I0\n",
    "\n",
    "for j in range (secciones-1):\n",
    "    S[j+1] = S[j]*(1-(alfa*deltaT/N)*I[j])+gamma*deltaT*I[j]\n",
    "    I[j+1] = I[j]*(1-gamma*deltaT+(alfa*deltaT/N)*S[j])\n",
    "\n",
    "# Figura\n",
    "df = pd.DataFrame({'Susceptibles':S, 'Infectados':I})\n",
    "fig = px.line(df, x=\"Susceptibles\", y=\"Infectados\", title=\"Modelo SIS\", markers=True) \n",
    "fig.show()\n",
    "\n",
    "# Guardar svg\n",
    "fig.write_image(\"./graficas_avanzadas_modelos_basicos/SIS.eps\")"
   ]
  },
  {
   "cell_type": "code",
   "execution_count": null,
   "id": "d106b930",
   "metadata": {},
   "outputs": [],
   "source": []
  }
 ],
 "metadata": {
  "kernelspec": {
   "display_name": "Python 3 (ipykernel)",
   "language": "python",
   "name": "python3"
  },
  "language_info": {
   "codemirror_mode": {
    "name": "ipython",
    "version": 3
   },
   "file_extension": ".py",
   "mimetype": "text/x-python",
   "name": "python",
   "nbconvert_exporter": "python",
   "pygments_lexer": "ipython3",
   "version": "3.8.8"
  }
 },
 "nbformat": 4,
 "nbformat_minor": 5
}
